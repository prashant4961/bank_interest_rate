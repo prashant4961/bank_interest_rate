{
 "cells": [
  {
   "cell_type": "markdown",
   "id": "7ae5a814",
   "metadata": {},
   "source": [
    "# bank_interest_rate"
   ]
  },
  {
   "cell_type": "raw",
   "id": "3a628d73",
   "metadata": {},
   "source": [
    "When we study the features, write the small information about that feature\n",
    "so, we can understand which column is important to predict interest rate. "
   ]
  },
  {
   "cell_type": "code",
   "execution_count": 1,
   "id": "1541a283",
   "metadata": {},
   "outputs": [],
   "source": [
    "import pandas as pd\n",
    "import numpy as np\n",
    "\n",
    "import matplotlib.pyplot as plt\n",
    "import seaborn as sns\n",
    "\n",
    "import re\n",
    "import warnings\n",
    "warnings.filterwarnings('ignore')"
   ]
  },
  {
   "cell_type": "code",
   "execution_count": 2,
   "id": "4a7f1457",
   "metadata": {},
   "outputs": [
    {
     "data": {
      "text/html": [
       "<div>\n",
       "<style scoped>\n",
       "    .dataframe tbody tr th:only-of-type {\n",
       "        vertical-align: middle;\n",
       "    }\n",
       "\n",
       "    .dataframe tbody tr th {\n",
       "        vertical-align: top;\n",
       "    }\n",
       "\n",
       "    .dataframe thead th {\n",
       "        text-align: right;\n",
       "    }\n",
       "</style>\n",
       "<table border=\"1\" class=\"dataframe\">\n",
       "  <thead>\n",
       "    <tr style=\"text-align: right;\">\n",
       "      <th></th>\n",
       "      <th>ID</th>\n",
       "      <th>Amount.Requested</th>\n",
       "      <th>Amount.Funded.By.Investors</th>\n",
       "      <th>Interest.Rate</th>\n",
       "      <th>Loan.Length</th>\n",
       "      <th>Loan.Purpose</th>\n",
       "      <th>Debt.To.Income.Ratio</th>\n",
       "      <th>State</th>\n",
       "      <th>Home.Ownership</th>\n",
       "      <th>Monthly.Income</th>\n",
       "      <th>FICO.Range</th>\n",
       "      <th>Open.CREDIT.Lines</th>\n",
       "      <th>Revolving.CREDIT.Balance</th>\n",
       "      <th>Inquiries.in.the.Last.6.Months</th>\n",
       "      <th>Employment.Length</th>\n",
       "    </tr>\n",
       "  </thead>\n",
       "  <tbody>\n",
       "    <tr>\n",
       "      <th>0</th>\n",
       "      <td>79542.0</td>\n",
       "      <td>25000</td>\n",
       "      <td>25000</td>\n",
       "      <td>18.49%</td>\n",
       "      <td>60 months</td>\n",
       "      <td>debt_consolidation</td>\n",
       "      <td>27.56%</td>\n",
       "      <td>VA</td>\n",
       "      <td>MORTGAGE</td>\n",
       "      <td>8606.56</td>\n",
       "      <td>720-724</td>\n",
       "      <td>11</td>\n",
       "      <td>15210</td>\n",
       "      <td>3.0</td>\n",
       "      <td>5 years</td>\n",
       "    </tr>\n",
       "    <tr>\n",
       "      <th>1</th>\n",
       "      <td>75473.0</td>\n",
       "      <td>19750</td>\n",
       "      <td>19750</td>\n",
       "      <td>17.27%</td>\n",
       "      <td>60 months</td>\n",
       "      <td>debt_consolidation</td>\n",
       "      <td>13.39%</td>\n",
       "      <td>NY</td>\n",
       "      <td>MORTGAGE</td>\n",
       "      <td>6737.50</td>\n",
       "      <td>710-714</td>\n",
       "      <td>14</td>\n",
       "      <td>19070</td>\n",
       "      <td>3.0</td>\n",
       "      <td>4 years</td>\n",
       "    </tr>\n",
       "    <tr>\n",
       "      <th>2</th>\n",
       "      <td>67265.0</td>\n",
       "      <td>2100</td>\n",
       "      <td>2100</td>\n",
       "      <td>14.33%</td>\n",
       "      <td>36 months</td>\n",
       "      <td>major_purchase</td>\n",
       "      <td>3.50%</td>\n",
       "      <td>LA</td>\n",
       "      <td>OWN</td>\n",
       "      <td>1000.00</td>\n",
       "      <td>690-694</td>\n",
       "      <td>13</td>\n",
       "      <td>893</td>\n",
       "      <td>1.0</td>\n",
       "      <td>&lt; 1 year</td>\n",
       "    </tr>\n",
       "    <tr>\n",
       "      <th>3</th>\n",
       "      <td>80167.0</td>\n",
       "      <td>28000</td>\n",
       "      <td>28000</td>\n",
       "      <td>16.29%</td>\n",
       "      <td>36 months</td>\n",
       "      <td>credit_card</td>\n",
       "      <td>19.62%</td>\n",
       "      <td>NV</td>\n",
       "      <td>MORTGAGE</td>\n",
       "      <td>7083.33</td>\n",
       "      <td>710-714</td>\n",
       "      <td>12</td>\n",
       "      <td>38194</td>\n",
       "      <td>1.0</td>\n",
       "      <td>10+ years</td>\n",
       "    </tr>\n",
       "    <tr>\n",
       "      <th>4</th>\n",
       "      <td>17240.0</td>\n",
       "      <td>24250</td>\n",
       "      <td>17431.82</td>\n",
       "      <td>12.23%</td>\n",
       "      <td>60 months</td>\n",
       "      <td>credit_card</td>\n",
       "      <td>23.79%</td>\n",
       "      <td>OH</td>\n",
       "      <td>MORTGAGE</td>\n",
       "      <td>5833.33</td>\n",
       "      <td>730-734</td>\n",
       "      <td>6</td>\n",
       "      <td>31061</td>\n",
       "      <td>2.0</td>\n",
       "      <td>10+ years</td>\n",
       "    </tr>\n",
       "  </tbody>\n",
       "</table>\n",
       "</div>"
      ],
      "text/plain": [
       "        ID Amount.Requested Amount.Funded.By.Investors Interest.Rate  \\\n",
       "0  79542.0            25000                      25000        18.49%   \n",
       "1  75473.0            19750                      19750        17.27%   \n",
       "2  67265.0             2100                       2100        14.33%   \n",
       "3  80167.0            28000                      28000        16.29%   \n",
       "4  17240.0            24250                   17431.82        12.23%   \n",
       "\n",
       "  Loan.Length        Loan.Purpose Debt.To.Income.Ratio State Home.Ownership  \\\n",
       "0   60 months  debt_consolidation               27.56%    VA       MORTGAGE   \n",
       "1   60 months  debt_consolidation               13.39%    NY       MORTGAGE   \n",
       "2   36 months      major_purchase                3.50%    LA            OWN   \n",
       "3   36 months         credit_card               19.62%    NV       MORTGAGE   \n",
       "4   60 months         credit_card               23.79%    OH       MORTGAGE   \n",
       "\n",
       "   Monthly.Income FICO.Range Open.CREDIT.Lines Revolving.CREDIT.Balance  \\\n",
       "0         8606.56    720-724                11                    15210   \n",
       "1         6737.50    710-714                14                    19070   \n",
       "2         1000.00    690-694                13                      893   \n",
       "3         7083.33    710-714                12                    38194   \n",
       "4         5833.33    730-734                 6                    31061   \n",
       "\n",
       "   Inquiries.in.the.Last.6.Months Employment.Length  \n",
       "0                             3.0           5 years  \n",
       "1                             3.0           4 years  \n",
       "2                             1.0          < 1 year  \n",
       "3                             1.0         10+ years  \n",
       "4                             2.0         10+ years  "
      ]
     },
     "execution_count": 2,
     "metadata": {},
     "output_type": "execute_result"
    }
   ],
   "source": [
    "df=pd.read_csv('loan_data_train.csv')\n",
    "df.head()"
   ]
  },
  {
   "cell_type": "code",
   "execution_count": 3,
   "id": "d1b0f33c",
   "metadata": {},
   "outputs": [
    {
     "data": {
      "text/plain": [
       "ID                                 1\n",
       "Amount.Requested                   1\n",
       "Amount.Funded.By.Investors         1\n",
       "Interest.Rate                      0\n",
       "Loan.Length                        1\n",
       "Loan.Purpose                       1\n",
       "Debt.To.Income.Ratio               1\n",
       "State                              1\n",
       "Home.Ownership                     1\n",
       "Monthly.Income                     3\n",
       "FICO.Range                         0\n",
       "Open.CREDIT.Lines                  4\n",
       "Revolving.CREDIT.Balance           3\n",
       "Inquiries.in.the.Last.6.Months     3\n",
       "Employment.Length                 69\n",
       "dtype: int64"
      ]
     },
     "execution_count": 3,
     "metadata": {},
     "output_type": "execute_result"
    }
   ],
   "source": [
    "df.isna().sum()"
   ]
  },
  {
   "cell_type": "code",
   "execution_count": 4,
   "id": "e0517310",
   "metadata": {},
   "outputs": [
    {
     "data": {
      "text/plain": [
       "2199"
      ]
     },
     "execution_count": 4,
     "metadata": {},
     "output_type": "execute_result"
    }
   ],
   "source": [
    "df['ID'].nunique() # drop id colum as it have all unique values"
   ]
  },
  {
   "cell_type": "code",
   "execution_count": 5,
   "id": "1f14eebe",
   "metadata": {},
   "outputs": [],
   "source": [
    "df.drop('ID',axis=1,inplace=True)"
   ]
  },
  {
   "cell_type": "code",
   "execution_count": 6,
   "id": "fc38cdab",
   "metadata": {},
   "outputs": [
    {
     "data": {
      "text/plain": [
       "<AxesSubplot:>"
      ]
     },
     "execution_count": 6,
     "metadata": {},
     "output_type": "execute_result"
    },
    {
     "data": {
      "image/png": "[encoded data removed]",
      "text/plain": [
       "<Figure size 432x288 with 1 Axes>"
      ]
     },
     "metadata": {
      "needs_background": "light"
     },
     "output_type": "display_data"
    }
   ],
   "source": [
    "df.boxplot()"
   ]
  },
  {
   "cell_type": "code",
   "execution_count": 7,
   "id": "02d534db",
   "metadata": {},
   "outputs": [
    {
     "data": {
      "text/plain": [
       "\"Index(['Amount_Requested', 'Amount_Funded_By_Investors', 'Interest_Rate',\\n       'Loan_Length', 'Loan_Purpose', 'Debt_To_Income_Ratio', 'State',\\n       'Home_Ownership', 'Monthly_Income', 'FICO_Range', 'Open_CREDIT_Lines',\\n       'Revolving_CREDIT_Balance', 'Inquiries_in_the_Last_6_Months',\\n       'Employment_Length'],\\n      dtype='object')\""
      ]
     },
     "execution_count": 7,
     "metadata": {},
     "output_type": "execute_result"
    }
   ],
   "source": [
    "str(df.columns).replace(\".\",'_')"
   ]
  },
  {
   "cell_type": "code",
   "execution_count": 8,
   "id": "d899cdc1",
   "metadata": {},
   "outputs": [
    {
     "data": {
      "text/plain": [
       "Index(['Amount.Requested', 'Amount.Funded.By.Investors', 'Interest.Rate',\n",
       "       'Loan.Length', 'Loan.Purpose', 'Debt.To.Income.Ratio', 'State',\n",
       "       'Home.Ownership', 'Monthly.Income', 'FICO.Range', 'Open.CREDIT.Lines',\n",
       "       'Revolving.CREDIT.Balance', 'Inquiries.in.the.Last.6.Months',\n",
       "       'Employment.Length'],\n",
       "      dtype='object')"
      ]
     },
     "execution_count": 8,
     "metadata": {},
     "output_type": "execute_result"
    }
   ],
   "source": [
    "df.columns"
   ]
  },
  {
   "cell_type": "code",
   "execution_count": 9,
   "id": "df8bd263",
   "metadata": {},
   "outputs": [],
   "source": [
    "df.rename(columns={'Amount.Requested':'Amount_Requested', \n",
    "                   'Amount.Funded.By.Investors':'Amount_Funded_By_Investors', \n",
    "                   'Interest.Rate':'Interest_Rate',\n",
    "       'Loan.Length':'Loan_Length', 'Loan.Purpose':'Loan_Purpose', \n",
    "                   'Debt.To.Income.Ratio':'Debt_To_Income_Ratio',\n",
    "                   'State':'State','Home.Ownership':'Home_Ownership',\n",
    "                   'Monthly.Income':'Monthly_Income',\n",
    "                   'FICO.Range':'FICO_Range', \n",
    "                   'Open.CREDIT.Lines':'Open_CREDIT_Lines',\n",
    "                   'Revolving.CREDIT.Balance':'Revolving_CREDIT_Balance',\n",
    "                   'Inquiries.in.the.Last.6.Months':'Inquiries_in_the_Last_6_Months',\n",
    "                   'Employment.Length':'Employment_Length'},inplace=True)"
   ]
  },
  {
   "cell_type": "code",
   "execution_count": 10,
   "id": "9f1315af",
   "metadata": {},
   "outputs": [
    {
     "data": {
      "text/plain": [
       "Index(['Amount_Requested', 'Amount_Funded_By_Investors', 'Interest_Rate',\n",
       "       'Loan_Length', 'Loan_Purpose', 'Debt_To_Income_Ratio', 'State',\n",
       "       'Home_Ownership', 'Monthly_Income', 'FICO_Range', 'Open_CREDIT_Lines',\n",
       "       'Revolving_CREDIT_Balance', 'Inquiries_in_the_Last_6_Months',\n",
       "       'Employment_Length'],\n",
       "      dtype='object')"
      ]
     },
     "execution_count": 10,
     "metadata": {},
     "output_type": "execute_result"
    }
   ],
   "source": [
    "df.columns"
   ]
  },
  {
   "cell_type": "code",
   "execution_count": 11,
   "id": "567daf94",
   "metadata": {},
   "outputs": [
    {
     "data": {
      "text/plain": [
       "<seaborn.axisgrid.PairGrid at 0x1dd4d3d11b0>"
      ]
     },
     "execution_count": 11,
     "metadata": {},
     "output_type": "execute_result"
    },
    {
     "data": {
      "image/png": "[encoded data removed]",
      "text/plain": [
       "<Figure size 360x360 with 6 Axes>"
      ]
     },
     "metadata": {
      "needs_background": "light"
     },
     "output_type": "display_data"
    }
   ],
   "source": [
    "sns.pairplot(df)"
   ]
  },
  {
   "cell_type": "code",
   "execution_count": 12,
   "id": "02474da2",
   "metadata": {},
   "outputs": [
    {
     "name": "stdout",
     "output_type": "stream",
     "text": [
      "<class 'pandas.core.frame.DataFrame'>\n",
      "RangeIndex: 2200 entries, 0 to 2199\n",
      "Data columns (total 14 columns):\n",
      " #   Column                          Non-Null Count  Dtype  \n",
      "---  ------                          --------------  -----  \n",
      " 0   Amount_Requested                2199 non-null   object \n",
      " 1   Amount_Funded_By_Investors      2199 non-null   object \n",
      " 2   Interest_Rate                   2200 non-null   object \n",
      " 3   Loan_Length                     2199 non-null   object \n",
      " 4   Loan_Purpose                    2199 non-null   object \n",
      " 5   Debt_To_Income_Ratio            2199 non-null   object \n",
      " 6   State                           2199 non-null   object \n",
      " 7   Home_Ownership                  2199 non-null   object \n",
      " 8   Monthly_Income                  2197 non-null   float64\n",
      " 9   FICO_Range                      2200 non-null   object \n",
      " 10  Open_CREDIT_Lines               2196 non-null   object \n",
      " 11  Revolving_CREDIT_Balance        2197 non-null   object \n",
      " 12  Inquiries_in_the_Last_6_Months  2197 non-null   float64\n",
      " 13  Employment_Length               2131 non-null   object \n",
      "dtypes: float64(2), object(12)\n",
      "memory usage: 240.8+ KB\n"
     ]
    }
   ],
   "source": [
    "df.info()"
   ]
  },
  {
   "cell_type": "code",
   "execution_count": 13,
   "id": "7c0d6706",
   "metadata": {},
   "outputs": [
    {
     "data": {
      "text/html": [
       "<div>\n",
       "<style scoped>\n",
       "    .dataframe tbody tr th:only-of-type {\n",
       "        vertical-align: middle;\n",
       "    }\n",
       "\n",
       "    .dataframe tbody tr th {\n",
       "        vertical-align: top;\n",
       "    }\n",
       "\n",
       "    .dataframe thead th {\n",
       "        text-align: right;\n",
       "    }\n",
       "</style>\n",
       "<table border=\"1\" class=\"dataframe\">\n",
       "  <thead>\n",
       "    <tr style=\"text-align: right;\">\n",
       "      <th></th>\n",
       "      <th>Monthly_Income</th>\n",
       "      <th>Inquiries_in_the_Last_6_Months</th>\n",
       "    </tr>\n",
       "  </thead>\n",
       "  <tbody>\n",
       "    <tr>\n",
       "      <th>count</th>\n",
       "      <td>2197.000000</td>\n",
       "      <td>2197.000000</td>\n",
       "    </tr>\n",
       "    <tr>\n",
       "      <th>mean</th>\n",
       "      <td>5727.459290</td>\n",
       "      <td>0.898498</td>\n",
       "    </tr>\n",
       "    <tr>\n",
       "      <th>std</th>\n",
       "      <td>4073.529708</td>\n",
       "      <td>1.219223</td>\n",
       "    </tr>\n",
       "    <tr>\n",
       "      <th>min</th>\n",
       "      <td>588.500000</td>\n",
       "      <td>0.000000</td>\n",
       "    </tr>\n",
       "    <tr>\n",
       "      <th>25%</th>\n",
       "      <td>3458.000000</td>\n",
       "      <td>0.000000</td>\n",
       "    </tr>\n",
       "    <tr>\n",
       "      <th>50%</th>\n",
       "      <td>5000.000000</td>\n",
       "      <td>0.000000</td>\n",
       "    </tr>\n",
       "    <tr>\n",
       "      <th>75%</th>\n",
       "      <td>6883.330000</td>\n",
       "      <td>1.000000</td>\n",
       "    </tr>\n",
       "    <tr>\n",
       "      <th>max</th>\n",
       "      <td>102750.000000</td>\n",
       "      <td>9.000000</td>\n",
       "    </tr>\n",
       "  </tbody>\n",
       "</table>\n",
       "</div>"
      ],
      "text/plain": [
       "       Monthly_Income  Inquiries_in_the_Last_6_Months\n",
       "count     2197.000000                     2197.000000\n",
       "mean      5727.459290                        0.898498\n",
       "std       4073.529708                        1.219223\n",
       "min        588.500000                        0.000000\n",
       "25%       3458.000000                        0.000000\n",
       "50%       5000.000000                        0.000000\n",
       "75%       6883.330000                        1.000000\n",
       "max     102750.000000                        9.000000"
      ]
     },
     "execution_count": 13,
     "metadata": {},
     "output_type": "execute_result"
    }
   ],
   "source": [
    "df.describe()"
   ]
  },
  {
   "cell_type": "markdown",
   "id": "95c14515",
   "metadata": {},
   "source": [
    "### Amount_Requested"
   ]
  },
  {
   "cell_type": "code",
   "execution_count": 14,
   "id": "03a931fa",
   "metadata": {},
   "outputs": [
    {
     "data": {
      "text/plain": [
       "10000    178\n",
       "12000    132\n",
       "5000      96\n",
       "20000     92\n",
       "6000      89\n",
       "        ... \n",
       "9525       1\n",
       "1950       1\n",
       "15300      1\n",
       "11950      1\n",
       "13225      1\n",
       "Name: Amount_Requested, Length: 356, dtype: int64"
      ]
     },
     "execution_count": 14,
     "metadata": {},
     "output_type": "execute_result"
    }
   ],
   "source": [
    "df['Amount_Requested'].value_counts()"
   ]
  },
  {
   "cell_type": "code",
   "execution_count": 15,
   "id": "ab95ccf9",
   "metadata": {},
   "outputs": [
    {
     "data": {
      "text/plain": [
       "array(['25000', '19750', '2100', '28000', '24250', '5400', '16000',\n",
       "       '6400', '24000', '8000', '9000', '13000', '10000', '3600', '7350',\n",
       "       '17000', '18825', '4200', '5000', '3700', '6625', '15000', '29175',\n",
       "       '6000', '22000', '18000', '12000', '6500', '4000', '7300', '19400',\n",
       "       '11625', '3000', '19000', '2500', '17350', '21000', '20000',\n",
       "       '1900', '23300', '8400', '1600', '7200', '15400', '7000', '20500',\n",
       "       '24375', '5875', '14000', '5500', '4800', '34500', '20950', '7500',\n",
       "       '14400', '14675', '24500', '35000', '11200', '30000', '3200',\n",
       "       '11700', '11500', '8500', '16500', '16550', '13250', '5200',\n",
       "       '2000', '4500', '20800', '8325', '6600', '7750', '19500', '27050',\n",
       "       '8800', '11000', '3500', '21200', '2650', '8575', '13200', '10750',\n",
       "       '5450', '2400', '15300', '17325', '19125', '19075', '5600',\n",
       "       '10400', '16450', '11325', '10050', '14725', '16750', '4325',\n",
       "       '10075', '10800', '23500', '6200', '2875', '27825', '12250',\n",
       "       '16800', '18775', '9500', '16350', '23000', '5075', '18650',\n",
       "       '7575', '15350', '27925', '28625', '12100', '10850', '11350',\n",
       "       '26500', '4950', '1000', '31300', '17975', '1500', '3625', '19050',\n",
       "       '15650', '4225', '18200', '10200', '.', '10500', '21250', '7125',\n",
       "       '9450', '2575', '4750', '11400', '25875', '12300', '6250', '11750',\n",
       "       '13025', '16300', '21725', '22250', '17500', '2200', '1550',\n",
       "       '11100', '27575', '22350', '18550', '5800', '17600', '31050',\n",
       "       '15800', '3225', '9750', '1200', '6775', '12500', '19725', '30075',\n",
       "       '5375', '19200', '5525', '7675', '5900', '26000', '13450', '9600',\n",
       "       '3800', '8700', '11875', '24400', '4550', '6075', '1700', '2800',\n",
       "       '14600', '29000', '24625', '13800', '18500', '22400', '4900',\n",
       "       '7800', '24925', '9250', '2250', '5300', '12725', '14775', '33600',\n",
       "       '31825', '19600', '24175', '27000', '28200', '6700', '25450',\n",
       "       '12800', '7550', '14825', '32000', '20125', '13600', '4700',\n",
       "       '6950', '6525', '12700', '2700', '10625', '15250', '17400',\n",
       "       '21700', '1775', '4825', '17300', '13075', '13500', '12375',\n",
       "       '5675', '28350', '15500', '10350', '3825', '7425', '1800', '5825',\n",
       "       '4575', '20675', '14500', '8875', '17200', '9525', '1950', '5750',\n",
       "       '11950', '23750', '9800', '3300', '9950', '9550', '31075', '31500',\n",
       "       '1125', '1750', '7100', '17625', '15175', '9100', '14075', '7900',\n",
       "       '5100', '16200', '5950', '30225', '15200', '10450', '6725', '1450',\n",
       "       '24575', '1400', '18225', '9425', '9325', '16075', '11575', '9200',\n",
       "       '7925', '17475', '10375', '13100', '5650', '7275', '25200', '6575',\n",
       "       '9050', '32400', '32550', '33500', '1625', '20375', '1675',\n",
       "       '18625', '6900', '6800', '9175', '7625', '8525', '23850', '8250',\n",
       "       '14100', '22750', '21850', '11600', '21600', '8600', '14750',\n",
       "       '16475', '14300', '33000', '5425', '18750', nan, '12825', '22500',\n",
       "       '3250', '12200', '13475', '4350', '25475', '7050', '8450', '14575',\n",
       "       '5175', '13750', '8475', '16950', '14475', '19800', '19425',\n",
       "       '14700', '20700', '15475', '11050', '5775', '7450', '7400',\n",
       "       '31000', '4600', '25800', '2225', '15875', '2350', '14550', '3725',\n",
       "       '3900', '4075', '25225', '16400', '32350', '23400', '18400',\n",
       "       '15575', '18800', '25975', '2075', '10550', '7325', '1875', '9700',\n",
       "       '11975', '13225'], dtype=object)"
      ]
     },
     "execution_count": 15,
     "metadata": {},
     "output_type": "execute_result"
    }
   ],
   "source": [
    "df['Amount_Requested'].unique()"
   ]
  },
  {
   "cell_type": "code",
   "execution_count": 16,
   "id": "d1d6a6aa",
   "metadata": {},
   "outputs": [
    {
     "data": {
      "text/plain": [
       "1"
      ]
     },
     "execution_count": 16,
     "metadata": {},
     "output_type": "execute_result"
    }
   ],
   "source": [
    "df['Amount_Requested'].isna().sum()"
   ]
  },
  {
   "cell_type": "code",
   "execution_count": 17,
   "id": "b0cbd770",
   "metadata": {},
   "outputs": [
    {
     "data": {
      "text/plain": [
       "371     .\n",
       "1357    .\n",
       "1791    .\n",
       "1991    .\n",
       "Name: Amount_Requested, dtype: object"
      ]
     },
     "execution_count": 17,
     "metadata": {},
     "output_type": "execute_result"
    }
   ],
   "source": [
    "df['Amount_Requested'].loc[df['Amount_Requested']=='.']"
   ]
  },
  {
   "cell_type": "code",
   "execution_count": 18,
   "id": "a7a86ae8",
   "metadata": {},
   "outputs": [],
   "source": [
    "#df['Amount_Requested'].unique()"
   ]
  },
  {
   "cell_type": "code",
   "execution_count": 19,
   "id": "e620f474",
   "metadata": {},
   "outputs": [],
   "source": [
    "df['Amount_Requested'].replace('.',np.nan,inplace=True)"
   ]
  },
  {
   "cell_type": "code",
   "execution_count": 20,
   "id": "82ed1588",
   "metadata": {},
   "outputs": [
    {
     "data": {
      "text/plain": [
       "5"
      ]
     },
     "execution_count": 20,
     "metadata": {},
     "output_type": "execute_result"
    }
   ],
   "source": [
    "df['Amount_Requested'].isna() .sum()"
   ]
  },
  {
   "cell_type": "code",
   "execution_count": 21,
   "id": "594ad6fa",
   "metadata": {},
   "outputs": [],
   "source": [
    "df['Amount_Requested']=df['Amount_Requested'].astype('float')"
   ]
  },
  {
   "cell_type": "code",
   "execution_count": 22,
   "id": "45b3d71e",
   "metadata": {},
   "outputs": [
    {
     "data": {
      "text/plain": [
       "dtype('float64')"
      ]
     },
     "execution_count": 22,
     "metadata": {},
     "output_type": "execute_result"
    }
   ],
   "source": [
    "df['Amount_Requested'].dtype"
   ]
  },
  {
   "cell_type": "code",
   "execution_count": 23,
   "id": "7d0669ea",
   "metadata": {},
   "outputs": [
    {
     "data": {
      "text/plain": [
       "12496.469248291573"
      ]
     },
     "execution_count": 23,
     "metadata": {},
     "output_type": "execute_result"
    }
   ],
   "source": [
    "df['Amount_Requested'].mean()"
   ]
  },
  {
   "cell_type": "code",
   "execution_count": 24,
   "id": "52a5acbe",
   "metadata": {},
   "outputs": [
    {
     "data": {
      "text/plain": [
       "10000.0"
      ]
     },
     "execution_count": 24,
     "metadata": {},
     "output_type": "execute_result"
    }
   ],
   "source": [
    "df['Amount_Requested'].mode()[0]"
   ]
  },
  {
   "cell_type": "code",
   "execution_count": 25,
   "id": "2224ba04",
   "metadata": {},
   "outputs": [
    {
     "data": {
      "text/plain": [
       "10000.0"
      ]
     },
     "execution_count": 25,
     "metadata": {},
     "output_type": "execute_result"
    }
   ],
   "source": [
    "df['Amount_Requested'].median()"
   ]
  },
  {
   "cell_type": "code",
   "execution_count": 26,
   "id": "f015dd07",
   "metadata": {},
   "outputs": [],
   "source": [
    "df['Amount_Requested'].fillna(df['Amount_Requested'].median(),inplace=True)"
   ]
  },
  {
   "cell_type": "code",
   "execution_count": 27,
   "id": "bcbac002",
   "metadata": {},
   "outputs": [
    {
     "data": {
      "text/plain": [
       "<AxesSubplot:xlabel='Amount_Requested'>"
      ]
     },
     "execution_count": 27,
     "metadata": {},
     "output_type": "execute_result"
    },
    {
     "data": {
      "image/png": "[encoded data removed]",
      "text/plain": [
       "<Figure size 432x288 with 1 Axes>"
      ]
     },
     "metadata": {
      "needs_background": "light"
     },
     "output_type": "display_data"
    }
   ],
   "source": [
    "sns.boxplot(df['Amount_Requested'])"
   ]
  },
  {
   "cell_type": "code",
   "execution_count": 28,
   "id": "d32b2d3c",
   "metadata": {},
   "outputs": [
    {
     "name": "stdout",
     "output_type": "stream",
     "text": [
      "IQR 11000.0\n",
      "upper limit 39000.0\n"
     ]
    }
   ],
   "source": [
    "iqr=df['Amount_Requested'].quantile(0.75)-df['Amount_Requested'].quantile(0.25)\n",
    "upper_limit=df['Amount_Requested'].quantile(0.75)+2*iqr\n",
    "print(\"IQR\",iqr)\n",
    "print(\"upper limit\",upper_limit)"
   ]
  },
  {
   "cell_type": "code",
   "execution_count": 29,
   "id": "91149c39",
   "metadata": {},
   "outputs": [
    {
     "data": {
      "text/plain": [
       "Series([], Name: Amount_Requested, dtype: float64)"
      ]
     },
     "execution_count": 29,
     "metadata": {},
     "output_type": "execute_result"
    }
   ],
   "source": [
    "df['Amount_Requested'].loc[df['Amount_Requested']>upper_limit]"
   ]
  },
  {
   "cell_type": "code",
   "execution_count": 30,
   "id": "69d1e5fb",
   "metadata": {},
   "outputs": [],
   "source": [
    "# df.info()"
   ]
  },
  {
   "cell_type": "markdown",
   "id": "0e94da24",
   "metadata": {},
   "source": [
    "### Amount_Funded_By_Investors"
   ]
  },
  {
   "cell_type": "code",
   "execution_count": 31,
   "id": "e2d1c5a7",
   "metadata": {},
   "outputs": [
    {
     "data": {
      "text/plain": [
       "dtype('O')"
      ]
     },
     "execution_count": 31,
     "metadata": {},
     "output_type": "execute_result"
    }
   ],
   "source": [
    "df['Amount_Funded_By_Investors'].dtype"
   ]
  },
  {
   "cell_type": "code",
   "execution_count": 32,
   "id": "d80238c7",
   "metadata": {},
   "outputs": [
    {
     "data": {
      "text/plain": [
       "1"
      ]
     },
     "execution_count": 32,
     "metadata": {},
     "output_type": "execute_result"
    }
   ],
   "source": [
    "df['Amount_Funded_By_Investors'].isna().sum()"
   ]
  },
  {
   "cell_type": "code",
   "execution_count": 33,
   "id": "d57e323f",
   "metadata": {},
   "outputs": [],
   "source": [
    "df['Amount_Funded_By_Investors'].replace('.',np.nan,inplace=True)"
   ]
  },
  {
   "cell_type": "code",
   "execution_count": 34,
   "id": "d661dc7f",
   "metadata": {},
   "outputs": [],
   "source": [
    "df['Amount_Funded_By_Investors']=df['Amount_Funded_By_Investors'].astype('float')"
   ]
  },
  {
   "cell_type": "code",
   "execution_count": 35,
   "id": "a2e164ac",
   "metadata": {},
   "outputs": [
    {
     "data": {
      "text/plain": [
       "12077.803406193085"
      ]
     },
     "execution_count": 35,
     "metadata": {},
     "output_type": "execute_result"
    }
   ],
   "source": [
    "df['Amount_Funded_By_Investors'].mean()"
   ]
  },
  {
   "cell_type": "code",
   "execution_count": 36,
   "id": "ee60de46",
   "metadata": {},
   "outputs": [
    {
     "data": {
      "text/plain": [
       "0    10000.0\n",
       "Name: Amount_Funded_By_Investors, dtype: float64"
      ]
     },
     "execution_count": 36,
     "metadata": {},
     "output_type": "execute_result"
    }
   ],
   "source": [
    "df['Amount_Funded_By_Investors'].mode()"
   ]
  },
  {
   "cell_type": "code",
   "execution_count": 37,
   "id": "7c5b582c",
   "metadata": {},
   "outputs": [
    {
     "data": {
      "text/plain": [
       "10000.0"
      ]
     },
     "execution_count": 37,
     "metadata": {},
     "output_type": "execute_result"
    }
   ],
   "source": [
    "df['Amount_Funded_By_Investors'].median()"
   ]
  },
  {
   "cell_type": "code",
   "execution_count": 38,
   "id": "f6449f73",
   "metadata": {},
   "outputs": [],
   "source": [
    "df['Amount_Funded_By_Investors'].fillna(df['Amount_Funded_By_Investors'].median(),inplace=True)"
   ]
  },
  {
   "cell_type": "code",
   "execution_count": 39,
   "id": "f8594966",
   "metadata": {},
   "outputs": [
    {
     "data": {
      "text/plain": [
       "<AxesSubplot:xlabel='Amount_Funded_By_Investors'>"
      ]
     },
     "execution_count": 39,
     "metadata": {},
     "output_type": "execute_result"
    },
    {
     "data": {
      "image/png": "[encoded data removed]",
      "text/plain": [
       "<Figure size 432x288 with 1 Axes>"
      ]
     },
     "metadata": {
      "needs_background": "light"
     },
     "output_type": "display_data"
    }
   ],
   "source": [
    "sns.boxplot(df['Amount_Funded_By_Investors'])"
   ]
  },
  {
   "cell_type": "code",
   "execution_count": 40,
   "id": "80f3caac",
   "metadata": {},
   "outputs": [
    {
     "name": "stdout",
     "output_type": "stream",
     "text": [
      "IQR 10200.0\n",
      "upper limit 46800.0\n"
     ]
    }
   ],
   "source": [
    "iqr=df['Amount_Funded_By_Investors'].quantile(0.75)-df['Amount_Funded_By_Investors'].quantile(0.25)\n",
    "upper_limit=df['Amount_Funded_By_Investors'].quantile(0.75)+3*iqr\n",
    "print(\"IQR\",iqr)\n",
    "print(\"upper limit\",upper_limit)"
   ]
  },
  {
   "cell_type": "code",
   "execution_count": 41,
   "id": "72dc9d89",
   "metadata": {},
   "outputs": [
    {
     "data": {
      "text/plain": [
       "Series([], Name: Amount_Funded_By_Investors, dtype: float64)"
      ]
     },
     "execution_count": 41,
     "metadata": {},
     "output_type": "execute_result"
    }
   ],
   "source": [
    "df['Amount_Funded_By_Investors'].loc[df['Amount_Funded_By_Investors']>upper_limit]"
   ]
  },
  {
   "cell_type": "markdown",
   "id": "127b1e0b",
   "metadata": {},
   "source": [
    "# Interest_Rate >>>>>> target column"
   ]
  },
  {
   "cell_type": "code",
   "execution_count": 42,
   "id": "bae9af8e",
   "metadata": {},
   "outputs": [
    {
     "data": {
      "text/plain": [
       "dtype('O')"
      ]
     },
     "execution_count": 42,
     "metadata": {},
     "output_type": "execute_result"
    }
   ],
   "source": [
    "df['Interest_Rate'].dtype"
   ]
  },
  {
   "cell_type": "code",
   "execution_count": 43,
   "id": "f2f05ae6",
   "metadata": {},
   "outputs": [
    {
     "data": {
      "text/plain": [
       "0       18.49%\n",
       "1       17.27%\n",
       "2       14.33%\n",
       "3       16.29%\n",
       "4       12.23%\n",
       "         ...  \n",
       "2195    23.28%\n",
       "2196    14.33%\n",
       "2197    15.31%\n",
       "2198    20.99%\n",
       "2199    10.16%\n",
       "Name: Interest_Rate, Length: 2200, dtype: object"
      ]
     },
     "execution_count": 43,
     "metadata": {},
     "output_type": "execute_result"
    }
   ],
   "source": [
    "df['Interest_Rate']"
   ]
  },
  {
   "cell_type": "code",
   "execution_count": 44,
   "id": "1d48cb89",
   "metadata": {},
   "outputs": [],
   "source": [
    "df['Interest_Rate']=df[\"Interest_Rate\"].str.replace(\"%\",\"\")"
   ]
  },
  {
   "cell_type": "code",
   "execution_count": 45,
   "id": "6bf875ad",
   "metadata": {},
   "outputs": [],
   "source": [
    "df['Interest_Rate']=df['Interest_Rate'].astype('float') "
   ]
  },
  {
   "cell_type": "code",
   "execution_count": 46,
   "id": "995e2fb2",
   "metadata": {},
   "outputs": [
    {
     "data": {
      "text/plain": [
       "0"
      ]
     },
     "execution_count": 46,
     "metadata": {},
     "output_type": "execute_result"
    }
   ],
   "source": [
    "df['Interest_Rate'].isna().sum()"
   ]
  },
  {
   "cell_type": "code",
   "execution_count": 47,
   "id": "e698e44e",
   "metadata": {},
   "outputs": [
    {
     "data": {
      "text/plain": [
       "Amount_Requested                   0\n",
       "Amount_Funded_By_Investors         0\n",
       "Interest_Rate                      0\n",
       "Loan_Length                        1\n",
       "Loan_Purpose                       1\n",
       "Debt_To_Income_Ratio               1\n",
       "State                              1\n",
       "Home_Ownership                     1\n",
       "Monthly_Income                     3\n",
       "FICO_Range                         0\n",
       "Open_CREDIT_Lines                  4\n",
       "Revolving_CREDIT_Balance           3\n",
       "Inquiries_in_the_Last_6_Months     3\n",
       "Employment_Length                 69\n",
       "dtype: int64"
      ]
     },
     "execution_count": 47,
     "metadata": {},
     "output_type": "execute_result"
    }
   ],
   "source": [
    "df.isna().sum()"
   ]
  },
  {
   "cell_type": "markdown",
   "id": "b7bd21c2",
   "metadata": {},
   "source": [
    "### Loan_Length"
   ]
  },
  {
   "cell_type": "code",
   "execution_count": 48,
   "id": "5bc606dd",
   "metadata": {},
   "outputs": [
    {
     "data": {
      "text/plain": [
       "{'36 months': 1722, '60 months': 476, '.': 1}"
      ]
     },
     "execution_count": 48,
     "metadata": {},
     "output_type": "execute_result"
    }
   ],
   "source": [
    "df['Loan_Length'].value_counts().to_dict()"
   ]
  },
  {
   "cell_type": "code",
   "execution_count": 49,
   "id": "a20153d2",
   "metadata": {},
   "outputs": [],
   "source": [
    "df['Loan_Length'].replace({'36 months': 36, '60 months': 60},inplace=True)"
   ]
  },
  {
   "cell_type": "code",
   "execution_count": 50,
   "id": "eea9b0c5",
   "metadata": {},
   "outputs": [
    {
     "data": {
      "text/plain": [
       "<AxesSubplot:xlabel='Loan_Length', ylabel='count'>"
      ]
     },
     "execution_count": 50,
     "metadata": {},
     "output_type": "execute_result"
    },
    {
     "data": {
      "image/png": "[encoded data removed]",
      "text/plain": [
       "<Figure size 432x288 with 1 Axes>"
      ]
     },
     "metadata": {
      "needs_background": "light"
     },
     "output_type": "display_data"
    }
   ],
   "source": [
    "sns.countplot(df['Loan_Length'])"
   ]
  },
  {
   "cell_type": "code",
   "execution_count": 51,
   "id": "560ad594",
   "metadata": {},
   "outputs": [],
   "source": [
    "df['Loan_Length'].replace('.',np.nan,inplace=True)"
   ]
  },
  {
   "cell_type": "code",
   "execution_count": 52,
   "id": "dde5a253",
   "metadata": {},
   "outputs": [],
   "source": [
    "df['Loan_Length'].fillna((df['Loan_Length'].median()),inplace=True)"
   ]
  },
  {
   "cell_type": "markdown",
   "id": "407a49a0",
   "metadata": {},
   "source": [
    "### Loan_Purpose"
   ]
  },
  {
   "cell_type": "code",
   "execution_count": 53,
   "id": "d951b656",
   "metadata": {},
   "outputs": [
    {
     "data": {
      "text/plain": [
       "debt_consolidation    1147\n",
       "credit_card            394\n",
       "other                  174\n",
       "home_improvement       135\n",
       "major_purchase          84\n",
       "small_business          80\n",
       "car                     45\n",
       "wedding                 35\n",
       "medical                 26\n",
       "moving                  25\n",
       "house                   19\n",
       "vacation                18\n",
       "educational             14\n",
       "renewable_energy         3\n",
       "Name: Loan_Purpose, dtype: int64"
      ]
     },
     "execution_count": 53,
     "metadata": {},
     "output_type": "execute_result"
    }
   ],
   "source": [
    "df['Loan_Purpose'].value_counts()"
   ]
  },
  {
   "cell_type": "code",
   "execution_count": 54,
   "id": "995ab518",
   "metadata": {},
   "outputs": [
    {
     "data": {
      "text/html": [
       "<div>\n",
       "<style scoped>\n",
       "    .dataframe tbody tr th:only-of-type {\n",
       "        vertical-align: middle;\n",
       "    }\n",
       "\n",
       "    .dataframe tbody tr th {\n",
       "        vertical-align: top;\n",
       "    }\n",
       "\n",
       "    .dataframe thead th {\n",
       "        text-align: right;\n",
       "    }\n",
       "</style>\n",
       "<table border=\"1\" class=\"dataframe\">\n",
       "  <thead>\n",
       "    <tr style=\"text-align: right;\">\n",
       "      <th></th>\n",
       "      <th>car</th>\n",
       "      <th>credit_card</th>\n",
       "      <th>debt_consolidation</th>\n",
       "      <th>educational</th>\n",
       "      <th>home_improvement</th>\n",
       "      <th>house</th>\n",
       "      <th>major_purchase</th>\n",
       "      <th>medical</th>\n",
       "      <th>moving</th>\n",
       "      <th>other</th>\n",
       "      <th>renewable_energy</th>\n",
       "      <th>small_business</th>\n",
       "      <th>vacation</th>\n",
       "      <th>wedding</th>\n",
       "    </tr>\n",
       "  </thead>\n",
       "  <tbody>\n",
       "    <tr>\n",
       "      <th>0</th>\n",
       "      <td>0</td>\n",
       "      <td>0</td>\n",
       "      <td>1</td>\n",
       "      <td>0</td>\n",
       "      <td>0</td>\n",
       "      <td>0</td>\n",
       "      <td>0</td>\n",
       "      <td>0</td>\n",
       "      <td>0</td>\n",
       "      <td>0</td>\n",
       "      <td>0</td>\n",
       "      <td>0</td>\n",
       "      <td>0</td>\n",
       "      <td>0</td>\n",
       "    </tr>\n",
       "    <tr>\n",
       "      <th>1</th>\n",
       "      <td>0</td>\n",
       "      <td>0</td>\n",
       "      <td>1</td>\n",
       "      <td>0</td>\n",
       "      <td>0</td>\n",
       "      <td>0</td>\n",
       "      <td>0</td>\n",
       "      <td>0</td>\n",
       "      <td>0</td>\n",
       "      <td>0</td>\n",
       "      <td>0</td>\n",
       "      <td>0</td>\n",
       "      <td>0</td>\n",
       "      <td>0</td>\n",
       "    </tr>\n",
       "    <tr>\n",
       "      <th>2</th>\n",
       "      <td>0</td>\n",
       "      <td>0</td>\n",
       "      <td>0</td>\n",
       "      <td>0</td>\n",
       "      <td>0</td>\n",
       "      <td>0</td>\n",
       "      <td>1</td>\n",
       "      <td>0</td>\n",
       "      <td>0</td>\n",
       "      <td>0</td>\n",
       "      <td>0</td>\n",
       "      <td>0</td>\n",
       "      <td>0</td>\n",
       "      <td>0</td>\n",
       "    </tr>\n",
       "    <tr>\n",
       "      <th>3</th>\n",
       "      <td>0</td>\n",
       "      <td>1</td>\n",
       "      <td>0</td>\n",
       "      <td>0</td>\n",
       "      <td>0</td>\n",
       "      <td>0</td>\n",
       "      <td>0</td>\n",
       "      <td>0</td>\n",
       "      <td>0</td>\n",
       "      <td>0</td>\n",
       "      <td>0</td>\n",
       "      <td>0</td>\n",
       "      <td>0</td>\n",
       "      <td>0</td>\n",
       "    </tr>\n",
       "    <tr>\n",
       "      <th>4</th>\n",
       "      <td>0</td>\n",
       "      <td>1</td>\n",
       "      <td>0</td>\n",
       "      <td>0</td>\n",
       "      <td>0</td>\n",
       "      <td>0</td>\n",
       "      <td>0</td>\n",
       "      <td>0</td>\n",
       "      <td>0</td>\n",
       "      <td>0</td>\n",
       "      <td>0</td>\n",
       "      <td>0</td>\n",
       "      <td>0</td>\n",
       "      <td>0</td>\n",
       "    </tr>\n",
       "    <tr>\n",
       "      <th>...</th>\n",
       "      <td>...</td>\n",
       "      <td>...</td>\n",
       "      <td>...</td>\n",
       "      <td>...</td>\n",
       "      <td>...</td>\n",
       "      <td>...</td>\n",
       "      <td>...</td>\n",
       "      <td>...</td>\n",
       "      <td>...</td>\n",
       "      <td>...</td>\n",
       "      <td>...</td>\n",
       "      <td>...</td>\n",
       "      <td>...</td>\n",
       "      <td>...</td>\n",
       "    </tr>\n",
       "    <tr>\n",
       "      <th>2195</th>\n",
       "      <td>0</td>\n",
       "      <td>0</td>\n",
       "      <td>0</td>\n",
       "      <td>0</td>\n",
       "      <td>0</td>\n",
       "      <td>0</td>\n",
       "      <td>0</td>\n",
       "      <td>0</td>\n",
       "      <td>0</td>\n",
       "      <td>1</td>\n",
       "      <td>0</td>\n",
       "      <td>0</td>\n",
       "      <td>0</td>\n",
       "      <td>0</td>\n",
       "    </tr>\n",
       "    <tr>\n",
       "      <th>2196</th>\n",
       "      <td>1</td>\n",
       "      <td>0</td>\n",
       "      <td>0</td>\n",
       "      <td>0</td>\n",
       "      <td>0</td>\n",
       "      <td>0</td>\n",
       "      <td>0</td>\n",
       "      <td>0</td>\n",
       "      <td>0</td>\n",
       "      <td>0</td>\n",
       "      <td>0</td>\n",
       "      <td>0</td>\n",
       "      <td>0</td>\n",
       "      <td>0</td>\n",
       "    </tr>\n",
       "    <tr>\n",
       "      <th>2197</th>\n",
       "      <td>0</td>\n",
       "      <td>0</td>\n",
       "      <td>1</td>\n",
       "      <td>0</td>\n",
       "      <td>0</td>\n",
       "      <td>0</td>\n",
       "      <td>0</td>\n",
       "      <td>0</td>\n",
       "      <td>0</td>\n",
       "      <td>0</td>\n",
       "      <td>0</td>\n",
       "      <td>0</td>\n",
       "      <td>0</td>\n",
       "      <td>0</td>\n",
       "    </tr>\n",
       "    <tr>\n",
       "      <th>2198</th>\n",
       "      <td>0</td>\n",
       "      <td>1</td>\n",
       "      <td>0</td>\n",
       "      <td>0</td>\n",
       "      <td>0</td>\n",
       "      <td>0</td>\n",
       "      <td>0</td>\n",
       "      <td>0</td>\n",
       "      <td>0</td>\n",
       "      <td>0</td>\n",
       "      <td>0</td>\n",
       "      <td>0</td>\n",
       "      <td>0</td>\n",
       "      <td>0</td>\n",
       "    </tr>\n",
       "    <tr>\n",
       "      <th>2199</th>\n",
       "      <td>0</td>\n",
       "      <td>0</td>\n",
       "      <td>1</td>\n",
       "      <td>0</td>\n",
       "      <td>0</td>\n",
       "      <td>0</td>\n",
       "      <td>0</td>\n",
       "      <td>0</td>\n",
       "      <td>0</td>\n",
       "      <td>0</td>\n",
       "      <td>0</td>\n",
       "      <td>0</td>\n",
       "      <td>0</td>\n",
       "      <td>0</td>\n",
       "    </tr>\n",
       "  </tbody>\n",
       "</table>\n",
       "<p>2200 rows × 14 columns</p>\n",
       "</div>"
      ],
      "text/plain": [
       "      car  credit_card  debt_consolidation  educational  home_improvement  \\\n",
       "0       0            0                   1            0                 0   \n",
       "1       0            0                   1            0                 0   \n",
       "2       0            0                   0            0                 0   \n",
       "3       0            1                   0            0                 0   \n",
       "4       0            1                   0            0                 0   \n",
       "...   ...          ...                 ...          ...               ...   \n",
       "2195    0            0                   0            0                 0   \n",
       "2196    1            0                   0            0                 0   \n",
       "2197    0            0                   1            0                 0   \n",
       "2198    0            1                   0            0                 0   \n",
       "2199    0            0                   1            0                 0   \n",
       "\n",
       "      house  major_purchase  medical  moving  other  renewable_energy  \\\n",
       "0         0               0        0       0      0                 0   \n",
       "1         0               0        0       0      0                 0   \n",
       "2         0               1        0       0      0                 0   \n",
       "3         0               0        0       0      0                 0   \n",
       "4         0               0        0       0      0                 0   \n",
       "...     ...             ...      ...     ...    ...               ...   \n",
       "2195      0               0        0       0      1                 0   \n",
       "2196      0               0        0       0      0                 0   \n",
       "2197      0               0        0       0      0                 0   \n",
       "2198      0               0        0       0      0                 0   \n",
       "2199      0               0        0       0      0                 0   \n",
       "\n",
       "      small_business  vacation  wedding  \n",
       "0                  0         0        0  \n",
       "1                  0         0        0  \n",
       "2                  0         0        0  \n",
       "3                  0         0        0  \n",
       "4                  0         0        0  \n",
       "...              ...       ...      ...  \n",
       "2195               0         0        0  \n",
       "2196               0         0        0  \n",
       "2197               0         0        0  \n",
       "2198               0         0        0  \n",
       "2199               0         0        0  \n",
       "\n",
       "[2200 rows x 14 columns]"
      ]
     },
     "execution_count": 54,
     "metadata": {},
     "output_type": "execute_result"
    }
   ],
   "source": [
    "df_Loan_Purpose=pd.get_dummies(df['Loan_Purpose'])\n",
    "df.drop('Loan_Purpose',axis=1,inplace=True)\n",
    "df_Loan_Purpose"
   ]
  },
  {
   "cell_type": "code",
   "execution_count": 55,
   "id": "795686c3",
   "metadata": {},
   "outputs": [],
   "source": [
    "# df.info()"
   ]
  },
  {
   "cell_type": "markdown",
   "id": "c52b2461",
   "metadata": {},
   "source": [
    "### Debt_To_Income_Ratio"
   ]
  },
  {
   "cell_type": "code",
   "execution_count": 56,
   "id": "dbfd040c",
   "metadata": {},
   "outputs": [
    {
     "data": {
      "text/plain": [
       "1526"
      ]
     },
     "execution_count": 56,
     "metadata": {},
     "output_type": "execute_result"
    }
   ],
   "source": [
    "df['Debt_To_Income_Ratio'].nunique()"
   ]
  },
  {
   "cell_type": "code",
   "execution_count": 57,
   "id": "56ac56fa",
   "metadata": {},
   "outputs": [
    {
     "data": {
      "text/plain": [
       "dtype('O')"
      ]
     },
     "execution_count": 57,
     "metadata": {},
     "output_type": "execute_result"
    }
   ],
   "source": [
    "df['Debt_To_Income_Ratio'].dtype"
   ]
  },
  {
   "cell_type": "code",
   "execution_count": 58,
   "id": "51fc5d65",
   "metadata": {},
   "outputs": [],
   "source": [
    "df['Debt_To_Income_Ratio']=df[\"Debt_To_Income_Ratio\"].str.replace(\"%\",\"\")"
   ]
  },
  {
   "cell_type": "code",
   "execution_count": 59,
   "id": "143dbdfe",
   "metadata": {},
   "outputs": [],
   "source": [
    "df['Debt_To_Income_Ratio']=df['Debt_To_Income_Ratio'].astype('float')"
   ]
  },
  {
   "cell_type": "code",
   "execution_count": 60,
   "id": "2405cbf2",
   "metadata": {},
   "outputs": [
    {
     "data": {
      "text/plain": [
       "dtype('float64')"
      ]
     },
     "execution_count": 60,
     "metadata": {},
     "output_type": "execute_result"
    }
   ],
   "source": [
    "df['Debt_To_Income_Ratio'].dtype"
   ]
  },
  {
   "cell_type": "code",
   "execution_count": 61,
   "id": "e8068aaa",
   "metadata": {},
   "outputs": [
    {
     "data": {
      "text/plain": [
       "<AxesSubplot:xlabel='Debt_To_Income_Ratio'>"
      ]
     },
     "execution_count": 61,
     "metadata": {},
     "output_type": "execute_result"
    },
    {
     "data": {
      "image/png": "[encoded data removed]",
      "text/plain": [
       "<Figure size 432x288 with 1 Axes>"
      ]
     },
     "metadata": {
      "needs_background": "light"
     },
     "output_type": "display_data"
    }
   ],
   "source": [
    "sns.boxplot(df['Debt_To_Income_Ratio'])"
   ]
  },
  {
   "cell_type": "code",
   "execution_count": 62,
   "id": "b28d63a7",
   "metadata": {},
   "outputs": [],
   "source": [
    "df['Debt_To_Income_Ratio'].fillna((df['Debt_To_Income_Ratio'].median()),inplace=True)"
   ]
  },
  {
   "cell_type": "code",
   "execution_count": 63,
   "id": "077add3f",
   "metadata": {},
   "outputs": [
    {
     "data": {
      "text/html": [
       "<div>\n",
       "<style scoped>\n",
       "    .dataframe tbody tr th:only-of-type {\n",
       "        vertical-align: middle;\n",
       "    }\n",
       "\n",
       "    .dataframe tbody tr th {\n",
       "        vertical-align: top;\n",
       "    }\n",
       "\n",
       "    .dataframe thead th {\n",
       "        text-align: right;\n",
       "    }\n",
       "</style>\n",
       "<table border=\"1\" class=\"dataframe\">\n",
       "  <thead>\n",
       "    <tr style=\"text-align: right;\">\n",
       "      <th></th>\n",
       "      <th>Amount_Requested</th>\n",
       "      <th>Amount_Funded_By_Investors</th>\n",
       "      <th>Interest_Rate</th>\n",
       "      <th>Loan_Length</th>\n",
       "      <th>Debt_To_Income_Ratio</th>\n",
       "      <th>State</th>\n",
       "      <th>Home_Ownership</th>\n",
       "      <th>Monthly_Income</th>\n",
       "      <th>FICO_Range</th>\n",
       "      <th>Open_CREDIT_Lines</th>\n",
       "      <th>...</th>\n",
       "      <th>home_improvement</th>\n",
       "      <th>house</th>\n",
       "      <th>major_purchase</th>\n",
       "      <th>medical</th>\n",
       "      <th>moving</th>\n",
       "      <th>other</th>\n",
       "      <th>renewable_energy</th>\n",
       "      <th>small_business</th>\n",
       "      <th>vacation</th>\n",
       "      <th>wedding</th>\n",
       "    </tr>\n",
       "  </thead>\n",
       "  <tbody>\n",
       "    <tr>\n",
       "      <th>0</th>\n",
       "      <td>25000.0</td>\n",
       "      <td>25000.00</td>\n",
       "      <td>18.49</td>\n",
       "      <td>60.0</td>\n",
       "      <td>27.56</td>\n",
       "      <td>VA</td>\n",
       "      <td>MORTGAGE</td>\n",
       "      <td>8606.56</td>\n",
       "      <td>720-724</td>\n",
       "      <td>11</td>\n",
       "      <td>...</td>\n",
       "      <td>0</td>\n",
       "      <td>0</td>\n",
       "      <td>0</td>\n",
       "      <td>0</td>\n",
       "      <td>0</td>\n",
       "      <td>0</td>\n",
       "      <td>0</td>\n",
       "      <td>0</td>\n",
       "      <td>0</td>\n",
       "      <td>0</td>\n",
       "    </tr>\n",
       "    <tr>\n",
       "      <th>1</th>\n",
       "      <td>19750.0</td>\n",
       "      <td>19750.00</td>\n",
       "      <td>17.27</td>\n",
       "      <td>60.0</td>\n",
       "      <td>13.39</td>\n",
       "      <td>NY</td>\n",
       "      <td>MORTGAGE</td>\n",
       "      <td>6737.50</td>\n",
       "      <td>710-714</td>\n",
       "      <td>14</td>\n",
       "      <td>...</td>\n",
       "      <td>0</td>\n",
       "      <td>0</td>\n",
       "      <td>0</td>\n",
       "      <td>0</td>\n",
       "      <td>0</td>\n",
       "      <td>0</td>\n",
       "      <td>0</td>\n",
       "      <td>0</td>\n",
       "      <td>0</td>\n",
       "      <td>0</td>\n",
       "    </tr>\n",
       "    <tr>\n",
       "      <th>2</th>\n",
       "      <td>2100.0</td>\n",
       "      <td>2100.00</td>\n",
       "      <td>14.33</td>\n",
       "      <td>36.0</td>\n",
       "      <td>3.50</td>\n",
       "      <td>LA</td>\n",
       "      <td>OWN</td>\n",
       "      <td>1000.00</td>\n",
       "      <td>690-694</td>\n",
       "      <td>13</td>\n",
       "      <td>...</td>\n",
       "      <td>0</td>\n",
       "      <td>0</td>\n",
       "      <td>1</td>\n",
       "      <td>0</td>\n",
       "      <td>0</td>\n",
       "      <td>0</td>\n",
       "      <td>0</td>\n",
       "      <td>0</td>\n",
       "      <td>0</td>\n",
       "      <td>0</td>\n",
       "    </tr>\n",
       "    <tr>\n",
       "      <th>3</th>\n",
       "      <td>28000.0</td>\n",
       "      <td>28000.00</td>\n",
       "      <td>16.29</td>\n",
       "      <td>36.0</td>\n",
       "      <td>19.62</td>\n",
       "      <td>NV</td>\n",
       "      <td>MORTGAGE</td>\n",
       "      <td>7083.33</td>\n",
       "      <td>710-714</td>\n",
       "      <td>12</td>\n",
       "      <td>...</td>\n",
       "      <td>0</td>\n",
       "      <td>0</td>\n",
       "      <td>0</td>\n",
       "      <td>0</td>\n",
       "      <td>0</td>\n",
       "      <td>0</td>\n",
       "      <td>0</td>\n",
       "      <td>0</td>\n",
       "      <td>0</td>\n",
       "      <td>0</td>\n",
       "    </tr>\n",
       "    <tr>\n",
       "      <th>4</th>\n",
       "      <td>24250.0</td>\n",
       "      <td>17431.82</td>\n",
       "      <td>12.23</td>\n",
       "      <td>60.0</td>\n",
       "      <td>23.79</td>\n",
       "      <td>OH</td>\n",
       "      <td>MORTGAGE</td>\n",
       "      <td>5833.33</td>\n",
       "      <td>730-734</td>\n",
       "      <td>6</td>\n",
       "      <td>...</td>\n",
       "      <td>0</td>\n",
       "      <td>0</td>\n",
       "      <td>0</td>\n",
       "      <td>0</td>\n",
       "      <td>0</td>\n",
       "      <td>0</td>\n",
       "      <td>0</td>\n",
       "      <td>0</td>\n",
       "      <td>0</td>\n",
       "      <td>0</td>\n",
       "    </tr>\n",
       "    <tr>\n",
       "      <th>...</th>\n",
       "      <td>...</td>\n",
       "      <td>...</td>\n",
       "      <td>...</td>\n",
       "      <td>...</td>\n",
       "      <td>...</td>\n",
       "      <td>...</td>\n",
       "      <td>...</td>\n",
       "      <td>...</td>\n",
       "      <td>...</td>\n",
       "      <td>...</td>\n",
       "      <td>...</td>\n",
       "      <td>...</td>\n",
       "      <td>...</td>\n",
       "      <td>...</td>\n",
       "      <td>...</td>\n",
       "      <td>...</td>\n",
       "      <td>...</td>\n",
       "      <td>...</td>\n",
       "      <td>...</td>\n",
       "      <td>...</td>\n",
       "      <td>...</td>\n",
       "    </tr>\n",
       "    <tr>\n",
       "      <th>2195</th>\n",
       "      <td>30000.0</td>\n",
       "      <td>30000.00</td>\n",
       "      <td>23.28</td>\n",
       "      <td>60.0</td>\n",
       "      <td>12.10</td>\n",
       "      <td>IL</td>\n",
       "      <td>MORTGAGE</td>\n",
       "      <td>7083.33</td>\n",
       "      <td>675-679</td>\n",
       "      <td>16</td>\n",
       "      <td>...</td>\n",
       "      <td>0</td>\n",
       "      <td>0</td>\n",
       "      <td>0</td>\n",
       "      <td>0</td>\n",
       "      <td>0</td>\n",
       "      <td>1</td>\n",
       "      <td>0</td>\n",
       "      <td>0</td>\n",
       "      <td>0</td>\n",
       "      <td>0</td>\n",
       "    </tr>\n",
       "    <tr>\n",
       "      <th>2196</th>\n",
       "      <td>4200.0</td>\n",
       "      <td>4200.00</td>\n",
       "      <td>14.33</td>\n",
       "      <td>60.0</td>\n",
       "      <td>14.16</td>\n",
       "      <td>NJ</td>\n",
       "      <td>RENT</td>\n",
       "      <td>3850.00</td>\n",
       "      <td>700-704</td>\n",
       "      <td>4</td>\n",
       "      <td>...</td>\n",
       "      <td>0</td>\n",
       "      <td>0</td>\n",
       "      <td>0</td>\n",
       "      <td>0</td>\n",
       "      <td>0</td>\n",
       "      <td>0</td>\n",
       "      <td>0</td>\n",
       "      <td>0</td>\n",
       "      <td>0</td>\n",
       "      <td>0</td>\n",
       "    </tr>\n",
       "    <tr>\n",
       "      <th>2197</th>\n",
       "      <td>19800.0</td>\n",
       "      <td>19775.00</td>\n",
       "      <td>15.31</td>\n",
       "      <td>60.0</td>\n",
       "      <td>15.03</td>\n",
       "      <td>IL</td>\n",
       "      <td>MORTGAGE</td>\n",
       "      <td>6666.67</td>\n",
       "      <td>675-679</td>\n",
       "      <td>10</td>\n",
       "      <td>...</td>\n",
       "      <td>0</td>\n",
       "      <td>0</td>\n",
       "      <td>0</td>\n",
       "      <td>0</td>\n",
       "      <td>0</td>\n",
       "      <td>0</td>\n",
       "      <td>0</td>\n",
       "      <td>0</td>\n",
       "      <td>0</td>\n",
       "      <td>0</td>\n",
       "    </tr>\n",
       "    <tr>\n",
       "      <th>2198</th>\n",
       "      <td>18000.0</td>\n",
       "      <td>18000.00</td>\n",
       "      <td>20.99</td>\n",
       "      <td>60.0</td>\n",
       "      <td>11.63</td>\n",
       "      <td>CA</td>\n",
       "      <td>RENT</td>\n",
       "      <td>9051.83</td>\n",
       "      <td>670-674</td>\n",
       "      <td>5</td>\n",
       "      <td>...</td>\n",
       "      <td>0</td>\n",
       "      <td>0</td>\n",
       "      <td>0</td>\n",
       "      <td>0</td>\n",
       "      <td>0</td>\n",
       "      <td>0</td>\n",
       "      <td>0</td>\n",
       "      <td>0</td>\n",
       "      <td>0</td>\n",
       "      <td>0</td>\n",
       "    </tr>\n",
       "    <tr>\n",
       "      <th>2199</th>\n",
       "      <td>7550.0</td>\n",
       "      <td>7550.00</td>\n",
       "      <td>10.16</td>\n",
       "      <td>36.0</td>\n",
       "      <td>3.83</td>\n",
       "      <td>CA</td>\n",
       "      <td>MORTGAGE</td>\n",
       "      <td>8333.33</td>\n",
       "      <td>710-714</td>\n",
       "      <td>10</td>\n",
       "      <td>...</td>\n",
       "      <td>0</td>\n",
       "      <td>0</td>\n",
       "      <td>0</td>\n",
       "      <td>0</td>\n",
       "      <td>0</td>\n",
       "      <td>0</td>\n",
       "      <td>0</td>\n",
       "      <td>0</td>\n",
       "      <td>0</td>\n",
       "      <td>0</td>\n",
       "    </tr>\n",
       "  </tbody>\n",
       "</table>\n",
       "<p>2200 rows × 27 columns</p>\n",
       "</div>"
      ],
      "text/plain": [
       "      Amount_Requested  Amount_Funded_By_Investors  Interest_Rate  \\\n",
       "0              25000.0                    25000.00          18.49   \n",
       "1              19750.0                    19750.00          17.27   \n",
       "2               2100.0                     2100.00          14.33   \n",
       "3              28000.0                    28000.00          16.29   \n",
       "4              24250.0                    17431.82          12.23   \n",
       "...                ...                         ...            ...   \n",
       "2195           30000.0                    30000.00          23.28   \n",
       "2196            4200.0                     4200.00          14.33   \n",
       "2197           19800.0                    19775.00          15.31   \n",
       "2198           18000.0                    18000.00          20.99   \n",
       "2199            7550.0                     7550.00          10.16   \n",
       "\n",
       "      Loan_Length  Debt_To_Income_Ratio State Home_Ownership  Monthly_Income  \\\n",
       "0            60.0                 27.56    VA       MORTGAGE         8606.56   \n",
       "1            60.0                 13.39    NY       MORTGAGE         6737.50   \n",
       "2            36.0                  3.50    LA            OWN         1000.00   \n",
       "3            36.0                 19.62    NV       MORTGAGE         7083.33   \n",
       "4            60.0                 23.79    OH       MORTGAGE         5833.33   \n",
       "...           ...                   ...   ...            ...             ...   \n",
       "2195         60.0                 12.10    IL       MORTGAGE         7083.33   \n",
       "2196         60.0                 14.16    NJ           RENT         3850.00   \n",
       "2197         60.0                 15.03    IL       MORTGAGE         6666.67   \n",
       "2198         60.0                 11.63    CA           RENT         9051.83   \n",
       "2199         36.0                  3.83    CA       MORTGAGE         8333.33   \n",
       "\n",
       "     FICO_Range Open_CREDIT_Lines  ... home_improvement  house major_purchase  \\\n",
       "0       720-724                11  ...                0      0              0   \n",
       "1       710-714                14  ...                0      0              0   \n",
       "2       690-694                13  ...                0      0              1   \n",
       "3       710-714                12  ...                0      0              0   \n",
       "4       730-734                 6  ...                0      0              0   \n",
       "...         ...               ...  ...              ...    ...            ...   \n",
       "2195    675-679                16  ...                0      0              0   \n",
       "2196    700-704                 4  ...                0      0              0   \n",
       "2197    675-679                10  ...                0      0              0   \n",
       "2198    670-674                 5  ...                0      0              0   \n",
       "2199    710-714                10  ...                0      0              0   \n",
       "\n",
       "      medical  moving  other  renewable_energy  small_business  vacation  \\\n",
       "0           0       0      0                 0               0         0   \n",
       "1           0       0      0                 0               0         0   \n",
       "2           0       0      0                 0               0         0   \n",
       "3           0       0      0                 0               0         0   \n",
       "4           0       0      0                 0               0         0   \n",
       "...       ...     ...    ...               ...             ...       ...   \n",
       "2195        0       0      1                 0               0         0   \n",
       "2196        0       0      0                 0               0         0   \n",
       "2197        0       0      0                 0               0         0   \n",
       "2198        0       0      0                 0               0         0   \n",
       "2199        0       0      0                 0               0         0   \n",
       "\n",
       "      wedding  \n",
       "0           0  \n",
       "1           0  \n",
       "2           0  \n",
       "3           0  \n",
       "4           0  \n",
       "...       ...  \n",
       "2195        0  \n",
       "2196        0  \n",
       "2197        0  \n",
       "2198        0  \n",
       "2199        0  \n",
       "\n",
       "[2200 rows x 27 columns]"
      ]
     },
     "execution_count": 63,
     "metadata": {},
     "output_type": "execute_result"
    }
   ],
   "source": [
    "df=pd.concat([df,df_Loan_Purpose],axis=1)\n",
    "df"
   ]
  },
  {
   "cell_type": "markdown",
   "id": "61bc5639",
   "metadata": {},
   "source": [
    "# State"
   ]
  },
  {
   "cell_type": "code",
   "execution_count": 64,
   "id": "3fdefa87",
   "metadata": {},
   "outputs": [
    {
     "name": "stdout",
     "output_type": "stream",
     "text": [
      "<class 'pandas.core.frame.DataFrame'>\n",
      "RangeIndex: 2200 entries, 0 to 2199\n",
      "Data columns (total 27 columns):\n",
      " #   Column                          Non-Null Count  Dtype  \n",
      "---  ------                          --------------  -----  \n",
      " 0   Amount_Requested                2200 non-null   float64\n",
      " 1   Amount_Funded_By_Investors      2200 non-null   float64\n",
      " 2   Interest_Rate                   2200 non-null   float64\n",
      " 3   Loan_Length                     2200 non-null   float64\n",
      " 4   Debt_To_Income_Ratio            2200 non-null   float64\n",
      " 5   State                           2199 non-null   object \n",
      " 6   Home_Ownership                  2199 non-null   object \n",
      " 7   Monthly_Income                  2197 non-null   float64\n",
      " 8   FICO_Range                      2200 non-null   object \n",
      " 9   Open_CREDIT_Lines               2196 non-null   object \n",
      " 10  Revolving_CREDIT_Balance        2197 non-null   object \n",
      " 11  Inquiries_in_the_Last_6_Months  2197 non-null   float64\n",
      " 12  Employment_Length               2131 non-null   object \n",
      " 13  car                             2200 non-null   uint8  \n",
      " 14  credit_card                     2200 non-null   uint8  \n",
      " 15  debt_consolidation              2200 non-null   uint8  \n",
      " 16  educational                     2200 non-null   uint8  \n",
      " 17  home_improvement                2200 non-null   uint8  \n",
      " 18  house                           2200 non-null   uint8  \n",
      " 19  major_purchase                  2200 non-null   uint8  \n",
      " 20  medical                         2200 non-null   uint8  \n",
      " 21  moving                          2200 non-null   uint8  \n",
      " 22  other                           2200 non-null   uint8  \n",
      " 23  renewable_energy                2200 non-null   uint8  \n",
      " 24  small_business                  2200 non-null   uint8  \n",
      " 25  vacation                        2200 non-null   uint8  \n",
      " 26  wedding                         2200 non-null   uint8  \n",
      "dtypes: float64(7), object(6), uint8(14)\n",
      "memory usage: 253.6+ KB\n"
     ]
    }
   ],
   "source": [
    "df.info()"
   ]
  },
  {
   "cell_type": "code",
   "execution_count": 65,
   "id": "8c3a5e1a",
   "metadata": {},
   "outputs": [],
   "source": [
    "#df['State'].value_counts()"
   ]
  },
  {
   "cell_type": "code",
   "execution_count": 66,
   "id": "d84d8d60",
   "metadata": {},
   "outputs": [
    {
     "data": {
      "text/html": [
       "<div>\n",
       "<style scoped>\n",
       "    .dataframe tbody tr th:only-of-type {\n",
       "        vertical-align: middle;\n",
       "    }\n",
       "\n",
       "    .dataframe tbody tr th {\n",
       "        vertical-align: top;\n",
       "    }\n",
       "\n",
       "    .dataframe thead th {\n",
       "        text-align: right;\n",
       "    }\n",
       "</style>\n",
       "<table border=\"1\" class=\"dataframe\">\n",
       "  <thead>\n",
       "    <tr style=\"text-align: right;\">\n",
       "      <th></th>\n",
       "      <th>.</th>\n",
       "      <th>AK</th>\n",
       "      <th>AL</th>\n",
       "      <th>AR</th>\n",
       "      <th>AZ</th>\n",
       "      <th>CA</th>\n",
       "      <th>CO</th>\n",
       "      <th>CT</th>\n",
       "      <th>DC</th>\n",
       "      <th>DE</th>\n",
       "      <th>...</th>\n",
       "      <th>SC</th>\n",
       "      <th>SD</th>\n",
       "      <th>TX</th>\n",
       "      <th>UT</th>\n",
       "      <th>VA</th>\n",
       "      <th>VT</th>\n",
       "      <th>WA</th>\n",
       "      <th>WI</th>\n",
       "      <th>WV</th>\n",
       "      <th>WY</th>\n",
       "    </tr>\n",
       "  </thead>\n",
       "  <tbody>\n",
       "    <tr>\n",
       "      <th>0</th>\n",
       "      <td>0</td>\n",
       "      <td>0</td>\n",
       "      <td>0</td>\n",
       "      <td>0</td>\n",
       "      <td>0</td>\n",
       "      <td>0</td>\n",
       "      <td>0</td>\n",
       "      <td>0</td>\n",
       "      <td>0</td>\n",
       "      <td>0</td>\n",
       "      <td>...</td>\n",
       "      <td>0</td>\n",
       "      <td>0</td>\n",
       "      <td>0</td>\n",
       "      <td>0</td>\n",
       "      <td>1</td>\n",
       "      <td>0</td>\n",
       "      <td>0</td>\n",
       "      <td>0</td>\n",
       "      <td>0</td>\n",
       "      <td>0</td>\n",
       "    </tr>\n",
       "    <tr>\n",
       "      <th>1</th>\n",
       "      <td>0</td>\n",
       "      <td>0</td>\n",
       "      <td>0</td>\n",
       "      <td>0</td>\n",
       "      <td>0</td>\n",
       "      <td>0</td>\n",
       "      <td>0</td>\n",
       "      <td>0</td>\n",
       "      <td>0</td>\n",
       "      <td>0</td>\n",
       "      <td>...</td>\n",
       "      <td>0</td>\n",
       "      <td>0</td>\n",
       "      <td>0</td>\n",
       "      <td>0</td>\n",
       "      <td>0</td>\n",
       "      <td>0</td>\n",
       "      <td>0</td>\n",
       "      <td>0</td>\n",
       "      <td>0</td>\n",
       "      <td>0</td>\n",
       "    </tr>\n",
       "    <tr>\n",
       "      <th>2</th>\n",
       "      <td>0</td>\n",
       "      <td>0</td>\n",
       "      <td>0</td>\n",
       "      <td>0</td>\n",
       "      <td>0</td>\n",
       "      <td>0</td>\n",
       "      <td>0</td>\n",
       "      <td>0</td>\n",
       "      <td>0</td>\n",
       "      <td>0</td>\n",
       "      <td>...</td>\n",
       "      <td>0</td>\n",
       "      <td>0</td>\n",
       "      <td>0</td>\n",
       "      <td>0</td>\n",
       "      <td>0</td>\n",
       "      <td>0</td>\n",
       "      <td>0</td>\n",
       "      <td>0</td>\n",
       "      <td>0</td>\n",
       "      <td>0</td>\n",
       "    </tr>\n",
       "    <tr>\n",
       "      <th>3</th>\n",
       "      <td>0</td>\n",
       "      <td>0</td>\n",
       "      <td>0</td>\n",
       "      <td>0</td>\n",
       "      <td>0</td>\n",
       "      <td>0</td>\n",
       "      <td>0</td>\n",
       "      <td>0</td>\n",
       "      <td>0</td>\n",
       "      <td>0</td>\n",
       "      <td>...</td>\n",
       "      <td>0</td>\n",
       "      <td>0</td>\n",
       "      <td>0</td>\n",
       "      <td>0</td>\n",
       "      <td>0</td>\n",
       "      <td>0</td>\n",
       "      <td>0</td>\n",
       "      <td>0</td>\n",
       "      <td>0</td>\n",
       "      <td>0</td>\n",
       "    </tr>\n",
       "    <tr>\n",
       "      <th>4</th>\n",
       "      <td>0</td>\n",
       "      <td>0</td>\n",
       "      <td>0</td>\n",
       "      <td>0</td>\n",
       "      <td>0</td>\n",
       "      <td>0</td>\n",
       "      <td>0</td>\n",
       "      <td>0</td>\n",
       "      <td>0</td>\n",
       "      <td>0</td>\n",
       "      <td>...</td>\n",
       "      <td>0</td>\n",
       "      <td>0</td>\n",
       "      <td>0</td>\n",
       "      <td>0</td>\n",
       "      <td>0</td>\n",
       "      <td>0</td>\n",
       "      <td>0</td>\n",
       "      <td>0</td>\n",
       "      <td>0</td>\n",
       "      <td>0</td>\n",
       "    </tr>\n",
       "  </tbody>\n",
       "</table>\n",
       "<p>5 rows × 46 columns</p>\n",
       "</div>"
      ],
      "text/plain": [
       "   .  AK  AL  AR  AZ  CA  CO  CT  DC  DE  ...  SC  SD  TX  UT  VA  VT  WA  WI  \\\n",
       "0  0   0   0   0   0   0   0   0   0   0  ...   0   0   0   0   1   0   0   0   \n",
       "1  0   0   0   0   0   0   0   0   0   0  ...   0   0   0   0   0   0   0   0   \n",
       "2  0   0   0   0   0   0   0   0   0   0  ...   0   0   0   0   0   0   0   0   \n",
       "3  0   0   0   0   0   0   0   0   0   0  ...   0   0   0   0   0   0   0   0   \n",
       "4  0   0   0   0   0   0   0   0   0   0  ...   0   0   0   0   0   0   0   0   \n",
       "\n",
       "   WV  WY  \n",
       "0   0   0  \n",
       "1   0   0  \n",
       "2   0   0  \n",
       "3   0   0  \n",
       "4   0   0  \n",
       "\n",
       "[5 rows x 46 columns]"
      ]
     },
     "execution_count": 66,
     "metadata": {},
     "output_type": "execute_result"
    }
   ],
   "source": [
    "df_state=pd.get_dummies(df['State'])\n",
    "df_state.head()"
   ]
  },
  {
   "cell_type": "markdown",
   "id": "1504f939",
   "metadata": {},
   "source": [
    "# Home_Ownership"
   ]
  },
  {
   "cell_type": "code",
   "execution_count": 67,
   "id": "cd3b42f1",
   "metadata": {},
   "outputs": [
    {
     "data": {
      "text/plain": [
       "MORTGAGE    1018\n",
       "RENT         999\n",
       "OWN          177\n",
       "OTHER          4\n",
       "NONE           1\n",
       "Name: Home_Ownership, dtype: int64"
      ]
     },
     "execution_count": 67,
     "metadata": {},
     "output_type": "execute_result"
    }
   ],
   "source": [
    "df['Home_Ownership'].value_counts()"
   ]
  },
  {
   "cell_type": "code",
   "execution_count": 68,
   "id": "ebc6fc2c",
   "metadata": {},
   "outputs": [],
   "source": [
    "Home_Ownership_onehot = pd.get_dummies(df['Home_Ownership'],drop_first=True)"
   ]
  },
  {
   "cell_type": "code",
   "execution_count": 254,
   "id": "0c1bc16e",
   "metadata": {},
   "outputs": [
    {
     "data": {
      "text/html": [
       "<div>\n",
       "<style scoped>\n",
       "    .dataframe tbody tr th:only-of-type {\n",
       "        vertical-align: middle;\n",
       "    }\n",
       "\n",
       "    .dataframe tbody tr th {\n",
       "        vertical-align: top;\n",
       "    }\n",
       "\n",
       "    .dataframe thead th {\n",
       "        text-align: right;\n",
       "    }\n",
       "</style>\n",
       "<table border=\"1\" class=\"dataframe\">\n",
       "  <thead>\n",
       "    <tr style=\"text-align: right;\">\n",
       "      <th></th>\n",
       "      <th>NONE</th>\n",
       "      <th>OTHER</th>\n",
       "      <th>OWN</th>\n",
       "      <th>RENT</th>\n",
       "    </tr>\n",
       "  </thead>\n",
       "  <tbody>\n",
       "    <tr>\n",
       "      <th>0</th>\n",
       "      <td>0</td>\n",
       "      <td>0</td>\n",
       "      <td>0</td>\n",
       "      <td>0</td>\n",
       "    </tr>\n",
       "    <tr>\n",
       "      <th>1</th>\n",
       "      <td>0</td>\n",
       "      <td>0</td>\n",
       "      <td>0</td>\n",
       "      <td>0</td>\n",
       "    </tr>\n",
       "    <tr>\n",
       "      <th>2</th>\n",
       "      <td>0</td>\n",
       "      <td>0</td>\n",
       "      <td>1</td>\n",
       "      <td>0</td>\n",
       "    </tr>\n",
       "    <tr>\n",
       "      <th>3</th>\n",
       "      <td>0</td>\n",
       "      <td>0</td>\n",
       "      <td>0</td>\n",
       "      <td>0</td>\n",
       "    </tr>\n",
       "    <tr>\n",
       "      <th>4</th>\n",
       "      <td>0</td>\n",
       "      <td>0</td>\n",
       "      <td>0</td>\n",
       "      <td>0</td>\n",
       "    </tr>\n",
       "    <tr>\n",
       "      <th>...</th>\n",
       "      <td>...</td>\n",
       "      <td>...</td>\n",
       "      <td>...</td>\n",
       "      <td>...</td>\n",
       "    </tr>\n",
       "    <tr>\n",
       "      <th>2195</th>\n",
       "      <td>0</td>\n",
       "      <td>0</td>\n",
       "      <td>0</td>\n",
       "      <td>0</td>\n",
       "    </tr>\n",
       "    <tr>\n",
       "      <th>2196</th>\n",
       "      <td>0</td>\n",
       "      <td>0</td>\n",
       "      <td>0</td>\n",
       "      <td>1</td>\n",
       "    </tr>\n",
       "    <tr>\n",
       "      <th>2197</th>\n",
       "      <td>0</td>\n",
       "      <td>0</td>\n",
       "      <td>0</td>\n",
       "      <td>0</td>\n",
       "    </tr>\n",
       "    <tr>\n",
       "      <th>2198</th>\n",
       "      <td>0</td>\n",
       "      <td>0</td>\n",
       "      <td>0</td>\n",
       "      <td>1</td>\n",
       "    </tr>\n",
       "    <tr>\n",
       "      <th>2199</th>\n",
       "      <td>0</td>\n",
       "      <td>0</td>\n",
       "      <td>0</td>\n",
       "      <td>0</td>\n",
       "    </tr>\n",
       "  </tbody>\n",
       "</table>\n",
       "<p>2200 rows × 4 columns</p>\n",
       "</div>"
      ],
      "text/plain": [
       "      NONE  OTHER  OWN  RENT\n",
       "0        0      0    0     0\n",
       "1        0      0    0     0\n",
       "2        0      0    1     0\n",
       "3        0      0    0     0\n",
       "4        0      0    0     0\n",
       "...    ...    ...  ...   ...\n",
       "2195     0      0    0     0\n",
       "2196     0      0    0     1\n",
       "2197     0      0    0     0\n",
       "2198     0      0    0     1\n",
       "2199     0      0    0     0\n",
       "\n",
       "[2200 rows x 4 columns]"
      ]
     },
     "execution_count": 254,
     "metadata": {},
     "output_type": "execute_result"
    }
   ],
   "source": [
    "Home_Ownership_onehot"
   ]
  },
  {
   "cell_type": "markdown",
   "id": "e45e659f",
   "metadata": {},
   "source": [
    "# Monthly_Income"
   ]
  },
  {
   "cell_type": "code",
   "execution_count": 70,
   "id": "f758539b",
   "metadata": {},
   "outputs": [
    {
     "data": {
      "text/plain": [
       "0       8606.56\n",
       "1       6737.50\n",
       "2       1000.00\n",
       "3       7083.33\n",
       "4       5833.33\n",
       "         ...   \n",
       "2195    7083.33\n",
       "2196    3850.00\n",
       "2197    6666.67\n",
       "2198    9051.83\n",
       "2199    8333.33\n",
       "Name: Monthly_Income, Length: 2200, dtype: float64"
      ]
     },
     "execution_count": 70,
     "metadata": {},
     "output_type": "execute_result"
    }
   ],
   "source": [
    "df['Monthly_Income']"
   ]
  },
  {
   "cell_type": "code",
   "execution_count": 71,
   "id": "69627357",
   "metadata": {},
   "outputs": [
    {
     "data": {
      "text/plain": [
       "count      2197.000000\n",
       "mean       5727.459290\n",
       "std        4073.529708\n",
       "min         588.500000\n",
       "25%        3458.000000\n",
       "50%        5000.000000\n",
       "75%        6883.330000\n",
       "max      102750.000000\n",
       "Name: Monthly_Income, dtype: float64"
      ]
     },
     "execution_count": 71,
     "metadata": {},
     "output_type": "execute_result"
    }
   ],
   "source": [
    "df['Monthly_Income'].describe()"
   ]
  },
  {
   "cell_type": "code",
   "execution_count": 72,
   "id": "ae287e19",
   "metadata": {},
   "outputs": [
    {
     "data": {
      "text/plain": [
       "<AxesSubplot:xlabel='Monthly_Income'>"
      ]
     },
     "execution_count": 72,
     "metadata": {},
     "output_type": "execute_result"
    },
    {
     "data": {
      "image/png": "[encoded data removed]",
      "text/plain": [
       "<Figure size 432x288 with 1 Axes>"
      ]
     },
     "metadata": {
      "needs_background": "light"
     },
     "output_type": "display_data"
    }
   ],
   "source": [
    "sns.boxplot(x=df['Monthly_Income'])"
   ]
  },
  {
   "cell_type": "code",
   "execution_count": 73,
   "id": "7a8d7d96",
   "metadata": {},
   "outputs": [
    {
     "data": {
      "text/plain": [
       "<matplotlib.collections.PathCollection at 0x1dd4ea85c30>"
      ]
     },
     "execution_count": 73,
     "metadata": {},
     "output_type": "execute_result"
    },
    {
     "data": {
      "image/png": "[encoded data removed]",
      "text/plain": [
       "<Figure size 432x288 with 1 Axes>"
      ]
     },
     "metadata": {
      "needs_background": "light"
     },
     "output_type": "display_data"
    }
   ],
   "source": [
    "plt.scatter(df['Monthly_Income'],df['Interest_Rate'])"
   ]
  },
  {
   "cell_type": "code",
   "execution_count": 74,
   "id": "0163c4ae",
   "metadata": {},
   "outputs": [
    {
     "data": {
      "text/plain": [
       "<AxesSubplot:xlabel='Monthly_Income', ylabel='Count'>"
      ]
     },
     "execution_count": 74,
     "metadata": {},
     "output_type": "execute_result"
    },
    {
     "data": {
      "image/png": "[encoded data removed]",
      "text/plain": [
       "<Figure size 432x288 with 1 Axes>"
      ]
     },
     "metadata": {
      "needs_background": "light"
     },
     "output_type": "display_data"
    }
   ],
   "source": [
    "sns.histplot(df['Monthly_Income'],kde=True)"
   ]
  },
  {
   "cell_type": "code",
   "execution_count": 75,
   "id": "98cf8706",
   "metadata": {},
   "outputs": [],
   "source": [
    "df['Monthly_Income'].fillna((df['Monthly_Income'].median()),inplace=True)"
   ]
  },
  {
   "cell_type": "markdown",
   "id": "e0ecd7c0",
   "metadata": {},
   "source": [
    "# FICO_Range"
   ]
  },
  {
   "cell_type": "raw",
   "id": "74d3d9df",
   "metadata": {},
   "source": [
    "An extremely low credit score, which suggests a history of poor debt management\n",
    "may cause creditors to decide against lending you money, leasing you an apartment, or issuing you phone or cable equipment\n",
    "\n",
    "\n",
    "Poor FICO range (less than 580)\n",
    "Good FICO range (670 to 739)\n",
    "Exceptional FICO range (800 to 850)"
   ]
  },
  {
   "cell_type": "code",
   "execution_count": 76,
   "id": "c31c0f1b",
   "metadata": {},
   "outputs": [
    {
     "data": {
      "text/plain": [
       "0       720-724\n",
       "1       710-714\n",
       "2       690-694\n",
       "3       710-714\n",
       "4       730-734\n",
       "         ...   \n",
       "2195    675-679\n",
       "2196    700-704\n",
       "2197    675-679\n",
       "2198    670-674\n",
       "2199    710-714\n",
       "Name: FICO_Range, Length: 2200, dtype: object"
      ]
     },
     "execution_count": 76,
     "metadata": {},
     "output_type": "execute_result"
    }
   ],
   "source": [
    "df['FICO_Range']"
   ]
  },
  {
   "cell_type": "code",
   "execution_count": 77,
   "id": "7b5fb55a",
   "metadata": {},
   "outputs": [],
   "source": [
    "def fico(str1):\n",
    "    result=str1.split('-')\n",
    "    score=int((int(result[0])+int(result[1]))/2)\n",
    "    return score\n",
    "df['FICO_Range']=df['FICO_Range'].apply(fico)"
   ]
  },
  {
   "cell_type": "code",
   "execution_count": 78,
   "id": "03817937",
   "metadata": {},
   "outputs": [
    {
     "data": {
      "text/plain": [
       "0       722\n",
       "1       712\n",
       "2       692\n",
       "3       712\n",
       "4       732\n",
       "       ... \n",
       "2195    677\n",
       "2196    702\n",
       "2197    677\n",
       "2198    672\n",
       "2199    712\n",
       "Name: FICO_Range, Length: 2200, dtype: int64"
      ]
     },
     "execution_count": 78,
     "metadata": {},
     "output_type": "execute_result"
    }
   ],
   "source": [
    "df['FICO_Range']"
   ]
  },
  {
   "cell_type": "code",
   "execution_count": 79,
   "id": "deeca9b2",
   "metadata": {},
   "outputs": [],
   "source": [
    "#df.info()"
   ]
  },
  {
   "cell_type": "markdown",
   "id": "33f872bd",
   "metadata": {},
   "source": [
    "# Open_CREDIT_Lines"
   ]
  },
  {
   "cell_type": "raw",
   "id": "279935a4",
   "metadata": {},
   "source": [
    "1) what is open credit line?\n",
    "\n",
    "The borrower can take money out as needed until the limit is reached,\n",
    "and as money is repaid, it can be borrowed again in the case of an open line of credit."
   ]
  },
  {
   "cell_type": "raw",
   "id": "64c85e16",
   "metadata": {},
   "source": [
    "2) what is revolving credit balance?\n",
    "\n",
    "Revolving credit can come to the rescue.\n",
    "Revolving credit is a credit account that lets you repeatedly borrow money up to a set limit and pay it back over time."
   ]
  },
  {
   "cell_type": "raw",
   "id": "36fafd48",
   "metadata": {},
   "source": [
    "Here FICO rang - credit line - revolving credit balance are important to predict interest rate"
   ]
  },
  {
   "cell_type": "code",
   "execution_count": 80,
   "id": "e3f74d4a",
   "metadata": {},
   "outputs": [
    {
     "data": {
      "text/plain": [
       "0       11\n",
       "1       14\n",
       "2       13\n",
       "3       12\n",
       "4        6\n",
       "        ..\n",
       "2195    16\n",
       "2196     4\n",
       "2197    10\n",
       "2198     5\n",
       "2199    10\n",
       "Name: Open_CREDIT_Lines, Length: 2200, dtype: object"
      ]
     },
     "execution_count": 80,
     "metadata": {},
     "output_type": "execute_result"
    }
   ],
   "source": [
    "df['Open_CREDIT_Lines']"
   ]
  },
  {
   "cell_type": "code",
   "execution_count": 81,
   "id": "990c6220",
   "metadata": {},
   "outputs": [
    {
     "data": {
      "text/plain": [
       "count     2196\n",
       "unique      29\n",
       "top          8\n",
       "freq       226\n",
       "Name: Open_CREDIT_Lines, dtype: object"
      ]
     },
     "execution_count": 81,
     "metadata": {},
     "output_type": "execute_result"
    }
   ],
   "source": [
    "df['Open_CREDIT_Lines'].describe()"
   ]
  },
  {
   "cell_type": "code",
   "execution_count": 82,
   "id": "3064f1c3",
   "metadata": {},
   "outputs": [
    {
     "data": {
      "text/plain": [
       "4"
      ]
     },
     "execution_count": 82,
     "metadata": {},
     "output_type": "execute_result"
    }
   ],
   "source": [
    "df['Open_CREDIT_Lines'].isna().sum()"
   ]
  },
  {
   "cell_type": "code",
   "execution_count": 83,
   "id": "5476c5c4",
   "metadata": {},
   "outputs": [],
   "source": [
    "df['Open_CREDIT_Lines'].replace('.',np.nan,inplace=True)"
   ]
  },
  {
   "cell_type": "code",
   "execution_count": 84,
   "id": "3ffc3857",
   "metadata": {},
   "outputs": [],
   "source": [
    "median = df['Open_CREDIT_Lines'].median()"
   ]
  },
  {
   "cell_type": "code",
   "execution_count": 85,
   "id": "96cc6b97",
   "metadata": {},
   "outputs": [],
   "source": [
    "df['Open_CREDIT_Lines'].fillna(median,axis=0,inplace=True)"
   ]
  },
  {
   "cell_type": "code",
   "execution_count": 86,
   "id": "21d89a2b",
   "metadata": {},
   "outputs": [
    {
     "data": {
      "text/plain": [
       "0"
      ]
     },
     "execution_count": 86,
     "metadata": {},
     "output_type": "execute_result"
    }
   ],
   "source": [
    "df['Open_CREDIT_Lines'].isna().sum()"
   ]
  },
  {
   "cell_type": "code",
   "execution_count": 87,
   "id": "226d626f",
   "metadata": {},
   "outputs": [],
   "source": [
    "df['Open_CREDIT_Lines']=df['Open_CREDIT_Lines'].astype(int)"
   ]
  },
  {
   "cell_type": "code",
   "execution_count": 88,
   "id": "ec3aa027",
   "metadata": {},
   "outputs": [
    {
     "data": {
      "text/plain": [
       "<AxesSubplot:xlabel='Open_CREDIT_Lines'>"
      ]
     },
     "execution_count": 88,
     "metadata": {},
     "output_type": "execute_result"
    },
    {
     "data": {
      "image/png": "[encoded data removed]",
      "text/plain": [
       "<Figure size 432x288 with 1 Axes>"
      ]
     },
     "metadata": {
      "needs_background": "light"
     },
     "output_type": "display_data"
    }
   ],
   "source": [
    "sns.boxplot(x=df['Open_CREDIT_Lines'])"
   ]
  },
  {
   "cell_type": "code",
   "execution_count": 89,
   "id": "d310a38b",
   "metadata": {},
   "outputs": [
    {
     "data": {
      "text/plain": [
       "<matplotlib.collections.PathCollection at 0x1dd4f1e1360>"
      ]
     },
     "execution_count": 89,
     "metadata": {},
     "output_type": "execute_result"
    },
    {
     "data": {
      "image/png": "[encoded data removed]",
      "text/plain": [
       "<Figure size 432x288 with 1 Axes>"
      ]
     },
     "metadata": {
      "needs_background": "light"
     },
     "output_type": "display_data"
    }
   ],
   "source": [
    "plt.scatter(df['Open_CREDIT_Lines'],df['Interest_Rate'])"
   ]
  },
  {
   "cell_type": "code",
   "execution_count": 90,
   "id": "16c79a49",
   "metadata": {},
   "outputs": [
    {
     "data": {
      "text/plain": [
       "<AxesSubplot:xlabel='Monthly_Income', ylabel='Count'>"
      ]
     },
     "execution_count": 90,
     "metadata": {},
     "output_type": "execute_result"
    },
    {
     "data": {
      "image/png": "[encoded data removed]",
      "text/plain": [
       "<Figure size 432x288 with 1 Axes>"
      ]
     },
     "metadata": {
      "needs_background": "light"
     },
     "output_type": "display_data"
    }
   ],
   "source": [
    "sns.histplot(df['Monthly_Income'],kde=True)"
   ]
  },
  {
   "cell_type": "code",
   "execution_count": 91,
   "id": "5bfe8d8d",
   "metadata": {},
   "outputs": [
    {
     "data": {
      "text/html": [
       "<div>\n",
       "<style scoped>\n",
       "    .dataframe tbody tr th:only-of-type {\n",
       "        vertical-align: middle;\n",
       "    }\n",
       "\n",
       "    .dataframe tbody tr th {\n",
       "        vertical-align: top;\n",
       "    }\n",
       "\n",
       "    .dataframe thead th {\n",
       "        text-align: right;\n",
       "    }\n",
       "</style>\n",
       "<table border=\"1\" class=\"dataframe\">\n",
       "  <thead>\n",
       "    <tr style=\"text-align: right;\">\n",
       "      <th></th>\n",
       "      <th>Amount_Requested</th>\n",
       "      <th>Amount_Funded_By_Investors</th>\n",
       "      <th>Interest_Rate</th>\n",
       "      <th>Loan_Length</th>\n",
       "      <th>Debt_To_Income_Ratio</th>\n",
       "      <th>State</th>\n",
       "      <th>Home_Ownership</th>\n",
       "      <th>Monthly_Income</th>\n",
       "      <th>FICO_Range</th>\n",
       "      <th>Open_CREDIT_Lines</th>\n",
       "      <th>...</th>\n",
       "      <th>home_improvement</th>\n",
       "      <th>house</th>\n",
       "      <th>major_purchase</th>\n",
       "      <th>medical</th>\n",
       "      <th>moving</th>\n",
       "      <th>other</th>\n",
       "      <th>renewable_energy</th>\n",
       "      <th>small_business</th>\n",
       "      <th>vacation</th>\n",
       "      <th>wedding</th>\n",
       "    </tr>\n",
       "  </thead>\n",
       "  <tbody>\n",
       "    <tr>\n",
       "      <th>2117</th>\n",
       "      <td>35000.0</td>\n",
       "      <td>35000.0</td>\n",
       "      <td>19.05</td>\n",
       "      <td>36.0</td>\n",
       "      <td>21.12</td>\n",
       "      <td>CT</td>\n",
       "      <td>MORTGAGE</td>\n",
       "      <td>13750.0</td>\n",
       "      <td>737</td>\n",
       "      <td>38</td>\n",
       "      <td>...</td>\n",
       "      <td>0</td>\n",
       "      <td>0</td>\n",
       "      <td>0</td>\n",
       "      <td>0</td>\n",
       "      <td>0</td>\n",
       "      <td>0</td>\n",
       "      <td>0</td>\n",
       "      <td>0</td>\n",
       "      <td>0</td>\n",
       "      <td>0</td>\n",
       "    </tr>\n",
       "  </tbody>\n",
       "</table>\n",
       "<p>1 rows × 27 columns</p>\n",
       "</div>"
      ],
      "text/plain": [
       "      Amount_Requested  Amount_Funded_By_Investors  Interest_Rate  \\\n",
       "2117           35000.0                     35000.0          19.05   \n",
       "\n",
       "      Loan_Length  Debt_To_Income_Ratio State Home_Ownership  Monthly_Income  \\\n",
       "2117         36.0                 21.12    CT       MORTGAGE         13750.0   \n",
       "\n",
       "      FICO_Range  Open_CREDIT_Lines  ... home_improvement  house  \\\n",
       "2117         737                 38  ...                0      0   \n",
       "\n",
       "     major_purchase  medical  moving  other  renewable_energy  small_business  \\\n",
       "2117              0        0       0      0                 0               0   \n",
       "\n",
       "      vacation  wedding  \n",
       "2117         0        0  \n",
       "\n",
       "[1 rows x 27 columns]"
      ]
     },
     "execution_count": 91,
     "metadata": {},
     "output_type": "execute_result"
    }
   ],
   "source": [
    "df[df['Open_CREDIT_Lines']>35]"
   ]
  },
  {
   "cell_type": "code",
   "execution_count": 92,
   "id": "4b13c771",
   "metadata": {},
   "outputs": [
    {
     "data": {
      "text/html": [
       "<div>\n",
       "<style scoped>\n",
       "    .dataframe tbody tr th:only-of-type {\n",
       "        vertical-align: middle;\n",
       "    }\n",
       "\n",
       "    .dataframe tbody tr th {\n",
       "        vertical-align: top;\n",
       "    }\n",
       "\n",
       "    .dataframe thead th {\n",
       "        text-align: right;\n",
       "    }\n",
       "</style>\n",
       "<table border=\"1\" class=\"dataframe\">\n",
       "  <thead>\n",
       "    <tr style=\"text-align: right;\">\n",
       "      <th></th>\n",
       "      <th>Amount_Requested</th>\n",
       "      <th>Amount_Funded_By_Investors</th>\n",
       "      <th>Interest_Rate</th>\n",
       "      <th>Loan_Length</th>\n",
       "      <th>Debt_To_Income_Ratio</th>\n",
       "      <th>State</th>\n",
       "      <th>Home_Ownership</th>\n",
       "      <th>Monthly_Income</th>\n",
       "      <th>FICO_Range</th>\n",
       "      <th>Open_CREDIT_Lines</th>\n",
       "      <th>...</th>\n",
       "      <th>home_improvement</th>\n",
       "      <th>house</th>\n",
       "      <th>major_purchase</th>\n",
       "      <th>medical</th>\n",
       "      <th>moving</th>\n",
       "      <th>other</th>\n",
       "      <th>renewable_energy</th>\n",
       "      <th>small_business</th>\n",
       "      <th>vacation</th>\n",
       "      <th>wedding</th>\n",
       "    </tr>\n",
       "  </thead>\n",
       "  <tbody>\n",
       "    <tr>\n",
       "      <th>1244</th>\n",
       "      <td>21000.0</td>\n",
       "      <td>6165.31</td>\n",
       "      <td>11.09</td>\n",
       "      <td>36.0</td>\n",
       "      <td>21.28</td>\n",
       "      <td>CA</td>\n",
       "      <td>OWN</td>\n",
       "      <td>18333.33</td>\n",
       "      <td>747</td>\n",
       "      <td>31</td>\n",
       "      <td>...</td>\n",
       "      <td>1</td>\n",
       "      <td>0</td>\n",
       "      <td>0</td>\n",
       "      <td>0</td>\n",
       "      <td>0</td>\n",
       "      <td>0</td>\n",
       "      <td>0</td>\n",
       "      <td>0</td>\n",
       "      <td>0</td>\n",
       "      <td>0</td>\n",
       "    </tr>\n",
       "    <tr>\n",
       "      <th>1660</th>\n",
       "      <td>10000.0</td>\n",
       "      <td>10000.00</td>\n",
       "      <td>19.91</td>\n",
       "      <td>36.0</td>\n",
       "      <td>23.35</td>\n",
       "      <td>CO</td>\n",
       "      <td>MORTGAGE</td>\n",
       "      <td>6000.00</td>\n",
       "      <td>682</td>\n",
       "      <td>34</td>\n",
       "      <td>...</td>\n",
       "      <td>0</td>\n",
       "      <td>0</td>\n",
       "      <td>0</td>\n",
       "      <td>0</td>\n",
       "      <td>0</td>\n",
       "      <td>0</td>\n",
       "      <td>0</td>\n",
       "      <td>0</td>\n",
       "      <td>0</td>\n",
       "      <td>0</td>\n",
       "    </tr>\n",
       "    <tr>\n",
       "      <th>2117</th>\n",
       "      <td>35000.0</td>\n",
       "      <td>35000.00</td>\n",
       "      <td>19.05</td>\n",
       "      <td>36.0</td>\n",
       "      <td>21.12</td>\n",
       "      <td>CT</td>\n",
       "      <td>MORTGAGE</td>\n",
       "      <td>13750.00</td>\n",
       "      <td>737</td>\n",
       "      <td>38</td>\n",
       "      <td>...</td>\n",
       "      <td>0</td>\n",
       "      <td>0</td>\n",
       "      <td>0</td>\n",
       "      <td>0</td>\n",
       "      <td>0</td>\n",
       "      <td>0</td>\n",
       "      <td>0</td>\n",
       "      <td>0</td>\n",
       "      <td>0</td>\n",
       "      <td>0</td>\n",
       "    </tr>\n",
       "  </tbody>\n",
       "</table>\n",
       "<p>3 rows × 27 columns</p>\n",
       "</div>"
      ],
      "text/plain": [
       "      Amount_Requested  Amount_Funded_By_Investors  Interest_Rate  \\\n",
       "1244           21000.0                     6165.31          11.09   \n",
       "1660           10000.0                    10000.00          19.91   \n",
       "2117           35000.0                    35000.00          19.05   \n",
       "\n",
       "      Loan_Length  Debt_To_Income_Ratio State Home_Ownership  Monthly_Income  \\\n",
       "1244         36.0                 21.28    CA            OWN        18333.33   \n",
       "1660         36.0                 23.35    CO       MORTGAGE         6000.00   \n",
       "2117         36.0                 21.12    CT       MORTGAGE        13750.00   \n",
       "\n",
       "      FICO_Range  Open_CREDIT_Lines  ... home_improvement  house  \\\n",
       "1244         747                 31  ...                1      0   \n",
       "1660         682                 34  ...                0      0   \n",
       "2117         737                 38  ...                0      0   \n",
       "\n",
       "     major_purchase  medical  moving  other  renewable_energy  small_business  \\\n",
       "1244              0        0       0      0                 0               0   \n",
       "1660              0        0       0      0                 0               0   \n",
       "2117              0        0       0      0                 0               0   \n",
       "\n",
       "      vacation  wedding  \n",
       "1244         0        0  \n",
       "1660         0        0  \n",
       "2117         0        0  \n",
       "\n",
       "[3 rows x 27 columns]"
      ]
     },
     "execution_count": 92,
     "metadata": {},
     "output_type": "execute_result"
    }
   ],
   "source": [
    "df[df['Open_CREDIT_Lines']>30]"
   ]
  },
  {
   "cell_type": "markdown",
   "id": "4a0cd38b",
   "metadata": {},
   "source": [
    "# concat"
   ]
  },
  {
   "cell_type": "code",
   "execution_count": 93,
   "id": "0d39c5cd",
   "metadata": {
    "scrolled": false
   },
   "outputs": [
    {
     "data": {
      "text/html": [
       "<div>\n",
       "<style scoped>\n",
       "    .dataframe tbody tr th:only-of-type {\n",
       "        vertical-align: middle;\n",
       "    }\n",
       "\n",
       "    .dataframe tbody tr th {\n",
       "        vertical-align: top;\n",
       "    }\n",
       "\n",
       "    .dataframe thead th {\n",
       "        text-align: right;\n",
       "    }\n",
       "</style>\n",
       "<table border=\"1\" class=\"dataframe\">\n",
       "  <thead>\n",
       "    <tr style=\"text-align: right;\">\n",
       "      <th></th>\n",
       "      <th>Amount_Requested</th>\n",
       "      <th>Amount_Funded_By_Investors</th>\n",
       "      <th>Interest_Rate</th>\n",
       "      <th>Loan_Length</th>\n",
       "      <th>Debt_To_Income_Ratio</th>\n",
       "      <th>State</th>\n",
       "      <th>Home_Ownership</th>\n",
       "      <th>Monthly_Income</th>\n",
       "      <th>FICO_Range</th>\n",
       "      <th>Open_CREDIT_Lines</th>\n",
       "      <th>...</th>\n",
       "      <th>SC</th>\n",
       "      <th>SD</th>\n",
       "      <th>TX</th>\n",
       "      <th>UT</th>\n",
       "      <th>VA</th>\n",
       "      <th>VT</th>\n",
       "      <th>WA</th>\n",
       "      <th>WI</th>\n",
       "      <th>WV</th>\n",
       "      <th>WY</th>\n",
       "    </tr>\n",
       "  </thead>\n",
       "  <tbody>\n",
       "    <tr>\n",
       "      <th>0</th>\n",
       "      <td>25000.0</td>\n",
       "      <td>25000.00</td>\n",
       "      <td>18.49</td>\n",
       "      <td>60.0</td>\n",
       "      <td>27.56</td>\n",
       "      <td>VA</td>\n",
       "      <td>MORTGAGE</td>\n",
       "      <td>8606.56</td>\n",
       "      <td>722</td>\n",
       "      <td>11</td>\n",
       "      <td>...</td>\n",
       "      <td>0</td>\n",
       "      <td>0</td>\n",
       "      <td>0</td>\n",
       "      <td>0</td>\n",
       "      <td>1</td>\n",
       "      <td>0</td>\n",
       "      <td>0</td>\n",
       "      <td>0</td>\n",
       "      <td>0</td>\n",
       "      <td>0</td>\n",
       "    </tr>\n",
       "    <tr>\n",
       "      <th>1</th>\n",
       "      <td>19750.0</td>\n",
       "      <td>19750.00</td>\n",
       "      <td>17.27</td>\n",
       "      <td>60.0</td>\n",
       "      <td>13.39</td>\n",
       "      <td>NY</td>\n",
       "      <td>MORTGAGE</td>\n",
       "      <td>6737.50</td>\n",
       "      <td>712</td>\n",
       "      <td>14</td>\n",
       "      <td>...</td>\n",
       "      <td>0</td>\n",
       "      <td>0</td>\n",
       "      <td>0</td>\n",
       "      <td>0</td>\n",
       "      <td>0</td>\n",
       "      <td>0</td>\n",
       "      <td>0</td>\n",
       "      <td>0</td>\n",
       "      <td>0</td>\n",
       "      <td>0</td>\n",
       "    </tr>\n",
       "    <tr>\n",
       "      <th>2</th>\n",
       "      <td>2100.0</td>\n",
       "      <td>2100.00</td>\n",
       "      <td>14.33</td>\n",
       "      <td>36.0</td>\n",
       "      <td>3.50</td>\n",
       "      <td>LA</td>\n",
       "      <td>OWN</td>\n",
       "      <td>1000.00</td>\n",
       "      <td>692</td>\n",
       "      <td>13</td>\n",
       "      <td>...</td>\n",
       "      <td>0</td>\n",
       "      <td>0</td>\n",
       "      <td>0</td>\n",
       "      <td>0</td>\n",
       "      <td>0</td>\n",
       "      <td>0</td>\n",
       "      <td>0</td>\n",
       "      <td>0</td>\n",
       "      <td>0</td>\n",
       "      <td>0</td>\n",
       "    </tr>\n",
       "    <tr>\n",
       "      <th>3</th>\n",
       "      <td>28000.0</td>\n",
       "      <td>28000.00</td>\n",
       "      <td>16.29</td>\n",
       "      <td>36.0</td>\n",
       "      <td>19.62</td>\n",
       "      <td>NV</td>\n",
       "      <td>MORTGAGE</td>\n",
       "      <td>7083.33</td>\n",
       "      <td>712</td>\n",
       "      <td>12</td>\n",
       "      <td>...</td>\n",
       "      <td>0</td>\n",
       "      <td>0</td>\n",
       "      <td>0</td>\n",
       "      <td>0</td>\n",
       "      <td>0</td>\n",
       "      <td>0</td>\n",
       "      <td>0</td>\n",
       "      <td>0</td>\n",
       "      <td>0</td>\n",
       "      <td>0</td>\n",
       "    </tr>\n",
       "    <tr>\n",
       "      <th>4</th>\n",
       "      <td>24250.0</td>\n",
       "      <td>17431.82</td>\n",
       "      <td>12.23</td>\n",
       "      <td>60.0</td>\n",
       "      <td>23.79</td>\n",
       "      <td>OH</td>\n",
       "      <td>MORTGAGE</td>\n",
       "      <td>5833.33</td>\n",
       "      <td>732</td>\n",
       "      <td>6</td>\n",
       "      <td>...</td>\n",
       "      <td>0</td>\n",
       "      <td>0</td>\n",
       "      <td>0</td>\n",
       "      <td>0</td>\n",
       "      <td>0</td>\n",
       "      <td>0</td>\n",
       "      <td>0</td>\n",
       "      <td>0</td>\n",
       "      <td>0</td>\n",
       "      <td>0</td>\n",
       "    </tr>\n",
       "    <tr>\n",
       "      <th>...</th>\n",
       "      <td>...</td>\n",
       "      <td>...</td>\n",
       "      <td>...</td>\n",
       "      <td>...</td>\n",
       "      <td>...</td>\n",
       "      <td>...</td>\n",
       "      <td>...</td>\n",
       "      <td>...</td>\n",
       "      <td>...</td>\n",
       "      <td>...</td>\n",
       "      <td>...</td>\n",
       "      <td>...</td>\n",
       "      <td>...</td>\n",
       "      <td>...</td>\n",
       "      <td>...</td>\n",
       "      <td>...</td>\n",
       "      <td>...</td>\n",
       "      <td>...</td>\n",
       "      <td>...</td>\n",
       "      <td>...</td>\n",
       "      <td>...</td>\n",
       "    </tr>\n",
       "    <tr>\n",
       "      <th>2195</th>\n",
       "      <td>30000.0</td>\n",
       "      <td>30000.00</td>\n",
       "      <td>23.28</td>\n",
       "      <td>60.0</td>\n",
       "      <td>12.10</td>\n",
       "      <td>IL</td>\n",
       "      <td>MORTGAGE</td>\n",
       "      <td>7083.33</td>\n",
       "      <td>677</td>\n",
       "      <td>16</td>\n",
       "      <td>...</td>\n",
       "      <td>0</td>\n",
       "      <td>0</td>\n",
       "      <td>0</td>\n",
       "      <td>0</td>\n",
       "      <td>0</td>\n",
       "      <td>0</td>\n",
       "      <td>0</td>\n",
       "      <td>0</td>\n",
       "      <td>0</td>\n",
       "      <td>0</td>\n",
       "    </tr>\n",
       "    <tr>\n",
       "      <th>2196</th>\n",
       "      <td>4200.0</td>\n",
       "      <td>4200.00</td>\n",
       "      <td>14.33</td>\n",
       "      <td>60.0</td>\n",
       "      <td>14.16</td>\n",
       "      <td>NJ</td>\n",
       "      <td>RENT</td>\n",
       "      <td>3850.00</td>\n",
       "      <td>702</td>\n",
       "      <td>4</td>\n",
       "      <td>...</td>\n",
       "      <td>0</td>\n",
       "      <td>0</td>\n",
       "      <td>0</td>\n",
       "      <td>0</td>\n",
       "      <td>0</td>\n",
       "      <td>0</td>\n",
       "      <td>0</td>\n",
       "      <td>0</td>\n",
       "      <td>0</td>\n",
       "      <td>0</td>\n",
       "    </tr>\n",
       "    <tr>\n",
       "      <th>2197</th>\n",
       "      <td>19800.0</td>\n",
       "      <td>19775.00</td>\n",
       "      <td>15.31</td>\n",
       "      <td>60.0</td>\n",
       "      <td>15.03</td>\n",
       "      <td>IL</td>\n",
       "      <td>MORTGAGE</td>\n",
       "      <td>6666.67</td>\n",
       "      <td>677</td>\n",
       "      <td>10</td>\n",
       "      <td>...</td>\n",
       "      <td>0</td>\n",
       "      <td>0</td>\n",
       "      <td>0</td>\n",
       "      <td>0</td>\n",
       "      <td>0</td>\n",
       "      <td>0</td>\n",
       "      <td>0</td>\n",
       "      <td>0</td>\n",
       "      <td>0</td>\n",
       "      <td>0</td>\n",
       "    </tr>\n",
       "    <tr>\n",
       "      <th>2198</th>\n",
       "      <td>18000.0</td>\n",
       "      <td>18000.00</td>\n",
       "      <td>20.99</td>\n",
       "      <td>60.0</td>\n",
       "      <td>11.63</td>\n",
       "      <td>CA</td>\n",
       "      <td>RENT</td>\n",
       "      <td>9051.83</td>\n",
       "      <td>672</td>\n",
       "      <td>5</td>\n",
       "      <td>...</td>\n",
       "      <td>0</td>\n",
       "      <td>0</td>\n",
       "      <td>0</td>\n",
       "      <td>0</td>\n",
       "      <td>0</td>\n",
       "      <td>0</td>\n",
       "      <td>0</td>\n",
       "      <td>0</td>\n",
       "      <td>0</td>\n",
       "      <td>0</td>\n",
       "    </tr>\n",
       "    <tr>\n",
       "      <th>2199</th>\n",
       "      <td>7550.0</td>\n",
       "      <td>7550.00</td>\n",
       "      <td>10.16</td>\n",
       "      <td>36.0</td>\n",
       "      <td>3.83</td>\n",
       "      <td>CA</td>\n",
       "      <td>MORTGAGE</td>\n",
       "      <td>8333.33</td>\n",
       "      <td>712</td>\n",
       "      <td>10</td>\n",
       "      <td>...</td>\n",
       "      <td>0</td>\n",
       "      <td>0</td>\n",
       "      <td>0</td>\n",
       "      <td>0</td>\n",
       "      <td>0</td>\n",
       "      <td>0</td>\n",
       "      <td>0</td>\n",
       "      <td>0</td>\n",
       "      <td>0</td>\n",
       "      <td>0</td>\n",
       "    </tr>\n",
       "  </tbody>\n",
       "</table>\n",
       "<p>2200 rows × 77 columns</p>\n",
       "</div>"
      ],
      "text/plain": [
       "      Amount_Requested  Amount_Funded_By_Investors  Interest_Rate  \\\n",
       "0              25000.0                    25000.00          18.49   \n",
       "1              19750.0                    19750.00          17.27   \n",
       "2               2100.0                     2100.00          14.33   \n",
       "3              28000.0                    28000.00          16.29   \n",
       "4              24250.0                    17431.82          12.23   \n",
       "...                ...                         ...            ...   \n",
       "2195           30000.0                    30000.00          23.28   \n",
       "2196            4200.0                     4200.00          14.33   \n",
       "2197           19800.0                    19775.00          15.31   \n",
       "2198           18000.0                    18000.00          20.99   \n",
       "2199            7550.0                     7550.00          10.16   \n",
       "\n",
       "      Loan_Length  Debt_To_Income_Ratio State Home_Ownership  Monthly_Income  \\\n",
       "0            60.0                 27.56    VA       MORTGAGE         8606.56   \n",
       "1            60.0                 13.39    NY       MORTGAGE         6737.50   \n",
       "2            36.0                  3.50    LA            OWN         1000.00   \n",
       "3            36.0                 19.62    NV       MORTGAGE         7083.33   \n",
       "4            60.0                 23.79    OH       MORTGAGE         5833.33   \n",
       "...           ...                   ...   ...            ...             ...   \n",
       "2195         60.0                 12.10    IL       MORTGAGE         7083.33   \n",
       "2196         60.0                 14.16    NJ           RENT         3850.00   \n",
       "2197         60.0                 15.03    IL       MORTGAGE         6666.67   \n",
       "2198         60.0                 11.63    CA           RENT         9051.83   \n",
       "2199         36.0                  3.83    CA       MORTGAGE         8333.33   \n",
       "\n",
       "      FICO_Range  Open_CREDIT_Lines  ... SC  SD TX  UT  VA  VT  WA  WI  WV  WY  \n",
       "0            722                 11  ...  0   0  0   0   1   0   0   0   0   0  \n",
       "1            712                 14  ...  0   0  0   0   0   0   0   0   0   0  \n",
       "2            692                 13  ...  0   0  0   0   0   0   0   0   0   0  \n",
       "3            712                 12  ...  0   0  0   0   0   0   0   0   0   0  \n",
       "4            732                  6  ...  0   0  0   0   0   0   0   0   0   0  \n",
       "...          ...                ...  ... ..  .. ..  ..  ..  ..  ..  ..  ..  ..  \n",
       "2195         677                 16  ...  0   0  0   0   0   0   0   0   0   0  \n",
       "2196         702                  4  ...  0   0  0   0   0   0   0   0   0   0  \n",
       "2197         677                 10  ...  0   0  0   0   0   0   0   0   0   0  \n",
       "2198         672                  5  ...  0   0  0   0   0   0   0   0   0   0  \n",
       "2199         712                 10  ...  0   0  0   0   0   0   0   0   0   0  \n",
       "\n",
       "[2200 rows x 77 columns]"
      ]
     },
     "execution_count": 93,
     "metadata": {},
     "output_type": "execute_result"
    }
   ],
   "source": [
    "df=pd.concat([df,Home_Ownership_onehot,df_state],axis=1)\n",
    "df"
   ]
  },
  {
   "cell_type": "markdown",
   "id": "5efc88c1",
   "metadata": {},
   "source": [
    "# Revolving.CREDIT.Balance"
   ]
  },
  {
   "cell_type": "raw",
   "id": "7d15326a",
   "metadata": {},
   "source": [
    "Revolving credit Account:\n",
    "    It is an agreement that permits an account holder to borrow money repeatedly up to a set limit while repaying\n",
    "    in installments.\n",
    "\n",
    "Revolving credit balance: \n",
    "    If you don't pay the balance on your revolving credit account in full every month, the unpaid portion carries over\n",
    "    to the next month. That's called a revolving credit balance.    "
   ]
  },
  {
   "cell_type": "code",
   "execution_count": 94,
   "id": "e22c6c59",
   "metadata": {},
   "outputs": [
    {
     "data": {
      "text/plain": [
       "0       15210\n",
       "1       19070\n",
       "2         893\n",
       "3       38194\n",
       "4       31061\n",
       "        ...  \n",
       "2195    17969\n",
       "2196     5718\n",
       "2197    46879\n",
       "2198    32394\n",
       "2199    10204\n",
       "Name: Revolving_CREDIT_Balance, Length: 2200, dtype: object"
      ]
     },
     "execution_count": 94,
     "metadata": {},
     "output_type": "execute_result"
    }
   ],
   "source": [
    "#column_name\n",
    "df.rename({'Revolving.CREDIT.Balance':'Revolving_CREDIT_Balance'},axis=1,inplace=True)\n",
    "df['Revolving_CREDIT_Balance']"
   ]
  },
  {
   "cell_type": "code",
   "execution_count": 95,
   "id": "9ecf83c1",
   "metadata": {},
   "outputs": [
    {
     "data": {
      "text/plain": [
       "3"
      ]
     },
     "execution_count": 95,
     "metadata": {},
     "output_type": "execute_result"
    }
   ],
   "source": [
    "df['Revolving_CREDIT_Balance'].isna().sum()"
   ]
  },
  {
   "cell_type": "code",
   "execution_count": 96,
   "id": "eacdfa3b",
   "metadata": {},
   "outputs": [
    {
     "data": {
      "text/plain": [
       "2080"
      ]
     },
     "execution_count": 96,
     "metadata": {},
     "output_type": "execute_result"
    }
   ],
   "source": [
    "df['Revolving_CREDIT_Balance'].nunique()"
   ]
  },
  {
   "cell_type": "code",
   "execution_count": 97,
   "id": "03ebe3dd",
   "metadata": {},
   "outputs": [
    {
     "data": {
      "text/plain": [
       "array(['15210', '19070', '893', ..., '46879', '32394', '10204'],\n",
       "      dtype=object)"
      ]
     },
     "execution_count": 97,
     "metadata": {},
     "output_type": "execute_result"
    }
   ],
   "source": [
    "df['Revolving_CREDIT_Balance'].unique()"
   ]
  },
  {
   "cell_type": "code",
   "execution_count": 98,
   "id": "cda0955f",
   "metadata": {},
   "outputs": [],
   "source": [
    "df['Revolving_CREDIT_Balance'].replace('.',np.nan,inplace=True)"
   ]
  },
  {
   "cell_type": "code",
   "execution_count": 99,
   "id": "4024c21d",
   "metadata": {},
   "outputs": [],
   "source": [
    "df['Revolving_CREDIT_Balance']=df['Revolving_CREDIT_Balance'].astype('float')"
   ]
  },
  {
   "cell_type": "code",
   "execution_count": 100,
   "id": "aee067bb",
   "metadata": {},
   "outputs": [
    {
     "data": {
      "text/plain": [
       "<AxesSubplot:xlabel='Revolving_CREDIT_Balance'>"
      ]
     },
     "execution_count": 100,
     "metadata": {},
     "output_type": "execute_result"
    },
    {
     "data": {
      "image/png": "[encoded data removed]",
      "text/plain": [
       "<Figure size 432x288 with 1 Axes>"
      ]
     },
     "metadata": {
      "needs_background": "light"
     },
     "output_type": "display_data"
    }
   ],
   "source": [
    "# outliers\n",
    "sns.boxplot(df['Revolving_CREDIT_Balance'])"
   ]
  },
  {
   "cell_type": "code",
   "execution_count": 101,
   "id": "6da9edce",
   "metadata": {},
   "outputs": [],
   "source": [
    "df['Revolving_CREDIT_Balance'].fillna(df['Revolving_CREDIT_Balance'].median(),inplace=True)"
   ]
  },
  {
   "cell_type": "code",
   "execution_count": 102,
   "id": "a50281f8",
   "metadata": {},
   "outputs": [
    {
     "data": {
      "text/plain": [
       "0"
      ]
     },
     "execution_count": 102,
     "metadata": {},
     "output_type": "execute_result"
    }
   ],
   "source": [
    "df['Revolving_CREDIT_Balance'].isna().sum()"
   ]
  },
  {
   "cell_type": "code",
   "execution_count": 103,
   "id": "78b3a487",
   "metadata": {},
   "outputs": [
    {
     "data": {
      "text/plain": [
       "58465.25"
      ]
     },
     "execution_count": 103,
     "metadata": {},
     "output_type": "execute_result"
    }
   ],
   "source": [
    "# iqr\n",
    "q3=df['Revolving_CREDIT_Balance'].quantile(0.75)\n",
    "q1=df['Revolving_CREDIT_Balance'].quantile(0.25)\n",
    "\n",
    "iqr=q3-q1\n",
    "upper_tail=q3+(3*iqr)\n",
    "lower_tail=q1-(3*iqr)\n",
    "upper_tail"
   ]
  },
  {
   "cell_type": "code",
   "execution_count": 104,
   "id": "2caca64a",
   "metadata": {},
   "outputs": [
    {
     "data": {
      "text/plain": [
       "0     9.629708\n",
       "1     9.855872\n",
       "2     6.794587\n",
       "3    10.550434\n",
       "4    10.343708\n",
       "Name: Revolving_CREDIT_Balance, dtype: float64"
      ]
     },
     "execution_count": 104,
     "metadata": {},
     "output_type": "execute_result"
    }
   ],
   "source": [
    "df['Revolving_CREDIT_Balance']=np.log(df['Revolving_CREDIT_Balance'])\n",
    "df['Revolving_CREDIT_Balance'].head()"
   ]
  },
  {
   "cell_type": "code",
   "execution_count": 105,
   "id": "e4ea55c2",
   "metadata": {},
   "outputs": [
    {
     "data": {
      "text/plain": [
       "<AxesSubplot:xlabel='Revolving_CREDIT_Balance'>"
      ]
     },
     "execution_count": 105,
     "metadata": {},
     "output_type": "execute_result"
    },
    {
     "data": {
      "image/png": "[encoded data removed]",
      "text/plain": [
       "<Figure size 432x288 with 1 Axes>"
      ]
     },
     "metadata": {
      "needs_background": "light"
     },
     "output_type": "display_data"
    }
   ],
   "source": [
    "sns.boxplot(df['Revolving_CREDIT_Balance'])"
   ]
  },
  {
   "cell_type": "code",
   "execution_count": 106,
   "id": "05820679",
   "metadata": {},
   "outputs": [
    {
     "data": {
      "text/plain": [
       "6.817316022651861"
      ]
     },
     "execution_count": 106,
     "metadata": {},
     "output_type": "execute_result"
    }
   ],
   "source": [
    "# iqr\n",
    "q3=df['Revolving_CREDIT_Balance'].quantile(0.75)\n",
    "q1=df['Revolving_CREDIT_Balance'].quantile(0.25)\n",
    "\n",
    "iqr=q3-q1\n",
    "upper_tail=q3+(1.5*iqr)\n",
    "lower_tail=q1-(1.5*iqr)\n",
    "lower_tail"
   ]
  },
  {
   "cell_type": "code",
   "execution_count": 107,
   "id": "14d33056",
   "metadata": {},
   "outputs": [
    {
     "data": {
      "text/plain": [
       "(116, 77)"
      ]
     },
     "execution_count": 107,
     "metadata": {},
     "output_type": "execute_result"
    }
   ],
   "source": [
    "df.loc[(df['Revolving_CREDIT_Balance']>upper_tail)|(df['Revolving_CREDIT_Balance']<lower_tail)].shape"
   ]
  },
  {
   "cell_type": "code",
   "execution_count": 108,
   "id": "98a9d6ab",
   "metadata": {},
   "outputs": [],
   "source": [
    "df.loc[(df['Revolving_CREDIT_Balance']>upper_tail),'Revolving_CREDIT_Balance']=upper_tail\n",
    "df.loc[(df['Revolving_CREDIT_Balance']<lower_tail),'Revolving_CREDIT_Balance']=lower_tail"
   ]
  },
  {
   "cell_type": "code",
   "execution_count": 109,
   "id": "fc5315c4",
   "metadata": {},
   "outputs": [
    {
     "data": {
      "text/plain": [
       "<AxesSubplot:xlabel='Revolving_CREDIT_Balance'>"
      ]
     },
     "execution_count": 109,
     "metadata": {},
     "output_type": "execute_result"
    },
    {
     "data": {
      "image/png": "[encoded data removed]",
      "text/plain": [
       "<Figure size 432x288 with 1 Axes>"
      ]
     },
     "metadata": {
      "needs_background": "light"
     },
     "output_type": "display_data"
    }
   ],
   "source": [
    "# after removing outliers\n",
    "sns.boxplot(df['Revolving_CREDIT_Balance'])"
   ]
  },
  {
   "cell_type": "markdown",
   "id": "d0095347",
   "metadata": {},
   "source": [
    "# Inquiries.in.the.Last.6.Months"
   ]
  },
  {
   "cell_type": "code",
   "execution_count": 110,
   "id": "e5fa201a",
   "metadata": {},
   "outputs": [
    {
     "data": {
      "text/plain": [
       "0       3.0\n",
       "1       3.0\n",
       "2       1.0\n",
       "3       1.0\n",
       "4       2.0\n",
       "       ... \n",
       "2195    1.0\n",
       "2196    0.0\n",
       "2197    3.0\n",
       "2198    2.0\n",
       "2199    0.0\n",
       "Name: Inquiries_in_the_Last_6_Months, Length: 2200, dtype: float64"
      ]
     },
     "execution_count": 110,
     "metadata": {},
     "output_type": "execute_result"
    }
   ],
   "source": [
    "#column_name\n",
    "df.rename({'Inquiries.in.the.Last.6.Months':'Inquiries_in_the_Last_6_Months'},axis=1,inplace=True)\n",
    "df['Inquiries_in_the_Last_6_Months']"
   ]
  },
  {
   "cell_type": "code",
   "execution_count": 111,
   "id": "dae789ac",
   "metadata": {},
   "outputs": [
    {
     "data": {
      "text/plain": [
       "3"
      ]
     },
     "execution_count": 111,
     "metadata": {},
     "output_type": "execute_result"
    }
   ],
   "source": [
    "df['Inquiries_in_the_Last_6_Months'].isna().sum()"
   ]
  },
  {
   "cell_type": "code",
   "execution_count": 112,
   "id": "c5f2892b",
   "metadata": {},
   "outputs": [
    {
     "data": {
      "text/plain": [
       "10"
      ]
     },
     "execution_count": 112,
     "metadata": {},
     "output_type": "execute_result"
    }
   ],
   "source": [
    "df['Inquiries_in_the_Last_6_Months'].nunique()"
   ]
  },
  {
   "cell_type": "code",
   "execution_count": 113,
   "id": "0d524468",
   "metadata": {},
   "outputs": [],
   "source": [
    "df['Inquiries_in_the_Last_6_Months']=df['Inquiries_in_the_Last_6_Months'].astype('float')"
   ]
  },
  {
   "cell_type": "code",
   "execution_count": 114,
   "id": "b7766e0d",
   "metadata": {},
   "outputs": [
    {
     "data": {
      "text/plain": [
       "<AxesSubplot:xlabel='Inquiries_in_the_Last_6_Months'>"
      ]
     },
     "execution_count": 114,
     "metadata": {},
     "output_type": "execute_result"
    },
    {
     "data": {
      "image/png": "[encoded data removed]",
      "text/plain": [
       "<Figure size 432x288 with 1 Axes>"
      ]
     },
     "metadata": {
      "needs_background": "light"
     },
     "output_type": "display_data"
    }
   ],
   "source": [
    "# outliers\n",
    "sns.boxplot(df['Inquiries_in_the_Last_6_Months'])"
   ]
  },
  {
   "cell_type": "code",
   "execution_count": 115,
   "id": "298d9d2c",
   "metadata": {},
   "outputs": [],
   "source": [
    "df['Inquiries_in_the_Last_6_Months'].fillna(df['Inquiries_in_the_Last_6_Months'].median(),inplace=True)"
   ]
  },
  {
   "cell_type": "code",
   "execution_count": 116,
   "id": "5cbc920e",
   "metadata": {},
   "outputs": [
    {
     "data": {
      "text/plain": [
       "2.5"
      ]
     },
     "execution_count": 116,
     "metadata": {},
     "output_type": "execute_result"
    }
   ],
   "source": [
    "# iqr\n",
    "q3=df['Inquiries_in_the_Last_6_Months'].quantile(0.75)\n",
    "q1=df['Inquiries_in_the_Last_6_Months'].quantile(0.25)\n",
    "\n",
    "iqr=q3-q1\n",
    "upper_tail=q3+(1.5*iqr)\n",
    "lower_tail=q1-(1.5*iqr)\n",
    "upper_tail"
   ]
  },
  {
   "cell_type": "code",
   "execution_count": 117,
   "id": "7ece9e94",
   "metadata": {},
   "outputs": [
    {
     "data": {
      "text/plain": [
       "(222, 77)"
      ]
     },
     "execution_count": 117,
     "metadata": {},
     "output_type": "execute_result"
    }
   ],
   "source": [
    "df.loc[df['Inquiries_in_the_Last_6_Months']>upper_tail].shape"
   ]
  },
  {
   "cell_type": "code",
   "execution_count": 118,
   "id": "46740b84",
   "metadata": {},
   "outputs": [],
   "source": [
    "df.loc[(df['Inquiries_in_the_Last_6_Months']>upper_tail),'Inquiries_in_the_Last_6_Months']=upper_tail"
   ]
  },
  {
   "cell_type": "code",
   "execution_count": 119,
   "id": "88970977",
   "metadata": {},
   "outputs": [
    {
     "data": {
      "text/plain": [
       "<AxesSubplot:xlabel='Inquiries_in_the_Last_6_Months'>"
      ]
     },
     "execution_count": 119,
     "metadata": {},
     "output_type": "execute_result"
    },
    {
     "data": {
      "image/png": "[encoded data removed]",
      "text/plain": [
       "<Figure size 432x288 with 1 Axes>"
      ]
     },
     "metadata": {
      "needs_background": "light"
     },
     "output_type": "display_data"
    }
   ],
   "source": [
    "sns.boxplot(df['Inquiries_in_the_Last_6_Months'])"
   ]
  },
  {
   "cell_type": "markdown",
   "id": "6fa77a70",
   "metadata": {},
   "source": [
    "# Employment.Length"
   ]
  },
  {
   "cell_type": "code",
   "execution_count": 120,
   "id": "1bee4f30",
   "metadata": {},
   "outputs": [
    {
     "data": {
      "text/plain": [
       "0         5 years\n",
       "1         4 years\n",
       "2        < 1 year\n",
       "3       10+ years\n",
       "4       10+ years\n",
       "          ...    \n",
       "2195    10+ years\n",
       "2196      2 years\n",
       "2197      6 years\n",
       "2198      4 years\n",
       "2199      2 years\n",
       "Name: Employment_Length, Length: 2200, dtype: object"
      ]
     },
     "execution_count": 120,
     "metadata": {},
     "output_type": "execute_result"
    }
   ],
   "source": [
    "#column_name\n",
    "df.rename({'Employment.Length':'Employment_Length'},axis=1,inplace=True)\n",
    "df['Employment_Length']"
   ]
  },
  {
   "cell_type": "code",
   "execution_count": 121,
   "id": "0435b2ef",
   "metadata": {},
   "outputs": [
    {
     "data": {
      "text/plain": [
       "69"
      ]
     },
     "execution_count": 121,
     "metadata": {},
     "output_type": "execute_result"
    }
   ],
   "source": [
    "df['Employment_Length'].isna().sum()"
   ]
  },
  {
   "cell_type": "code",
   "execution_count": 122,
   "id": "7e3f8171",
   "metadata": {},
   "outputs": [
    {
     "data": {
      "text/plain": [
       "3.1363636363636362"
      ]
     },
     "execution_count": 122,
     "metadata": {},
     "output_type": "execute_result"
    }
   ],
   "source": [
    "df['Employment_Length'].isna().mean()*100"
   ]
  },
  {
   "cell_type": "code",
   "execution_count": 123,
   "id": "06e255e6",
   "metadata": {},
   "outputs": [
    {
     "data": {
      "text/plain": [
       "12"
      ]
     },
     "execution_count": 123,
     "metadata": {},
     "output_type": "execute_result"
    }
   ],
   "source": [
    "df['Employment_Length'].nunique()"
   ]
  },
  {
   "cell_type": "code",
   "execution_count": 124,
   "id": "9436d778",
   "metadata": {},
   "outputs": [
    {
     "data": {
      "text/plain": [
       "array(['5 years', '4 years', '< 1 year', '10+ years', nan, '2 years',\n",
       "       '8 years', '1 year', '6 years', '7 years', '3 years', '9 years',\n",
       "       '.'], dtype=object)"
      ]
     },
     "execution_count": 124,
     "metadata": {},
     "output_type": "execute_result"
    }
   ],
   "source": [
    "df['Employment_Length'].unique()"
   ]
  },
  {
   "cell_type": "code",
   "execution_count": 125,
   "id": "e5007a16",
   "metadata": {},
   "outputs": [
    {
     "data": {
      "text/plain": [
       "10+ years    575\n",
       "< 1 year     229\n",
       "2 years      217\n",
       "3 years      203\n",
       "5 years      181\n",
       "4 years      162\n",
       "1 year       159\n",
       "6 years      134\n",
       "7 years      109\n",
       "8 years       95\n",
       "9 years       66\n",
       ".              1\n",
       "Name: Employment_Length, dtype: int64"
      ]
     },
     "execution_count": 125,
     "metadata": {},
     "output_type": "execute_result"
    }
   ],
   "source": [
    "df['Employment_Length'].value_counts()"
   ]
  },
  {
   "cell_type": "code",
   "execution_count": 126,
   "id": "74029d5e",
   "metadata": {},
   "outputs": [],
   "source": [
    "df['Employment_Length'].fillna('10+ years',inplace=True)"
   ]
  },
  {
   "cell_type": "code",
   "execution_count": 127,
   "id": "f4de6d02",
   "metadata": {},
   "outputs": [
    {
     "data": {
      "text/plain": [
       "array(['5 years', '4 years', '< 1 year', '10+ years', '2 years',\n",
       "       '8 years', '1 year', '6 years', '7 years', '3 years', '9 years',\n",
       "       '.'], dtype=object)"
      ]
     },
     "execution_count": 127,
     "metadata": {},
     "output_type": "execute_result"
    }
   ],
   "source": [
    "df['Employment_Length'].unique()"
   ]
  },
  {
   "cell_type": "code",
   "execution_count": 128,
   "id": "14b06a8c",
   "metadata": {},
   "outputs": [],
   "source": [
    "df['Employment_Length'].replace({'5 years':5, '4 years':4, '< 1 year':0.5, '10+ years':10, '2 years':2,\n",
    "       '8 years':8, '1 year':1, '6 years':6, '7 years':7, '3 years':3, '9 years':9},inplace=True)"
   ]
  },
  {
   "cell_type": "code",
   "execution_count": 129,
   "id": "c85b1470",
   "metadata": {},
   "outputs": [
    {
     "data": {
      "text/plain": [
       "array([5, 4, 0.5, 10, 2, 8, 1, 6, 7, 3, 9, '.'], dtype=object)"
      ]
     },
     "execution_count": 129,
     "metadata": {},
     "output_type": "execute_result"
    }
   ],
   "source": [
    "df['Employment_Length'].unique()"
   ]
  },
  {
   "cell_type": "code",
   "execution_count": 130,
   "id": "7c9fa615",
   "metadata": {},
   "outputs": [
    {
     "data": {
      "text/plain": [
       "dtype('O')"
      ]
     },
     "execution_count": 130,
     "metadata": {},
     "output_type": "execute_result"
    }
   ],
   "source": [
    "df['Employment_Length'].dtype"
   ]
  },
  {
   "cell_type": "code",
   "execution_count": 131,
   "id": "dfeaa028",
   "metadata": {},
   "outputs": [],
   "source": [
    "df['Employment_Length'].replace('.',np.nan,inplace=True)"
   ]
  },
  {
   "cell_type": "code",
   "execution_count": 132,
   "id": "247c2036",
   "metadata": {},
   "outputs": [
    {
     "data": {
      "text/plain": [
       "<AxesSubplot:xlabel='Employment_Length'>"
      ]
     },
     "execution_count": 132,
     "metadata": {},
     "output_type": "execute_result"
    },
    {
     "data": {
      "image/png": "[encoded data removed]",
      "text/plain": [
       "<Figure size 432x288 with 1 Axes>"
      ]
     },
     "metadata": {
      "needs_background": "light"
     },
     "output_type": "display_data"
    }
   ],
   "source": [
    "sns.boxplot(df['Employment_Length'])"
   ]
  },
  {
   "cell_type": "code",
   "execution_count": 133,
   "id": "a1e93e40",
   "metadata": {},
   "outputs": [
    {
     "data": {
      "text/plain": [
       "<seaborn.axisgrid.PairGrid at 0x1dd4f64aa70>"
      ]
     },
     "execution_count": 133,
     "metadata": {},
     "output_type": "execute_result"
    },
    {
     "data": {
      "image/png": "[encoded data removed]",
      "text/plain": [
       "<Figure size 1058.4x504 with 3 Axes>"
      ]
     },
     "metadata": {
      "needs_background": "light"
     },
     "output_type": "display_data"
    }
   ],
   "source": [
    "# pairplot \n",
    "sns.pairplot(df,x_vars=['Revolving_CREDIT_Balance','Inquiries_in_the_Last_6_Months','Employment_Length'],y_vars='Interest_Rate',size=7,aspect=0.7)"
   ]
  },
  {
   "cell_type": "code",
   "execution_count": 134,
   "id": "a955eb34",
   "metadata": {},
   "outputs": [],
   "source": [
    "#df.info()"
   ]
  },
  {
   "cell_type": "code",
   "execution_count": 135,
   "id": "f6c358eb",
   "metadata": {},
   "outputs": [
    {
     "data": {
      "text/plain": [
       "Amount_Requested              0\n",
       "Amount_Funded_By_Investors    0\n",
       "Interest_Rate                 0\n",
       "Loan_Length                   0\n",
       "Debt_To_Income_Ratio          0\n",
       "                             ..\n",
       "VT                            0\n",
       "WA                            0\n",
       "WI                            0\n",
       "WV                            0\n",
       "WY                            0\n",
       "Length: 77, dtype: int64"
      ]
     },
     "execution_count": 135,
     "metadata": {},
     "output_type": "execute_result"
    }
   ],
   "source": [
    "df.isna().sum()"
   ]
  },
  {
   "cell_type": "code",
   "execution_count": 136,
   "id": "34debaac",
   "metadata": {},
   "outputs": [],
   "source": [
    "# plt.figure(figsize=(20,10))\n",
    "# sns.heatmap(df.isnull(),cbar=False)"
   ]
  },
  {
   "cell_type": "markdown",
   "id": "7022a9c2",
   "metadata": {},
   "source": [
    "# feature_selection"
   ]
  },
  {
   "cell_type": "code",
   "execution_count": 137,
   "id": "fc8cff76",
   "metadata": {},
   "outputs": [
    {
     "data": {
      "text/html": [
       "<div>\n",
       "<style scoped>\n",
       "    .dataframe tbody tr th:only-of-type {\n",
       "        vertical-align: middle;\n",
       "    }\n",
       "\n",
       "    .dataframe tbody tr th {\n",
       "        vertical-align: top;\n",
       "    }\n",
       "\n",
       "    .dataframe thead th {\n",
       "        text-align: right;\n",
       "    }\n",
       "</style>\n",
       "<table border=\"1\" class=\"dataframe\">\n",
       "  <thead>\n",
       "    <tr style=\"text-align: right;\">\n",
       "      <th></th>\n",
       "      <th>Amount_Requested</th>\n",
       "      <th>Amount_Funded_By_Investors</th>\n",
       "      <th>Interest_Rate</th>\n",
       "      <th>Loan_Length</th>\n",
       "      <th>Debt_To_Income_Ratio</th>\n",
       "      <th>State</th>\n",
       "      <th>Home_Ownership</th>\n",
       "      <th>Monthly_Income</th>\n",
       "      <th>FICO_Range</th>\n",
       "      <th>Open_CREDIT_Lines</th>\n",
       "      <th>...</th>\n",
       "      <th>SC</th>\n",
       "      <th>SD</th>\n",
       "      <th>TX</th>\n",
       "      <th>UT</th>\n",
       "      <th>VA</th>\n",
       "      <th>VT</th>\n",
       "      <th>WA</th>\n",
       "      <th>WI</th>\n",
       "      <th>WV</th>\n",
       "      <th>WY</th>\n",
       "    </tr>\n",
       "  </thead>\n",
       "  <tbody>\n",
       "    <tr>\n",
       "      <th>0</th>\n",
       "      <td>25000.0</td>\n",
       "      <td>25000.00</td>\n",
       "      <td>18.49</td>\n",
       "      <td>60.0</td>\n",
       "      <td>27.56</td>\n",
       "      <td>VA</td>\n",
       "      <td>MORTGAGE</td>\n",
       "      <td>8606.56</td>\n",
       "      <td>722</td>\n",
       "      <td>11</td>\n",
       "      <td>...</td>\n",
       "      <td>0</td>\n",
       "      <td>0</td>\n",
       "      <td>0</td>\n",
       "      <td>0</td>\n",
       "      <td>1</td>\n",
       "      <td>0</td>\n",
       "      <td>0</td>\n",
       "      <td>0</td>\n",
       "      <td>0</td>\n",
       "      <td>0</td>\n",
       "    </tr>\n",
       "    <tr>\n",
       "      <th>1</th>\n",
       "      <td>19750.0</td>\n",
       "      <td>19750.00</td>\n",
       "      <td>17.27</td>\n",
       "      <td>60.0</td>\n",
       "      <td>13.39</td>\n",
       "      <td>NY</td>\n",
       "      <td>MORTGAGE</td>\n",
       "      <td>6737.50</td>\n",
       "      <td>712</td>\n",
       "      <td>14</td>\n",
       "      <td>...</td>\n",
       "      <td>0</td>\n",
       "      <td>0</td>\n",
       "      <td>0</td>\n",
       "      <td>0</td>\n",
       "      <td>0</td>\n",
       "      <td>0</td>\n",
       "      <td>0</td>\n",
       "      <td>0</td>\n",
       "      <td>0</td>\n",
       "      <td>0</td>\n",
       "    </tr>\n",
       "    <tr>\n",
       "      <th>2</th>\n",
       "      <td>2100.0</td>\n",
       "      <td>2100.00</td>\n",
       "      <td>14.33</td>\n",
       "      <td>36.0</td>\n",
       "      <td>3.50</td>\n",
       "      <td>LA</td>\n",
       "      <td>OWN</td>\n",
       "      <td>1000.00</td>\n",
       "      <td>692</td>\n",
       "      <td>13</td>\n",
       "      <td>...</td>\n",
       "      <td>0</td>\n",
       "      <td>0</td>\n",
       "      <td>0</td>\n",
       "      <td>0</td>\n",
       "      <td>0</td>\n",
       "      <td>0</td>\n",
       "      <td>0</td>\n",
       "      <td>0</td>\n",
       "      <td>0</td>\n",
       "      <td>0</td>\n",
       "    </tr>\n",
       "    <tr>\n",
       "      <th>3</th>\n",
       "      <td>28000.0</td>\n",
       "      <td>28000.00</td>\n",
       "      <td>16.29</td>\n",
       "      <td>36.0</td>\n",
       "      <td>19.62</td>\n",
       "      <td>NV</td>\n",
       "      <td>MORTGAGE</td>\n",
       "      <td>7083.33</td>\n",
       "      <td>712</td>\n",
       "      <td>12</td>\n",
       "      <td>...</td>\n",
       "      <td>0</td>\n",
       "      <td>0</td>\n",
       "      <td>0</td>\n",
       "      <td>0</td>\n",
       "      <td>0</td>\n",
       "      <td>0</td>\n",
       "      <td>0</td>\n",
       "      <td>0</td>\n",
       "      <td>0</td>\n",
       "      <td>0</td>\n",
       "    </tr>\n",
       "    <tr>\n",
       "      <th>4</th>\n",
       "      <td>24250.0</td>\n",
       "      <td>17431.82</td>\n",
       "      <td>12.23</td>\n",
       "      <td>60.0</td>\n",
       "      <td>23.79</td>\n",
       "      <td>OH</td>\n",
       "      <td>MORTGAGE</td>\n",
       "      <td>5833.33</td>\n",
       "      <td>732</td>\n",
       "      <td>6</td>\n",
       "      <td>...</td>\n",
       "      <td>0</td>\n",
       "      <td>0</td>\n",
       "      <td>0</td>\n",
       "      <td>0</td>\n",
       "      <td>0</td>\n",
       "      <td>0</td>\n",
       "      <td>0</td>\n",
       "      <td>0</td>\n",
       "      <td>0</td>\n",
       "      <td>0</td>\n",
       "    </tr>\n",
       "  </tbody>\n",
       "</table>\n",
       "<p>5 rows × 77 columns</p>\n",
       "</div>"
      ],
      "text/plain": [
       "   Amount_Requested  Amount_Funded_By_Investors  Interest_Rate  Loan_Length  \\\n",
       "0           25000.0                    25000.00          18.49         60.0   \n",
       "1           19750.0                    19750.00          17.27         60.0   \n",
       "2            2100.0                     2100.00          14.33         36.0   \n",
       "3           28000.0                    28000.00          16.29         36.0   \n",
       "4           24250.0                    17431.82          12.23         60.0   \n",
       "\n",
       "   Debt_To_Income_Ratio State Home_Ownership  Monthly_Income  FICO_Range  \\\n",
       "0                 27.56    VA       MORTGAGE         8606.56         722   \n",
       "1                 13.39    NY       MORTGAGE         6737.50         712   \n",
       "2                  3.50    LA            OWN         1000.00         692   \n",
       "3                 19.62    NV       MORTGAGE         7083.33         712   \n",
       "4                 23.79    OH       MORTGAGE         5833.33         732   \n",
       "\n",
       "   Open_CREDIT_Lines  ...  SC  SD  TX  UT  VA  VT  WA  WI  WV  WY  \n",
       "0                 11  ...   0   0   0   0   1   0   0   0   0   0  \n",
       "1                 14  ...   0   0   0   0   0   0   0   0   0   0  \n",
       "2                 13  ...   0   0   0   0   0   0   0   0   0   0  \n",
       "3                 12  ...   0   0   0   0   0   0   0   0   0   0  \n",
       "4                  6  ...   0   0   0   0   0   0   0   0   0   0  \n",
       "\n",
       "[5 rows x 77 columns]"
      ]
     },
     "execution_count": 137,
     "metadata": {},
     "output_type": "execute_result"
    }
   ],
   "source": [
    "df.head()"
   ]
  },
  {
   "cell_type": "code",
   "execution_count": 138,
   "id": "58ee564b",
   "metadata": {},
   "outputs": [
    {
     "data": {
      "text/html": [
       "<div>\n",
       "<style scoped>\n",
       "    .dataframe tbody tr th:only-of-type {\n",
       "        vertical-align: middle;\n",
       "    }\n",
       "\n",
       "    .dataframe tbody tr th {\n",
       "        vertical-align: top;\n",
       "    }\n",
       "\n",
       "    .dataframe thead th {\n",
       "        text-align: right;\n",
       "    }\n",
       "</style>\n",
       "<table border=\"1\" class=\"dataframe\">\n",
       "  <thead>\n",
       "    <tr style=\"text-align: right;\">\n",
       "      <th></th>\n",
       "      <th>Amount_Requested</th>\n",
       "      <th>Amount_Funded_By_Investors</th>\n",
       "      <th>Interest_Rate</th>\n",
       "      <th>Loan_Length</th>\n",
       "      <th>Debt_To_Income_Ratio</th>\n",
       "      <th>Monthly_Income</th>\n",
       "      <th>FICO_Range</th>\n",
       "      <th>Open_CREDIT_Lines</th>\n",
       "      <th>Revolving_CREDIT_Balance</th>\n",
       "      <th>Inquiries_in_the_Last_6_Months</th>\n",
       "      <th>...</th>\n",
       "      <th>SC</th>\n",
       "      <th>SD</th>\n",
       "      <th>TX</th>\n",
       "      <th>UT</th>\n",
       "      <th>VA</th>\n",
       "      <th>VT</th>\n",
       "      <th>WA</th>\n",
       "      <th>WI</th>\n",
       "      <th>WV</th>\n",
       "      <th>WY</th>\n",
       "    </tr>\n",
       "  </thead>\n",
       "  <tbody>\n",
       "    <tr>\n",
       "      <th>0</th>\n",
       "      <td>25000.0</td>\n",
       "      <td>25000.00</td>\n",
       "      <td>18.49</td>\n",
       "      <td>60.0</td>\n",
       "      <td>27.56</td>\n",
       "      <td>8606.56</td>\n",
       "      <td>722</td>\n",
       "      <td>11</td>\n",
       "      <td>9.629708</td>\n",
       "      <td>2.5</td>\n",
       "      <td>...</td>\n",
       "      <td>0</td>\n",
       "      <td>0</td>\n",
       "      <td>0</td>\n",
       "      <td>0</td>\n",
       "      <td>1</td>\n",
       "      <td>0</td>\n",
       "      <td>0</td>\n",
       "      <td>0</td>\n",
       "      <td>0</td>\n",
       "      <td>0</td>\n",
       "    </tr>\n",
       "    <tr>\n",
       "      <th>1</th>\n",
       "      <td>19750.0</td>\n",
       "      <td>19750.00</td>\n",
       "      <td>17.27</td>\n",
       "      <td>60.0</td>\n",
       "      <td>13.39</td>\n",
       "      <td>6737.50</td>\n",
       "      <td>712</td>\n",
       "      <td>14</td>\n",
       "      <td>9.855872</td>\n",
       "      <td>2.5</td>\n",
       "      <td>...</td>\n",
       "      <td>0</td>\n",
       "      <td>0</td>\n",
       "      <td>0</td>\n",
       "      <td>0</td>\n",
       "      <td>0</td>\n",
       "      <td>0</td>\n",
       "      <td>0</td>\n",
       "      <td>0</td>\n",
       "      <td>0</td>\n",
       "      <td>0</td>\n",
       "    </tr>\n",
       "    <tr>\n",
       "      <th>2</th>\n",
       "      <td>2100.0</td>\n",
       "      <td>2100.00</td>\n",
       "      <td>14.33</td>\n",
       "      <td>36.0</td>\n",
       "      <td>3.50</td>\n",
       "      <td>1000.00</td>\n",
       "      <td>692</td>\n",
       "      <td>13</td>\n",
       "      <td>6.817316</td>\n",
       "      <td>1.0</td>\n",
       "      <td>...</td>\n",
       "      <td>0</td>\n",
       "      <td>0</td>\n",
       "      <td>0</td>\n",
       "      <td>0</td>\n",
       "      <td>0</td>\n",
       "      <td>0</td>\n",
       "      <td>0</td>\n",
       "      <td>0</td>\n",
       "      <td>0</td>\n",
       "      <td>0</td>\n",
       "    </tr>\n",
       "    <tr>\n",
       "      <th>3</th>\n",
       "      <td>28000.0</td>\n",
       "      <td>28000.00</td>\n",
       "      <td>16.29</td>\n",
       "      <td>36.0</td>\n",
       "      <td>19.62</td>\n",
       "      <td>7083.33</td>\n",
       "      <td>712</td>\n",
       "      <td>12</td>\n",
       "      <td>10.550434</td>\n",
       "      <td>1.0</td>\n",
       "      <td>...</td>\n",
       "      <td>0</td>\n",
       "      <td>0</td>\n",
       "      <td>0</td>\n",
       "      <td>0</td>\n",
       "      <td>0</td>\n",
       "      <td>0</td>\n",
       "      <td>0</td>\n",
       "      <td>0</td>\n",
       "      <td>0</td>\n",
       "      <td>0</td>\n",
       "    </tr>\n",
       "    <tr>\n",
       "      <th>4</th>\n",
       "      <td>24250.0</td>\n",
       "      <td>17431.82</td>\n",
       "      <td>12.23</td>\n",
       "      <td>60.0</td>\n",
       "      <td>23.79</td>\n",
       "      <td>5833.33</td>\n",
       "      <td>732</td>\n",
       "      <td>6</td>\n",
       "      <td>10.343708</td>\n",
       "      <td>2.0</td>\n",
       "      <td>...</td>\n",
       "      <td>0</td>\n",
       "      <td>0</td>\n",
       "      <td>0</td>\n",
       "      <td>0</td>\n",
       "      <td>0</td>\n",
       "      <td>0</td>\n",
       "      <td>0</td>\n",
       "      <td>0</td>\n",
       "      <td>0</td>\n",
       "      <td>0</td>\n",
       "    </tr>\n",
       "  </tbody>\n",
       "</table>\n",
       "<p>5 rows × 75 columns</p>\n",
       "</div>"
      ],
      "text/plain": [
       "   Amount_Requested  Amount_Funded_By_Investors  Interest_Rate  Loan_Length  \\\n",
       "0           25000.0                    25000.00          18.49         60.0   \n",
       "1           19750.0                    19750.00          17.27         60.0   \n",
       "2            2100.0                     2100.00          14.33         36.0   \n",
       "3           28000.0                    28000.00          16.29         36.0   \n",
       "4           24250.0                    17431.82          12.23         60.0   \n",
       "\n",
       "   Debt_To_Income_Ratio  Monthly_Income  FICO_Range  Open_CREDIT_Lines  \\\n",
       "0                 27.56         8606.56         722                 11   \n",
       "1                 13.39         6737.50         712                 14   \n",
       "2                  3.50         1000.00         692                 13   \n",
       "3                 19.62         7083.33         712                 12   \n",
       "4                 23.79         5833.33         732                  6   \n",
       "\n",
       "   Revolving_CREDIT_Balance  Inquiries_in_the_Last_6_Months  ...  SC  SD  TX  \\\n",
       "0                  9.629708                             2.5  ...   0   0   0   \n",
       "1                  9.855872                             2.5  ...   0   0   0   \n",
       "2                  6.817316                             1.0  ...   0   0   0   \n",
       "3                 10.550434                             1.0  ...   0   0   0   \n",
       "4                 10.343708                             2.0  ...   0   0   0   \n",
       "\n",
       "   UT  VA  VT  WA  WI  WV  WY  \n",
       "0   0   1   0   0   0   0   0  \n",
       "1   0   0   0   0   0   0   0  \n",
       "2   0   0   0   0   0   0   0  \n",
       "3   0   0   0   0   0   0   0  \n",
       "4   0   0   0   0   0   0   0  \n",
       "\n",
       "[5 rows x 75 columns]"
      ]
     },
     "execution_count": 138,
     "metadata": {},
     "output_type": "execute_result"
    }
   ],
   "source": [
    "df=df.drop(['State','Home_Ownership'],axis=1)\n",
    "df.head()"
   ]
  },
  {
   "cell_type": "code",
   "execution_count": 139,
   "id": "4be53ee6",
   "metadata": {},
   "outputs": [],
   "source": [
    "df=df.dropna()"
   ]
  },
  {
   "cell_type": "code",
   "execution_count": 140,
   "id": "b952a763",
   "metadata": {},
   "outputs": [
    {
     "data": {
      "text/plain": [
       "(2199, 75)"
      ]
     },
     "execution_count": 140,
     "metadata": {},
     "output_type": "execute_result"
    }
   ],
   "source": [
    "df.shape"
   ]
  },
  {
   "cell_type": "code",
   "execution_count": 141,
   "id": "f3c1bb69",
   "metadata": {},
   "outputs": [
    {
     "data": {
      "text/plain": [
       "Index(['Amount_Requested', 'Amount_Funded_By_Investors', 'Interest_Rate',\n",
       "       'Loan_Length', 'Debt_To_Income_Ratio', 'Monthly_Income', 'FICO_Range',\n",
       "       'Open_CREDIT_Lines', 'Revolving_CREDIT_Balance',\n",
       "       'Inquiries_in_the_Last_6_Months', 'Employment_Length', 'car',\n",
       "       'credit_card', 'debt_consolidation', 'educational', 'home_improvement',\n",
       "       'house', 'major_purchase', 'medical', 'moving', 'other',\n",
       "       'renewable_energy', 'small_business', 'vacation', 'wedding', 'NONE',\n",
       "       'OTHER', 'OWN', 'RENT', '.', 'AK', 'AL', 'AR', 'AZ', 'CA', 'CO', 'CT',\n",
       "       'DC', 'DE', 'FL', 'GA', 'HI', 'IL', 'IN', 'KS', 'KY', 'LA', 'MA', 'MD',\n",
       "       'MI', 'MN', 'MO', 'MS', 'MT', 'NC', 'NH', 'NJ', 'NM', 'NV', 'NY', 'OH',\n",
       "       'OK', 'OR', 'PA', 'RI', 'SC', 'SD', 'TX', 'UT', 'VA', 'VT', 'WA', 'WI',\n",
       "       'WV', 'WY'],\n",
       "      dtype='object')"
      ]
     },
     "execution_count": 141,
     "metadata": {},
     "output_type": "execute_result"
    }
   ],
   "source": [
    "df.columns"
   ]
  },
  {
   "cell_type": "code",
   "execution_count": 142,
   "id": "72347d0f",
   "metadata": {},
   "outputs": [
    {
     "data": {
      "text/plain": [
       "Index(['Amount_Requested', 'Amount_Funded_By_Investors', 'Interest_Rate',\n",
       "       'Loan_Length', 'Debt_To_Income_Ratio', 'Monthly_Income', 'FICO_Range',\n",
       "       'Open_CREDIT_Lines', 'Revolving_CREDIT_Balance',\n",
       "       'Inquiries_in_the_Last_6_Months', 'Employment_Length', 'car',\n",
       "       'credit_card', 'debt_consolidation', 'educational', 'home_improvement',\n",
       "       'house', 'major_purchase', 'medical', 'moving', 'other',\n",
       "       'renewable_energy', 'small_business', 'vacation', 'wedding', 'OTHER',\n",
       "       'OWN', 'RENT', 'AK', 'AL', 'AR', 'AZ', 'CA', 'CO', 'CT', 'DC', 'DE',\n",
       "       'FL', 'GA', 'HI', 'IL', 'IN', 'KS', 'KY', 'LA', 'MA', 'MD', 'MI', 'MN',\n",
       "       'MO', 'MS', 'MT', 'NC', 'NH', 'NJ', 'NM', 'NV', 'NY', 'OH', 'OK', 'OR',\n",
       "       'PA', 'RI', 'SC', 'SD', 'TX', 'UT', 'VA', 'VT', 'WA', 'WI', 'WV', 'WY'],\n",
       "      dtype='object')"
      ]
     },
     "execution_count": 142,
     "metadata": {},
     "output_type": "execute_result"
    }
   ],
   "source": [
    "# dropping NONE and '.' columns\n",
    "df=df.drop(['NONE','.'],axis=1)\n",
    "df.columns"
   ]
  },
  {
   "cell_type": "markdown",
   "id": "85f2593f",
   "metadata": {},
   "source": [
    "# Without Feature Selection "
   ]
  },
  {
   "cell_type": "markdown",
   "id": "136c89de",
   "metadata": {},
   "source": [
    "## Linear Regression"
   ]
  },
  {
   "cell_type": "code",
   "execution_count": 143,
   "id": "ff22117c",
   "metadata": {},
   "outputs": [],
   "source": [
    "df1 = df.copy()"
   ]
  },
  {
   "cell_type": "code",
   "execution_count": 144,
   "id": "01e7acc6",
   "metadata": {},
   "outputs": [
    {
     "data": {
      "text/html": [
       "<div>\n",
       "<style scoped>\n",
       "    .dataframe tbody tr th:only-of-type {\n",
       "        vertical-align: middle;\n",
       "    }\n",
       "\n",
       "    .dataframe tbody tr th {\n",
       "        vertical-align: top;\n",
       "    }\n",
       "\n",
       "    .dataframe thead th {\n",
       "        text-align: right;\n",
       "    }\n",
       "</style>\n",
       "<table border=\"1\" class=\"dataframe\">\n",
       "  <thead>\n",
       "    <tr style=\"text-align: right;\">\n",
       "      <th></th>\n",
       "      <th>Amount_Requested</th>\n",
       "      <th>Amount_Funded_By_Investors</th>\n",
       "      <th>Interest_Rate</th>\n",
       "      <th>Loan_Length</th>\n",
       "      <th>Debt_To_Income_Ratio</th>\n",
       "      <th>Monthly_Income</th>\n",
       "      <th>FICO_Range</th>\n",
       "      <th>Open_CREDIT_Lines</th>\n",
       "      <th>Revolving_CREDIT_Balance</th>\n",
       "      <th>Inquiries_in_the_Last_6_Months</th>\n",
       "      <th>...</th>\n",
       "      <th>SC</th>\n",
       "      <th>SD</th>\n",
       "      <th>TX</th>\n",
       "      <th>UT</th>\n",
       "      <th>VA</th>\n",
       "      <th>VT</th>\n",
       "      <th>WA</th>\n",
       "      <th>WI</th>\n",
       "      <th>WV</th>\n",
       "      <th>WY</th>\n",
       "    </tr>\n",
       "  </thead>\n",
       "  <tbody>\n",
       "    <tr>\n",
       "      <th>2195</th>\n",
       "      <td>30000.0</td>\n",
       "      <td>30000.0</td>\n",
       "      <td>23.28</td>\n",
       "      <td>60.0</td>\n",
       "      <td>12.10</td>\n",
       "      <td>7083.33</td>\n",
       "      <td>677</td>\n",
       "      <td>16</td>\n",
       "      <td>9.796403</td>\n",
       "      <td>1.0</td>\n",
       "      <td>...</td>\n",
       "      <td>0</td>\n",
       "      <td>0</td>\n",
       "      <td>0</td>\n",
       "      <td>0</td>\n",
       "      <td>0</td>\n",
       "      <td>0</td>\n",
       "      <td>0</td>\n",
       "      <td>0</td>\n",
       "      <td>0</td>\n",
       "      <td>0</td>\n",
       "    </tr>\n",
       "    <tr>\n",
       "      <th>2196</th>\n",
       "      <td>4200.0</td>\n",
       "      <td>4200.0</td>\n",
       "      <td>14.33</td>\n",
       "      <td>60.0</td>\n",
       "      <td>14.16</td>\n",
       "      <td>3850.00</td>\n",
       "      <td>702</td>\n",
       "      <td>4</td>\n",
       "      <td>8.651374</td>\n",
       "      <td>0.0</td>\n",
       "      <td>...</td>\n",
       "      <td>0</td>\n",
       "      <td>0</td>\n",
       "      <td>0</td>\n",
       "      <td>0</td>\n",
       "      <td>0</td>\n",
       "      <td>0</td>\n",
       "      <td>0</td>\n",
       "      <td>0</td>\n",
       "      <td>0</td>\n",
       "      <td>0</td>\n",
       "    </tr>\n",
       "    <tr>\n",
       "      <th>2197</th>\n",
       "      <td>19800.0</td>\n",
       "      <td>19775.0</td>\n",
       "      <td>15.31</td>\n",
       "      <td>60.0</td>\n",
       "      <td>15.03</td>\n",
       "      <td>6666.67</td>\n",
       "      <td>677</td>\n",
       "      <td>10</td>\n",
       "      <td>10.755325</td>\n",
       "      <td>2.5</td>\n",
       "      <td>...</td>\n",
       "      <td>0</td>\n",
       "      <td>0</td>\n",
       "      <td>0</td>\n",
       "      <td>0</td>\n",
       "      <td>0</td>\n",
       "      <td>0</td>\n",
       "      <td>0</td>\n",
       "      <td>0</td>\n",
       "      <td>0</td>\n",
       "      <td>0</td>\n",
       "    </tr>\n",
       "    <tr>\n",
       "      <th>2198</th>\n",
       "      <td>18000.0</td>\n",
       "      <td>18000.0</td>\n",
       "      <td>20.99</td>\n",
       "      <td>60.0</td>\n",
       "      <td>11.63</td>\n",
       "      <td>9051.83</td>\n",
       "      <td>672</td>\n",
       "      <td>5</td>\n",
       "      <td>10.385728</td>\n",
       "      <td>2.0</td>\n",
       "      <td>...</td>\n",
       "      <td>0</td>\n",
       "      <td>0</td>\n",
       "      <td>0</td>\n",
       "      <td>0</td>\n",
       "      <td>0</td>\n",
       "      <td>0</td>\n",
       "      <td>0</td>\n",
       "      <td>0</td>\n",
       "      <td>0</td>\n",
       "      <td>0</td>\n",
       "    </tr>\n",
       "    <tr>\n",
       "      <th>2199</th>\n",
       "      <td>7550.0</td>\n",
       "      <td>7550.0</td>\n",
       "      <td>10.16</td>\n",
       "      <td>36.0</td>\n",
       "      <td>3.83</td>\n",
       "      <td>8333.33</td>\n",
       "      <td>712</td>\n",
       "      <td>10</td>\n",
       "      <td>9.230535</td>\n",
       "      <td>0.0</td>\n",
       "      <td>...</td>\n",
       "      <td>0</td>\n",
       "      <td>0</td>\n",
       "      <td>0</td>\n",
       "      <td>0</td>\n",
       "      <td>0</td>\n",
       "      <td>0</td>\n",
       "      <td>0</td>\n",
       "      <td>0</td>\n",
       "      <td>0</td>\n",
       "      <td>0</td>\n",
       "    </tr>\n",
       "  </tbody>\n",
       "</table>\n",
       "<p>5 rows × 73 columns</p>\n",
       "</div>"
      ],
      "text/plain": [
       "      Amount_Requested  Amount_Funded_By_Investors  Interest_Rate  \\\n",
       "2195           30000.0                     30000.0          23.28   \n",
       "2196            4200.0                      4200.0          14.33   \n",
       "2197           19800.0                     19775.0          15.31   \n",
       "2198           18000.0                     18000.0          20.99   \n",
       "2199            7550.0                      7550.0          10.16   \n",
       "\n",
       "      Loan_Length  Debt_To_Income_Ratio  Monthly_Income  FICO_Range  \\\n",
       "2195         60.0                 12.10         7083.33         677   \n",
       "2196         60.0                 14.16         3850.00         702   \n",
       "2197         60.0                 15.03         6666.67         677   \n",
       "2198         60.0                 11.63         9051.83         672   \n",
       "2199         36.0                  3.83         8333.33         712   \n",
       "\n",
       "      Open_CREDIT_Lines  Revolving_CREDIT_Balance  \\\n",
       "2195                 16                  9.796403   \n",
       "2196                  4                  8.651374   \n",
       "2197                 10                 10.755325   \n",
       "2198                  5                 10.385728   \n",
       "2199                 10                  9.230535   \n",
       "\n",
       "      Inquiries_in_the_Last_6_Months  ...  SC  SD  TX  UT  VA  VT  WA  WI  WV  \\\n",
       "2195                             1.0  ...   0   0   0   0   0   0   0   0   0   \n",
       "2196                             0.0  ...   0   0   0   0   0   0   0   0   0   \n",
       "2197                             2.5  ...   0   0   0   0   0   0   0   0   0   \n",
       "2198                             2.0  ...   0   0   0   0   0   0   0   0   0   \n",
       "2199                             0.0  ...   0   0   0   0   0   0   0   0   0   \n",
       "\n",
       "      WY  \n",
       "2195   0  \n",
       "2196   0  \n",
       "2197   0  \n",
       "2198   0  \n",
       "2199   0  \n",
       "\n",
       "[5 rows x 73 columns]"
      ]
     },
     "execution_count": 144,
     "metadata": {},
     "output_type": "execute_result"
    }
   ],
   "source": [
    "df1.tail()"
   ]
  },
  {
   "cell_type": "code",
   "execution_count": 145,
   "id": "5232ac1c",
   "metadata": {},
   "outputs": [
    {
     "data": {
      "text/plain": [
       "(2199, 73)"
      ]
     },
     "execution_count": 145,
     "metadata": {},
     "output_type": "execute_result"
    }
   ],
   "source": [
    "df1.shape\n"
   ]
  },
  {
   "cell_type": "code",
   "execution_count": 146,
   "id": "9edeebed",
   "metadata": {},
   "outputs": [
    {
     "data": {
      "text/plain": [
       "Amount_Requested              0\n",
       "Amount_Funded_By_Investors    0\n",
       "Interest_Rate                 0\n",
       "Loan_Length                   0\n",
       "Debt_To_Income_Ratio          0\n",
       "                             ..\n",
       "VT                            0\n",
       "WA                            0\n",
       "WI                            0\n",
       "WV                            0\n",
       "WY                            0\n",
       "Length: 73, dtype: int64"
      ]
     },
     "execution_count": 146,
     "metadata": {},
     "output_type": "execute_result"
    }
   ],
   "source": [
    "\n",
    "df1.isna().sum()\n"
   ]
  },
  {
   "cell_type": "code",
   "execution_count": 147,
   "id": "22ba0d87",
   "metadata": {},
   "outputs": [],
   "source": [
    "\n",
    "x = df1.drop(['Interest_Rate'],axis=1)\n",
    "y = df1['Interest_Rate']"
   ]
  },
  {
   "cell_type": "code",
   "execution_count": 148,
   "id": "efa21087",
   "metadata": {},
   "outputs": [],
   "source": [
    "from sklearn.linear_model import LinearRegression,Ridge,Lasso\n",
    "from sklearn.model_selection import train_test_split,GridSearchCV,RandomizedSearchCV\n",
    "from sklearn.metrics import mean_absolute_error,mean_squared_error,r2_score"
   ]
  },
  {
   "cell_type": "code",
   "execution_count": 149,
   "id": "c2f31ccd",
   "metadata": {},
   "outputs": [],
   "source": [
    "x_train,x_test,y_train,y_test = train_test_split(x,y,test_size=0.3,random_state=5)"
   ]
  },
  {
   "cell_type": "code",
   "execution_count": 150,
   "id": "c4cc9b94",
   "metadata": {},
   "outputs": [
    {
     "data": {
      "text/plain": [
       "LinearRegression()"
      ]
     },
     "execution_count": 150,
     "metadata": {},
     "output_type": "execute_result"
    }
   ],
   "source": [
    "linear = LinearRegression()\n",
    "linear.fit(x_train,y_train)"
   ]
  },
  {
   "cell_type": "code",
   "execution_count": 151,
   "id": "2c46fbd3",
   "metadata": {},
   "outputs": [
    {
     "name": "stdout",
     "output_type": "stream",
     "text": [
      "mean_absolute_error >>   1.618066610383886\n",
      "mean_squared_error >>   4.335561168205726\n",
      "root_mean_squared_error >>   2.082201039334513\n",
      "r2_scores >>   0.7490175269311521\n"
     ]
    }
   ],
   "source": [
    "# Testing data\n",
    "\n",
    "y_pred_test_linear = linear.predict(x_test)\n",
    "\n",
    "mae = mean_absolute_error(y_test,y_pred_test_linear)\n",
    "print('mean_absolute_error >>  ', mae)\n",
    "\n",
    "mse = mean_squared_error(y_test,y_pred_test_linear)\n",
    "print('mean_squared_error >>  ', mse)\n",
    "\n",
    "rmae = np.sqrt(mse)\n",
    "print('root_mean_squared_error >>  ', rmae)\n",
    "\n",
    "r2_scores = r2_score(y_test,y_pred_test_linear)\n",
    "print('r2_scores >>  ', r2_scores)"
   ]
  },
  {
   "cell_type": "code",
   "execution_count": 152,
   "id": "496e97fe",
   "metadata": {},
   "outputs": [
    {
     "name": "stdout",
     "output_type": "stream",
     "text": [
      "mean_absolute_error >>   1.507322491863948\n",
      "mean_squared_error >>   3.77471406651892\n",
      "root_mean_squared_error >>   1.942862338540464\n",
      "r2_scores >>   0.7837046384883604\n"
     ]
    }
   ],
   "source": [
    "# Training data\n",
    "\n",
    "y_pred_train_linear = linear.predict(x_train)\n",
    "\n",
    "mae = mean_absolute_error(y_train,y_pred_train_linear)\n",
    "print('mean_absolute_error >>  ', mae)\n",
    "\n",
    "mse = mean_squared_error(y_train,y_pred_train_linear)\n",
    "print('mean_squared_error >>  ', mse)\n",
    "\n",
    "rmae = np.sqrt(mse)\n",
    "print('root_mean_squared_error >>  ', rmae)\n",
    "\n",
    "r2_scores = r2_score(y_train,y_pred_train_linear)\n",
    "print('r2_scores >>  ', r2_scores)\n"
   ]
  },
  {
   "cell_type": "markdown",
   "id": "dcf40676",
   "metadata": {},
   "source": [
    "# Ridge "
   ]
  },
  {
   "cell_type": "code",
   "execution_count": 153,
   "id": "4f9728a4",
   "metadata": {},
   "outputs": [
    {
     "data": {
      "text/plain": [
       "RandomizedSearchCV(cv=10, estimator=Ridge(),\n",
       "                   param_distributions={'alpha': array([0.1, 0.2, 0.3, 0.4, 0.5, 0.6, 0.7, 0.8, 0.9, 1. ])})"
      ]
     },
     "execution_count": 153,
     "metadata": {},
     "output_type": "execute_result"
    }
   ],
   "source": [
    "ridge = Ridge()\n",
    "\n",
    "hyp={'alpha':np.arange(0.1,1.1,0.1)}\n",
    "\n",
    "ridge_rscv = RandomizedSearchCV(ridge,hyp,cv=10)\n",
    "ridge_rscv.fit(x_train,y_train)"
   ]
  },
  {
   "cell_type": "code",
   "execution_count": 154,
   "id": "85cd146f",
   "metadata": {},
   "outputs": [
    {
     "data": {
      "text/plain": [
       "{'alpha': 1.0}"
      ]
     },
     "execution_count": 154,
     "metadata": {},
     "output_type": "execute_result"
    }
   ],
   "source": [
    "ridge_rscv.best_params_"
   ]
  },
  {
   "cell_type": "code",
   "execution_count": 155,
   "id": "b42ffe48",
   "metadata": {},
   "outputs": [
    {
     "name": "stdout",
     "output_type": "stream",
     "text": [
      "mean_absolute_error >>   1.614499520178782\n",
      "mean_squared_error >>   4.326999014626896\n",
      "root_mean_squared_error >>   2.080143988916848\n",
      "r2_scores >>   0.7495131837554103\n"
     ]
    }
   ],
   "source": [
    "# Testing data\n",
    "\n",
    "y_pred_test = ridge_rscv.predict(x_test)\n",
    "\n",
    "mae = mean_absolute_error(y_test,y_pred_test)\n",
    "print('mean_absolute_error >>  ', mae)\n",
    "\n",
    "mse = mean_squared_error(y_test,y_pred_test)\n",
    "print('mean_squared_error >>  ', mse)\n",
    "\n",
    "rmae = np.sqrt(mse)\n",
    "print('root_mean_squared_error >>  ', rmae)\n",
    "\n",
    "r2_scores = r2_score(y_test,y_pred_test)\n",
    "print('r2_scores >>  ', r2_scores)\n"
   ]
  },
  {
   "cell_type": "code",
   "execution_count": 156,
   "id": "e0e334ad",
   "metadata": {},
   "outputs": [
    {
     "name": "stdout",
     "output_type": "stream",
     "text": [
      "mean_absolute_error >>   1.5095834489200126\n",
      "mean_squared_error >>   3.7826816212091394\n",
      "root_mean_squared_error >>   1.9449117258140893\n",
      "r2_scores >>   0.7832480886433348\n"
     ]
    }
   ],
   "source": [
    "# Training data\n",
    "\n",
    "y_pred_train = ridge_rscv.predict(x_train)\n",
    "\n",
    "mae = mean_absolute_error(y_train,y_pred_train)\n",
    "print('mean_absolute_error >>  ', mae)\n",
    "\n",
    "mse = mean_squared_error(y_train,y_pred_train)\n",
    "print('mean_squared_error >>  ', mse)\n",
    "\n",
    "rmae = np.sqrt(mse)\n",
    "print('root_mean_squared_error >>  ', rmae)\n",
    "\n",
    "r2_scores = r2_score(y_train,y_pred_train)\n",
    "print('r2_scores >>  ', r2_scores)\n"
   ]
  },
  {
   "cell_type": "markdown",
   "id": "a5c7435b",
   "metadata": {},
   "source": [
    "# Lasso"
   ]
  },
  {
   "cell_type": "code",
   "execution_count": 157,
   "id": "b3566fa9",
   "metadata": {},
   "outputs": [
    {
     "data": {
      "text/plain": [
       "RandomizedSearchCV(cv=10, estimator=Ridge(),\n",
       "                   param_distributions={'alpha': array([0.1, 0.2, 0.3, 0.4, 0.5, 0.6, 0.7, 0.8, 0.9, 1. ])})"
      ]
     },
     "execution_count": 157,
     "metadata": {},
     "output_type": "execute_result"
    }
   ],
   "source": [
    "lasso = Lasso()\n",
    "\n",
    "hyp={'alpha':np.arange(0.1,1.1,0.1)}\n",
    "\n",
    "lasso_rscv = RandomizedSearchCV(ridge,hyp,cv=10)\n",
    "lasso_rscv.fit(x_train,y_train)"
   ]
  },
  {
   "cell_type": "code",
   "execution_count": 158,
   "id": "4603a189",
   "metadata": {},
   "outputs": [
    {
     "data": {
      "text/plain": [
       "{'alpha': 1.0}"
      ]
     },
     "execution_count": 158,
     "metadata": {},
     "output_type": "execute_result"
    }
   ],
   "source": [
    "lasso_rscv.best_params_"
   ]
  },
  {
   "cell_type": "code",
   "execution_count": 159,
   "id": "c291f034",
   "metadata": {},
   "outputs": [
    {
     "name": "stdout",
     "output_type": "stream",
     "text": [
      "mean_absolute_error >>   1.614499520178782\n",
      "mean_squared_error >>   4.326999014626896\n",
      "root_mean_squared_error >>   2.080143988916848\n",
      "r2_scores >>   0.7495131837554103\n"
     ]
    }
   ],
   "source": [
    "# Testing data\n",
    "\n",
    "y_pred_test = lasso_rscv.predict(x_test)\n",
    "\n",
    "mae = mean_absolute_error(y_test,y_pred_test)\n",
    "print('mean_absolute_error >>  ', mae)\n",
    "\n",
    "mse = mean_squared_error(y_test,y_pred_test)\n",
    "print('mean_squared_error >>  ', mse)\n",
    "\n",
    "rmae = np.sqrt(mse)\n",
    "print('root_mean_squared_error >>  ', rmae)\n",
    "\n",
    "r2_scores = r2_score(y_test,y_pred_test)\n",
    "print('r2_scores >>  ', r2_scores)\n"
   ]
  },
  {
   "cell_type": "code",
   "execution_count": 160,
   "id": "a0df79a3",
   "metadata": {},
   "outputs": [
    {
     "name": "stdout",
     "output_type": "stream",
     "text": [
      "mean_absolute_error >>   1.5095834489200126\n",
      "mean_squared_error >>   3.7826816212091394\n",
      "root_mean_squared_error >>   1.9449117258140893\n",
      "r2_scores >>   0.7832480886433348\n"
     ]
    }
   ],
   "source": [
    "# Training data\n",
    "\n",
    "y_pred_train = lasso_rscv.predict(x_train)\n",
    "\n",
    "mae = mean_absolute_error(y_train,y_pred_train)\n",
    "print('mean_absolute_error >>  ', mae)\n",
    "\n",
    "mse = mean_squared_error(y_train,y_pred_train)\n",
    "print('mean_squared_error >>  ', mse)\n",
    "\n",
    "rmae = np.sqrt(mse)\n",
    "print('root_mean_squared_error >>  ', rmae)\n",
    "\n",
    "r2_scores = r2_score(y_train,y_pred_train)\n",
    "print('r2_scores >>  ', r2_scores)\n"
   ]
  },
  {
   "cell_type": "markdown",
   "id": "619123bf",
   "metadata": {},
   "source": [
    "# Feature Selection"
   ]
  },
  {
   "cell_type": "markdown",
   "id": "ce6fb572",
   "metadata": {},
   "source": [
    "## Fisher Score"
   ]
  },
  {
   "cell_type": "code",
   "execution_count": 161,
   "id": "89dd3471",
   "metadata": {},
   "outputs": [
    {
     "name": "stdout",
     "output_type": "stream",
     "text": [
      "Requirement already satisfied: skfeature-chappers in c:\\users\\prashant\\anaconda3\\envs\\bank_interest\\lib\\site-packages (1.1.0)\n",
      "Requirement already satisfied: numpy in c:\\users\\prashant\\anaconda3\\envs\\bank_interest\\lib\\site-packages (from skfeature-chappers) (1.21.5)\n",
      "Requirement already satisfied: pandas in c:\\users\\prashant\\anaconda3\\envs\\bank_interest\\lib\\site-packages (from skfeature-chappers) (1.4.2)\n",
      "Requirement already satisfied: scikit-learn in c:\\users\\prashant\\anaconda3\\envs\\bank_interest\\lib\\site-packages (from skfeature-chappers) (1.0.2)\n",
      "Requirement already satisfied: python-dateutil>=2.8.1 in c:\\users\\prashant\\anaconda3\\envs\\bank_interest\\lib\\site-packages (from pandas->skfeature-chappers) (2.8.2)\n",
      "Requirement already satisfied: pytz>=2020.1 in c:\\users\\prashant\\anaconda3\\envs\\bank_interest\\lib\\site-packages (from pandas->skfeature-chappers) (2021.3)\n",
      "Requirement already satisfied: six>=1.5 in c:\\users\\prashant\\anaconda3\\envs\\bank_interest\\lib\\site-packages (from python-dateutil>=2.8.1->pandas->skfeature-chappers) (1.16.0)\n",
      "Requirement already satisfied: threadpoolctl>=2.0.0 in c:\\users\\prashant\\anaconda3\\envs\\bank_interest\\lib\\site-packages (from scikit-learn->skfeature-chappers) (2.2.0)\n",
      "Requirement already satisfied: scipy>=1.1.0 in c:\\users\\prashant\\anaconda3\\envs\\bank_interest\\lib\\site-packages (from scikit-learn->skfeature-chappers) (1.7.3)\n",
      "Requirement already satisfied: joblib>=0.11 in c:\\users\\prashant\\anaconda3\\envs\\bank_interest\\lib\\site-packages (from scikit-learn->skfeature-chappers) (1.1.0)\n"
     ]
    }
   ],
   "source": [
    "!pip install skfeature-chappers\n",
    "from skfeature.function.similarity_based import fisher_score"
   ]
  },
  {
   "cell_type": "code",
   "execution_count": 162,
   "id": "4de53d16",
   "metadata": {},
   "outputs": [
    {
     "data": {
      "text/plain": [
       "<AxesSubplot:>"
      ]
     },
     "execution_count": 162,
     "metadata": {},
     "output_type": "execute_result"
    },
    {
     "data": {
      "image/png": "[encoded data removed]",
      "text/plain": [
       "<Figure size 1440x1440 with 1 Axes>"
      ]
     },
     "metadata": {
      "needs_background": "light"
     },
     "output_type": "display_data"
    }
   ],
   "source": [
    "array = fisher_score.fisher_score(x.values,y)\n",
    "plt.figure(figsize=(20,20))\n",
    "s1 = pd.Series(array, index = x.columns)\n",
    "s1.sort_values().plot(kind = 'barh')"
   ]
  },
  {
   "cell_type": "code",
   "execution_count": 163,
   "id": "96bebf88",
   "metadata": {},
   "outputs": [
    {
     "data": {
      "text/plain": [
       "array([False, False, False, False, False, False, False, False, False,\n",
       "        True,  True, False, False, False, False, False, False, False,\n",
       "        True, False, False, False, False, False, False, False,  True,\n",
       "       False, False, False, False, False, False, False, False, False,\n",
       "       False, False, False, False, False, False, False, False, False,\n",
       "       False, False, False, False, False, False, False, False, False,\n",
       "       False, False, False,  True, False, False, False,  True, False,\n",
       "       False,  True,  True,  True, False, False, False,  True,  True])"
      ]
     },
     "execution_count": 163,
     "metadata": {},
     "output_type": "execute_result"
    }
   ],
   "source": [
    "array<=10"
   ]
  },
  {
   "cell_type": "code",
   "execution_count": 164,
   "id": "53f14a5c",
   "metadata": {},
   "outputs": [],
   "source": [
    "X = x.drop(x.columns[np.where(array < 4)[0]],axis = 1)"
   ]
  },
  {
   "cell_type": "code",
   "execution_count": 165,
   "id": "2ec202eb",
   "metadata": {},
   "outputs": [],
   "source": [
    "X_train,X_test,y_train,y_test = train_test_split(X,y,test_size=0.3,random_state=5)"
   ]
  },
  {
   "cell_type": "code",
   "execution_count": 166,
   "id": "db0bd2ff",
   "metadata": {},
   "outputs": [
    {
     "data": {
      "text/html": [
       "<div>\n",
       "<style scoped>\n",
       "    .dataframe tbody tr th:only-of-type {\n",
       "        vertical-align: middle;\n",
       "    }\n",
       "\n",
       "    .dataframe tbody tr th {\n",
       "        vertical-align: top;\n",
       "    }\n",
       "\n",
       "    .dataframe thead th {\n",
       "        text-align: right;\n",
       "    }\n",
       "</style>\n",
       "<table border=\"1\" class=\"dataframe\">\n",
       "  <thead>\n",
       "    <tr style=\"text-align: right;\">\n",
       "      <th></th>\n",
       "      <th>Amount_Requested</th>\n",
       "      <th>Amount_Funded_By_Investors</th>\n",
       "      <th>Loan_Length</th>\n",
       "      <th>Debt_To_Income_Ratio</th>\n",
       "      <th>Monthly_Income</th>\n",
       "      <th>FICO_Range</th>\n",
       "      <th>Open_CREDIT_Lines</th>\n",
       "      <th>Revolving_CREDIT_Balance</th>\n",
       "      <th>Inquiries_in_the_Last_6_Months</th>\n",
       "      <th>Employment_Length</th>\n",
       "      <th>...</th>\n",
       "      <th>OR</th>\n",
       "      <th>PA</th>\n",
       "      <th>SC</th>\n",
       "      <th>SD</th>\n",
       "      <th>VA</th>\n",
       "      <th>VT</th>\n",
       "      <th>WA</th>\n",
       "      <th>WI</th>\n",
       "      <th>WV</th>\n",
       "      <th>WY</th>\n",
       "    </tr>\n",
       "  </thead>\n",
       "  <tbody>\n",
       "    <tr>\n",
       "      <th>1849</th>\n",
       "      <td>16000.0</td>\n",
       "      <td>16000.00</td>\n",
       "      <td>36.0</td>\n",
       "      <td>9.47</td>\n",
       "      <td>5416.67</td>\n",
       "      <td>692</td>\n",
       "      <td>9</td>\n",
       "      <td>9.649756</td>\n",
       "      <td>0.0</td>\n",
       "      <td>10.0</td>\n",
       "      <td>...</td>\n",
       "      <td>0</td>\n",
       "      <td>0</td>\n",
       "      <td>0</td>\n",
       "      <td>0</td>\n",
       "      <td>0</td>\n",
       "      <td>0</td>\n",
       "      <td>0</td>\n",
       "      <td>0</td>\n",
       "      <td>0</td>\n",
       "      <td>0</td>\n",
       "    </tr>\n",
       "    <tr>\n",
       "      <th>1230</th>\n",
       "      <td>8000.0</td>\n",
       "      <td>8000.00</td>\n",
       "      <td>36.0</td>\n",
       "      <td>16.22</td>\n",
       "      <td>4166.67</td>\n",
       "      <td>677</td>\n",
       "      <td>12</td>\n",
       "      <td>9.731394</td>\n",
       "      <td>0.0</td>\n",
       "      <td>5.0</td>\n",
       "      <td>...</td>\n",
       "      <td>0</td>\n",
       "      <td>0</td>\n",
       "      <td>0</td>\n",
       "      <td>0</td>\n",
       "      <td>0</td>\n",
       "      <td>0</td>\n",
       "      <td>0</td>\n",
       "      <td>0</td>\n",
       "      <td>0</td>\n",
       "      <td>0</td>\n",
       "    </tr>\n",
       "    <tr>\n",
       "      <th>1359</th>\n",
       "      <td>7750.0</td>\n",
       "      <td>7750.00</td>\n",
       "      <td>36.0</td>\n",
       "      <td>22.01</td>\n",
       "      <td>4766.67</td>\n",
       "      <td>782</td>\n",
       "      <td>14</td>\n",
       "      <td>8.448272</td>\n",
       "      <td>2.5</td>\n",
       "      <td>6.0</td>\n",
       "      <td>...</td>\n",
       "      <td>0</td>\n",
       "      <td>0</td>\n",
       "      <td>0</td>\n",
       "      <td>0</td>\n",
       "      <td>0</td>\n",
       "      <td>0</td>\n",
       "      <td>0</td>\n",
       "      <td>0</td>\n",
       "      <td>0</td>\n",
       "      <td>0</td>\n",
       "    </tr>\n",
       "    <tr>\n",
       "      <th>1972</th>\n",
       "      <td>4200.0</td>\n",
       "      <td>4175.00</td>\n",
       "      <td>36.0</td>\n",
       "      <td>10.16</td>\n",
       "      <td>3041.67</td>\n",
       "      <td>812</td>\n",
       "      <td>4</td>\n",
       "      <td>7.344719</td>\n",
       "      <td>0.0</td>\n",
       "      <td>10.0</td>\n",
       "      <td>...</td>\n",
       "      <td>0</td>\n",
       "      <td>0</td>\n",
       "      <td>0</td>\n",
       "      <td>0</td>\n",
       "      <td>0</td>\n",
       "      <td>0</td>\n",
       "      <td>0</td>\n",
       "      <td>0</td>\n",
       "      <td>0</td>\n",
       "      <td>0</td>\n",
       "    </tr>\n",
       "    <tr>\n",
       "      <th>261</th>\n",
       "      <td>8000.0</td>\n",
       "      <td>8000.00</td>\n",
       "      <td>36.0</td>\n",
       "      <td>24.98</td>\n",
       "      <td>3166.67</td>\n",
       "      <td>692</td>\n",
       "      <td>10</td>\n",
       "      <td>8.599326</td>\n",
       "      <td>0.0</td>\n",
       "      <td>10.0</td>\n",
       "      <td>...</td>\n",
       "      <td>0</td>\n",
       "      <td>0</td>\n",
       "      <td>0</td>\n",
       "      <td>0</td>\n",
       "      <td>0</td>\n",
       "      <td>0</td>\n",
       "      <td>0</td>\n",
       "      <td>0</td>\n",
       "      <td>0</td>\n",
       "      <td>0</td>\n",
       "    </tr>\n",
       "    <tr>\n",
       "      <th>...</th>\n",
       "      <td>...</td>\n",
       "      <td>...</td>\n",
       "      <td>...</td>\n",
       "      <td>...</td>\n",
       "      <td>...</td>\n",
       "      <td>...</td>\n",
       "      <td>...</td>\n",
       "      <td>...</td>\n",
       "      <td>...</td>\n",
       "      <td>...</td>\n",
       "      <td>...</td>\n",
       "      <td>...</td>\n",
       "      <td>...</td>\n",
       "      <td>...</td>\n",
       "      <td>...</td>\n",
       "      <td>...</td>\n",
       "      <td>...</td>\n",
       "      <td>...</td>\n",
       "      <td>...</td>\n",
       "      <td>...</td>\n",
       "      <td>...</td>\n",
       "    </tr>\n",
       "    <tr>\n",
       "      <th>741</th>\n",
       "      <td>12000.0</td>\n",
       "      <td>11975.00</td>\n",
       "      <td>36.0</td>\n",
       "      <td>10.84</td>\n",
       "      <td>7083.33</td>\n",
       "      <td>687</td>\n",
       "      <td>11</td>\n",
       "      <td>9.933095</td>\n",
       "      <td>0.0</td>\n",
       "      <td>4.0</td>\n",
       "      <td>...</td>\n",
       "      <td>0</td>\n",
       "      <td>0</td>\n",
       "      <td>0</td>\n",
       "      <td>0</td>\n",
       "      <td>0</td>\n",
       "      <td>0</td>\n",
       "      <td>0</td>\n",
       "      <td>0</td>\n",
       "      <td>0</td>\n",
       "      <td>0</td>\n",
       "    </tr>\n",
       "    <tr>\n",
       "      <th>1033</th>\n",
       "      <td>8000.0</td>\n",
       "      <td>8000.00</td>\n",
       "      <td>60.0</td>\n",
       "      <td>2.38</td>\n",
       "      <td>5291.67</td>\n",
       "      <td>702</td>\n",
       "      <td>4</td>\n",
       "      <td>7.132498</td>\n",
       "      <td>2.5</td>\n",
       "      <td>5.0</td>\n",
       "      <td>...</td>\n",
       "      <td>0</td>\n",
       "      <td>0</td>\n",
       "      <td>0</td>\n",
       "      <td>0</td>\n",
       "      <td>0</td>\n",
       "      <td>0</td>\n",
       "      <td>0</td>\n",
       "      <td>0</td>\n",
       "      <td>0</td>\n",
       "      <td>0</td>\n",
       "    </tr>\n",
       "    <tr>\n",
       "      <th>2122</th>\n",
       "      <td>11000.0</td>\n",
       "      <td>6557.05</td>\n",
       "      <td>36.0</td>\n",
       "      <td>1.62</td>\n",
       "      <td>6667.00</td>\n",
       "      <td>692</td>\n",
       "      <td>7</td>\n",
       "      <td>8.417594</td>\n",
       "      <td>0.0</td>\n",
       "      <td>10.0</td>\n",
       "      <td>...</td>\n",
       "      <td>0</td>\n",
       "      <td>0</td>\n",
       "      <td>0</td>\n",
       "      <td>0</td>\n",
       "      <td>0</td>\n",
       "      <td>0</td>\n",
       "      <td>0</td>\n",
       "      <td>0</td>\n",
       "      <td>0</td>\n",
       "      <td>0</td>\n",
       "    </tr>\n",
       "    <tr>\n",
       "      <th>1425</th>\n",
       "      <td>8000.0</td>\n",
       "      <td>8000.00</td>\n",
       "      <td>60.0</td>\n",
       "      <td>6.29</td>\n",
       "      <td>4833.33</td>\n",
       "      <td>677</td>\n",
       "      <td>8</td>\n",
       "      <td>9.177404</td>\n",
       "      <td>2.5</td>\n",
       "      <td>6.0</td>\n",
       "      <td>...</td>\n",
       "      <td>0</td>\n",
       "      <td>0</td>\n",
       "      <td>0</td>\n",
       "      <td>0</td>\n",
       "      <td>0</td>\n",
       "      <td>0</td>\n",
       "      <td>0</td>\n",
       "      <td>0</td>\n",
       "      <td>0</td>\n",
       "      <td>0</td>\n",
       "    </tr>\n",
       "    <tr>\n",
       "      <th>1726</th>\n",
       "      <td>20000.0</td>\n",
       "      <td>19975.00</td>\n",
       "      <td>60.0</td>\n",
       "      <td>9.47</td>\n",
       "      <td>11250.00</td>\n",
       "      <td>672</td>\n",
       "      <td>5</td>\n",
       "      <td>9.320808</td>\n",
       "      <td>0.0</td>\n",
       "      <td>0.5</td>\n",
       "      <td>...</td>\n",
       "      <td>0</td>\n",
       "      <td>0</td>\n",
       "      <td>0</td>\n",
       "      <td>0</td>\n",
       "      <td>0</td>\n",
       "      <td>0</td>\n",
       "      <td>0</td>\n",
       "      <td>0</td>\n",
       "      <td>0</td>\n",
       "      <td>0</td>\n",
       "    </tr>\n",
       "  </tbody>\n",
       "</table>\n",
       "<p>1539 rows × 68 columns</p>\n",
       "</div>"
      ],
      "text/plain": [
       "      Amount_Requested  Amount_Funded_By_Investors  Loan_Length  \\\n",
       "1849           16000.0                    16000.00         36.0   \n",
       "1230            8000.0                     8000.00         36.0   \n",
       "1359            7750.0                     7750.00         36.0   \n",
       "1972            4200.0                     4175.00         36.0   \n",
       "261             8000.0                     8000.00         36.0   \n",
       "...                ...                         ...          ...   \n",
       "741            12000.0                    11975.00         36.0   \n",
       "1033            8000.0                     8000.00         60.0   \n",
       "2122           11000.0                     6557.05         36.0   \n",
       "1425            8000.0                     8000.00         60.0   \n",
       "1726           20000.0                    19975.00         60.0   \n",
       "\n",
       "      Debt_To_Income_Ratio  Monthly_Income  FICO_Range  Open_CREDIT_Lines  \\\n",
       "1849                  9.47         5416.67         692                  9   \n",
       "1230                 16.22         4166.67         677                 12   \n",
       "1359                 22.01         4766.67         782                 14   \n",
       "1972                 10.16         3041.67         812                  4   \n",
       "261                  24.98         3166.67         692                 10   \n",
       "...                    ...             ...         ...                ...   \n",
       "741                  10.84         7083.33         687                 11   \n",
       "1033                  2.38         5291.67         702                  4   \n",
       "2122                  1.62         6667.00         692                  7   \n",
       "1425                  6.29         4833.33         677                  8   \n",
       "1726                  9.47        11250.00         672                  5   \n",
       "\n",
       "      Revolving_CREDIT_Balance  Inquiries_in_the_Last_6_Months  \\\n",
       "1849                  9.649756                             0.0   \n",
       "1230                  9.731394                             0.0   \n",
       "1359                  8.448272                             2.5   \n",
       "1972                  7.344719                             0.0   \n",
       "261                   8.599326                             0.0   \n",
       "...                        ...                             ...   \n",
       "741                   9.933095                             0.0   \n",
       "1033                  7.132498                             2.5   \n",
       "2122                  8.417594                             0.0   \n",
       "1425                  9.177404                             2.5   \n",
       "1726                  9.320808                             0.0   \n",
       "\n",
       "      Employment_Length  ...  OR  PA  SC  SD  VA  VT  WA  WI  WV  WY  \n",
       "1849               10.0  ...   0   0   0   0   0   0   0   0   0   0  \n",
       "1230                5.0  ...   0   0   0   0   0   0   0   0   0   0  \n",
       "1359                6.0  ...   0   0   0   0   0   0   0   0   0   0  \n",
       "1972               10.0  ...   0   0   0   0   0   0   0   0   0   0  \n",
       "261                10.0  ...   0   0   0   0   0   0   0   0   0   0  \n",
       "...                 ...  ...  ..  ..  ..  ..  ..  ..  ..  ..  ..  ..  \n",
       "741                 4.0  ...   0   0   0   0   0   0   0   0   0   0  \n",
       "1033                5.0  ...   0   0   0   0   0   0   0   0   0   0  \n",
       "2122               10.0  ...   0   0   0   0   0   0   0   0   0   0  \n",
       "1425                6.0  ...   0   0   0   0   0   0   0   0   0   0  \n",
       "1726                0.5  ...   0   0   0   0   0   0   0   0   0   0  \n",
       "\n",
       "[1539 rows x 68 columns]"
      ]
     },
     "execution_count": 166,
     "metadata": {},
     "output_type": "execute_result"
    }
   ],
   "source": [
    "X_train"
   ]
  },
  {
   "cell_type": "code",
   "execution_count": 167,
   "id": "f8b7f644",
   "metadata": {},
   "outputs": [
    {
     "data": {
      "text/plain": [
       "LinearRegression()"
      ]
     },
     "execution_count": 167,
     "metadata": {},
     "output_type": "execute_result"
    }
   ],
   "source": [
    "linear_fisher_score = LinearRegression()\n",
    "linear_fisher_score.fit(X_train,y_train)"
   ]
  },
  {
   "cell_type": "code",
   "execution_count": 168,
   "id": "8cd1e80e",
   "metadata": {},
   "outputs": [
    {
     "name": "stdout",
     "output_type": "stream",
     "text": [
      "mean_absolute_error >>   1.6175792153758066\n",
      "mean_squared_error >>   4.33840682237086\n",
      "root_mean_squared_error >>   2.0828842556346863\n",
      "r2_scores >>   0.7488527940875467\n"
     ]
    }
   ],
   "source": [
    "# Testing data\n",
    "\n",
    "\n",
    "y_pred_test = linear_fisher_score.predict(X_test)\n",
    "\n",
    "mae = mean_absolute_error(y_test,y_pred_test)\n",
    "print('mean_absolute_error >>  ', mae)\n",
    "\n",
    "mse = mean_squared_error(y_test,y_pred_test)\n",
    "print('mean_squared_error >>  ', mse)\n",
    "\n",
    "rmae = np.sqrt(mse)\n",
    "print('root_mean_squared_error >>  ', rmae)\n",
    "\n",
    "r2_scores = r2_score(y_test,y_pred_test)\n",
    "print('r2_scores >>  ', r2_scores)\n"
   ]
  },
  {
   "cell_type": "code",
   "execution_count": 169,
   "id": "58b10306",
   "metadata": {},
   "outputs": [
    {
     "name": "stdout",
     "output_type": "stream",
     "text": [
      "mean_absolute_error >>   1.5102324821163053\n",
      "mean_squared_error >>   3.7826137674765206\n",
      "root_mean_squared_error >>   1.944894281825241\n",
      "r2_scores >>   0.7832519767385304\n"
     ]
    }
   ],
   "source": [
    "# Training data\n",
    "\n",
    "y_pred_train = linear_fisher_score.predict(X_train)\n",
    "\n",
    "mae = mean_absolute_error(y_train,y_pred_train)\n",
    "print('mean_absolute_error >>  ', mae)\n",
    "\n",
    "mse = mean_squared_error(y_train,y_pred_train)\n",
    "print('mean_squared_error >>  ', mse)\n",
    "\n",
    "rmae = np.sqrt(mse)\n",
    "print('root_mean_squared_error >>  ', rmae)\n",
    "\n",
    "r2_scores = r2_score(y_train,y_pred_train)\n",
    "print('r2_scores >>  ', r2_scores)\n"
   ]
  },
  {
   "cell_type": "markdown",
   "id": "c114060a",
   "metadata": {},
   "source": [
    "## Variance Threshold"
   ]
  },
  {
   "cell_type": "code",
   "execution_count": 170,
   "id": "1e93d7bd",
   "metadata": {},
   "outputs": [
    {
     "data": {
      "text/plain": [
       "array([ True,  True,  True,  True,  True,  True,  True,  True, False,\n",
       "       False,  True, False, False, False, False, False, False, False,\n",
       "       False, False, False, False, False, False, False, False, False,\n",
       "       False, False, False, False, False, False, False, False, False,\n",
       "       False, False, False, False, False, False, False, False, False,\n",
       "       False, False, False, False, False, False, False, False, False,\n",
       "       False, False, False, False, False, False, False, False, False,\n",
       "       False, False, False, False, False, False, False, False, False,\n",
       "       False])"
      ]
     },
     "execution_count": 170,
     "metadata": {},
     "output_type": "execute_result"
    }
   ],
   "source": [
    "from sklearn.feature_selection import VarianceThreshold\n",
    "var_thresh = VarianceThreshold(threshold=1.5)\n",
    "var_thresh.fit(df1)\n",
    "array_1 = var_thresh.get_support()\n",
    "array_1"
   ]
  },
  {
   "cell_type": "code",
   "execution_count": 171,
   "id": "263f7269",
   "metadata": {},
   "outputs": [
    {
     "data": {
      "text/plain": [
       "(array([ 8,  9, 11, 12, 13, 14, 15, 16, 17, 18, 19, 20, 21, 22, 23, 24, 25,\n",
       "        26, 27, 28, 29, 30, 31, 32, 33, 34, 35, 36, 37, 38, 39, 40, 41, 42,\n",
       "        43, 44, 45, 46, 47, 48, 49, 50, 51, 52, 53, 54, 55, 56, 57, 58, 59,\n",
       "        60, 61, 62, 63, 64, 65, 66, 67, 68, 69, 70, 71, 72], dtype=int64),)"
      ]
     },
     "execution_count": 171,
     "metadata": {},
     "output_type": "execute_result"
    }
   ],
   "source": [
    "np.where(array_1 == False)"
   ]
  },
  {
   "cell_type": "code",
   "execution_count": 172,
   "id": "45a663f0",
   "metadata": {},
   "outputs": [
    {
     "data": {
      "text/html": [
       "<div>\n",
       "<style scoped>\n",
       "    .dataframe tbody tr th:only-of-type {\n",
       "        vertical-align: middle;\n",
       "    }\n",
       "\n",
       "    .dataframe tbody tr th {\n",
       "        vertical-align: top;\n",
       "    }\n",
       "\n",
       "    .dataframe thead th {\n",
       "        text-align: right;\n",
       "    }\n",
       "</style>\n",
       "<table border=\"1\" class=\"dataframe\">\n",
       "  <thead>\n",
       "    <tr style=\"text-align: right;\">\n",
       "      <th></th>\n",
       "      <th>Amount_Requested</th>\n",
       "      <th>Amount_Funded_By_Investors</th>\n",
       "      <th>Interest_Rate</th>\n",
       "      <th>Loan_Length</th>\n",
       "      <th>Debt_To_Income_Ratio</th>\n",
       "      <th>Monthly_Income</th>\n",
       "      <th>FICO_Range</th>\n",
       "      <th>Open_CREDIT_Lines</th>\n",
       "      <th>Employment_Length</th>\n",
       "    </tr>\n",
       "  </thead>\n",
       "  <tbody>\n",
       "    <tr>\n",
       "      <th>0</th>\n",
       "      <td>25000.0</td>\n",
       "      <td>25000.00</td>\n",
       "      <td>18.49</td>\n",
       "      <td>60.0</td>\n",
       "      <td>27.56</td>\n",
       "      <td>8606.56</td>\n",
       "      <td>722</td>\n",
       "      <td>11</td>\n",
       "      <td>5.0</td>\n",
       "    </tr>\n",
       "    <tr>\n",
       "      <th>1</th>\n",
       "      <td>19750.0</td>\n",
       "      <td>19750.00</td>\n",
       "      <td>17.27</td>\n",
       "      <td>60.0</td>\n",
       "      <td>13.39</td>\n",
       "      <td>6737.50</td>\n",
       "      <td>712</td>\n",
       "      <td>14</td>\n",
       "      <td>4.0</td>\n",
       "    </tr>\n",
       "    <tr>\n",
       "      <th>2</th>\n",
       "      <td>2100.0</td>\n",
       "      <td>2100.00</td>\n",
       "      <td>14.33</td>\n",
       "      <td>36.0</td>\n",
       "      <td>3.50</td>\n",
       "      <td>1000.00</td>\n",
       "      <td>692</td>\n",
       "      <td>13</td>\n",
       "      <td>0.5</td>\n",
       "    </tr>\n",
       "    <tr>\n",
       "      <th>3</th>\n",
       "      <td>28000.0</td>\n",
       "      <td>28000.00</td>\n",
       "      <td>16.29</td>\n",
       "      <td>36.0</td>\n",
       "      <td>19.62</td>\n",
       "      <td>7083.33</td>\n",
       "      <td>712</td>\n",
       "      <td>12</td>\n",
       "      <td>10.0</td>\n",
       "    </tr>\n",
       "    <tr>\n",
       "      <th>4</th>\n",
       "      <td>24250.0</td>\n",
       "      <td>17431.82</td>\n",
       "      <td>12.23</td>\n",
       "      <td>60.0</td>\n",
       "      <td>23.79</td>\n",
       "      <td>5833.33</td>\n",
       "      <td>732</td>\n",
       "      <td>6</td>\n",
       "      <td>10.0</td>\n",
       "    </tr>\n",
       "    <tr>\n",
       "      <th>...</th>\n",
       "      <td>...</td>\n",
       "      <td>...</td>\n",
       "      <td>...</td>\n",
       "      <td>...</td>\n",
       "      <td>...</td>\n",
       "      <td>...</td>\n",
       "      <td>...</td>\n",
       "      <td>...</td>\n",
       "      <td>...</td>\n",
       "    </tr>\n",
       "    <tr>\n",
       "      <th>2195</th>\n",
       "      <td>30000.0</td>\n",
       "      <td>30000.00</td>\n",
       "      <td>23.28</td>\n",
       "      <td>60.0</td>\n",
       "      <td>12.10</td>\n",
       "      <td>7083.33</td>\n",
       "      <td>677</td>\n",
       "      <td>16</td>\n",
       "      <td>10.0</td>\n",
       "    </tr>\n",
       "    <tr>\n",
       "      <th>2196</th>\n",
       "      <td>4200.0</td>\n",
       "      <td>4200.00</td>\n",
       "      <td>14.33</td>\n",
       "      <td>60.0</td>\n",
       "      <td>14.16</td>\n",
       "      <td>3850.00</td>\n",
       "      <td>702</td>\n",
       "      <td>4</td>\n",
       "      <td>2.0</td>\n",
       "    </tr>\n",
       "    <tr>\n",
       "      <th>2197</th>\n",
       "      <td>19800.0</td>\n",
       "      <td>19775.00</td>\n",
       "      <td>15.31</td>\n",
       "      <td>60.0</td>\n",
       "      <td>15.03</td>\n",
       "      <td>6666.67</td>\n",
       "      <td>677</td>\n",
       "      <td>10</td>\n",
       "      <td>6.0</td>\n",
       "    </tr>\n",
       "    <tr>\n",
       "      <th>2198</th>\n",
       "      <td>18000.0</td>\n",
       "      <td>18000.00</td>\n",
       "      <td>20.99</td>\n",
       "      <td>60.0</td>\n",
       "      <td>11.63</td>\n",
       "      <td>9051.83</td>\n",
       "      <td>672</td>\n",
       "      <td>5</td>\n",
       "      <td>4.0</td>\n",
       "    </tr>\n",
       "    <tr>\n",
       "      <th>2199</th>\n",
       "      <td>7550.0</td>\n",
       "      <td>7550.00</td>\n",
       "      <td>10.16</td>\n",
       "      <td>36.0</td>\n",
       "      <td>3.83</td>\n",
       "      <td>8333.33</td>\n",
       "      <td>712</td>\n",
       "      <td>10</td>\n",
       "      <td>2.0</td>\n",
       "    </tr>\n",
       "  </tbody>\n",
       "</table>\n",
       "<p>2199 rows × 9 columns</p>\n",
       "</div>"
      ],
      "text/plain": [
       "      Amount_Requested  Amount_Funded_By_Investors  Interest_Rate  \\\n",
       "0              25000.0                    25000.00          18.49   \n",
       "1              19750.0                    19750.00          17.27   \n",
       "2               2100.0                     2100.00          14.33   \n",
       "3              28000.0                    28000.00          16.29   \n",
       "4              24250.0                    17431.82          12.23   \n",
       "...                ...                         ...            ...   \n",
       "2195           30000.0                    30000.00          23.28   \n",
       "2196            4200.0                     4200.00          14.33   \n",
       "2197           19800.0                    19775.00          15.31   \n",
       "2198           18000.0                    18000.00          20.99   \n",
       "2199            7550.0                     7550.00          10.16   \n",
       "\n",
       "      Loan_Length  Debt_To_Income_Ratio  Monthly_Income  FICO_Range  \\\n",
       "0            60.0                 27.56         8606.56         722   \n",
       "1            60.0                 13.39         6737.50         712   \n",
       "2            36.0                  3.50         1000.00         692   \n",
       "3            36.0                 19.62         7083.33         712   \n",
       "4            60.0                 23.79         5833.33         732   \n",
       "...           ...                   ...             ...         ...   \n",
       "2195         60.0                 12.10         7083.33         677   \n",
       "2196         60.0                 14.16         3850.00         702   \n",
       "2197         60.0                 15.03         6666.67         677   \n",
       "2198         60.0                 11.63         9051.83         672   \n",
       "2199         36.0                  3.83         8333.33         712   \n",
       "\n",
       "      Open_CREDIT_Lines  Employment_Length  \n",
       "0                    11                5.0  \n",
       "1                    14                4.0  \n",
       "2                    13                0.5  \n",
       "3                    12               10.0  \n",
       "4                     6               10.0  \n",
       "...                 ...                ...  \n",
       "2195                 16               10.0  \n",
       "2196                  4                2.0  \n",
       "2197                 10                6.0  \n",
       "2198                  5                4.0  \n",
       "2199                 10                2.0  \n",
       "\n",
       "[2199 rows x 9 columns]"
      ]
     },
     "execution_count": 172,
     "metadata": {},
     "output_type": "execute_result"
    }
   ],
   "source": [
    "var_data = df1.drop(df1.columns[np.where(array_1 == False)[0]],axis = 1)\n",
    "var_data"
   ]
  },
  {
   "cell_type": "code",
   "execution_count": 173,
   "id": "ab93f281",
   "metadata": {},
   "outputs": [
    {
     "data": {
      "text/html": [
       "<div>\n",
       "<style scoped>\n",
       "    .dataframe tbody tr th:only-of-type {\n",
       "        vertical-align: middle;\n",
       "    }\n",
       "\n",
       "    .dataframe tbody tr th {\n",
       "        vertical-align: top;\n",
       "    }\n",
       "\n",
       "    .dataframe thead th {\n",
       "        text-align: right;\n",
       "    }\n",
       "</style>\n",
       "<table border=\"1\" class=\"dataframe\">\n",
       "  <thead>\n",
       "    <tr style=\"text-align: right;\">\n",
       "      <th></th>\n",
       "      <th>Amount_Requested</th>\n",
       "      <th>Amount_Funded_By_Investors</th>\n",
       "      <th>Interest_Rate</th>\n",
       "      <th>Loan_Length</th>\n",
       "      <th>Debt_To_Income_Ratio</th>\n",
       "      <th>Monthly_Income</th>\n",
       "      <th>FICO_Range</th>\n",
       "      <th>Open_CREDIT_Lines</th>\n",
       "      <th>Employment_Length</th>\n",
       "    </tr>\n",
       "  </thead>\n",
       "  <tbody>\n",
       "    <tr>\n",
       "      <th>count</th>\n",
       "      <td>2199.000000</td>\n",
       "      <td>2199.000000</td>\n",
       "      <td>2199.000000</td>\n",
       "      <td>2199.000000</td>\n",
       "      <td>2199.00000</td>\n",
       "      <td>2199.000000</td>\n",
       "      <td>2199.000000</td>\n",
       "      <td>2199.000000</td>\n",
       "      <td>2199.000000</td>\n",
       "    </tr>\n",
       "    <tr>\n",
       "      <th>mean</th>\n",
       "      <td>12492.837653</td>\n",
       "      <td>12075.878254</td>\n",
       "      <td>13.051382</td>\n",
       "      <td>41.195089</td>\n",
       "      <td>15.37025</td>\n",
       "      <td>5725.850414</td>\n",
       "      <td>708.089131</td>\n",
       "      <td>10.077763</td>\n",
       "      <td>5.561846</td>\n",
       "    </tr>\n",
       "    <tr>\n",
       "      <th>std</th>\n",
       "      <td>7850.147417</td>\n",
       "      <td>7770.042466</td>\n",
       "      <td>4.174292</td>\n",
       "      <td>9.886234</td>\n",
       "      <td>7.52039</td>\n",
       "      <td>4071.661717</td>\n",
       "      <td>35.270413</td>\n",
       "      <td>4.492219</td>\n",
       "      <td>3.568840</td>\n",
       "    </tr>\n",
       "    <tr>\n",
       "      <th>min</th>\n",
       "      <td>1000.000000</td>\n",
       "      <td>-0.010000</td>\n",
       "      <td>5.420000</td>\n",
       "      <td>36.000000</td>\n",
       "      <td>0.00000</td>\n",
       "      <td>588.500000</td>\n",
       "      <td>642.000000</td>\n",
       "      <td>2.000000</td>\n",
       "      <td>0.500000</td>\n",
       "    </tr>\n",
       "    <tr>\n",
       "      <th>25%</th>\n",
       "      <td>6000.000000</td>\n",
       "      <td>6000.000000</td>\n",
       "      <td>10.160000</td>\n",
       "      <td>36.000000</td>\n",
       "      <td>9.73500</td>\n",
       "      <td>3458.000000</td>\n",
       "      <td>682.000000</td>\n",
       "      <td>7.000000</td>\n",
       "      <td>2.000000</td>\n",
       "    </tr>\n",
       "    <tr>\n",
       "      <th>50%</th>\n",
       "      <td>10000.000000</td>\n",
       "      <td>10000.000000</td>\n",
       "      <td>13.110000</td>\n",
       "      <td>36.000000</td>\n",
       "      <td>15.22000</td>\n",
       "      <td>5000.000000</td>\n",
       "      <td>702.000000</td>\n",
       "      <td>9.000000</td>\n",
       "      <td>5.000000</td>\n",
       "    </tr>\n",
       "    <tr>\n",
       "      <th>75%</th>\n",
       "      <td>17000.000000</td>\n",
       "      <td>16200.000000</td>\n",
       "      <td>15.800000</td>\n",
       "      <td>36.000000</td>\n",
       "      <td>20.67500</td>\n",
       "      <td>6871.460000</td>\n",
       "      <td>727.000000</td>\n",
       "      <td>13.000000</td>\n",
       "      <td>10.000000</td>\n",
       "    </tr>\n",
       "    <tr>\n",
       "      <th>max</th>\n",
       "      <td>35000.000000</td>\n",
       "      <td>35000.000000</td>\n",
       "      <td>24.890000</td>\n",
       "      <td>60.000000</td>\n",
       "      <td>34.91000</td>\n",
       "      <td>102750.000000</td>\n",
       "      <td>832.000000</td>\n",
       "      <td>38.000000</td>\n",
       "      <td>10.000000</td>\n",
       "    </tr>\n",
       "  </tbody>\n",
       "</table>\n",
       "</div>"
      ],
      "text/plain": [
       "       Amount_Requested  Amount_Funded_By_Investors  Interest_Rate  \\\n",
       "count       2199.000000                 2199.000000    2199.000000   \n",
       "mean       12492.837653                12075.878254      13.051382   \n",
       "std         7850.147417                 7770.042466       4.174292   \n",
       "min         1000.000000                   -0.010000       5.420000   \n",
       "25%         6000.000000                 6000.000000      10.160000   \n",
       "50%        10000.000000                10000.000000      13.110000   \n",
       "75%        17000.000000                16200.000000      15.800000   \n",
       "max        35000.000000                35000.000000      24.890000   \n",
       "\n",
       "       Loan_Length  Debt_To_Income_Ratio  Monthly_Income   FICO_Range  \\\n",
       "count  2199.000000            2199.00000     2199.000000  2199.000000   \n",
       "mean     41.195089              15.37025     5725.850414   708.089131   \n",
       "std       9.886234               7.52039     4071.661717    35.270413   \n",
       "min      36.000000               0.00000      588.500000   642.000000   \n",
       "25%      36.000000               9.73500     3458.000000   682.000000   \n",
       "50%      36.000000              15.22000     5000.000000   702.000000   \n",
       "75%      36.000000              20.67500     6871.460000   727.000000   \n",
       "max      60.000000              34.91000   102750.000000   832.000000   \n",
       "\n",
       "       Open_CREDIT_Lines  Employment_Length  \n",
       "count        2199.000000        2199.000000  \n",
       "mean           10.077763           5.561846  \n",
       "std             4.492219           3.568840  \n",
       "min             2.000000           0.500000  \n",
       "25%             7.000000           2.000000  \n",
       "50%             9.000000           5.000000  \n",
       "75%            13.000000          10.000000  \n",
       "max            38.000000          10.000000  "
      ]
     },
     "execution_count": 173,
     "metadata": {},
     "output_type": "execute_result"
    }
   ],
   "source": [
    "var_data.describe()"
   ]
  },
  {
   "cell_type": "code",
   "execution_count": 174,
   "id": "f301956c",
   "metadata": {},
   "outputs": [],
   "source": [
    "var_x = var_data.drop('Interest_Rate',axis=1)\n",
    "var_y = var_data['Interest_Rate']"
   ]
  },
  {
   "cell_type": "code",
   "execution_count": 175,
   "id": "66e9a0d1",
   "metadata": {},
   "outputs": [],
   "source": [
    "var_x_train,var_x_test,var_y_train,var_y_test = train_test_split(var_x,var_y,test_size=0.3,random_state=5)"
   ]
  },
  {
   "cell_type": "code",
   "execution_count": 176,
   "id": "4b515cbb",
   "metadata": {},
   "outputs": [
    {
     "data": {
      "text/plain": [
       "LinearRegression()"
      ]
     },
     "execution_count": 176,
     "metadata": {},
     "output_type": "execute_result"
    }
   ],
   "source": [
    "linear_Variance_Threshold = LinearRegression()\n",
    "linear_Variance_Threshold.fit(var_x_train,var_y_train)"
   ]
  },
  {
   "cell_type": "code",
   "execution_count": 177,
   "id": "d48c60dc",
   "metadata": {},
   "outputs": [
    {
     "name": "stdout",
     "output_type": "stream",
     "text": [
      "mean_absolute_error >>   1.6912578262784723\n",
      "mean_squared_error >>   4.715864772427479\n",
      "root_mean_squared_error >>   2.171604193315964\n",
      "r2_scores >>   0.7270020287288574\n"
     ]
    }
   ],
   "source": [
    "# Testing data\n",
    "\n",
    "y_pred_test = linear_Variance_Threshold.predict(var_x_test)\n",
    "\n",
    "mae = mean_absolute_error(var_y_test,y_pred_test)\n",
    "print('mean_absolute_error >>  ', mae)\n",
    "\n",
    "mse = mean_squared_error(var_y_test,y_pred_test)\n",
    "print('mean_squared_error >>  ', mse)\n",
    "\n",
    "rmae = np.sqrt(mse)\n",
    "print('root_mean_squared_error >>  ', rmae)\n",
    "\n",
    "r2_scores = r2_score(var_y_test,y_pred_test)\n",
    "print('r2_scores >>  ', r2_scores)\n"
   ]
  },
  {
   "cell_type": "code",
   "execution_count": 178,
   "id": "05495cb6",
   "metadata": {},
   "outputs": [
    {
     "name": "stdout",
     "output_type": "stream",
     "text": [
      "mean_absolute_error >>   1.6148209996663114\n",
      "mean_squared_error >>   4.276113630836791\n",
      "root_mean_squared_error >>   2.067876599518644\n",
      "r2_scores >>   0.7549738795183367\n"
     ]
    }
   ],
   "source": [
    "# Training data\n",
    "\n",
    "y_pred_train = linear_Variance_Threshold.predict(var_x_train)\n",
    "\n",
    "mae = mean_absolute_error(var_y_train,y_pred_train)\n",
    "print('mean_absolute_error >>  ', mae)\n",
    "\n",
    "mse = mean_squared_error(var_y_train,y_pred_train)\n",
    "print('mean_squared_error >>  ', mse)\n",
    "\n",
    "rmae = np.sqrt(mse)\n",
    "print('root_mean_squared_error >>  ', rmae)\n",
    "\n",
    "r2_scores = r2_score(var_y_train,y_pred_train)\n",
    "print('r2_scores >>  ', r2_scores)\n"
   ]
  },
  {
   "cell_type": "markdown",
   "id": "08ba6283",
   "metadata": {},
   "source": [
    "# Result"
   ]
  },
  {
   "cell_type": "raw",
   "id": "9bfa226c",
   "metadata": {},
   "source": [
    "Total column = 30\n",
    "\n",
    "Simple Linear Regression:\n",
    "    Testing Data:\n",
    "        \n",
    "    1) MSE = 4.17\n",
    "    2) r2  = 0.74\n",
    "    \n",
    "    Training Data:\n",
    "        \n",
    "    1) MSE = 3.94\n",
    "    2) r2  = 0.77\n",
    "    \n",
    "############################################################################\n",
    "\n",
    "Ridge and Lasso showing same score like Simple Linear Regression\n",
    "\n",
    "############################################################################\n",
    "\n",
    "False column = 3\n",
    "Linear Regression (Fisher Score < 4 columns): \n",
    "    Testing Data:\n",
    "        \n",
    "    1) MSE = 4.20\n",
    "    2) r2  = 0.74\n",
    "    \n",
    "    Training Data:\n",
    "        \n",
    "    1) MSE = 3.95\n",
    "    2) r2  = 0.77\n",
    "    \n",
    "###########################################################################\n",
    "\n",
    "False column = 4\n",
    "Linear Regression (Fisher Score < 5 columns): \n",
    "    Testing Data:\n",
    "        \n",
    "    1) MSE = 5.25\n",
    "    2) r2  = 0.68\n",
    "    \n",
    "    Training Data:\n",
    "        \n",
    "    1) MSE = 5.00\n",
    "    2) r2  = 0.71\n",
    "    \n",
    "##########################################################################\n",
    "\n",
    "False column = 12\n",
    "Linear Regression (Variance Threshold = 0.8): \n",
    "    Testing Data:\n",
    "        \n",
    "    1) MSE = 4.22\n",
    "    2) r2  = 0.74\n",
    "    \n",
    "    Training Data:\n",
    "        \n",
    "    1) MSE = 4.04\n",
    "    2) r2  = 0.77\n",
    "    \n",
    "##########################################################################\n",
    "    \n",
    "False column = 11\n",
    "Linear Regression (Variance Threshold = 0.9): \n",
    "    Testing Data:\n",
    "        \n",
    "    1) MSE = 4.51\n",
    "    2) r2  = 0.72\n",
    "    \n",
    "    Training Data:\n",
    "        \n",
    "    1) MSE = 4.23\n",
    "    2) r2  = 0.76\n",
    "\n",
    "##########################################################################\n",
    "\n",
    "False column = 10\n",
    "Linear Regression (Variance Threshold = 1.5): \n",
    "    Testing Data:\n",
    "        \n",
    "    1) MSE = 4.51\n",
    "    2) r2  = 0.72\n",
    "    \n",
    "    Training Data:\n",
    "        \n",
    "    1) MSE = 4.23\n",
    "    2) r2  = 0.75"
   ]
  },
  {
   "cell_type": "markdown",
   "id": "42f73151",
   "metadata": {},
   "source": [
    "# KNN"
   ]
  },
  {
   "cell_type": "code",
   "execution_count": 179,
   "id": "54e17b31",
   "metadata": {},
   "outputs": [
    {
     "data": {
      "text/html": [
       "<div>\n",
       "<style scoped>\n",
       "    .dataframe tbody tr th:only-of-type {\n",
       "        vertical-align: middle;\n",
       "    }\n",
       "\n",
       "    .dataframe tbody tr th {\n",
       "        vertical-align: top;\n",
       "    }\n",
       "\n",
       "    .dataframe thead th {\n",
       "        text-align: right;\n",
       "    }\n",
       "</style>\n",
       "<table border=\"1\" class=\"dataframe\">\n",
       "  <thead>\n",
       "    <tr style=\"text-align: right;\">\n",
       "      <th></th>\n",
       "      <th>Amount_Requested</th>\n",
       "      <th>Amount_Funded_By_Investors</th>\n",
       "      <th>Interest_Rate</th>\n",
       "      <th>Loan_Length</th>\n",
       "      <th>Debt_To_Income_Ratio</th>\n",
       "      <th>Monthly_Income</th>\n",
       "      <th>FICO_Range</th>\n",
       "      <th>Open_CREDIT_Lines</th>\n",
       "      <th>Revolving_CREDIT_Balance</th>\n",
       "      <th>Inquiries_in_the_Last_6_Months</th>\n",
       "      <th>...</th>\n",
       "      <th>SC</th>\n",
       "      <th>SD</th>\n",
       "      <th>TX</th>\n",
       "      <th>UT</th>\n",
       "      <th>VA</th>\n",
       "      <th>VT</th>\n",
       "      <th>WA</th>\n",
       "      <th>WI</th>\n",
       "      <th>WV</th>\n",
       "      <th>WY</th>\n",
       "    </tr>\n",
       "  </thead>\n",
       "  <tbody>\n",
       "    <tr>\n",
       "      <th>0</th>\n",
       "      <td>25000.0</td>\n",
       "      <td>25000.00</td>\n",
       "      <td>18.49</td>\n",
       "      <td>60.0</td>\n",
       "      <td>27.56</td>\n",
       "      <td>8606.56</td>\n",
       "      <td>722</td>\n",
       "      <td>11</td>\n",
       "      <td>9.629708</td>\n",
       "      <td>2.5</td>\n",
       "      <td>...</td>\n",
       "      <td>0</td>\n",
       "      <td>0</td>\n",
       "      <td>0</td>\n",
       "      <td>0</td>\n",
       "      <td>1</td>\n",
       "      <td>0</td>\n",
       "      <td>0</td>\n",
       "      <td>0</td>\n",
       "      <td>0</td>\n",
       "      <td>0</td>\n",
       "    </tr>\n",
       "    <tr>\n",
       "      <th>1</th>\n",
       "      <td>19750.0</td>\n",
       "      <td>19750.00</td>\n",
       "      <td>17.27</td>\n",
       "      <td>60.0</td>\n",
       "      <td>13.39</td>\n",
       "      <td>6737.50</td>\n",
       "      <td>712</td>\n",
       "      <td>14</td>\n",
       "      <td>9.855872</td>\n",
       "      <td>2.5</td>\n",
       "      <td>...</td>\n",
       "      <td>0</td>\n",
       "      <td>0</td>\n",
       "      <td>0</td>\n",
       "      <td>0</td>\n",
       "      <td>0</td>\n",
       "      <td>0</td>\n",
       "      <td>0</td>\n",
       "      <td>0</td>\n",
       "      <td>0</td>\n",
       "      <td>0</td>\n",
       "    </tr>\n",
       "    <tr>\n",
       "      <th>2</th>\n",
       "      <td>2100.0</td>\n",
       "      <td>2100.00</td>\n",
       "      <td>14.33</td>\n",
       "      <td>36.0</td>\n",
       "      <td>3.50</td>\n",
       "      <td>1000.00</td>\n",
       "      <td>692</td>\n",
       "      <td>13</td>\n",
       "      <td>6.817316</td>\n",
       "      <td>1.0</td>\n",
       "      <td>...</td>\n",
       "      <td>0</td>\n",
       "      <td>0</td>\n",
       "      <td>0</td>\n",
       "      <td>0</td>\n",
       "      <td>0</td>\n",
       "      <td>0</td>\n",
       "      <td>0</td>\n",
       "      <td>0</td>\n",
       "      <td>0</td>\n",
       "      <td>0</td>\n",
       "    </tr>\n",
       "    <tr>\n",
       "      <th>3</th>\n",
       "      <td>28000.0</td>\n",
       "      <td>28000.00</td>\n",
       "      <td>16.29</td>\n",
       "      <td>36.0</td>\n",
       "      <td>19.62</td>\n",
       "      <td>7083.33</td>\n",
       "      <td>712</td>\n",
       "      <td>12</td>\n",
       "      <td>10.550434</td>\n",
       "      <td>1.0</td>\n",
       "      <td>...</td>\n",
       "      <td>0</td>\n",
       "      <td>0</td>\n",
       "      <td>0</td>\n",
       "      <td>0</td>\n",
       "      <td>0</td>\n",
       "      <td>0</td>\n",
       "      <td>0</td>\n",
       "      <td>0</td>\n",
       "      <td>0</td>\n",
       "      <td>0</td>\n",
       "    </tr>\n",
       "    <tr>\n",
       "      <th>4</th>\n",
       "      <td>24250.0</td>\n",
       "      <td>17431.82</td>\n",
       "      <td>12.23</td>\n",
       "      <td>60.0</td>\n",
       "      <td>23.79</td>\n",
       "      <td>5833.33</td>\n",
       "      <td>732</td>\n",
       "      <td>6</td>\n",
       "      <td>10.343708</td>\n",
       "      <td>2.0</td>\n",
       "      <td>...</td>\n",
       "      <td>0</td>\n",
       "      <td>0</td>\n",
       "      <td>0</td>\n",
       "      <td>0</td>\n",
       "      <td>0</td>\n",
       "      <td>0</td>\n",
       "      <td>0</td>\n",
       "      <td>0</td>\n",
       "      <td>0</td>\n",
       "      <td>0</td>\n",
       "    </tr>\n",
       "  </tbody>\n",
       "</table>\n",
       "<p>5 rows × 73 columns</p>\n",
       "</div>"
      ],
      "text/plain": [
       "   Amount_Requested  Amount_Funded_By_Investors  Interest_Rate  Loan_Length  \\\n",
       "0           25000.0                    25000.00          18.49         60.0   \n",
       "1           19750.0                    19750.00          17.27         60.0   \n",
       "2            2100.0                     2100.00          14.33         36.0   \n",
       "3           28000.0                    28000.00          16.29         36.0   \n",
       "4           24250.0                    17431.82          12.23         60.0   \n",
       "\n",
       "   Debt_To_Income_Ratio  Monthly_Income  FICO_Range  Open_CREDIT_Lines  \\\n",
       "0                 27.56         8606.56         722                 11   \n",
       "1                 13.39         6737.50         712                 14   \n",
       "2                  3.50         1000.00         692                 13   \n",
       "3                 19.62         7083.33         712                 12   \n",
       "4                 23.79         5833.33         732                  6   \n",
       "\n",
       "   Revolving_CREDIT_Balance  Inquiries_in_the_Last_6_Months  ...  SC  SD  TX  \\\n",
       "0                  9.629708                             2.5  ...   0   0   0   \n",
       "1                  9.855872                             2.5  ...   0   0   0   \n",
       "2                  6.817316                             1.0  ...   0   0   0   \n",
       "3                 10.550434                             1.0  ...   0   0   0   \n",
       "4                 10.343708                             2.0  ...   0   0   0   \n",
       "\n",
       "   UT  VA  VT  WA  WI  WV  WY  \n",
       "0   0   1   0   0   0   0   0  \n",
       "1   0   0   0   0   0   0   0  \n",
       "2   0   0   0   0   0   0   0  \n",
       "3   0   0   0   0   0   0   0  \n",
       "4   0   0   0   0   0   0   0  \n",
       "\n",
       "[5 rows x 73 columns]"
      ]
     },
     "execution_count": 179,
     "metadata": {},
     "output_type": "execute_result"
    }
   ],
   "source": [
    "df1.head()"
   ]
  },
  {
   "cell_type": "code",
   "execution_count": 180,
   "id": "91f2a48c",
   "metadata": {},
   "outputs": [
    {
     "data": {
      "text/plain": [
       "(2199, 73)"
      ]
     },
     "execution_count": 180,
     "metadata": {},
     "output_type": "execute_result"
    }
   ],
   "source": [
    "df1.shape"
   ]
  },
  {
   "cell_type": "code",
   "execution_count": 181,
   "id": "0730788f",
   "metadata": {},
   "outputs": [
    {
     "data": {
      "text/html": [
       "<div>\n",
       "<style scoped>\n",
       "    .dataframe tbody tr th:only-of-type {\n",
       "        vertical-align: middle;\n",
       "    }\n",
       "\n",
       "    .dataframe tbody tr th {\n",
       "        vertical-align: top;\n",
       "    }\n",
       "\n",
       "    .dataframe thead th {\n",
       "        text-align: right;\n",
       "    }\n",
       "</style>\n",
       "<table border=\"1\" class=\"dataframe\">\n",
       "  <thead>\n",
       "    <tr style=\"text-align: right;\">\n",
       "      <th></th>\n",
       "      <th>Amount_Requested</th>\n",
       "      <th>Amount_Funded_By_Investors</th>\n",
       "      <th>Interest_Rate</th>\n",
       "      <th>Loan_Length</th>\n",
       "      <th>Debt_To_Income_Ratio</th>\n",
       "      <th>Monthly_Income</th>\n",
       "      <th>FICO_Range</th>\n",
       "      <th>Open_CREDIT_Lines</th>\n",
       "      <th>Revolving_CREDIT_Balance</th>\n",
       "      <th>Inquiries_in_the_Last_6_Months</th>\n",
       "      <th>...</th>\n",
       "      <th>SC</th>\n",
       "      <th>SD</th>\n",
       "      <th>TX</th>\n",
       "      <th>UT</th>\n",
       "      <th>VA</th>\n",
       "      <th>VT</th>\n",
       "      <th>WA</th>\n",
       "      <th>WI</th>\n",
       "      <th>WV</th>\n",
       "      <th>WY</th>\n",
       "    </tr>\n",
       "  </thead>\n",
       "  <tbody>\n",
       "    <tr>\n",
       "      <th>2195</th>\n",
       "      <td>30000.0</td>\n",
       "      <td>30000.0</td>\n",
       "      <td>23.28</td>\n",
       "      <td>60.0</td>\n",
       "      <td>12.10</td>\n",
       "      <td>7083.33</td>\n",
       "      <td>677</td>\n",
       "      <td>16</td>\n",
       "      <td>9.796403</td>\n",
       "      <td>1.0</td>\n",
       "      <td>...</td>\n",
       "      <td>0</td>\n",
       "      <td>0</td>\n",
       "      <td>0</td>\n",
       "      <td>0</td>\n",
       "      <td>0</td>\n",
       "      <td>0</td>\n",
       "      <td>0</td>\n",
       "      <td>0</td>\n",
       "      <td>0</td>\n",
       "      <td>0</td>\n",
       "    </tr>\n",
       "    <tr>\n",
       "      <th>2196</th>\n",
       "      <td>4200.0</td>\n",
       "      <td>4200.0</td>\n",
       "      <td>14.33</td>\n",
       "      <td>60.0</td>\n",
       "      <td>14.16</td>\n",
       "      <td>3850.00</td>\n",
       "      <td>702</td>\n",
       "      <td>4</td>\n",
       "      <td>8.651374</td>\n",
       "      <td>0.0</td>\n",
       "      <td>...</td>\n",
       "      <td>0</td>\n",
       "      <td>0</td>\n",
       "      <td>0</td>\n",
       "      <td>0</td>\n",
       "      <td>0</td>\n",
       "      <td>0</td>\n",
       "      <td>0</td>\n",
       "      <td>0</td>\n",
       "      <td>0</td>\n",
       "      <td>0</td>\n",
       "    </tr>\n",
       "    <tr>\n",
       "      <th>2197</th>\n",
       "      <td>19800.0</td>\n",
       "      <td>19775.0</td>\n",
       "      <td>15.31</td>\n",
       "      <td>60.0</td>\n",
       "      <td>15.03</td>\n",
       "      <td>6666.67</td>\n",
       "      <td>677</td>\n",
       "      <td>10</td>\n",
       "      <td>10.755325</td>\n",
       "      <td>2.5</td>\n",
       "      <td>...</td>\n",
       "      <td>0</td>\n",
       "      <td>0</td>\n",
       "      <td>0</td>\n",
       "      <td>0</td>\n",
       "      <td>0</td>\n",
       "      <td>0</td>\n",
       "      <td>0</td>\n",
       "      <td>0</td>\n",
       "      <td>0</td>\n",
       "      <td>0</td>\n",
       "    </tr>\n",
       "    <tr>\n",
       "      <th>2198</th>\n",
       "      <td>18000.0</td>\n",
       "      <td>18000.0</td>\n",
       "      <td>20.99</td>\n",
       "      <td>60.0</td>\n",
       "      <td>11.63</td>\n",
       "      <td>9051.83</td>\n",
       "      <td>672</td>\n",
       "      <td>5</td>\n",
       "      <td>10.385728</td>\n",
       "      <td>2.0</td>\n",
       "      <td>...</td>\n",
       "      <td>0</td>\n",
       "      <td>0</td>\n",
       "      <td>0</td>\n",
       "      <td>0</td>\n",
       "      <td>0</td>\n",
       "      <td>0</td>\n",
       "      <td>0</td>\n",
       "      <td>0</td>\n",
       "      <td>0</td>\n",
       "      <td>0</td>\n",
       "    </tr>\n",
       "    <tr>\n",
       "      <th>2199</th>\n",
       "      <td>7550.0</td>\n",
       "      <td>7550.0</td>\n",
       "      <td>10.16</td>\n",
       "      <td>36.0</td>\n",
       "      <td>3.83</td>\n",
       "      <td>8333.33</td>\n",
       "      <td>712</td>\n",
       "      <td>10</td>\n",
       "      <td>9.230535</td>\n",
       "      <td>0.0</td>\n",
       "      <td>...</td>\n",
       "      <td>0</td>\n",
       "      <td>0</td>\n",
       "      <td>0</td>\n",
       "      <td>0</td>\n",
       "      <td>0</td>\n",
       "      <td>0</td>\n",
       "      <td>0</td>\n",
       "      <td>0</td>\n",
       "      <td>0</td>\n",
       "      <td>0</td>\n",
       "    </tr>\n",
       "  </tbody>\n",
       "</table>\n",
       "<p>5 rows × 73 columns</p>\n",
       "</div>"
      ],
      "text/plain": [
       "      Amount_Requested  Amount_Funded_By_Investors  Interest_Rate  \\\n",
       "2195           30000.0                     30000.0          23.28   \n",
       "2196            4200.0                      4200.0          14.33   \n",
       "2197           19800.0                     19775.0          15.31   \n",
       "2198           18000.0                     18000.0          20.99   \n",
       "2199            7550.0                      7550.0          10.16   \n",
       "\n",
       "      Loan_Length  Debt_To_Income_Ratio  Monthly_Income  FICO_Range  \\\n",
       "2195         60.0                 12.10         7083.33         677   \n",
       "2196         60.0                 14.16         3850.00         702   \n",
       "2197         60.0                 15.03         6666.67         677   \n",
       "2198         60.0                 11.63         9051.83         672   \n",
       "2199         36.0                  3.83         8333.33         712   \n",
       "\n",
       "      Open_CREDIT_Lines  Revolving_CREDIT_Balance  \\\n",
       "2195                 16                  9.796403   \n",
       "2196                  4                  8.651374   \n",
       "2197                 10                 10.755325   \n",
       "2198                  5                 10.385728   \n",
       "2199                 10                  9.230535   \n",
       "\n",
       "      Inquiries_in_the_Last_6_Months  ...  SC  SD  TX  UT  VA  VT  WA  WI  WV  \\\n",
       "2195                             1.0  ...   0   0   0   0   0   0   0   0   0   \n",
       "2196                             0.0  ...   0   0   0   0   0   0   0   0   0   \n",
       "2197                             2.5  ...   0   0   0   0   0   0   0   0   0   \n",
       "2198                             2.0  ...   0   0   0   0   0   0   0   0   0   \n",
       "2199                             0.0  ...   0   0   0   0   0   0   0   0   0   \n",
       "\n",
       "      WY  \n",
       "2195   0  \n",
       "2196   0  \n",
       "2197   0  \n",
       "2198   0  \n",
       "2199   0  \n",
       "\n",
       "[5 rows x 73 columns]"
      ]
     },
     "execution_count": 181,
     "metadata": {},
     "output_type": "execute_result"
    }
   ],
   "source": [
    "df1.tail()"
   ]
  },
  {
   "cell_type": "markdown",
   "id": "09364463",
   "metadata": {},
   "source": [
    "# Scaling"
   ]
  },
  {
   "cell_type": "code",
   "execution_count": 182,
   "id": "f1b6677b",
   "metadata": {},
   "outputs": [],
   "source": [
    "from sklearn.preprocessing import MinMaxScaler,StandardScaler\n",
    "from sklearn.neighbors import KNeighborsRegressor"
   ]
  },
  {
   "cell_type": "code",
   "execution_count": 183,
   "id": "e2a41d14",
   "metadata": {},
   "outputs": [],
   "source": [
    "# revolving_credit_balance transformed\n"
   ]
  },
  {
   "cell_type": "markdown",
   "id": "54cb32f6",
   "metadata": {},
   "source": [
    "## Normalization "
   ]
  },
  {
   "cell_type": "code",
   "execution_count": 184,
   "id": "28ce54cf",
   "metadata": {},
   "outputs": [],
   "source": [
    "x=df1.drop('Interest_Rate',axis=1)\n",
    "y=df1['Interest_Rate']"
   ]
  },
  {
   "cell_type": "code",
   "execution_count": 185,
   "id": "94aff927",
   "metadata": {},
   "outputs": [
    {
     "data": {
      "text/html": [
       "<div>\n",
       "<style scoped>\n",
       "    .dataframe tbody tr th:only-of-type {\n",
       "        vertical-align: middle;\n",
       "    }\n",
       "\n",
       "    .dataframe tbody tr th {\n",
       "        vertical-align: top;\n",
       "    }\n",
       "\n",
       "    .dataframe thead th {\n",
       "        text-align: right;\n",
       "    }\n",
       "</style>\n",
       "<table border=\"1\" class=\"dataframe\">\n",
       "  <thead>\n",
       "    <tr style=\"text-align: right;\">\n",
       "      <th></th>\n",
       "      <th>Amount_Requested</th>\n",
       "      <th>Amount_Funded_By_Investors</th>\n",
       "      <th>Loan_Length</th>\n",
       "      <th>Debt_To_Income_Ratio</th>\n",
       "      <th>Monthly_Income</th>\n",
       "      <th>FICO_Range</th>\n",
       "      <th>Open_CREDIT_Lines</th>\n",
       "      <th>Revolving_CREDIT_Balance</th>\n",
       "      <th>Inquiries_in_the_Last_6_Months</th>\n",
       "      <th>Employment_Length</th>\n",
       "      <th>...</th>\n",
       "      <th>SC</th>\n",
       "      <th>SD</th>\n",
       "      <th>TX</th>\n",
       "      <th>UT</th>\n",
       "      <th>VA</th>\n",
       "      <th>VT</th>\n",
       "      <th>WA</th>\n",
       "      <th>WI</th>\n",
       "      <th>WV</th>\n",
       "      <th>WY</th>\n",
       "    </tr>\n",
       "  </thead>\n",
       "  <tbody>\n",
       "    <tr>\n",
       "      <th>0</th>\n",
       "      <td>0.705882</td>\n",
       "      <td>0.714286</td>\n",
       "      <td>1.0</td>\n",
       "      <td>0.789459</td>\n",
       "      <td>0.078484</td>\n",
       "      <td>0.421053</td>\n",
       "      <td>0.250000</td>\n",
       "      <td>0.580948</td>\n",
       "      <td>1.0</td>\n",
       "      <td>0.473684</td>\n",
       "      <td>...</td>\n",
       "      <td>0.0</td>\n",
       "      <td>0.0</td>\n",
       "      <td>0.0</td>\n",
       "      <td>0.0</td>\n",
       "      <td>1.0</td>\n",
       "      <td>0.0</td>\n",
       "      <td>0.0</td>\n",
       "      <td>0.0</td>\n",
       "      <td>0.0</td>\n",
       "      <td>0.0</td>\n",
       "    </tr>\n",
       "    <tr>\n",
       "      <th>1</th>\n",
       "      <td>0.551471</td>\n",
       "      <td>0.564286</td>\n",
       "      <td>1.0</td>\n",
       "      <td>0.383558</td>\n",
       "      <td>0.060189</td>\n",
       "      <td>0.368421</td>\n",
       "      <td>0.333333</td>\n",
       "      <td>0.627666</td>\n",
       "      <td>1.0</td>\n",
       "      <td>0.368421</td>\n",
       "      <td>...</td>\n",
       "      <td>0.0</td>\n",
       "      <td>0.0</td>\n",
       "      <td>0.0</td>\n",
       "      <td>0.0</td>\n",
       "      <td>0.0</td>\n",
       "      <td>0.0</td>\n",
       "      <td>0.0</td>\n",
       "      <td>0.0</td>\n",
       "      <td>0.0</td>\n",
       "      <td>0.0</td>\n",
       "    </tr>\n",
       "    <tr>\n",
       "      <th>2</th>\n",
       "      <td>0.032353</td>\n",
       "      <td>0.060000</td>\n",
       "      <td>0.0</td>\n",
       "      <td>0.100258</td>\n",
       "      <td>0.004028</td>\n",
       "      <td>0.263158</td>\n",
       "      <td>0.305556</td>\n",
       "      <td>0.000000</td>\n",
       "      <td>0.4</td>\n",
       "      <td>0.000000</td>\n",
       "      <td>...</td>\n",
       "      <td>0.0</td>\n",
       "      <td>0.0</td>\n",
       "      <td>0.0</td>\n",
       "      <td>0.0</td>\n",
       "      <td>0.0</td>\n",
       "      <td>0.0</td>\n",
       "      <td>0.0</td>\n",
       "      <td>0.0</td>\n",
       "      <td>0.0</td>\n",
       "      <td>0.0</td>\n",
       "    </tr>\n",
       "    <tr>\n",
       "      <th>3</th>\n",
       "      <td>0.794118</td>\n",
       "      <td>0.800000</td>\n",
       "      <td>0.0</td>\n",
       "      <td>0.562017</td>\n",
       "      <td>0.063574</td>\n",
       "      <td>0.368421</td>\n",
       "      <td>0.277778</td>\n",
       "      <td>0.771139</td>\n",
       "      <td>0.4</td>\n",
       "      <td>1.000000</td>\n",
       "      <td>...</td>\n",
       "      <td>0.0</td>\n",
       "      <td>0.0</td>\n",
       "      <td>0.0</td>\n",
       "      <td>0.0</td>\n",
       "      <td>0.0</td>\n",
       "      <td>0.0</td>\n",
       "      <td>0.0</td>\n",
       "      <td>0.0</td>\n",
       "      <td>0.0</td>\n",
       "      <td>0.0</td>\n",
       "    </tr>\n",
       "    <tr>\n",
       "      <th>4</th>\n",
       "      <td>0.683824</td>\n",
       "      <td>0.498052</td>\n",
       "      <td>1.0</td>\n",
       "      <td>0.681467</td>\n",
       "      <td>0.051339</td>\n",
       "      <td>0.473684</td>\n",
       "      <td>0.111111</td>\n",
       "      <td>0.728437</td>\n",
       "      <td>0.8</td>\n",
       "      <td>1.000000</td>\n",
       "      <td>...</td>\n",
       "      <td>0.0</td>\n",
       "      <td>0.0</td>\n",
       "      <td>0.0</td>\n",
       "      <td>0.0</td>\n",
       "      <td>0.0</td>\n",
       "      <td>0.0</td>\n",
       "      <td>0.0</td>\n",
       "      <td>0.0</td>\n",
       "      <td>0.0</td>\n",
       "      <td>0.0</td>\n",
       "    </tr>\n",
       "  </tbody>\n",
       "</table>\n",
       "<p>5 rows × 72 columns</p>\n",
       "</div>"
      ],
      "text/plain": [
       "   Amount_Requested  Amount_Funded_By_Investors  Loan_Length  \\\n",
       "0          0.705882                    0.714286          1.0   \n",
       "1          0.551471                    0.564286          1.0   \n",
       "2          0.032353                    0.060000          0.0   \n",
       "3          0.794118                    0.800000          0.0   \n",
       "4          0.683824                    0.498052          1.0   \n",
       "\n",
       "   Debt_To_Income_Ratio  Monthly_Income  FICO_Range  Open_CREDIT_Lines  \\\n",
       "0              0.789459        0.078484    0.421053           0.250000   \n",
       "1              0.383558        0.060189    0.368421           0.333333   \n",
       "2              0.100258        0.004028    0.263158           0.305556   \n",
       "3              0.562017        0.063574    0.368421           0.277778   \n",
       "4              0.681467        0.051339    0.473684           0.111111   \n",
       "\n",
       "   Revolving_CREDIT_Balance  Inquiries_in_the_Last_6_Months  \\\n",
       "0                  0.580948                             1.0   \n",
       "1                  0.627666                             1.0   \n",
       "2                  0.000000                             0.4   \n",
       "3                  0.771139                             0.4   \n",
       "4                  0.728437                             0.8   \n",
       "\n",
       "   Employment_Length  ...   SC   SD   TX   UT   VA   VT   WA   WI   WV   WY  \n",
       "0           0.473684  ...  0.0  0.0  0.0  0.0  1.0  0.0  0.0  0.0  0.0  0.0  \n",
       "1           0.368421  ...  0.0  0.0  0.0  0.0  0.0  0.0  0.0  0.0  0.0  0.0  \n",
       "2           0.000000  ...  0.0  0.0  0.0  0.0  0.0  0.0  0.0  0.0  0.0  0.0  \n",
       "3           1.000000  ...  0.0  0.0  0.0  0.0  0.0  0.0  0.0  0.0  0.0  0.0  \n",
       "4           1.000000  ...  0.0  0.0  0.0  0.0  0.0  0.0  0.0  0.0  0.0  0.0  \n",
       "\n",
       "[5 rows x 72 columns]"
      ]
     },
     "execution_count": 185,
     "metadata": {},
     "output_type": "execute_result"
    }
   ],
   "source": [
    "normal_scaler=MinMaxScaler()\n",
    "normal_array=normal_scaler.fit_transform(x)\n",
    "normal_df=pd.DataFrame(normal_array,columns=x.columns)\n",
    "normal_df.head()"
   ]
  },
  {
   "cell_type": "markdown",
   "id": "0bf2543c",
   "metadata": {},
   "source": [
    "# Model training"
   ]
  },
  {
   "cell_type": "code",
   "execution_count": 186,
   "id": "b2b77251",
   "metadata": {},
   "outputs": [],
   "source": [
    "x_train,x_test,y_train,y_test=train_test_split(normal_df,y,test_size=0.3,random_state=13)"
   ]
  },
  {
   "cell_type": "code",
   "execution_count": 187,
   "id": "771bc549",
   "metadata": {},
   "outputs": [
    {
     "data": {
      "text/html": [
       "<div>\n",
       "<style scoped>\n",
       "    .dataframe tbody tr th:only-of-type {\n",
       "        vertical-align: middle;\n",
       "    }\n",
       "\n",
       "    .dataframe tbody tr th {\n",
       "        vertical-align: top;\n",
       "    }\n",
       "\n",
       "    .dataframe thead th {\n",
       "        text-align: right;\n",
       "    }\n",
       "</style>\n",
       "<table border=\"1\" class=\"dataframe\">\n",
       "  <thead>\n",
       "    <tr style=\"text-align: right;\">\n",
       "      <th></th>\n",
       "      <th>Amount_Requested</th>\n",
       "      <th>Amount_Funded_By_Investors</th>\n",
       "      <th>Loan_Length</th>\n",
       "      <th>Debt_To_Income_Ratio</th>\n",
       "      <th>Monthly_Income</th>\n",
       "      <th>FICO_Range</th>\n",
       "      <th>Open_CREDIT_Lines</th>\n",
       "      <th>Revolving_CREDIT_Balance</th>\n",
       "      <th>Inquiries_in_the_Last_6_Months</th>\n",
       "      <th>Employment_Length</th>\n",
       "      <th>...</th>\n",
       "      <th>SC</th>\n",
       "      <th>SD</th>\n",
       "      <th>TX</th>\n",
       "      <th>UT</th>\n",
       "      <th>VA</th>\n",
       "      <th>VT</th>\n",
       "      <th>WA</th>\n",
       "      <th>WI</th>\n",
       "      <th>WV</th>\n",
       "      <th>WY</th>\n",
       "    </tr>\n",
       "  </thead>\n",
       "  <tbody>\n",
       "    <tr>\n",
       "      <th>1580</th>\n",
       "      <td>0.558824</td>\n",
       "      <td>0.571429</td>\n",
       "      <td>0.0</td>\n",
       "      <td>0.445431</td>\n",
       "      <td>0.054601</td>\n",
       "      <td>0.368421</td>\n",
       "      <td>0.111111</td>\n",
       "      <td>0.664014</td>\n",
       "      <td>0.8</td>\n",
       "      <td>0.000000</td>\n",
       "      <td>...</td>\n",
       "      <td>0.0</td>\n",
       "      <td>0.0</td>\n",
       "      <td>0.0</td>\n",
       "      <td>0.0</td>\n",
       "      <td>0.0</td>\n",
       "      <td>0.0</td>\n",
       "      <td>0.0</td>\n",
       "      <td>0.0</td>\n",
       "      <td>0.0</td>\n",
       "      <td>0.0</td>\n",
       "    </tr>\n",
       "    <tr>\n",
       "      <th>2175</th>\n",
       "      <td>0.382353</td>\n",
       "      <td>0.400000</td>\n",
       "      <td>0.0</td>\n",
       "      <td>0.384990</td>\n",
       "      <td>0.071731</td>\n",
       "      <td>0.263158</td>\n",
       "      <td>0.388889</td>\n",
       "      <td>0.633549</td>\n",
       "      <td>0.0</td>\n",
       "      <td>1.000000</td>\n",
       "      <td>...</td>\n",
       "      <td>0.0</td>\n",
       "      <td>0.0</td>\n",
       "      <td>0.0</td>\n",
       "      <td>0.0</td>\n",
       "      <td>0.0</td>\n",
       "      <td>0.0</td>\n",
       "      <td>0.0</td>\n",
       "      <td>0.0</td>\n",
       "      <td>0.0</td>\n",
       "      <td>0.0</td>\n",
       "    </tr>\n",
       "    <tr>\n",
       "      <th>1531</th>\n",
       "      <td>0.558824</td>\n",
       "      <td>0.571429</td>\n",
       "      <td>1.0</td>\n",
       "      <td>0.449155</td>\n",
       "      <td>0.063574</td>\n",
       "      <td>0.421053</td>\n",
       "      <td>0.166667</td>\n",
       "      <td>0.607185</td>\n",
       "      <td>0.0</td>\n",
       "      <td>0.473684</td>\n",
       "      <td>...</td>\n",
       "      <td>0.0</td>\n",
       "      <td>0.0</td>\n",
       "      <td>0.0</td>\n",
       "      <td>0.0</td>\n",
       "      <td>0.0</td>\n",
       "      <td>0.0</td>\n",
       "      <td>0.0</td>\n",
       "      <td>0.0</td>\n",
       "      <td>0.0</td>\n",
       "      <td>0.0</td>\n",
       "    </tr>\n",
       "    <tr>\n",
       "      <th>776</th>\n",
       "      <td>1.000000</td>\n",
       "      <td>1.000000</td>\n",
       "      <td>0.0</td>\n",
       "      <td>0.570610</td>\n",
       "      <td>0.132909</td>\n",
       "      <td>0.105263</td>\n",
       "      <td>0.277778</td>\n",
       "      <td>1.000000</td>\n",
       "      <td>0.4</td>\n",
       "      <td>1.000000</td>\n",
       "      <td>...</td>\n",
       "      <td>0.0</td>\n",
       "      <td>0.0</td>\n",
       "      <td>0.0</td>\n",
       "      <td>0.0</td>\n",
       "      <td>0.0</td>\n",
       "      <td>0.0</td>\n",
       "      <td>0.0</td>\n",
       "      <td>0.0</td>\n",
       "      <td>0.0</td>\n",
       "      <td>0.0</td>\n",
       "    </tr>\n",
       "    <tr>\n",
       "      <th>691</th>\n",
       "      <td>0.402206</td>\n",
       "      <td>0.419286</td>\n",
       "      <td>0.0</td>\n",
       "      <td>0.428244</td>\n",
       "      <td>0.033393</td>\n",
       "      <td>0.394737</td>\n",
       "      <td>0.111111</td>\n",
       "      <td>0.544731</td>\n",
       "      <td>0.0</td>\n",
       "      <td>0.684211</td>\n",
       "      <td>...</td>\n",
       "      <td>0.0</td>\n",
       "      <td>0.0</td>\n",
       "      <td>0.0</td>\n",
       "      <td>0.0</td>\n",
       "      <td>0.0</td>\n",
       "      <td>0.0</td>\n",
       "      <td>0.0</td>\n",
       "      <td>0.0</td>\n",
       "      <td>0.0</td>\n",
       "      <td>0.0</td>\n",
       "    </tr>\n",
       "  </tbody>\n",
       "</table>\n",
       "<p>5 rows × 72 columns</p>\n",
       "</div>"
      ],
      "text/plain": [
       "      Amount_Requested  Amount_Funded_By_Investors  Loan_Length  \\\n",
       "1580          0.558824                    0.571429          0.0   \n",
       "2175          0.382353                    0.400000          0.0   \n",
       "1531          0.558824                    0.571429          1.0   \n",
       "776           1.000000                    1.000000          0.0   \n",
       "691           0.402206                    0.419286          0.0   \n",
       "\n",
       "      Debt_To_Income_Ratio  Monthly_Income  FICO_Range  Open_CREDIT_Lines  \\\n",
       "1580              0.445431        0.054601    0.368421           0.111111   \n",
       "2175              0.384990        0.071731    0.263158           0.388889   \n",
       "1531              0.449155        0.063574    0.421053           0.166667   \n",
       "776               0.570610        0.132909    0.105263           0.277778   \n",
       "691               0.428244        0.033393    0.394737           0.111111   \n",
       "\n",
       "      Revolving_CREDIT_Balance  Inquiries_in_the_Last_6_Months  \\\n",
       "1580                  0.664014                             0.8   \n",
       "2175                  0.633549                             0.0   \n",
       "1531                  0.607185                             0.0   \n",
       "776                   1.000000                             0.4   \n",
       "691                   0.544731                             0.0   \n",
       "\n",
       "      Employment_Length  ...   SC   SD   TX   UT   VA   VT   WA   WI   WV   WY  \n",
       "1580           0.000000  ...  0.0  0.0  0.0  0.0  0.0  0.0  0.0  0.0  0.0  0.0  \n",
       "2175           1.000000  ...  0.0  0.0  0.0  0.0  0.0  0.0  0.0  0.0  0.0  0.0  \n",
       "1531           0.473684  ...  0.0  0.0  0.0  0.0  0.0  0.0  0.0  0.0  0.0  0.0  \n",
       "776            1.000000  ...  0.0  0.0  0.0  0.0  0.0  0.0  0.0  0.0  0.0  0.0  \n",
       "691            0.684211  ...  0.0  0.0  0.0  0.0  0.0  0.0  0.0  0.0  0.0  0.0  \n",
       "\n",
       "[5 rows x 72 columns]"
      ]
     },
     "execution_count": 187,
     "metadata": {},
     "output_type": "execute_result"
    }
   ],
   "source": [
    "x_train.head()"
   ]
  },
  {
   "cell_type": "code",
   "execution_count": 188,
   "id": "62a622ec",
   "metadata": {},
   "outputs": [
    {
     "data": {
      "text/plain": [
       "25      14.65\n",
       "139     23.28\n",
       "1258    16.29\n",
       "1852    14.65\n",
       "1537    18.55\n",
       "Name: Interest_Rate, dtype: float64"
      ]
     },
     "execution_count": 188,
     "metadata": {},
     "output_type": "execute_result"
    }
   ],
   "source": [
    "y_test.head()"
   ]
  },
  {
   "cell_type": "code",
   "execution_count": 189,
   "id": "5cc3f052",
   "metadata": {},
   "outputs": [
    {
     "data": {
      "text/plain": [
       "KNeighborsRegressor()"
      ]
     },
     "execution_count": 189,
     "metadata": {},
     "output_type": "execute_result"
    }
   ],
   "source": [
    "#training\n",
    "knn_model=KNeighborsRegressor()\n",
    "knn_model.fit(x_train,y_train)"
   ]
  },
  {
   "cell_type": "code",
   "execution_count": 190,
   "id": "26f47693",
   "metadata": {},
   "outputs": [
    {
     "name": "stdout",
     "output_type": "stream",
     "text": [
      "mean_absolute_error >>   2.8434181818181816\n",
      "mean_squared_error >>   12.624122412121213\n",
      "root_mean_squared_error >>   3.553044105006468\n",
      "r2_scores >>   0.29330409893043674\n"
     ]
    }
   ],
   "source": [
    "# without hyp tuning\n",
    "# evaluation\n",
    "\n",
    "\n",
    "# Testing data\n",
    "\n",
    "y_pred= knn_model.predict(x_test)\n",
    "\n",
    "mae = mean_absolute_error(y_test,y_pred)\n",
    "print('mean_absolute_error >>  ', mae)\n",
    "\n",
    "mse = mean_squared_error(y_test,y_pred)\n",
    "print('mean_squared_error >>  ', mse)\n",
    "\n",
    "rmse = np.sqrt(mse)\n",
    "print('root_mean_squared_error >>  ', rmse)\n",
    "\n",
    "r2_scores = r2_score(y_test,y_pred)\n",
    "print('r2_scores >>  ', r2_scores)"
   ]
  },
  {
   "cell_type": "code",
   "execution_count": 191,
   "id": "cbd83e1b",
   "metadata": {},
   "outputs": [
    {
     "name": "stdout",
     "output_type": "stream",
     "text": [
      "mean_absolute_error >>   2.414214424951267\n",
      "mean_squared_error >>   8.978569434697855\n",
      "root_mean_squared_error >>   2.9964261103350864\n",
      "r2_scores >>   0.47871890229588665\n"
     ]
    }
   ],
   "source": [
    "# Training data\n",
    "\n",
    "y_pred_train = knn_model.predict(x_train)\n",
    "\n",
    "mae = mean_absolute_error(y_train,y_pred_train)\n",
    "print('mean_absolute_error >>  ', mae)\n",
    "\n",
    "mse = mean_squared_error(y_train,y_pred_train)\n",
    "print('mean_squared_error >>  ', mse)\n",
    "\n",
    "rmse = np.sqrt(mse)\n",
    "print('root_mean_squared_error >>  ', rmse)\n",
    "\n",
    "r2_scores = r2_score(y_train,y_pred_train)\n",
    "print('r2_scores >>  ', r2_scores)"
   ]
  },
  {
   "cell_type": "code",
   "execution_count": 192,
   "id": "e42a716d",
   "metadata": {},
   "outputs": [
    {
     "data": {
      "text/plain": [
       "KNeighborsRegressor(n_neighbors=23, p=1)"
      ]
     },
     "execution_count": 192,
     "metadata": {},
     "output_type": "execute_result"
    }
   ],
   "source": [
    "# with hyp tuning\n",
    "knn_model=KNeighborsRegressor()\n",
    "hyp={'n_neighbors':np.arange(2,30),\n",
    "    'p':[1,2]}\n",
    "rscv_knn_model=RandomizedSearchCV(knn_model,hyp,cv=5)\n",
    "rscv_knn_model.fit(x_train,y_train)\n",
    "rscv_knn_model.best_estimator_"
   ]
  },
  {
   "cell_type": "code",
   "execution_count": 193,
   "id": "c6b57632",
   "metadata": {},
   "outputs": [
    {
     "data": {
      "text/plain": [
       "KNeighborsRegressor(n_neighbors=23, p=1)"
      ]
     },
     "execution_count": 193,
     "metadata": {},
     "output_type": "execute_result"
    }
   ],
   "source": [
    "knn_model=rscv_knn_model.best_estimator_\n",
    "knn_model.fit(x_train,y_train)"
   ]
  },
  {
   "cell_type": "code",
   "execution_count": 194,
   "id": "9dc8c3b4",
   "metadata": {},
   "outputs": [
    {
     "name": "stdout",
     "output_type": "stream",
     "text": [
      "mean_absolute_error >>   2.6144808959156784\n",
      "mean_squared_error >>   10.33279232915163\n",
      "root_mean_squared_error >>   3.2144661032824144\n",
      "r2_scores >>   0.42157230837660153\n"
     ]
    }
   ],
   "source": [
    "# Testing data\n",
    "\n",
    "y_pred= knn_model.predict(x_test)\n",
    "\n",
    "mae = mean_absolute_error(y_test,y_pred)\n",
    "print('mean_absolute_error >>  ', mae)\n",
    "\n",
    "mse = mean_squared_error(y_test,y_pred)\n",
    "print('mean_squared_error >>  ', mse)\n",
    "\n",
    "rmse = np.sqrt(mse)\n",
    "print('root_mean_squared_error >>  ', rmse)\n",
    "\n",
    "r2_scores = r2_score(y_test,y_pred)\n",
    "print('r2_scores >>  ', r2_scores)"
   ]
  },
  {
   "cell_type": "code",
   "execution_count": 195,
   "id": "437eb35c",
   "metadata": {},
   "outputs": [
    {
     "name": "stdout",
     "output_type": "stream",
     "text": [
      "mean_absolute_error >>   2.48630505410063\n",
      "mean_squared_error >>   9.456230833858433\n",
      "root_mean_squared_error >>   3.075098507992619\n",
      "r2_scores >>   0.450986660506559\n"
     ]
    }
   ],
   "source": [
    "# Training data\n",
    "\n",
    "y_pred_train = knn_model.predict(x_train)\n",
    "\n",
    "mae = mean_absolute_error(y_train,y_pred_train)\n",
    "print('mean_absolute_error >>  ', mae)\n",
    "\n",
    "mse = mean_squared_error(y_train,y_pred_train)\n",
    "print('mean_squared_error >>  ', mse)\n",
    "\n",
    "rmse = np.sqrt(mse)\n",
    "print('root_mean_squared_error >>  ', rmse)\n",
    "\n",
    "r2_scores = r2_score(y_train,y_pred_train)\n",
    "print('r2_scores >>  ', r2_scores)"
   ]
  },
  {
   "cell_type": "markdown",
   "id": "beb34736",
   "metadata": {},
   "source": [
    "# decision tree"
   ]
  },
  {
   "cell_type": "code",
   "execution_count": 196,
   "id": "61dd9e38",
   "metadata": {},
   "outputs": [],
   "source": [
    "from sklearn.tree import DecisionTreeRegressor"
   ]
  },
  {
   "cell_type": "code",
   "execution_count": 197,
   "id": "3c8564a5",
   "metadata": {},
   "outputs": [
    {
     "data": {
      "text/html": [
       "<div>\n",
       "<style scoped>\n",
       "    .dataframe tbody tr th:only-of-type {\n",
       "        vertical-align: middle;\n",
       "    }\n",
       "\n",
       "    .dataframe tbody tr th {\n",
       "        vertical-align: top;\n",
       "    }\n",
       "\n",
       "    .dataframe thead th {\n",
       "        text-align: right;\n",
       "    }\n",
       "</style>\n",
       "<table border=\"1\" class=\"dataframe\">\n",
       "  <thead>\n",
       "    <tr style=\"text-align: right;\">\n",
       "      <th></th>\n",
       "      <th>Amount_Requested</th>\n",
       "      <th>Amount_Funded_By_Investors</th>\n",
       "      <th>Loan_Length</th>\n",
       "      <th>Debt_To_Income_Ratio</th>\n",
       "      <th>Monthly_Income</th>\n",
       "      <th>FICO_Range</th>\n",
       "      <th>Open_CREDIT_Lines</th>\n",
       "      <th>Revolving_CREDIT_Balance</th>\n",
       "      <th>Inquiries_in_the_Last_6_Months</th>\n",
       "      <th>Employment_Length</th>\n",
       "      <th>...</th>\n",
       "      <th>SC</th>\n",
       "      <th>SD</th>\n",
       "      <th>TX</th>\n",
       "      <th>UT</th>\n",
       "      <th>VA</th>\n",
       "      <th>VT</th>\n",
       "      <th>WA</th>\n",
       "      <th>WI</th>\n",
       "      <th>WV</th>\n",
       "      <th>WY</th>\n",
       "    </tr>\n",
       "  </thead>\n",
       "  <tbody>\n",
       "    <tr>\n",
       "      <th>0</th>\n",
       "      <td>25000.0</td>\n",
       "      <td>25000.00</td>\n",
       "      <td>60.0</td>\n",
       "      <td>27.56</td>\n",
       "      <td>8606.56</td>\n",
       "      <td>722</td>\n",
       "      <td>11</td>\n",
       "      <td>9.629708</td>\n",
       "      <td>2.5</td>\n",
       "      <td>5.0</td>\n",
       "      <td>...</td>\n",
       "      <td>0</td>\n",
       "      <td>0</td>\n",
       "      <td>0</td>\n",
       "      <td>0</td>\n",
       "      <td>1</td>\n",
       "      <td>0</td>\n",
       "      <td>0</td>\n",
       "      <td>0</td>\n",
       "      <td>0</td>\n",
       "      <td>0</td>\n",
       "    </tr>\n",
       "    <tr>\n",
       "      <th>1</th>\n",
       "      <td>19750.0</td>\n",
       "      <td>19750.00</td>\n",
       "      <td>60.0</td>\n",
       "      <td>13.39</td>\n",
       "      <td>6737.50</td>\n",
       "      <td>712</td>\n",
       "      <td>14</td>\n",
       "      <td>9.855872</td>\n",
       "      <td>2.5</td>\n",
       "      <td>4.0</td>\n",
       "      <td>...</td>\n",
       "      <td>0</td>\n",
       "      <td>0</td>\n",
       "      <td>0</td>\n",
       "      <td>0</td>\n",
       "      <td>0</td>\n",
       "      <td>0</td>\n",
       "      <td>0</td>\n",
       "      <td>0</td>\n",
       "      <td>0</td>\n",
       "      <td>0</td>\n",
       "    </tr>\n",
       "    <tr>\n",
       "      <th>2</th>\n",
       "      <td>2100.0</td>\n",
       "      <td>2100.00</td>\n",
       "      <td>36.0</td>\n",
       "      <td>3.50</td>\n",
       "      <td>1000.00</td>\n",
       "      <td>692</td>\n",
       "      <td>13</td>\n",
       "      <td>6.817316</td>\n",
       "      <td>1.0</td>\n",
       "      <td>0.5</td>\n",
       "      <td>...</td>\n",
       "      <td>0</td>\n",
       "      <td>0</td>\n",
       "      <td>0</td>\n",
       "      <td>0</td>\n",
       "      <td>0</td>\n",
       "      <td>0</td>\n",
       "      <td>0</td>\n",
       "      <td>0</td>\n",
       "      <td>0</td>\n",
       "      <td>0</td>\n",
       "    </tr>\n",
       "    <tr>\n",
       "      <th>3</th>\n",
       "      <td>28000.0</td>\n",
       "      <td>28000.00</td>\n",
       "      <td>36.0</td>\n",
       "      <td>19.62</td>\n",
       "      <td>7083.33</td>\n",
       "      <td>712</td>\n",
       "      <td>12</td>\n",
       "      <td>10.550434</td>\n",
       "      <td>1.0</td>\n",
       "      <td>10.0</td>\n",
       "      <td>...</td>\n",
       "      <td>0</td>\n",
       "      <td>0</td>\n",
       "      <td>0</td>\n",
       "      <td>0</td>\n",
       "      <td>0</td>\n",
       "      <td>0</td>\n",
       "      <td>0</td>\n",
       "      <td>0</td>\n",
       "      <td>0</td>\n",
       "      <td>0</td>\n",
       "    </tr>\n",
       "    <tr>\n",
       "      <th>4</th>\n",
       "      <td>24250.0</td>\n",
       "      <td>17431.82</td>\n",
       "      <td>60.0</td>\n",
       "      <td>23.79</td>\n",
       "      <td>5833.33</td>\n",
       "      <td>732</td>\n",
       "      <td>6</td>\n",
       "      <td>10.343708</td>\n",
       "      <td>2.0</td>\n",
       "      <td>10.0</td>\n",
       "      <td>...</td>\n",
       "      <td>0</td>\n",
       "      <td>0</td>\n",
       "      <td>0</td>\n",
       "      <td>0</td>\n",
       "      <td>0</td>\n",
       "      <td>0</td>\n",
       "      <td>0</td>\n",
       "      <td>0</td>\n",
       "      <td>0</td>\n",
       "      <td>0</td>\n",
       "    </tr>\n",
       "    <tr>\n",
       "      <th>...</th>\n",
       "      <td>...</td>\n",
       "      <td>...</td>\n",
       "      <td>...</td>\n",
       "      <td>...</td>\n",
       "      <td>...</td>\n",
       "      <td>...</td>\n",
       "      <td>...</td>\n",
       "      <td>...</td>\n",
       "      <td>...</td>\n",
       "      <td>...</td>\n",
       "      <td>...</td>\n",
       "      <td>...</td>\n",
       "      <td>...</td>\n",
       "      <td>...</td>\n",
       "      <td>...</td>\n",
       "      <td>...</td>\n",
       "      <td>...</td>\n",
       "      <td>...</td>\n",
       "      <td>...</td>\n",
       "      <td>...</td>\n",
       "      <td>...</td>\n",
       "    </tr>\n",
       "    <tr>\n",
       "      <th>2195</th>\n",
       "      <td>30000.0</td>\n",
       "      <td>30000.00</td>\n",
       "      <td>60.0</td>\n",
       "      <td>12.10</td>\n",
       "      <td>7083.33</td>\n",
       "      <td>677</td>\n",
       "      <td>16</td>\n",
       "      <td>9.796403</td>\n",
       "      <td>1.0</td>\n",
       "      <td>10.0</td>\n",
       "      <td>...</td>\n",
       "      <td>0</td>\n",
       "      <td>0</td>\n",
       "      <td>0</td>\n",
       "      <td>0</td>\n",
       "      <td>0</td>\n",
       "      <td>0</td>\n",
       "      <td>0</td>\n",
       "      <td>0</td>\n",
       "      <td>0</td>\n",
       "      <td>0</td>\n",
       "    </tr>\n",
       "    <tr>\n",
       "      <th>2196</th>\n",
       "      <td>4200.0</td>\n",
       "      <td>4200.00</td>\n",
       "      <td>60.0</td>\n",
       "      <td>14.16</td>\n",
       "      <td>3850.00</td>\n",
       "      <td>702</td>\n",
       "      <td>4</td>\n",
       "      <td>8.651374</td>\n",
       "      <td>0.0</td>\n",
       "      <td>2.0</td>\n",
       "      <td>...</td>\n",
       "      <td>0</td>\n",
       "      <td>0</td>\n",
       "      <td>0</td>\n",
       "      <td>0</td>\n",
       "      <td>0</td>\n",
       "      <td>0</td>\n",
       "      <td>0</td>\n",
       "      <td>0</td>\n",
       "      <td>0</td>\n",
       "      <td>0</td>\n",
       "    </tr>\n",
       "    <tr>\n",
       "      <th>2197</th>\n",
       "      <td>19800.0</td>\n",
       "      <td>19775.00</td>\n",
       "      <td>60.0</td>\n",
       "      <td>15.03</td>\n",
       "      <td>6666.67</td>\n",
       "      <td>677</td>\n",
       "      <td>10</td>\n",
       "      <td>10.755325</td>\n",
       "      <td>2.5</td>\n",
       "      <td>6.0</td>\n",
       "      <td>...</td>\n",
       "      <td>0</td>\n",
       "      <td>0</td>\n",
       "      <td>0</td>\n",
       "      <td>0</td>\n",
       "      <td>0</td>\n",
       "      <td>0</td>\n",
       "      <td>0</td>\n",
       "      <td>0</td>\n",
       "      <td>0</td>\n",
       "      <td>0</td>\n",
       "    </tr>\n",
       "    <tr>\n",
       "      <th>2198</th>\n",
       "      <td>18000.0</td>\n",
       "      <td>18000.00</td>\n",
       "      <td>60.0</td>\n",
       "      <td>11.63</td>\n",
       "      <td>9051.83</td>\n",
       "      <td>672</td>\n",
       "      <td>5</td>\n",
       "      <td>10.385728</td>\n",
       "      <td>2.0</td>\n",
       "      <td>4.0</td>\n",
       "      <td>...</td>\n",
       "      <td>0</td>\n",
       "      <td>0</td>\n",
       "      <td>0</td>\n",
       "      <td>0</td>\n",
       "      <td>0</td>\n",
       "      <td>0</td>\n",
       "      <td>0</td>\n",
       "      <td>0</td>\n",
       "      <td>0</td>\n",
       "      <td>0</td>\n",
       "    </tr>\n",
       "    <tr>\n",
       "      <th>2199</th>\n",
       "      <td>7550.0</td>\n",
       "      <td>7550.00</td>\n",
       "      <td>36.0</td>\n",
       "      <td>3.83</td>\n",
       "      <td>8333.33</td>\n",
       "      <td>712</td>\n",
       "      <td>10</td>\n",
       "      <td>9.230535</td>\n",
       "      <td>0.0</td>\n",
       "      <td>2.0</td>\n",
       "      <td>...</td>\n",
       "      <td>0</td>\n",
       "      <td>0</td>\n",
       "      <td>0</td>\n",
       "      <td>0</td>\n",
       "      <td>0</td>\n",
       "      <td>0</td>\n",
       "      <td>0</td>\n",
       "      <td>0</td>\n",
       "      <td>0</td>\n",
       "      <td>0</td>\n",
       "    </tr>\n",
       "  </tbody>\n",
       "</table>\n",
       "<p>2199 rows × 72 columns</p>\n",
       "</div>"
      ],
      "text/plain": [
       "      Amount_Requested  Amount_Funded_By_Investors  Loan_Length  \\\n",
       "0              25000.0                    25000.00         60.0   \n",
       "1              19750.0                    19750.00         60.0   \n",
       "2               2100.0                     2100.00         36.0   \n",
       "3              28000.0                    28000.00         36.0   \n",
       "4              24250.0                    17431.82         60.0   \n",
       "...                ...                         ...          ...   \n",
       "2195           30000.0                    30000.00         60.0   \n",
       "2196            4200.0                     4200.00         60.0   \n",
       "2197           19800.0                    19775.00         60.0   \n",
       "2198           18000.0                    18000.00         60.0   \n",
       "2199            7550.0                     7550.00         36.0   \n",
       "\n",
       "      Debt_To_Income_Ratio  Monthly_Income  FICO_Range  Open_CREDIT_Lines  \\\n",
       "0                    27.56         8606.56         722                 11   \n",
       "1                    13.39         6737.50         712                 14   \n",
       "2                     3.50         1000.00         692                 13   \n",
       "3                    19.62         7083.33         712                 12   \n",
       "4                    23.79         5833.33         732                  6   \n",
       "...                    ...             ...         ...                ...   \n",
       "2195                 12.10         7083.33         677                 16   \n",
       "2196                 14.16         3850.00         702                  4   \n",
       "2197                 15.03         6666.67         677                 10   \n",
       "2198                 11.63         9051.83         672                  5   \n",
       "2199                  3.83         8333.33         712                 10   \n",
       "\n",
       "      Revolving_CREDIT_Balance  Inquiries_in_the_Last_6_Months  \\\n",
       "0                     9.629708                             2.5   \n",
       "1                     9.855872                             2.5   \n",
       "2                     6.817316                             1.0   \n",
       "3                    10.550434                             1.0   \n",
       "4                    10.343708                             2.0   \n",
       "...                        ...                             ...   \n",
       "2195                  9.796403                             1.0   \n",
       "2196                  8.651374                             0.0   \n",
       "2197                 10.755325                             2.5   \n",
       "2198                 10.385728                             2.0   \n",
       "2199                  9.230535                             0.0   \n",
       "\n",
       "      Employment_Length  ...  SC  SD  TX  UT  VA  VT  WA  WI  WV  WY  \n",
       "0                   5.0  ...   0   0   0   0   1   0   0   0   0   0  \n",
       "1                   4.0  ...   0   0   0   0   0   0   0   0   0   0  \n",
       "2                   0.5  ...   0   0   0   0   0   0   0   0   0   0  \n",
       "3                  10.0  ...   0   0   0   0   0   0   0   0   0   0  \n",
       "4                  10.0  ...   0   0   0   0   0   0   0   0   0   0  \n",
       "...                 ...  ...  ..  ..  ..  ..  ..  ..  ..  ..  ..  ..  \n",
       "2195               10.0  ...   0   0   0   0   0   0   0   0   0   0  \n",
       "2196                2.0  ...   0   0   0   0   0   0   0   0   0   0  \n",
       "2197                6.0  ...   0   0   0   0   0   0   0   0   0   0  \n",
       "2198                4.0  ...   0   0   0   0   0   0   0   0   0   0  \n",
       "2199                2.0  ...   0   0   0   0   0   0   0   0   0   0  \n",
       "\n",
       "[2199 rows x 72 columns]"
      ]
     },
     "execution_count": 197,
     "metadata": {},
     "output_type": "execute_result"
    }
   ],
   "source": [
    "x"
   ]
  },
  {
   "cell_type": "code",
   "execution_count": 198,
   "id": "df46998e",
   "metadata": {},
   "outputs": [
    {
     "data": {
      "text/plain": [
       "0       18.49\n",
       "1       17.27\n",
       "2       14.33\n",
       "3       16.29\n",
       "4       12.23\n",
       "        ...  \n",
       "2195    23.28\n",
       "2196    14.33\n",
       "2197    15.31\n",
       "2198    20.99\n",
       "2199    10.16\n",
       "Name: Interest_Rate, Length: 2199, dtype: float64"
      ]
     },
     "execution_count": 198,
     "metadata": {},
     "output_type": "execute_result"
    }
   ],
   "source": [
    "y"
   ]
  },
  {
   "cell_type": "code",
   "execution_count": 199,
   "id": "bb18ed03",
   "metadata": {},
   "outputs": [],
   "source": [
    "x_train,x_test,y_train,y_test=train_test_split(x,y,test_size=0.3,random_state=23)"
   ]
  },
  {
   "cell_type": "code",
   "execution_count": 200,
   "id": "2537fc01",
   "metadata": {},
   "outputs": [
    {
     "data": {
      "text/plain": [
       "DecisionTreeRegressor()"
      ]
     },
     "execution_count": 200,
     "metadata": {},
     "output_type": "execute_result"
    }
   ],
   "source": [
    "dt_modl=DecisionTreeRegressor()\n",
    "dt_modl.fit(x_train,y_train)"
   ]
  },
  {
   "cell_type": "markdown",
   "id": "2e0b4a9f",
   "metadata": {},
   "source": [
    "##  without hyp "
   ]
  },
  {
   "cell_type": "code",
   "execution_count": 201,
   "id": "4177de78",
   "metadata": {},
   "outputs": [
    {
     "name": "stdout",
     "output_type": "stream",
     "text": [
      "mean_absolute_error >>   1.83630303030303\n",
      "mean_squared_error >>   6.367641212121211\n",
      "root_mean_squared_error >>   2.523418556664988\n",
      "r2_scores >>   0.6261475303344243\n"
     ]
    }
   ],
   "source": [
    "# Testing data\n",
    "\n",
    "y_pred= dt_modl.predict(x_test)\n",
    "\n",
    "mae = mean_absolute_error(y_test,y_pred)\n",
    "print('mean_absolute_error >>  ', mae)\n",
    "\n",
    "mse = mean_squared_error(y_test,y_pred)\n",
    "print('mean_squared_error >>  ', mse)\n",
    "\n",
    "rmse = np.sqrt(mse)\n",
    "print('root_mean_squared_error >>  ', rmse)\n",
    "\n",
    "r2_scores = r2_score(y_test,y_pred)\n",
    "print('r2_scores >>  ', r2_scores)"
   ]
  },
  {
   "cell_type": "code",
   "execution_count": 202,
   "id": "6a9cc8b5",
   "metadata": {},
   "outputs": [
    {
     "name": "stdout",
     "output_type": "stream",
     "text": [
      "mean_absolute_error >>   3.8089522872130125e-17\n",
      "mean_squared_error >>   6.458510335142786e-32\n",
      "root_mean_squared_error >>   2.541359938132099e-16\n",
      "r2_scores >>   1.0\n"
     ]
    }
   ],
   "source": [
    "# Training data\n",
    "\n",
    "y_pred_train = dt_modl.predict(x_train)\n",
    "\n",
    "mae = mean_absolute_error(y_train,y_pred_train)\n",
    "print('mean_absolute_error >>  ', mae)\n",
    "\n",
    "mse = mean_squared_error(y_train,y_pred_train)\n",
    "print('mean_squared_error >>  ', mse)\n",
    "\n",
    "rmse = np.sqrt(mse)\n",
    "print('root_mean_squared_error >>  ', rmse)\n",
    "\n",
    "r2_scores = r2_score(y_train,y_pred_train)\n",
    "print('r2_scores >>  ', r2_scores)"
   ]
  },
  {
   "cell_type": "markdown",
   "id": "84371983",
   "metadata": {},
   "source": [
    "##  wtih hyp"
   ]
  },
  {
   "cell_type": "code",
   "execution_count": 203,
   "id": "1eb5d665",
   "metadata": {},
   "outputs": [
    {
     "data": {
      "text/plain": [
       "DecisionTreeRegressor()"
      ]
     },
     "execution_count": 203,
     "metadata": {},
     "output_type": "execute_result"
    }
   ],
   "source": [
    "dt_modl=DecisionTreeRegressor()\n",
    "dt_modl.fit(x_train,y_train)"
   ]
  },
  {
   "cell_type": "code",
   "execution_count": 204,
   "id": "f1bf03cf",
   "metadata": {},
   "outputs": [
    {
     "data": {
      "text/plain": [
       "RandomizedSearchCV(cv=5, estimator=DecisionTreeRegressor(),\n",
       "                   param_distributions={'criterion': ['mae', 'mse'],\n",
       "                                        'max_depth': array([ 2,  3,  4,  5,  6,  7,  8,  9, 10, 11, 12, 13, 14, 15, 16, 17, 18,\n",
       "       19, 20, 21, 22, 23, 24, 25, 26, 27, 28, 29]),\n",
       "                                        'min_samples_leaf': array([ 2,  3,  4,  5,  6,  7,  8,  9, 10, 11, 12, 13, 14]),\n",
       "                                        'min_samples_split': array([ 2,  3,  4,  5,  6,  7,  8,  9, 10, 11, 12, 13, 14, 15, 16, 17, 18,\n",
       "       19])})"
      ]
     },
     "execution_count": 204,
     "metadata": {},
     "output_type": "execute_result"
    }
   ],
   "source": [
    "  \n",
    "hyp={'criterion':['mae','mse'],\n",
    "    'max_depth':np.arange(2,30),\n",
    "    'min_samples_split':np.arange(2,20),\n",
    "    'min_samples_leaf':np.arange(2,15)}\n",
    "rscv_modl=RandomizedSearchCV(dt_modl,hyp,cv=5)  \n",
    "rscv_modl.fit(x_train,y_train)"
   ]
  },
  {
   "cell_type": "code",
   "execution_count": 205,
   "id": "4e563bec",
   "metadata": {},
   "outputs": [
    {
     "data": {
      "text/plain": [
       "DecisionTreeRegressor(criterion='mae', max_depth=9, min_samples_leaf=8,\n",
       "                      min_samples_split=15)"
      ]
     },
     "execution_count": 205,
     "metadata": {},
     "output_type": "execute_result"
    }
   ],
   "source": [
    "rscv_modl.best_estimator_"
   ]
  },
  {
   "cell_type": "code",
   "execution_count": 206,
   "id": "fc772161",
   "metadata": {},
   "outputs": [
    {
     "data": {
      "text/plain": [
       "DecisionTreeRegressor(criterion='mae', max_depth=9, min_samples_leaf=8,\n",
       "                      min_samples_split=15)"
      ]
     },
     "execution_count": 206,
     "metadata": {},
     "output_type": "execute_result"
    }
   ],
   "source": [
    "dt_modl_hyp=rscv_modl.best_estimator_\n",
    "dt_modl_hyp.fit(x_train,y_train)"
   ]
  },
  {
   "cell_type": "code",
   "execution_count": 207,
   "id": "acfae5cc",
   "metadata": {},
   "outputs": [
    {
     "name": "stdout",
     "output_type": "stream",
     "text": [
      "mean_absolute_error >>   1.4989848484848485\n",
      "mean_squared_error >>   4.242539166666667\n",
      "root_mean_squared_error >>   2.059742500087491\n",
      "r2_scores >>   0.7509150261022786\n"
     ]
    }
   ],
   "source": [
    "# Testing data\n",
    "\n",
    "y_pred= dt_modl_hyp.predict(x_test)\n",
    "\n",
    "mae = mean_absolute_error(y_test,y_pred)\n",
    "print('mean_absolute_error >>  ', mae)\n",
    "\n",
    "mse = mean_squared_error(y_test,y_pred)\n",
    "print('mean_squared_error >>  ', mse)\n",
    "\n",
    "rmse = np.sqrt(mse)\n",
    "print('root_mean_squared_error >>  ', rmse)\n",
    "\n",
    "r2_scores = r2_score(y_test,y_pred)\n",
    "print('r2_scores >>  ', r2_scores)"
   ]
  },
  {
   "cell_type": "code",
   "execution_count": 208,
   "id": "79308544",
   "metadata": {},
   "outputs": [
    {
     "name": "stdout",
     "output_type": "stream",
     "text": [
      "mean_absolute_error >>   1.0358739441195581\n",
      "mean_squared_error >>   2.5713584145549055\n",
      "root_mean_squared_error >>   1.603545576076622\n",
      "r2_scores >>   0.8537421632824167\n"
     ]
    }
   ],
   "source": [
    "# Training data\n",
    "\n",
    "y_pred_train = dt_modl_hyp.predict(x_train)\n",
    "\n",
    "mae = mean_absolute_error(y_train,y_pred_train)\n",
    "print('mean_absolute_error >>  ', mae)\n",
    "\n",
    "mse = mean_squared_error(y_train,y_pred_train)\n",
    "print('mean_squared_error >>  ', mse)\n",
    "\n",
    "rmse = np.sqrt(mse)\n",
    "print('root_mean_squared_error >>  ', rmse)\n",
    "\n",
    "r2_scores = r2_score(y_train,y_pred_train)\n",
    "print('r2_scores >>  ', r2_scores)"
   ]
  },
  {
   "cell_type": "markdown",
   "id": "9406c41a",
   "metadata": {},
   "source": [
    "## pruning"
   ]
  },
  {
   "cell_type": "code",
   "execution_count": 209,
   "id": "d9e7c10c",
   "metadata": {},
   "outputs": [
    {
     "data": {
      "text/plain": [
       "DecisionTreeRegressor()"
      ]
     },
     "execution_count": 209,
     "metadata": {},
     "output_type": "execute_result"
    }
   ],
   "source": [
    "dt_modl =DecisionTreeRegressor()\n",
    "dt_modl.fit(x_train, y_train)"
   ]
  },
  {
   "cell_type": "code",
   "execution_count": 210,
   "id": "7148cf6b",
   "metadata": {},
   "outputs": [],
   "source": [
    "result = dt_modl.cost_complexity_pruning_path(x_train, y_train)\n",
    "ccp_alpha_list = result['ccp_alphas']"
   ]
  },
  {
   "cell_type": "code",
   "execution_count": 211,
   "id": "08dd53e1",
   "metadata": {},
   "outputs": [],
   "source": [
    "train_data_accuracy = []\n",
    "test_data_accuracy = []\n",
    "\n",
    "for ccp_alpha in ccp_alpha_list:\n",
    "    dt_modl = DecisionTreeRegressor(ccp_alpha=ccp_alpha)\n",
    "    dt_modl.fit(x_train, y_train)\n",
    "    train_accuracy = dt_modl.score(x_train, y_train)\n",
    "    train_data_accuracy.append(train_accuracy)\n",
    "    test_accuracy = dt_modl.score(x_test, y_test)\n",
    "    test_data_accuracy.append(test_accuracy)\n",
    "    \n",
    "#     print(\"ccp_alpha      :\",ccp_alpha)\n",
    "#     print('train_accuracy :',train_accuracy)\n",
    "#     print(\"Test Accuracy  :\",test_accuracy)\n",
    "#     print(\"*\"*80)"
   ]
  },
  {
   "cell_type": "code",
   "execution_count": 212,
   "id": "ab2dfcf1",
   "metadata": {},
   "outputs": [
    {
     "data": {
      "text/plain": [
       "<matplotlib.legend.Legend at 0x1dd52e344f0>"
      ]
     },
     "execution_count": 212,
     "metadata": {},
     "output_type": "execute_result"
    },
    {
     "data": {
      "image/png": "[encoded data removed]",
      "text/plain": [
       "<Figure size 432x288 with 1 Axes>"
      ]
     },
     "metadata": {
      "needs_background": "light"
     },
     "output_type": "display_data"
    }
   ],
   "source": [
    "fig,ax = plt.subplots()\n",
    "ax.plot(ccp_alpha_list,train_data_accuracy,label = \"Train Accuracy\")\n",
    "ax.plot(ccp_alpha_list,test_data_accuracy, label = \"Test Accuracy\")\n",
    "ax.legend()"
   ]
  },
  {
   "cell_type": "code",
   "execution_count": 213,
   "id": "831d45cf",
   "metadata": {},
   "outputs": [
    {
     "data": {
      "text/plain": [
       "0.8232521675898613"
      ]
     },
     "execution_count": 213,
     "metadata": {},
     "output_type": "execute_result"
    }
   ],
   "source": [
    "dt_modl = DecisionTreeRegressor(ccp_alpha=0.03)\n",
    "dt_modl.fit(x_train, y_train)\n",
    "dt_modl.score(x_train, y_train)\n"
   ]
  },
  {
   "cell_type": "code",
   "execution_count": 214,
   "id": "fc4ab701",
   "metadata": {},
   "outputs": [
    {
     "data": {
      "text/plain": [
       "0.7584842982134277"
      ]
     },
     "execution_count": 214,
     "metadata": {},
     "output_type": "execute_result"
    }
   ],
   "source": [
    "dt_modl.score(x_test, y_test)"
   ]
  },
  {
   "cell_type": "markdown",
   "id": "c010d6c5",
   "metadata": {},
   "source": [
    "# random forest"
   ]
  },
  {
   "cell_type": "code",
   "execution_count": 215,
   "id": "567a577e",
   "metadata": {},
   "outputs": [],
   "source": [
    "from sklearn.ensemble import RandomForestRegressor"
   ]
  },
  {
   "cell_type": "code",
   "execution_count": 216,
   "id": "b72bf1f9",
   "metadata": {},
   "outputs": [
    {
     "data": {
      "text/plain": [
       "RandomForestRegressor()"
      ]
     },
     "execution_count": 216,
     "metadata": {},
     "output_type": "execute_result"
    }
   ],
   "source": [
    "rf_modl=RandomForestRegressor()\n",
    "rf_modl.fit(x_train,y_train)"
   ]
  },
  {
   "cell_type": "code",
   "execution_count": 217,
   "id": "c2cb06cd",
   "metadata": {},
   "outputs": [
    {
     "name": "stdout",
     "output_type": "stream",
     "text": [
      "mean_absolute_error >>   1.3379349999999997\n",
      "mean_squared_error >>   3.2659278000757586\n",
      "root_mean_squared_error >>   1.8071878153849308\n",
      "r2_scores >>   0.808253145374526\n"
     ]
    }
   ],
   "source": [
    "# Testing data\n",
    "\n",
    "y_pred= rf_modl.predict(x_test)\n",
    "\n",
    "mae = mean_absolute_error(y_test,y_pred)\n",
    "print('mean_absolute_error >>  ', mae)\n",
    "\n",
    "mse = mean_squared_error(y_test,y_pred)\n",
    "print('mean_squared_error >>  ', mse)\n",
    "\n",
    "rmse = np.sqrt(mse)\n",
    "print('root_mean_squared_error >>  ', rmse)\n",
    "\n",
    "r2_scores = r2_score(y_test,y_pred)\n",
    "print('r2_scores >>  ', r2_scores)"
   ]
  },
  {
   "cell_type": "code",
   "execution_count": 218,
   "id": "4985ea3d",
   "metadata": {},
   "outputs": [
    {
     "name": "stdout",
     "output_type": "stream",
     "text": [
      "mean_absolute_error >>   0.4957424301494468\n",
      "mean_squared_error >>   0.4729097521507462\n",
      "root_mean_squared_error >>   0.6876843404867863\n",
      "r2_scores >>   0.9731010827114939\n"
     ]
    }
   ],
   "source": [
    "# Training data\n",
    "\n",
    "y_pred_train = rf_modl.predict(x_train)\n",
    "\n",
    "mae = mean_absolute_error(y_train,y_pred_train)\n",
    "print('mean_absolute_error >>  ', mae)\n",
    "\n",
    "mse = mean_squared_error(y_train,y_pred_train)\n",
    "print('mean_squared_error >>  ', mse)\n",
    "\n",
    "rmse = np.sqrt(mse)\n",
    "print('root_mean_squared_error >>  ', rmse)\n",
    "\n",
    "r2_scores = r2_score(y_train,y_pred_train)\n",
    "print('r2_scores >>  ', r2_scores)"
   ]
  },
  {
   "cell_type": "code",
   "execution_count": 219,
   "id": "a6a15657",
   "metadata": {},
   "outputs": [
    {
     "data": {
      "text/plain": [
       "RandomizedSearchCV(cv=5, estimator=RandomForestRegressor(),\n",
       "                   param_distributions={'n_estimators': array([ 50,  51,  52,  53,  54,  55,  56,  57,  58,  59,  60,  61,  62,\n",
       "        63,  64,  65,  66,  67,  68,  69,  70,  71,  72,  73,  74,  75,\n",
       "        76,  77,  78,  79,  80,  81,  82,  83,  84,  85,  86,  87,  88,\n",
       "        89,  90,  91,  92,  93,  94,  95,  96,  97,  98,  99, 100, 101,\n",
       "       102, 103, 104, 105, 106, 107, 108, 109, 110, 111, 112, 113, 114,\n",
       "       115, 116, 117, 118, 119, 120, 121, 122, 123, 124, 125, 126, 127,\n",
       "       128, 129, 130, 131, 132, 133, 134, 135, 136, 137, 138, 139, 140,\n",
       "       141, 142, 143, 144, 145, 146, 147, 148, 149, 150, 151, 152, 153,\n",
       "       154, 155, 156, 157, 158, 159, 160, 161, 162, 163, 164, 165, 166,\n",
       "       167, 168, 169, 170, 171, 172, 173, 174, 175, 176, 177, 178, 179,\n",
       "       180, 181, 182, 183, 184, 185, 186, 187, 188, 189, 190, 191, 192,\n",
       "       193, 194, 195, 196, 197, 198, 199])})"
      ]
     },
     "execution_count": 219,
     "metadata": {},
     "output_type": "execute_result"
    }
   ],
   "source": [
    "hyp={'n_estimators':np.arange(50,200)}\n",
    "rscv_rf=RandomizedSearchCV(rf_modl,hyp,cv=5)\n",
    "rscv_rf.fit(x_train,y_train)"
   ]
  },
  {
   "cell_type": "code",
   "execution_count": 220,
   "id": "3bede28e",
   "metadata": {},
   "outputs": [
    {
     "data": {
      "text/plain": [
       "RandomForestRegressor(n_estimators=93)"
      ]
     },
     "execution_count": 220,
     "metadata": {},
     "output_type": "execute_result"
    }
   ],
   "source": [
    "rscv_rf.best_estimator_"
   ]
  },
  {
   "cell_type": "code",
   "execution_count": 221,
   "id": "48934d55",
   "metadata": {},
   "outputs": [
    {
     "data": {
      "text/plain": [
       "RandomForestRegressor(n_estimators=93)"
      ]
     },
     "execution_count": 221,
     "metadata": {},
     "output_type": "execute_result"
    }
   ],
   "source": [
    "rf_modl_hyp=rscv_rf.best_estimator_\n",
    "rf_modl_hyp.fit(x_train,y_train)"
   ]
  },
  {
   "cell_type": "code",
   "execution_count": 222,
   "id": "30606f44",
   "metadata": {},
   "outputs": [
    {
     "name": "stdout",
     "output_type": "stream",
     "text": [
      "mean_absolute_error >>   1.3289416748126421\n",
      "mean_squared_error >>   3.226306040179806\n",
      "root_mean_squared_error >>   1.7961920944542111\n",
      "r2_scores >>   0.8105793902580162\n"
     ]
    }
   ],
   "source": [
    "# Testing data\n",
    "\n",
    "y_pred= rf_modl_hyp.predict(x_test)\n",
    "\n",
    "mae = mean_absolute_error(y_test,y_pred)\n",
    "print('mean_absolute_error >>  ', mae)\n",
    "\n",
    "mse = mean_squared_error(y_test,y_pred)\n",
    "print('mean_squared_error >>  ', mse)\n",
    "\n",
    "rmse = np.sqrt(mse)\n",
    "print('root_mean_squared_error >>  ', rmse)\n",
    "\n",
    "r2_scores = r2_score(y_test,y_pred)\n",
    "print('r2_scores >>  ', r2_scores)"
   ]
  },
  {
   "cell_type": "code",
   "execution_count": 223,
   "id": "ef40d321",
   "metadata": {},
   "outputs": [
    {
     "name": "stdout",
     "output_type": "stream",
     "text": [
      "mean_absolute_error >>   0.5018221579436439\n",
      "mean_squared_error >>   0.4799374222953049\n",
      "root_mean_squared_error >>   0.6927751599872104\n",
      "r2_scores >>   0.9727013516484535\n"
     ]
    }
   ],
   "source": [
    "# Training data\n",
    "\n",
    "y_pred_train = rf_modl_hyp.predict(x_train)\n",
    "\n",
    "mae = mean_absolute_error(y_train,y_pred_train)\n",
    "print('mean_absolute_error >>  ', mae)\n",
    "\n",
    "mse = mean_squared_error(y_train,y_pred_train)\n",
    "print('mean_squared_error >>  ', mse)\n",
    "\n",
    "rmse = np.sqrt(mse)\n",
    "print('root_mean_squared_error >>  ', rmse)\n",
    "\n",
    "r2_scores = r2_score(y_train,y_pred_train)\n",
    "print('r2_scores >>  ', r2_scores)"
   ]
  },
  {
   "cell_type": "markdown",
   "id": "b93ff4e1",
   "metadata": {},
   "source": [
    "# adaboost"
   ]
  },
  {
   "cell_type": "code",
   "execution_count": 224,
   "id": "6d048c34",
   "metadata": {},
   "outputs": [],
   "source": [
    "from sklearn.ensemble import AdaBoostRegressor"
   ]
  },
  {
   "cell_type": "code",
   "execution_count": 225,
   "id": "a022fb08",
   "metadata": {},
   "outputs": [
    {
     "data": {
      "text/html": [
       "<div>\n",
       "<style scoped>\n",
       "    .dataframe tbody tr th:only-of-type {\n",
       "        vertical-align: middle;\n",
       "    }\n",
       "\n",
       "    .dataframe tbody tr th {\n",
       "        vertical-align: top;\n",
       "    }\n",
       "\n",
       "    .dataframe thead th {\n",
       "        text-align: right;\n",
       "    }\n",
       "</style>\n",
       "<table border=\"1\" class=\"dataframe\">\n",
       "  <thead>\n",
       "    <tr style=\"text-align: right;\">\n",
       "      <th></th>\n",
       "      <th>Amount_Requested</th>\n",
       "      <th>Amount_Funded_By_Investors</th>\n",
       "      <th>Loan_Length</th>\n",
       "      <th>Debt_To_Income_Ratio</th>\n",
       "      <th>Monthly_Income</th>\n",
       "      <th>FICO_Range</th>\n",
       "      <th>Open_CREDIT_Lines</th>\n",
       "      <th>Revolving_CREDIT_Balance</th>\n",
       "      <th>Inquiries_in_the_Last_6_Months</th>\n",
       "      <th>Employment_Length</th>\n",
       "      <th>...</th>\n",
       "      <th>SC</th>\n",
       "      <th>SD</th>\n",
       "      <th>TX</th>\n",
       "      <th>UT</th>\n",
       "      <th>VA</th>\n",
       "      <th>VT</th>\n",
       "      <th>WA</th>\n",
       "      <th>WI</th>\n",
       "      <th>WV</th>\n",
       "      <th>WY</th>\n",
       "    </tr>\n",
       "  </thead>\n",
       "  <tbody>\n",
       "    <tr>\n",
       "      <th>0</th>\n",
       "      <td>25000.0</td>\n",
       "      <td>25000.00</td>\n",
       "      <td>60.0</td>\n",
       "      <td>27.56</td>\n",
       "      <td>8606.56</td>\n",
       "      <td>722</td>\n",
       "      <td>11</td>\n",
       "      <td>9.629708</td>\n",
       "      <td>2.5</td>\n",
       "      <td>5.0</td>\n",
       "      <td>...</td>\n",
       "      <td>0</td>\n",
       "      <td>0</td>\n",
       "      <td>0</td>\n",
       "      <td>0</td>\n",
       "      <td>1</td>\n",
       "      <td>0</td>\n",
       "      <td>0</td>\n",
       "      <td>0</td>\n",
       "      <td>0</td>\n",
       "      <td>0</td>\n",
       "    </tr>\n",
       "    <tr>\n",
       "      <th>1</th>\n",
       "      <td>19750.0</td>\n",
       "      <td>19750.00</td>\n",
       "      <td>60.0</td>\n",
       "      <td>13.39</td>\n",
       "      <td>6737.50</td>\n",
       "      <td>712</td>\n",
       "      <td>14</td>\n",
       "      <td>9.855872</td>\n",
       "      <td>2.5</td>\n",
       "      <td>4.0</td>\n",
       "      <td>...</td>\n",
       "      <td>0</td>\n",
       "      <td>0</td>\n",
       "      <td>0</td>\n",
       "      <td>0</td>\n",
       "      <td>0</td>\n",
       "      <td>0</td>\n",
       "      <td>0</td>\n",
       "      <td>0</td>\n",
       "      <td>0</td>\n",
       "      <td>0</td>\n",
       "    </tr>\n",
       "    <tr>\n",
       "      <th>2</th>\n",
       "      <td>2100.0</td>\n",
       "      <td>2100.00</td>\n",
       "      <td>36.0</td>\n",
       "      <td>3.50</td>\n",
       "      <td>1000.00</td>\n",
       "      <td>692</td>\n",
       "      <td>13</td>\n",
       "      <td>6.817316</td>\n",
       "      <td>1.0</td>\n",
       "      <td>0.5</td>\n",
       "      <td>...</td>\n",
       "      <td>0</td>\n",
       "      <td>0</td>\n",
       "      <td>0</td>\n",
       "      <td>0</td>\n",
       "      <td>0</td>\n",
       "      <td>0</td>\n",
       "      <td>0</td>\n",
       "      <td>0</td>\n",
       "      <td>0</td>\n",
       "      <td>0</td>\n",
       "    </tr>\n",
       "    <tr>\n",
       "      <th>3</th>\n",
       "      <td>28000.0</td>\n",
       "      <td>28000.00</td>\n",
       "      <td>36.0</td>\n",
       "      <td>19.62</td>\n",
       "      <td>7083.33</td>\n",
       "      <td>712</td>\n",
       "      <td>12</td>\n",
       "      <td>10.550434</td>\n",
       "      <td>1.0</td>\n",
       "      <td>10.0</td>\n",
       "      <td>...</td>\n",
       "      <td>0</td>\n",
       "      <td>0</td>\n",
       "      <td>0</td>\n",
       "      <td>0</td>\n",
       "      <td>0</td>\n",
       "      <td>0</td>\n",
       "      <td>0</td>\n",
       "      <td>0</td>\n",
       "      <td>0</td>\n",
       "      <td>0</td>\n",
       "    </tr>\n",
       "    <tr>\n",
       "      <th>4</th>\n",
       "      <td>24250.0</td>\n",
       "      <td>17431.82</td>\n",
       "      <td>60.0</td>\n",
       "      <td>23.79</td>\n",
       "      <td>5833.33</td>\n",
       "      <td>732</td>\n",
       "      <td>6</td>\n",
       "      <td>10.343708</td>\n",
       "      <td>2.0</td>\n",
       "      <td>10.0</td>\n",
       "      <td>...</td>\n",
       "      <td>0</td>\n",
       "      <td>0</td>\n",
       "      <td>0</td>\n",
       "      <td>0</td>\n",
       "      <td>0</td>\n",
       "      <td>0</td>\n",
       "      <td>0</td>\n",
       "      <td>0</td>\n",
       "      <td>0</td>\n",
       "      <td>0</td>\n",
       "    </tr>\n",
       "    <tr>\n",
       "      <th>...</th>\n",
       "      <td>...</td>\n",
       "      <td>...</td>\n",
       "      <td>...</td>\n",
       "      <td>...</td>\n",
       "      <td>...</td>\n",
       "      <td>...</td>\n",
       "      <td>...</td>\n",
       "      <td>...</td>\n",
       "      <td>...</td>\n",
       "      <td>...</td>\n",
       "      <td>...</td>\n",
       "      <td>...</td>\n",
       "      <td>...</td>\n",
       "      <td>...</td>\n",
       "      <td>...</td>\n",
       "      <td>...</td>\n",
       "      <td>...</td>\n",
       "      <td>...</td>\n",
       "      <td>...</td>\n",
       "      <td>...</td>\n",
       "      <td>...</td>\n",
       "    </tr>\n",
       "    <tr>\n",
       "      <th>2195</th>\n",
       "      <td>30000.0</td>\n",
       "      <td>30000.00</td>\n",
       "      <td>60.0</td>\n",
       "      <td>12.10</td>\n",
       "      <td>7083.33</td>\n",
       "      <td>677</td>\n",
       "      <td>16</td>\n",
       "      <td>9.796403</td>\n",
       "      <td>1.0</td>\n",
       "      <td>10.0</td>\n",
       "      <td>...</td>\n",
       "      <td>0</td>\n",
       "      <td>0</td>\n",
       "      <td>0</td>\n",
       "      <td>0</td>\n",
       "      <td>0</td>\n",
       "      <td>0</td>\n",
       "      <td>0</td>\n",
       "      <td>0</td>\n",
       "      <td>0</td>\n",
       "      <td>0</td>\n",
       "    </tr>\n",
       "    <tr>\n",
       "      <th>2196</th>\n",
       "      <td>4200.0</td>\n",
       "      <td>4200.00</td>\n",
       "      <td>60.0</td>\n",
       "      <td>14.16</td>\n",
       "      <td>3850.00</td>\n",
       "      <td>702</td>\n",
       "      <td>4</td>\n",
       "      <td>8.651374</td>\n",
       "      <td>0.0</td>\n",
       "      <td>2.0</td>\n",
       "      <td>...</td>\n",
       "      <td>0</td>\n",
       "      <td>0</td>\n",
       "      <td>0</td>\n",
       "      <td>0</td>\n",
       "      <td>0</td>\n",
       "      <td>0</td>\n",
       "      <td>0</td>\n",
       "      <td>0</td>\n",
       "      <td>0</td>\n",
       "      <td>0</td>\n",
       "    </tr>\n",
       "    <tr>\n",
       "      <th>2197</th>\n",
       "      <td>19800.0</td>\n",
       "      <td>19775.00</td>\n",
       "      <td>60.0</td>\n",
       "      <td>15.03</td>\n",
       "      <td>6666.67</td>\n",
       "      <td>677</td>\n",
       "      <td>10</td>\n",
       "      <td>10.755325</td>\n",
       "      <td>2.5</td>\n",
       "      <td>6.0</td>\n",
       "      <td>...</td>\n",
       "      <td>0</td>\n",
       "      <td>0</td>\n",
       "      <td>0</td>\n",
       "      <td>0</td>\n",
       "      <td>0</td>\n",
       "      <td>0</td>\n",
       "      <td>0</td>\n",
       "      <td>0</td>\n",
       "      <td>0</td>\n",
       "      <td>0</td>\n",
       "    </tr>\n",
       "    <tr>\n",
       "      <th>2198</th>\n",
       "      <td>18000.0</td>\n",
       "      <td>18000.00</td>\n",
       "      <td>60.0</td>\n",
       "      <td>11.63</td>\n",
       "      <td>9051.83</td>\n",
       "      <td>672</td>\n",
       "      <td>5</td>\n",
       "      <td>10.385728</td>\n",
       "      <td>2.0</td>\n",
       "      <td>4.0</td>\n",
       "      <td>...</td>\n",
       "      <td>0</td>\n",
       "      <td>0</td>\n",
       "      <td>0</td>\n",
       "      <td>0</td>\n",
       "      <td>0</td>\n",
       "      <td>0</td>\n",
       "      <td>0</td>\n",
       "      <td>0</td>\n",
       "      <td>0</td>\n",
       "      <td>0</td>\n",
       "    </tr>\n",
       "    <tr>\n",
       "      <th>2199</th>\n",
       "      <td>7550.0</td>\n",
       "      <td>7550.00</td>\n",
       "      <td>36.0</td>\n",
       "      <td>3.83</td>\n",
       "      <td>8333.33</td>\n",
       "      <td>712</td>\n",
       "      <td>10</td>\n",
       "      <td>9.230535</td>\n",
       "      <td>0.0</td>\n",
       "      <td>2.0</td>\n",
       "      <td>...</td>\n",
       "      <td>0</td>\n",
       "      <td>0</td>\n",
       "      <td>0</td>\n",
       "      <td>0</td>\n",
       "      <td>0</td>\n",
       "      <td>0</td>\n",
       "      <td>0</td>\n",
       "      <td>0</td>\n",
       "      <td>0</td>\n",
       "      <td>0</td>\n",
       "    </tr>\n",
       "  </tbody>\n",
       "</table>\n",
       "<p>2199 rows × 72 columns</p>\n",
       "</div>"
      ],
      "text/plain": [
       "      Amount_Requested  Amount_Funded_By_Investors  Loan_Length  \\\n",
       "0              25000.0                    25000.00         60.0   \n",
       "1              19750.0                    19750.00         60.0   \n",
       "2               2100.0                     2100.00         36.0   \n",
       "3              28000.0                    28000.00         36.0   \n",
       "4              24250.0                    17431.82         60.0   \n",
       "...                ...                         ...          ...   \n",
       "2195           30000.0                    30000.00         60.0   \n",
       "2196            4200.0                     4200.00         60.0   \n",
       "2197           19800.0                    19775.00         60.0   \n",
       "2198           18000.0                    18000.00         60.0   \n",
       "2199            7550.0                     7550.00         36.0   \n",
       "\n",
       "      Debt_To_Income_Ratio  Monthly_Income  FICO_Range  Open_CREDIT_Lines  \\\n",
       "0                    27.56         8606.56         722                 11   \n",
       "1                    13.39         6737.50         712                 14   \n",
       "2                     3.50         1000.00         692                 13   \n",
       "3                    19.62         7083.33         712                 12   \n",
       "4                    23.79         5833.33         732                  6   \n",
       "...                    ...             ...         ...                ...   \n",
       "2195                 12.10         7083.33         677                 16   \n",
       "2196                 14.16         3850.00         702                  4   \n",
       "2197                 15.03         6666.67         677                 10   \n",
       "2198                 11.63         9051.83         672                  5   \n",
       "2199                  3.83         8333.33         712                 10   \n",
       "\n",
       "      Revolving_CREDIT_Balance  Inquiries_in_the_Last_6_Months  \\\n",
       "0                     9.629708                             2.5   \n",
       "1                     9.855872                             2.5   \n",
       "2                     6.817316                             1.0   \n",
       "3                    10.550434                             1.0   \n",
       "4                    10.343708                             2.0   \n",
       "...                        ...                             ...   \n",
       "2195                  9.796403                             1.0   \n",
       "2196                  8.651374                             0.0   \n",
       "2197                 10.755325                             2.5   \n",
       "2198                 10.385728                             2.0   \n",
       "2199                  9.230535                             0.0   \n",
       "\n",
       "      Employment_Length  ...  SC  SD  TX  UT  VA  VT  WA  WI  WV  WY  \n",
       "0                   5.0  ...   0   0   0   0   1   0   0   0   0   0  \n",
       "1                   4.0  ...   0   0   0   0   0   0   0   0   0   0  \n",
       "2                   0.5  ...   0   0   0   0   0   0   0   0   0   0  \n",
       "3                  10.0  ...   0   0   0   0   0   0   0   0   0   0  \n",
       "4                  10.0  ...   0   0   0   0   0   0   0   0   0   0  \n",
       "...                 ...  ...  ..  ..  ..  ..  ..  ..  ..  ..  ..  ..  \n",
       "2195               10.0  ...   0   0   0   0   0   0   0   0   0   0  \n",
       "2196                2.0  ...   0   0   0   0   0   0   0   0   0   0  \n",
       "2197                6.0  ...   0   0   0   0   0   0   0   0   0   0  \n",
       "2198                4.0  ...   0   0   0   0   0   0   0   0   0   0  \n",
       "2199                2.0  ...   0   0   0   0   0   0   0   0   0   0  \n",
       "\n",
       "[2199 rows x 72 columns]"
      ]
     },
     "execution_count": 225,
     "metadata": {},
     "output_type": "execute_result"
    }
   ],
   "source": [
    "x"
   ]
  },
  {
   "cell_type": "code",
   "execution_count": 226,
   "id": "65e25671",
   "metadata": {},
   "outputs": [
    {
     "data": {
      "text/plain": [
       "0       18.49\n",
       "1       17.27\n",
       "2       14.33\n",
       "3       16.29\n",
       "4       12.23\n",
       "        ...  \n",
       "2195    23.28\n",
       "2196    14.33\n",
       "2197    15.31\n",
       "2198    20.99\n",
       "2199    10.16\n",
       "Name: Interest_Rate, Length: 2199, dtype: float64"
      ]
     },
     "execution_count": 226,
     "metadata": {},
     "output_type": "execute_result"
    }
   ],
   "source": [
    "y"
   ]
  },
  {
   "cell_type": "code",
   "execution_count": 227,
   "id": "e1a9fcf1",
   "metadata": {},
   "outputs": [
    {
     "data": {
      "text/plain": [
       "AdaBoostRegressor()"
      ]
     },
     "execution_count": 227,
     "metadata": {},
     "output_type": "execute_result"
    }
   ],
   "source": [
    "ada_modl=AdaBoostRegressor()\n",
    "ada_modl.fit(x_train,y_train)"
   ]
  },
  {
   "cell_type": "code",
   "execution_count": 228,
   "id": "57cd46bf",
   "metadata": {},
   "outputs": [
    {
     "name": "stdout",
     "output_type": "stream",
     "text": [
      "mean_absolute_error >>   1.8862594919216331\n",
      "mean_squared_error >>   5.281764358681845\n",
      "root_mean_squared_error >>   2.2982089458275645\n",
      "r2_scores >>   0.6899007679757387\n"
     ]
    }
   ],
   "source": [
    "# Testing data\n",
    "\n",
    "y_pred= ada_modl.predict(x_test)\n",
    "\n",
    "mae = mean_absolute_error(y_test,y_pred)\n",
    "print('mean_absolute_error >>  ', mae)\n",
    "\n",
    "mse = mean_squared_error(y_test,y_pred)\n",
    "print('mean_squared_error >>  ', mse)\n",
    "\n",
    "rmse = np.sqrt(mse)\n",
    "print('root_mean_squared_error >>  ', rmse)\n",
    "\n",
    "r2_scores = r2_score(y_test,y_pred)\n",
    "print('r2_scores >>  ', r2_scores)"
   ]
  },
  {
   "cell_type": "code",
   "execution_count": 229,
   "id": "de08c171",
   "metadata": {},
   "outputs": [
    {
     "name": "stdout",
     "output_type": "stream",
     "text": [
      "mean_absolute_error >>   1.7968606147074004\n",
      "mean_squared_error >>   4.623274129988819\n",
      "root_mean_squared_error >>   2.150180022693174\n",
      "r2_scores >>   0.7370300192392363\n"
     ]
    }
   ],
   "source": [
    "# Training data\n",
    "\n",
    "y_pred_train = ada_modl.predict(x_train)\n",
    "\n",
    "mae = mean_absolute_error(y_train,y_pred_train)\n",
    "print('mean_absolute_error >>  ', mae)\n",
    "\n",
    "mse = mean_squared_error(y_train,y_pred_train)\n",
    "print('mean_squared_error >>  ', mse)\n",
    "\n",
    "rmse = np.sqrt(mse)\n",
    "print('root_mean_squared_error >>  ', rmse)\n",
    "\n",
    "r2_scores = r2_score(y_train,y_pred_train)\n",
    "print('r2_scores >>  ', r2_scores)"
   ]
  },
  {
   "cell_type": "code",
   "execution_count": 230,
   "id": "3ee5686a",
   "metadata": {},
   "outputs": [],
   "source": [
    "# hyp tunning"
   ]
  },
  {
   "cell_type": "code",
   "execution_count": 231,
   "id": "722441c2",
   "metadata": {},
   "outputs": [
    {
     "data": {
      "text/plain": [
       "RandomizedSearchCV(cv=5, estimator=AdaBoostRegressor(),\n",
       "                   param_distributions={'n_estimators': array([ 50,  51,  52,  53,  54,  55,  56,  57,  58,  59,  60,  61,  62,\n",
       "        63,  64,  65,  66,  67,  68,  69,  70,  71,  72,  73,  74,  75,\n",
       "        76,  77,  78,  79,  80,  81,  82,  83,  84,  85,  86,  87,  88,\n",
       "        89,  90,  91,  92,  93,  94,  95,  96,  97,  98,  99, 100, 101,\n",
       "       102, 103, 104, 105, 106, 107, 108, 109, 110, 111, 112, 113, 114,\n",
       "       115, 116, 117, 118, 119, 120, 121, 122, 123, 124, 125, 126, 127,\n",
       "       128, 129, 130, 131, 132, 133, 134, 135, 136, 137, 138, 139, 140,\n",
       "       141, 142, 143, 144, 145, 146, 147, 148, 149, 150, 151, 152, 153,\n",
       "       154, 155, 156, 157, 158, 159, 160, 161, 162, 163, 164, 165, 166,\n",
       "       167, 168, 169, 170, 171, 172, 173, 174, 175, 176, 177, 178, 179,\n",
       "       180, 181, 182, 183, 184, 185, 186, 187, 188, 189, 190, 191, 192,\n",
       "       193, 194, 195, 196, 197, 198, 199])})"
      ]
     },
     "execution_count": 231,
     "metadata": {},
     "output_type": "execute_result"
    }
   ],
   "source": [
    "hyp={'n_estimators':np.arange(50,200)}\n",
    "rscv_ada=RandomizedSearchCV(ada_modl,hyp,cv=5)\n",
    "rscv_ada.fit(x_train,y_train)"
   ]
  },
  {
   "cell_type": "code",
   "execution_count": 232,
   "id": "70f6f093",
   "metadata": {},
   "outputs": [
    {
     "data": {
      "text/plain": [
       "AdaBoostRegressor(n_estimators=159)"
      ]
     },
     "execution_count": 232,
     "metadata": {},
     "output_type": "execute_result"
    }
   ],
   "source": [
    "rscv_ada.best_estimator_"
   ]
  },
  {
   "cell_type": "code",
   "execution_count": 233,
   "id": "7e547657",
   "metadata": {},
   "outputs": [
    {
     "data": {
      "text/plain": [
       "AdaBoostRegressor(n_estimators=159)"
      ]
     },
     "execution_count": 233,
     "metadata": {},
     "output_type": "execute_result"
    }
   ],
   "source": [
    "ada_modl_hyp=rscv_ada.best_estimator_\n",
    "ada_modl_hyp.fit(x_train,y_train)"
   ]
  },
  {
   "cell_type": "code",
   "execution_count": 234,
   "id": "42533435",
   "metadata": {},
   "outputs": [
    {
     "name": "stdout",
     "output_type": "stream",
     "text": [
      "mean_absolute_error >>   1.8976658162950146\n",
      "mean_squared_error >>   5.3082872501723575\n",
      "root_mean_squared_error >>   2.3039720593297908\n",
      "r2_scores >>   0.6883435746358368\n"
     ]
    }
   ],
   "source": [
    "# Testing data\n",
    "\n",
    "y_pred= ada_modl_hyp.predict(x_test)\n",
    "\n",
    "mae = mean_absolute_error(y_test,y_pred)\n",
    "print('mean_absolute_error >>  ', mae)\n",
    "\n",
    "mse = mean_squared_error(y_test,y_pred)\n",
    "print('mean_squared_error >>  ', mse)\n",
    "\n",
    "rmse = np.sqrt(mse)\n",
    "print('root_mean_squared_error >>  ', rmse)\n",
    "\n",
    "r2_scores = r2_score(y_test,y_pred)\n",
    "print('r2_scores >>  ', r2_scores)"
   ]
  },
  {
   "cell_type": "code",
   "execution_count": 235,
   "id": "524c468e",
   "metadata": {},
   "outputs": [
    {
     "name": "stdout",
     "output_type": "stream",
     "text": [
      "mean_absolute_error >>   1.8003696419463862\n",
      "mean_squared_error >>   4.594943793013155\n",
      "root_mean_squared_error >>   2.1435820005339554\n",
      "r2_scores >>   0.7386414374593049\n"
     ]
    }
   ],
   "source": [
    "# Training data\n",
    "\n",
    "y_pred_train = ada_modl_hyp.predict(x_train)\n",
    "\n",
    "mae = mean_absolute_error(y_train,y_pred_train)\n",
    "print('mean_absolute_error >>  ', mae)\n",
    "\n",
    "mse = mean_squared_error(y_train,y_pred_train)\n",
    "print('mean_squared_error >>  ', mse)\n",
    "\n",
    "rmse = np.sqrt(mse)\n",
    "print('root_mean_squared_error >>  ', rmse)\n",
    "\n",
    "r2_scores = r2_score(y_train,y_pred_train)\n",
    "print('r2_scores >>  ', r2_scores)"
   ]
  },
  {
   "cell_type": "code",
   "execution_count": 236,
   "id": "83f95373",
   "metadata": {},
   "outputs": [],
   "source": [
    "# accuracy of models:\n",
    "#     1.Decision tree with hyp tunning:\n",
    "#         training = r2_scores >>   0.8244691490324103\n",
    "#         testing = r2_scores >>   0.778211315306422\n",
    "        \n",
    "#     2. Random forest:\n",
    "#         training = r2_scores >>   0.9726311869211437\n",
    "#         testing = r2_scores >>   0.8113476000619101\n",
    "        \n",
    "#     3. Random forest with hyp tunning:\n",
    "#         training = r2_scores >>   0.9731448630186162\n",
    "#         testing = r2_scores >>   0.8098487007832428\n",
    "        \n",
    "#     4. adaboost:\n",
    "#         training = r2_scores >>   0.7302207336995821\n",
    "#         testing = r2_scores >>   0.7060971894750295\n",
    "        \n",
    "#     5. adaboost with hyp tunning:\n",
    "#         training = r2_scores >>   0.7357223344467534\n",
    "#         testing = r2_scores >>   0.7059922903186677\n",
    "        "
   ]
  },
  {
   "cell_type": "code",
   "execution_count": 237,
   "id": "2979f266",
   "metadata": {},
   "outputs": [],
   "source": [
    "import pickle\n",
    "with open('dt_modl.pkl', 'wb') as files:\n",
    "    pickle.dump(ada_modl_hyp, files)"
   ]
  },
  {
   "cell_type": "code",
   "execution_count": 238,
   "id": "bcc04824",
   "metadata": {},
   "outputs": [],
   "source": [
    "columns_dict = {\"columns\" : x_train.columns}\n",
    "dict_cols = open(\"columns.pkl\",'wb')\n",
    "pickle.dump(columns_dict,dict_cols)\n",
    "dict_cols.close()"
   ]
  },
  {
   "cell_type": "code",
   "execution_count": 240,
   "id": "cbdfb4e6",
   "metadata": {},
   "outputs": [
    {
     "data": {
      "text/plain": [
       "Index(['Amount_Requested', 'Amount_Funded_By_Investors', 'Loan_Length',\n",
       "       'Debt_To_Income_Ratio', 'Monthly_Income', 'FICO_Range',\n",
       "       'Open_CREDIT_Lines', 'Revolving_CREDIT_Balance',\n",
       "       'Inquiries_in_the_Last_6_Months', 'Employment_Length', 'car',\n",
       "       'credit_card', 'debt_consolidation', 'educational', 'home_improvement',\n",
       "       'house', 'major_purchase', 'medical', 'moving', 'other',\n",
       "       'renewable_energy', 'small_business', 'vacation', 'wedding', 'OTHER',\n",
       "       'OWN', 'RENT', 'AK', 'AL', 'AR', 'AZ', 'CA', 'CO', 'CT', 'DC', 'DE',\n",
       "       'FL', 'GA', 'HI', 'IL', 'IN', 'KS', 'KY', 'LA', 'MA', 'MD', 'MI', 'MN',\n",
       "       'MO', 'MS', 'MT', 'NC', 'NH', 'NJ', 'NM', 'NV', 'NY', 'OH', 'OK', 'OR',\n",
       "       'PA', 'RI', 'SC', 'SD', 'TX', 'UT', 'VA', 'VT', 'WA', 'WI', 'WV', 'WY'],\n",
       "      dtype='object')"
      ]
     },
     "execution_count": 240,
     "metadata": {},
     "output_type": "execute_result"
    }
   ],
   "source": [
    "x_train.columns"
   ]
  },
  {
   "cell_type": "code",
   "execution_count": 241,
   "id": "b631ef19",
   "metadata": {},
   "outputs": [
    {
     "data": {
      "text/plain": [
       "(72,)"
      ]
     },
     "execution_count": 241,
     "metadata": {},
     "output_type": "execute_result"
    }
   ],
   "source": [
    "x_train.columns.shape"
   ]
  },
  {
   "cell_type": "code",
   "execution_count": 253,
   "id": "18ec30b8",
   "metadata": {},
   "outputs": [
    {
     "data": {
      "text/html": [
       "<div>\n",
       "<style scoped>\n",
       "    .dataframe tbody tr th:only-of-type {\n",
       "        vertical-align: middle;\n",
       "    }\n",
       "\n",
       "    .dataframe tbody tr th {\n",
       "        vertical-align: top;\n",
       "    }\n",
       "\n",
       "    .dataframe thead th {\n",
       "        text-align: right;\n",
       "    }\n",
       "</style>\n",
       "<table border=\"1\" class=\"dataframe\">\n",
       "  <thead>\n",
       "    <tr style=\"text-align: right;\">\n",
       "      <th></th>\n",
       "      <th>car</th>\n",
       "      <th>credit_card</th>\n",
       "      <th>debt_consolidation</th>\n",
       "      <th>educational</th>\n",
       "      <th>home_improvement</th>\n",
       "      <th>house</th>\n",
       "      <th>major_purchase</th>\n",
       "      <th>medical</th>\n",
       "      <th>moving</th>\n",
       "      <th>other</th>\n",
       "      <th>renewable_energy</th>\n",
       "      <th>small_business</th>\n",
       "      <th>vacation</th>\n",
       "      <th>wedding</th>\n",
       "    </tr>\n",
       "  </thead>\n",
       "  <tbody>\n",
       "    <tr>\n",
       "      <th>692</th>\n",
       "      <td>0</td>\n",
       "      <td>0</td>\n",
       "      <td>1</td>\n",
       "      <td>0</td>\n",
       "      <td>0</td>\n",
       "      <td>0</td>\n",
       "      <td>0</td>\n",
       "      <td>0</td>\n",
       "      <td>0</td>\n",
       "      <td>0</td>\n",
       "      <td>0</td>\n",
       "      <td>0</td>\n",
       "      <td>0</td>\n",
       "      <td>0</td>\n",
       "    </tr>\n",
       "    <tr>\n",
       "      <th>906</th>\n",
       "      <td>0</td>\n",
       "      <td>0</td>\n",
       "      <td>0</td>\n",
       "      <td>0</td>\n",
       "      <td>0</td>\n",
       "      <td>0</td>\n",
       "      <td>0</td>\n",
       "      <td>0</td>\n",
       "      <td>0</td>\n",
       "      <td>0</td>\n",
       "      <td>0</td>\n",
       "      <td>1</td>\n",
       "      <td>0</td>\n",
       "      <td>0</td>\n",
       "    </tr>\n",
       "    <tr>\n",
       "      <th>1879</th>\n",
       "      <td>0</td>\n",
       "      <td>0</td>\n",
       "      <td>0</td>\n",
       "      <td>0</td>\n",
       "      <td>0</td>\n",
       "      <td>0</td>\n",
       "      <td>0</td>\n",
       "      <td>0</td>\n",
       "      <td>0</td>\n",
       "      <td>1</td>\n",
       "      <td>0</td>\n",
       "      <td>0</td>\n",
       "      <td>0</td>\n",
       "      <td>0</td>\n",
       "    </tr>\n",
       "    <tr>\n",
       "      <th>1537</th>\n",
       "      <td>0</td>\n",
       "      <td>0</td>\n",
       "      <td>1</td>\n",
       "      <td>0</td>\n",
       "      <td>0</td>\n",
       "      <td>0</td>\n",
       "      <td>0</td>\n",
       "      <td>0</td>\n",
       "      <td>0</td>\n",
       "      <td>0</td>\n",
       "      <td>0</td>\n",
       "      <td>0</td>\n",
       "      <td>0</td>\n",
       "      <td>0</td>\n",
       "    </tr>\n",
       "    <tr>\n",
       "      <th>508</th>\n",
       "      <td>0</td>\n",
       "      <td>0</td>\n",
       "      <td>1</td>\n",
       "      <td>0</td>\n",
       "      <td>0</td>\n",
       "      <td>0</td>\n",
       "      <td>0</td>\n",
       "      <td>0</td>\n",
       "      <td>0</td>\n",
       "      <td>0</td>\n",
       "      <td>0</td>\n",
       "      <td>0</td>\n",
       "      <td>0</td>\n",
       "      <td>0</td>\n",
       "    </tr>\n",
       "  </tbody>\n",
       "</table>\n",
       "</div>"
      ],
      "text/plain": [
       "      car  credit_card  debt_consolidation  educational  home_improvement  \\\n",
       "692     0            0                   1            0                 0   \n",
       "906     0            0                   0            0                 0   \n",
       "1879    0            0                   0            0                 0   \n",
       "1537    0            0                   1            0                 0   \n",
       "508     0            0                   1            0                 0   \n",
       "\n",
       "      house  major_purchase  medical  moving  other  renewable_energy  \\\n",
       "692       0               0        0       0      0                 0   \n",
       "906       0               0        0       0      0                 0   \n",
       "1879      0               0        0       0      1                 0   \n",
       "1537      0               0        0       0      0                 0   \n",
       "508       0               0        0       0      0                 0   \n",
       "\n",
       "      small_business  vacation  wedding  \n",
       "692                0         0        0  \n",
       "906                1         0        0  \n",
       "1879               0         0        0  \n",
       "1537               0         0        0  \n",
       "508                0         0        0  "
      ]
     },
     "execution_count": 253,
     "metadata": {},
     "output_type": "execute_result"
    }
   ],
   "source": [
    "x_train.iloc[:,10:24].head()"
   ]
  },
  {
   "cell_type": "code",
   "execution_count": 257,
   "id": "0706956a",
   "metadata": {},
   "outputs": [
    {
     "data": {
      "text/html": [
       "<div>\n",
       "<style scoped>\n",
       "    .dataframe tbody tr th:only-of-type {\n",
       "        vertical-align: middle;\n",
       "    }\n",
       "\n",
       "    .dataframe tbody tr th {\n",
       "        vertical-align: top;\n",
       "    }\n",
       "\n",
       "    .dataframe thead th {\n",
       "        text-align: right;\n",
       "    }\n",
       "</style>\n",
       "<table border=\"1\" class=\"dataframe\">\n",
       "  <thead>\n",
       "    <tr style=\"text-align: right;\">\n",
       "      <th></th>\n",
       "      <th>OTHER</th>\n",
       "      <th>OWN</th>\n",
       "      <th>RENT</th>\n",
       "    </tr>\n",
       "  </thead>\n",
       "  <tbody>\n",
       "    <tr>\n",
       "      <th>692</th>\n",
       "      <td>0</td>\n",
       "      <td>0</td>\n",
       "      <td>0</td>\n",
       "    </tr>\n",
       "    <tr>\n",
       "      <th>906</th>\n",
       "      <td>0</td>\n",
       "      <td>0</td>\n",
       "      <td>0</td>\n",
       "    </tr>\n",
       "    <tr>\n",
       "      <th>1879</th>\n",
       "      <td>0</td>\n",
       "      <td>0</td>\n",
       "      <td>1</td>\n",
       "    </tr>\n",
       "    <tr>\n",
       "      <th>1537</th>\n",
       "      <td>0</td>\n",
       "      <td>1</td>\n",
       "      <td>0</td>\n",
       "    </tr>\n",
       "    <tr>\n",
       "      <th>508</th>\n",
       "      <td>0</td>\n",
       "      <td>0</td>\n",
       "      <td>0</td>\n",
       "    </tr>\n",
       "  </tbody>\n",
       "</table>\n",
       "</div>"
      ],
      "text/plain": [
       "      OTHER  OWN  RENT\n",
       "692       0    0     0\n",
       "906       0    0     0\n",
       "1879      0    0     1\n",
       "1537      0    1     0\n",
       "508       0    0     0"
      ]
     },
     "execution_count": 257,
     "metadata": {},
     "output_type": "execute_result"
    }
   ],
   "source": [
    "x_train.iloc[:,24:27].head()"
   ]
  },
  {
   "cell_type": "code",
   "execution_count": 258,
   "id": "2a631525",
   "metadata": {},
   "outputs": [
    {
     "data": {
      "text/html": [
       "<div>\n",
       "<style scoped>\n",
       "    .dataframe tbody tr th:only-of-type {\n",
       "        vertical-align: middle;\n",
       "    }\n",
       "\n",
       "    .dataframe tbody tr th {\n",
       "        vertical-align: top;\n",
       "    }\n",
       "\n",
       "    .dataframe thead th {\n",
       "        text-align: right;\n",
       "    }\n",
       "</style>\n",
       "<table border=\"1\" class=\"dataframe\">\n",
       "  <thead>\n",
       "    <tr style=\"text-align: right;\">\n",
       "      <th></th>\n",
       "      <th>AK</th>\n",
       "      <th>AL</th>\n",
       "      <th>AR</th>\n",
       "      <th>AZ</th>\n",
       "      <th>CA</th>\n",
       "      <th>CO</th>\n",
       "      <th>CT</th>\n",
       "      <th>DC</th>\n",
       "      <th>DE</th>\n",
       "      <th>FL</th>\n",
       "      <th>...</th>\n",
       "      <th>SC</th>\n",
       "      <th>SD</th>\n",
       "      <th>TX</th>\n",
       "      <th>UT</th>\n",
       "      <th>VA</th>\n",
       "      <th>VT</th>\n",
       "      <th>WA</th>\n",
       "      <th>WI</th>\n",
       "      <th>WV</th>\n",
       "      <th>WY</th>\n",
       "    </tr>\n",
       "  </thead>\n",
       "  <tbody>\n",
       "    <tr>\n",
       "      <th>692</th>\n",
       "      <td>0</td>\n",
       "      <td>0</td>\n",
       "      <td>0</td>\n",
       "      <td>0</td>\n",
       "      <td>0</td>\n",
       "      <td>0</td>\n",
       "      <td>0</td>\n",
       "      <td>0</td>\n",
       "      <td>0</td>\n",
       "      <td>0</td>\n",
       "      <td>...</td>\n",
       "      <td>0</td>\n",
       "      <td>0</td>\n",
       "      <td>0</td>\n",
       "      <td>0</td>\n",
       "      <td>0</td>\n",
       "      <td>0</td>\n",
       "      <td>0</td>\n",
       "      <td>0</td>\n",
       "      <td>0</td>\n",
       "      <td>0</td>\n",
       "    </tr>\n",
       "    <tr>\n",
       "      <th>906</th>\n",
       "      <td>0</td>\n",
       "      <td>0</td>\n",
       "      <td>0</td>\n",
       "      <td>0</td>\n",
       "      <td>0</td>\n",
       "      <td>0</td>\n",
       "      <td>0</td>\n",
       "      <td>0</td>\n",
       "      <td>0</td>\n",
       "      <td>0</td>\n",
       "      <td>...</td>\n",
       "      <td>0</td>\n",
       "      <td>0</td>\n",
       "      <td>0</td>\n",
       "      <td>0</td>\n",
       "      <td>0</td>\n",
       "      <td>0</td>\n",
       "      <td>0</td>\n",
       "      <td>0</td>\n",
       "      <td>0</td>\n",
       "      <td>0</td>\n",
       "    </tr>\n",
       "    <tr>\n",
       "      <th>1879</th>\n",
       "      <td>0</td>\n",
       "      <td>0</td>\n",
       "      <td>0</td>\n",
       "      <td>0</td>\n",
       "      <td>0</td>\n",
       "      <td>0</td>\n",
       "      <td>0</td>\n",
       "      <td>0</td>\n",
       "      <td>0</td>\n",
       "      <td>0</td>\n",
       "      <td>...</td>\n",
       "      <td>0</td>\n",
       "      <td>0</td>\n",
       "      <td>0</td>\n",
       "      <td>0</td>\n",
       "      <td>0</td>\n",
       "      <td>0</td>\n",
       "      <td>0</td>\n",
       "      <td>0</td>\n",
       "      <td>0</td>\n",
       "      <td>0</td>\n",
       "    </tr>\n",
       "    <tr>\n",
       "      <th>1537</th>\n",
       "      <td>0</td>\n",
       "      <td>1</td>\n",
       "      <td>0</td>\n",
       "      <td>0</td>\n",
       "      <td>0</td>\n",
       "      <td>0</td>\n",
       "      <td>0</td>\n",
       "      <td>0</td>\n",
       "      <td>0</td>\n",
       "      <td>0</td>\n",
       "      <td>...</td>\n",
       "      <td>0</td>\n",
       "      <td>0</td>\n",
       "      <td>0</td>\n",
       "      <td>0</td>\n",
       "      <td>0</td>\n",
       "      <td>0</td>\n",
       "      <td>0</td>\n",
       "      <td>0</td>\n",
       "      <td>0</td>\n",
       "      <td>0</td>\n",
       "    </tr>\n",
       "    <tr>\n",
       "      <th>508</th>\n",
       "      <td>0</td>\n",
       "      <td>0</td>\n",
       "      <td>0</td>\n",
       "      <td>0</td>\n",
       "      <td>0</td>\n",
       "      <td>0</td>\n",
       "      <td>0</td>\n",
       "      <td>0</td>\n",
       "      <td>0</td>\n",
       "      <td>0</td>\n",
       "      <td>...</td>\n",
       "      <td>0</td>\n",
       "      <td>0</td>\n",
       "      <td>1</td>\n",
       "      <td>0</td>\n",
       "      <td>0</td>\n",
       "      <td>0</td>\n",
       "      <td>0</td>\n",
       "      <td>0</td>\n",
       "      <td>0</td>\n",
       "      <td>0</td>\n",
       "    </tr>\n",
       "  </tbody>\n",
       "</table>\n",
       "<p>5 rows × 45 columns</p>\n",
       "</div>"
      ],
      "text/plain": [
       "      AK  AL  AR  AZ  CA  CO  CT  DC  DE  FL  ...  SC  SD  TX  UT  VA  VT  WA  \\\n",
       "692    0   0   0   0   0   0   0   0   0   0  ...   0   0   0   0   0   0   0   \n",
       "906    0   0   0   0   0   0   0   0   0   0  ...   0   0   0   0   0   0   0   \n",
       "1879   0   0   0   0   0   0   0   0   0   0  ...   0   0   0   0   0   0   0   \n",
       "1537   0   1   0   0   0   0   0   0   0   0  ...   0   0   0   0   0   0   0   \n",
       "508    0   0   0   0   0   0   0   0   0   0  ...   0   0   1   0   0   0   0   \n",
       "\n",
       "      WI  WV  WY  \n",
       "692    0   0   0  \n",
       "906    0   0   0  \n",
       "1879   0   0   0  \n",
       "1537   0   0   0  \n",
       "508    0   0   0  \n",
       "\n",
       "[5 rows x 45 columns]"
      ]
     },
     "execution_count": 258,
     "metadata": {},
     "output_type": "execute_result"
    }
   ],
   "source": [
    "x_train.iloc[:,27:].head()"
   ]
  }
 ],
 "metadata": {
  "kernelspec": {
   "display_name": "Python [conda env:bank_interest] *",
   "language": "python",
   "name": "conda-env-bank_interest-py"
  },
  "language_info": {
   "codemirror_mode": {
    "name": "ipython",
    "version": 3
   },
   "file_extension": ".py",
   "mimetype": "text/x-python",
   "name": "python",
   "nbconvert_exporter": "python",
   "pygments_lexer": "ipython3",
   "version": "3.10.4"
  }
 },
 "nbformat": 4,
 "nbformat_minor": 5
}
