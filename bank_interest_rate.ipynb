{
 "cells": [
  {
   "cell_type": "markdown",
   "id": "b1ec90bf",
   "metadata": {},
   "source": [
    "# bank_interest_rate"
   ]
  },
  {
   "cell_type": "code",
   "execution_count": null,
   "id": "07f17452",
   "metadata": {},
   "outputs": [],
   "source": [
    "When we study the features, write the small information about that feature\n",
    "so, we can understand which column is important to predict interest rate. "
   ]
  },
  {
   "cell_type": "code",
   "execution_count": 1,
   "id": "1541a283",
   "metadata": {},
   "outputs": [],
   "source": [
    "import pandas as pd\n",
    "import numpy as np\n",
    "\n",
    "import matplotlib.pyplot as plt\n",
    "import seaborn as sns\n",
    "\n",
    "import re\n",
    "import warnings\n",
    "warnings.filterwarnings('ignore')"
   ]
  },
  {
   "cell_type": "code",
   "execution_count": 2,
   "id": "4a7f1457",
   "metadata": {},
   "outputs": [
    {
     "data": {
      "text/html": [
       "<div>\n",
       "<style scoped>\n",
       "    .dataframe tbody tr th:only-of-type {\n",
       "        vertical-align: middle;\n",
       "    }\n",
       "\n",
       "    .dataframe tbody tr th {\n",
       "        vertical-align: top;\n",
       "    }\n",
       "\n",
       "    .dataframe thead th {\n",
       "        text-align: right;\n",
       "    }\n",
       "</style>\n",
       "<table border=\"1\" class=\"dataframe\">\n",
       "  <thead>\n",
       "    <tr style=\"text-align: right;\">\n",
       "      <th></th>\n",
       "      <th>ID</th>\n",
       "      <th>Amount.Requested</th>\n",
       "      <th>Amount.Funded.By.Investors</th>\n",
       "      <th>Interest.Rate</th>\n",
       "      <th>Loan.Length</th>\n",
       "      <th>Loan.Purpose</th>\n",
       "      <th>Debt.To.Income.Ratio</th>\n",
       "      <th>State</th>\n",
       "      <th>Home.Ownership</th>\n",
       "      <th>Monthly.Income</th>\n",
       "      <th>FICO.Range</th>\n",
       "      <th>Open.CREDIT.Lines</th>\n",
       "      <th>Revolving.CREDIT.Balance</th>\n",
       "      <th>Inquiries.in.the.Last.6.Months</th>\n",
       "      <th>Employment.Length</th>\n",
       "    </tr>\n",
       "  </thead>\n",
       "  <tbody>\n",
       "    <tr>\n",
       "      <th>0</th>\n",
       "      <td>79542.0</td>\n",
       "      <td>25000</td>\n",
       "      <td>25000</td>\n",
       "      <td>18.49%</td>\n",
       "      <td>60 months</td>\n",
       "      <td>debt_consolidation</td>\n",
       "      <td>27.56%</td>\n",
       "      <td>VA</td>\n",
       "      <td>MORTGAGE</td>\n",
       "      <td>8606.56</td>\n",
       "      <td>720-724</td>\n",
       "      <td>11</td>\n",
       "      <td>15210</td>\n",
       "      <td>3.0</td>\n",
       "      <td>5 years</td>\n",
       "    </tr>\n",
       "    <tr>\n",
       "      <th>1</th>\n",
       "      <td>75473.0</td>\n",
       "      <td>19750</td>\n",
       "      <td>19750</td>\n",
       "      <td>17.27%</td>\n",
       "      <td>60 months</td>\n",
       "      <td>debt_consolidation</td>\n",
       "      <td>13.39%</td>\n",
       "      <td>NY</td>\n",
       "      <td>MORTGAGE</td>\n",
       "      <td>6737.50</td>\n",
       "      <td>710-714</td>\n",
       "      <td>14</td>\n",
       "      <td>19070</td>\n",
       "      <td>3.0</td>\n",
       "      <td>4 years</td>\n",
       "    </tr>\n",
       "    <tr>\n",
       "      <th>2</th>\n",
       "      <td>67265.0</td>\n",
       "      <td>2100</td>\n",
       "      <td>2100</td>\n",
       "      <td>14.33%</td>\n",
       "      <td>36 months</td>\n",
       "      <td>major_purchase</td>\n",
       "      <td>3.50%</td>\n",
       "      <td>LA</td>\n",
       "      <td>OWN</td>\n",
       "      <td>1000.00</td>\n",
       "      <td>690-694</td>\n",
       "      <td>13</td>\n",
       "      <td>893</td>\n",
       "      <td>1.0</td>\n",
       "      <td>&lt; 1 year</td>\n",
       "    </tr>\n",
       "    <tr>\n",
       "      <th>3</th>\n",
       "      <td>80167.0</td>\n",
       "      <td>28000</td>\n",
       "      <td>28000</td>\n",
       "      <td>16.29%</td>\n",
       "      <td>36 months</td>\n",
       "      <td>credit_card</td>\n",
       "      <td>19.62%</td>\n",
       "      <td>NV</td>\n",
       "      <td>MORTGAGE</td>\n",
       "      <td>7083.33</td>\n",
       "      <td>710-714</td>\n",
       "      <td>12</td>\n",
       "      <td>38194</td>\n",
       "      <td>1.0</td>\n",
       "      <td>10+ years</td>\n",
       "    </tr>\n",
       "    <tr>\n",
       "      <th>4</th>\n",
       "      <td>17240.0</td>\n",
       "      <td>24250</td>\n",
       "      <td>17431.82</td>\n",
       "      <td>12.23%</td>\n",
       "      <td>60 months</td>\n",
       "      <td>credit_card</td>\n",
       "      <td>23.79%</td>\n",
       "      <td>OH</td>\n",
       "      <td>MORTGAGE</td>\n",
       "      <td>5833.33</td>\n",
       "      <td>730-734</td>\n",
       "      <td>6</td>\n",
       "      <td>31061</td>\n",
       "      <td>2.0</td>\n",
       "      <td>10+ years</td>\n",
       "    </tr>\n",
       "  </tbody>\n",
       "</table>\n",
       "</div>"
      ],
      "text/plain": [
       "        ID Amount.Requested Amount.Funded.By.Investors Interest.Rate  \\\n",
       "0  79542.0            25000                      25000        18.49%   \n",
       "1  75473.0            19750                      19750        17.27%   \n",
       "2  67265.0             2100                       2100        14.33%   \n",
       "3  80167.0            28000                      28000        16.29%   \n",
       "4  17240.0            24250                   17431.82        12.23%   \n",
       "\n",
       "  Loan.Length        Loan.Purpose Debt.To.Income.Ratio State Home.Ownership  \\\n",
       "0   60 months  debt_consolidation               27.56%    VA       MORTGAGE   \n",
       "1   60 months  debt_consolidation               13.39%    NY       MORTGAGE   \n",
       "2   36 months      major_purchase                3.50%    LA            OWN   \n",
       "3   36 months         credit_card               19.62%    NV       MORTGAGE   \n",
       "4   60 months         credit_card               23.79%    OH       MORTGAGE   \n",
       "\n",
       "   Monthly.Income FICO.Range Open.CREDIT.Lines Revolving.CREDIT.Balance  \\\n",
       "0         8606.56    720-724                11                    15210   \n",
       "1         6737.50    710-714                14                    19070   \n",
       "2         1000.00    690-694                13                      893   \n",
       "3         7083.33    710-714                12                    38194   \n",
       "4         5833.33    730-734                 6                    31061   \n",
       "\n",
       "   Inquiries.in.the.Last.6.Months Employment.Length  \n",
       "0                             3.0           5 years  \n",
       "1                             3.0           4 years  \n",
       "2                             1.0          < 1 year  \n",
       "3                             1.0         10+ years  \n",
       "4                             2.0         10+ years  "
      ]
     },
     "execution_count": 2,
     "metadata": {},
     "output_type": "execute_result"
    }
   ],
   "source": [
    "df=pd.read_csv('loan_data_train.csv')\n",
    "df.head()"
   ]
  },
  {
   "cell_type": "code",
   "execution_count": 3,
   "id": "d1b0f33c",
   "metadata": {},
   "outputs": [
    {
     "data": {
      "text/plain": [
       "ID                                 1\n",
       "Amount.Requested                   1\n",
       "Amount.Funded.By.Investors         1\n",
       "Interest.Rate                      0\n",
       "Loan.Length                        1\n",
       "Loan.Purpose                       1\n",
       "Debt.To.Income.Ratio               1\n",
       "State                              1\n",
       "Home.Ownership                     1\n",
       "Monthly.Income                     3\n",
       "FICO.Range                         0\n",
       "Open.CREDIT.Lines                  4\n",
       "Revolving.CREDIT.Balance           3\n",
       "Inquiries.in.the.Last.6.Months     3\n",
       "Employment.Length                 69\n",
       "dtype: int64"
      ]
     },
     "execution_count": 3,
     "metadata": {},
     "output_type": "execute_result"
    }
   ],
   "source": [
    "df.isna().sum()"
   ]
  },
  {
   "cell_type": "code",
   "execution_count": 4,
   "id": "e0517310",
   "metadata": {},
   "outputs": [
    {
     "data": {
      "text/plain": [
       "2199"
      ]
     },
     "execution_count": 4,
     "metadata": {},
     "output_type": "execute_result"
    }
   ],
   "source": [
    "df['ID'].nunique() # drop id colum as it have all unique values"
   ]
  },
  {
   "cell_type": "code",
   "execution_count": 5,
   "id": "1f14eebe",
   "metadata": {},
   "outputs": [],
   "source": [
    "df.drop('ID',axis=1,inplace=True)"
   ]
  },
  {
   "cell_type": "code",
   "execution_count": 6,
   "id": "fc38cdab",
   "metadata": {},
   "outputs": [
    {
     "data": {
      "text/plain": [
       "<AxesSubplot:>"
      ]
     },
     "execution_count": 6,
     "metadata": {},
     "output_type": "execute_result"
    },
    {
     "data": {
      "image/png": "[encoded data removed]",
      "text/plain": [
       "<Figure size 432x288 with 1 Axes>"
      ]
     },
     "metadata": {
      "needs_background": "light"
     },
     "output_type": "display_data"
    }
   ],
   "source": [
    "df.boxplot()"
   ]
  },
  {
   "cell_type": "code",
   "execution_count": 7,
   "id": "02d534db",
   "metadata": {},
   "outputs": [
    {
     "data": {
      "text/plain": [
       "\"Index(['Amount_Requested', 'Amount_Funded_By_Investors', 'Interest_Rate',\\n       'Loan_Length', 'Loan_Purpose', 'Debt_To_Income_Ratio', 'State',\\n       'Home_Ownership', 'Monthly_Income', 'FICO_Range', 'Open_CREDIT_Lines',\\n       'Revolving_CREDIT_Balance', 'Inquiries_in_the_Last_6_Months',\\n       'Employment_Length'],\\n      dtype='object')\""
      ]
     },
     "execution_count": 7,
     "metadata": {},
     "output_type": "execute_result"
    }
   ],
   "source": [
    "str(df.columns).replace(\".\",'_')"
   ]
  },
  {
   "cell_type": "code",
   "execution_count": 8,
   "id": "d899cdc1",
   "metadata": {},
   "outputs": [
    {
     "data": {
      "text/plain": [
       "Index(['Amount.Requested', 'Amount.Funded.By.Investors', 'Interest.Rate',\n",
       "       'Loan.Length', 'Loan.Purpose', 'Debt.To.Income.Ratio', 'State',\n",
       "       'Home.Ownership', 'Monthly.Income', 'FICO.Range', 'Open.CREDIT.Lines',\n",
       "       'Revolving.CREDIT.Balance', 'Inquiries.in.the.Last.6.Months',\n",
       "       'Employment.Length'],\n",
       "      dtype='object')"
      ]
     },
     "execution_count": 8,
     "metadata": {},
     "output_type": "execute_result"
    }
   ],
   "source": [
    "df.columns"
   ]
  },
  {
   "cell_type": "code",
   "execution_count": 9,
   "id": "df8bd263",
   "metadata": {},
   "outputs": [],
   "source": [
    "df.rename(columns={'Amount.Requested':'Amount_Requested', \n",
    "                   'Amount.Funded.By.Investors':'Amount_Funded_By_Investors', \n",
    "                   'Interest.Rate':'Interest_Rate',\n",
    "       'Loan.Length':'Loan_Length', 'Loan.Purpose':'Loan_Purpose', \n",
    "                   'Debt.To.Income.Ratio':'Debt_To_Income_Ratio',\n",
    "                   'State':'State','Home.Ownership':'Home_Ownership',\n",
    "                   'Monthly.Income':'Monthly_Income',\n",
    "                   'FICO.Range':'FICO_Range', \n",
    "                   'Open.CREDIT.Lines':'Open_CREDIT_Lines',\n",
    "                   'Revolving.CREDIT.Balance':'Revolving_CREDIT_Balance',\n",
    "                   'Inquiries.in.the.Last.6.Months':'Inquiries_in_the_Last_6_Months',\n",
    "                   'Employment.Length':'Employment_Length'},inplace=True)"
   ]
  },
  {
   "cell_type": "code",
   "execution_count": 10,
   "id": "9f1315af",
   "metadata": {},
   "outputs": [
    {
     "data": {
      "text/plain": [
       "Index(['Amount_Requested', 'Amount_Funded_By_Investors', 'Interest_Rate',\n",
       "       'Loan_Length', 'Loan_Purpose', 'Debt_To_Income_Ratio', 'State',\n",
       "       'Home_Ownership', 'Monthly_Income', 'FICO_Range', 'Open_CREDIT_Lines',\n",
       "       'Revolving_CREDIT_Balance', 'Inquiries_in_the_Last_6_Months',\n",
       "       'Employment_Length'],\n",
       "      dtype='object')"
      ]
     },
     "execution_count": 10,
     "metadata": {},
     "output_type": "execute_result"
    }
   ],
   "source": [
    "df.columns"
   ]
  },
  {
   "cell_type": "code",
   "execution_count": 11,
   "id": "567daf94",
   "metadata": {},
   "outputs": [
    {
     "data": {
      "text/plain": [
       "<seaborn.axisgrid.PairGrid at 0x1f29f49a950>"
      ]
     },
     "execution_count": 11,
     "metadata": {},
     "output_type": "execute_result"
    },
    {
     "data": {
      "image/png": "[encoded data removed]",
      "text/plain": [
       "<Figure size 360x360 with 6 Axes>"
      ]
     },
     "metadata": {
      "needs_background": "light"
     },
     "output_type": "display_data"
    }
   ],
   "source": [
    "sns.pairplot(df)"
   ]
  },
  {
   "cell_type": "code",
   "execution_count": 12,
   "id": "02474da2",
   "metadata": {},
   "outputs": [
    {
     "name": "stdout",
     "output_type": "stream",
     "text": [
      "<class 'pandas.core.frame.DataFrame'>\n",
      "RangeIndex: 2200 entries, 0 to 2199\n",
      "Data columns (total 14 columns):\n",
      " #   Column                          Non-Null Count  Dtype  \n",
      "---  ------                          --------------  -----  \n",
      " 0   Amount_Requested                2199 non-null   object \n",
      " 1   Amount_Funded_By_Investors      2199 non-null   object \n",
      " 2   Interest_Rate                   2200 non-null   object \n",
      " 3   Loan_Length                     2199 non-null   object \n",
      " 4   Loan_Purpose                    2199 non-null   object \n",
      " 5   Debt_To_Income_Ratio            2199 non-null   object \n",
      " 6   State                           2199 non-null   object \n",
      " 7   Home_Ownership                  2199 non-null   object \n",
      " 8   Monthly_Income                  2197 non-null   float64\n",
      " 9   FICO_Range                      2200 non-null   object \n",
      " 10  Open_CREDIT_Lines               2196 non-null   object \n",
      " 11  Revolving_CREDIT_Balance        2197 non-null   object \n",
      " 12  Inquiries_in_the_Last_6_Months  2197 non-null   float64\n",
      " 13  Employment_Length               2131 non-null   object \n",
      "dtypes: float64(2), object(12)\n",
      "memory usage: 240.8+ KB\n"
     ]
    }
   ],
   "source": [
    "df.info()"
   ]
  },
  {
   "cell_type": "code",
   "execution_count": 13,
   "id": "7c0d6706",
   "metadata": {},
   "outputs": [
    {
     "data": {
      "text/html": [
       "<div>\n",
       "<style scoped>\n",
       "    .dataframe tbody tr th:only-of-type {\n",
       "        vertical-align: middle;\n",
       "    }\n",
       "\n",
       "    .dataframe tbody tr th {\n",
       "        vertical-align: top;\n",
       "    }\n",
       "\n",
       "    .dataframe thead th {\n",
       "        text-align: right;\n",
       "    }\n",
       "</style>\n",
       "<table border=\"1\" class=\"dataframe\">\n",
       "  <thead>\n",
       "    <tr style=\"text-align: right;\">\n",
       "      <th></th>\n",
       "      <th>Monthly_Income</th>\n",
       "      <th>Inquiries_in_the_Last_6_Months</th>\n",
       "    </tr>\n",
       "  </thead>\n",
       "  <tbody>\n",
       "    <tr>\n",
       "      <th>count</th>\n",
       "      <td>2197.000000</td>\n",
       "      <td>2197.000000</td>\n",
       "    </tr>\n",
       "    <tr>\n",
       "      <th>mean</th>\n",
       "      <td>5727.459290</td>\n",
       "      <td>0.898498</td>\n",
       "    </tr>\n",
       "    <tr>\n",
       "      <th>std</th>\n",
       "      <td>4073.529708</td>\n",
       "      <td>1.219223</td>\n",
       "    </tr>\n",
       "    <tr>\n",
       "      <th>min</th>\n",
       "      <td>588.500000</td>\n",
       "      <td>0.000000</td>\n",
       "    </tr>\n",
       "    <tr>\n",
       "      <th>25%</th>\n",
       "      <td>3458.000000</td>\n",
       "      <td>0.000000</td>\n",
       "    </tr>\n",
       "    <tr>\n",
       "      <th>50%</th>\n",
       "      <td>5000.000000</td>\n",
       "      <td>0.000000</td>\n",
       "    </tr>\n",
       "    <tr>\n",
       "      <th>75%</th>\n",
       "      <td>6883.330000</td>\n",
       "      <td>1.000000</td>\n",
       "    </tr>\n",
       "    <tr>\n",
       "      <th>max</th>\n",
       "      <td>102750.000000</td>\n",
       "      <td>9.000000</td>\n",
       "    </tr>\n",
       "  </tbody>\n",
       "</table>\n",
       "</div>"
      ],
      "text/plain": [
       "       Monthly_Income  Inquiries_in_the_Last_6_Months\n",
       "count     2197.000000                     2197.000000\n",
       "mean      5727.459290                        0.898498\n",
       "std       4073.529708                        1.219223\n",
       "min        588.500000                        0.000000\n",
       "25%       3458.000000                        0.000000\n",
       "50%       5000.000000                        0.000000\n",
       "75%       6883.330000                        1.000000\n",
       "max     102750.000000                        9.000000"
      ]
     },
     "execution_count": 13,
     "metadata": {},
     "output_type": "execute_result"
    }
   ],
   "source": [
    "df.describe()"
   ]
  },
  {
   "cell_type": "markdown",
   "id": "95c14515",
   "metadata": {},
   "source": [
    "### Amount_Requested"
   ]
  },
  {
   "cell_type": "code",
   "execution_count": 14,
   "id": "03a931fa",
   "metadata": {},
   "outputs": [
    {
     "data": {
      "text/plain": [
       "10000    178\n",
       "12000    132\n",
       "5000      96\n",
       "20000     92\n",
       "6000      89\n",
       "        ... \n",
       "9525       1\n",
       "1950       1\n",
       "15300      1\n",
       "11950      1\n",
       "13225      1\n",
       "Name: Amount_Requested, Length: 356, dtype: int64"
      ]
     },
     "execution_count": 14,
     "metadata": {},
     "output_type": "execute_result"
    }
   ],
   "source": [
    "df['Amount_Requested'].value_counts()"
   ]
  },
  {
   "cell_type": "code",
   "execution_count": 15,
   "id": "ab95ccf9",
   "metadata": {},
   "outputs": [
    {
     "data": {
      "text/plain": [
       "array(['25000', '19750', '2100', '28000', '24250', '5400', '16000',\n",
       "       '6400', '24000', '8000', '9000', '13000', '10000', '3600', '7350',\n",
       "       '17000', '18825', '4200', '5000', '3700', '6625', '15000', '29175',\n",
       "       '6000', '22000', '18000', '12000', '6500', '4000', '7300', '19400',\n",
       "       '11625', '3000', '19000', '2500', '17350', '21000', '20000',\n",
       "       '1900', '23300', '8400', '1600', '7200', '15400', '7000', '20500',\n",
       "       '24375', '5875', '14000', '5500', '4800', '34500', '20950', '7500',\n",
       "       '14400', '14675', '24500', '35000', '11200', '30000', '3200',\n",
       "       '11700', '11500', '8500', '16500', '16550', '13250', '5200',\n",
       "       '2000', '4500', '20800', '8325', '6600', '7750', '19500', '27050',\n",
       "       '8800', '11000', '3500', '21200', '2650', '8575', '13200', '10750',\n",
       "       '5450', '2400', '15300', '17325', '19125', '19075', '5600',\n",
       "       '10400', '16450', '11325', '10050', '14725', '16750', '4325',\n",
       "       '10075', '10800', '23500', '6200', '2875', '27825', '12250',\n",
       "       '16800', '18775', '9500', '16350', '23000', '5075', '18650',\n",
       "       '7575', '15350', '27925', '28625', '12100', '10850', '11350',\n",
       "       '26500', '4950', '1000', '31300', '17975', '1500', '3625', '19050',\n",
       "       '15650', '4225', '18200', '10200', '.', '10500', '21250', '7125',\n",
       "       '9450', '2575', '4750', '11400', '25875', '12300', '6250', '11750',\n",
       "       '13025', '16300', '21725', '22250', '17500', '2200', '1550',\n",
       "       '11100', '27575', '22350', '18550', '5800', '17600', '31050',\n",
       "       '15800', '3225', '9750', '1200', '6775', '12500', '19725', '30075',\n",
       "       '5375', '19200', '5525', '7675', '5900', '26000', '13450', '9600',\n",
       "       '3800', '8700', '11875', '24400', '4550', '6075', '1700', '2800',\n",
       "       '14600', '29000', '24625', '13800', '18500', '22400', '4900',\n",
       "       '7800', '24925', '9250', '2250', '5300', '12725', '14775', '33600',\n",
       "       '31825', '19600', '24175', '27000', '28200', '6700', '25450',\n",
       "       '12800', '7550', '14825', '32000', '20125', '13600', '4700',\n",
       "       '6950', '6525', '12700', '2700', '10625', '15250', '17400',\n",
       "       '21700', '1775', '4825', '17300', '13075', '13500', '12375',\n",
       "       '5675', '28350', '15500', '10350', '3825', '7425', '1800', '5825',\n",
       "       '4575', '20675', '14500', '8875', '17200', '9525', '1950', '5750',\n",
       "       '11950', '23750', '9800', '3300', '9950', '9550', '31075', '31500',\n",
       "       '1125', '1750', '7100', '17625', '15175', '9100', '14075', '7900',\n",
       "       '5100', '16200', '5950', '30225', '15200', '10450', '6725', '1450',\n",
       "       '24575', '1400', '18225', '9425', '9325', '16075', '11575', '9200',\n",
       "       '7925', '17475', '10375', '13100', '5650', '7275', '25200', '6575',\n",
       "       '9050', '32400', '32550', '33500', '1625', '20375', '1675',\n",
       "       '18625', '6900', '6800', '9175', '7625', '8525', '23850', '8250',\n",
       "       '14100', '22750', '21850', '11600', '21600', '8600', '14750',\n",
       "       '16475', '14300', '33000', '5425', '18750', nan, '12825', '22500',\n",
       "       '3250', '12200', '13475', '4350', '25475', '7050', '8450', '14575',\n",
       "       '5175', '13750', '8475', '16950', '14475', '19800', '19425',\n",
       "       '14700', '20700', '15475', '11050', '5775', '7450', '7400',\n",
       "       '31000', '4600', '25800', '2225', '15875', '2350', '14550', '3725',\n",
       "       '3900', '4075', '25225', '16400', '32350', '23400', '18400',\n",
       "       '15575', '18800', '25975', '2075', '10550', '7325', '1875', '9700',\n",
       "       '11975', '13225'], dtype=object)"
      ]
     },
     "execution_count": 15,
     "metadata": {},
     "output_type": "execute_result"
    }
   ],
   "source": [
    "df['Amount_Requested'].unique()"
   ]
  },
  {
   "cell_type": "code",
   "execution_count": 16,
   "id": "d1d6a6aa",
   "metadata": {},
   "outputs": [
    {
     "data": {
      "text/plain": [
       "1"
      ]
     },
     "execution_count": 16,
     "metadata": {},
     "output_type": "execute_result"
    }
   ],
   "source": [
    "df['Amount_Requested'].isna().sum()"
   ]
  },
  {
   "cell_type": "code",
   "execution_count": 17,
   "id": "b0cbd770",
   "metadata": {},
   "outputs": [
    {
     "data": {
      "text/plain": [
       "371     .\n",
       "1357    .\n",
       "1791    .\n",
       "1991    .\n",
       "Name: Amount_Requested, dtype: object"
      ]
     },
     "execution_count": 17,
     "metadata": {},
     "output_type": "execute_result"
    }
   ],
   "source": [
    "df['Amount_Requested'].loc[df['Amount_Requested']=='.']"
   ]
  },
  {
   "cell_type": "code",
   "execution_count": 18,
   "id": "452d1630",
   "metadata": {},
   "outputs": [],
   "source": [
    "df.replace('.',np.nan,inplace=True)"
   ]
  },
  {
   "cell_type": "code",
   "execution_count": 19,
   "id": "82ed1588",
   "metadata": {},
   "outputs": [
    {
     "data": {
      "text/plain": [
       "5"
      ]
     },
     "execution_count": 19,
     "metadata": {},
     "output_type": "execute_result"
    }
   ],
   "source": [
    "df['Amount_Requested'].isna() .sum()"
   ]
  },
  {
   "cell_type": "code",
   "execution_count": 20,
   "id": "594ad6fa",
   "metadata": {},
   "outputs": [],
   "source": [
    "df['Amount_Requested']=df['Amount_Requested'].astype('float')"
   ]
  },
  {
   "cell_type": "code",
   "execution_count": 21,
   "id": "45b3d71e",
   "metadata": {},
   "outputs": [
    {
     "data": {
      "text/plain": [
       "dtype('float64')"
      ]
     },
     "execution_count": 21,
     "metadata": {},
     "output_type": "execute_result"
    }
   ],
   "source": [
    "df['Amount_Requested'].dtype"
   ]
  },
  {
   "cell_type": "code",
   "execution_count": 22,
   "id": "7d0669ea",
   "metadata": {},
   "outputs": [
    {
     "data": {
      "text/plain": [
       "12496.469248291573"
      ]
     },
     "execution_count": 22,
     "metadata": {},
     "output_type": "execute_result"
    }
   ],
   "source": [
    "df['Amount_Requested'].mean()"
   ]
  },
  {
   "cell_type": "code",
   "execution_count": 23,
   "id": "52a5acbe",
   "metadata": {},
   "outputs": [
    {
     "data": {
      "text/plain": [
       "10000.0"
      ]
     },
     "execution_count": 23,
     "metadata": {},
     "output_type": "execute_result"
    }
   ],
   "source": [
    "df['Amount_Requested'].mode()[0]"
   ]
  },
  {
   "cell_type": "code",
   "execution_count": 24,
   "id": "2224ba04",
   "metadata": {},
   "outputs": [
    {
     "data": {
      "text/plain": [
       "10000.0"
      ]
     },
     "execution_count": 24,
     "metadata": {},
     "output_type": "execute_result"
    }
   ],
   "source": [
    "df['Amount_Requested'].median()"
   ]
  },
  {
   "cell_type": "code",
   "execution_count": 25,
   "id": "f015dd07",
   "metadata": {},
   "outputs": [],
   "source": [
    "df['Amount_Requested'].fillna(df['Amount_Requested'].median(),inplace=True)"
   ]
  },
  {
   "cell_type": "code",
   "execution_count": 26,
   "id": "bcbac002",
   "metadata": {},
   "outputs": [
    {
     "data": {
      "text/plain": [
       "<AxesSubplot:xlabel='Amount_Requested'>"
      ]
     },
     "execution_count": 26,
     "metadata": {},
     "output_type": "execute_result"
    },
    {
     "data": {
      "image/png": "[encoded data removed]",
      "text/plain": [
       "<Figure size 432x288 with 1 Axes>"
      ]
     },
     "metadata": {
      "needs_background": "light"
     },
     "output_type": "display_data"
    }
   ],
   "source": [
    "sns.boxplot(df['Amount_Requested'])"
   ]
  },
  {
   "cell_type": "code",
   "execution_count": 27,
   "id": "d32b2d3c",
   "metadata": {},
   "outputs": [
    {
     "name": "stdout",
     "output_type": "stream",
     "text": [
      "IQR 11000.0\n",
      "upper limit 39000.0\n"
     ]
    }
   ],
   "source": [
    "iqr=df['Amount_Requested'].quantile(0.75)-df['Amount_Requested'].quantile(0.25)\n",
    "upper_limit=df['Amount_Requested'].quantile(0.75)+2*iqr\n",
    "print(\"IQR\",iqr)\n",
    "print(\"upper limit\",upper_limit)"
   ]
  },
  {
   "cell_type": "code",
   "execution_count": 28,
   "id": "91149c39",
   "metadata": {},
   "outputs": [
    {
     "data": {
      "text/plain": [
       "Series([], Name: Amount_Requested, dtype: float64)"
      ]
     },
     "execution_count": 28,
     "metadata": {},
     "output_type": "execute_result"
    }
   ],
   "source": [
    "df['Amount_Requested'].loc[df['Amount_Requested']>upper_limit]"
   ]
  },
  {
   "cell_type": "code",
   "execution_count": 29,
   "id": "69d1e5fb",
   "metadata": {},
   "outputs": [],
   "source": [
    "# df.info()"
   ]
  },
  {
   "cell_type": "markdown",
   "id": "0e94da24",
   "metadata": {},
   "source": [
    "### Amount_Funded_By_Investors"
   ]
  },
  {
   "cell_type": "code",
   "execution_count": 30,
   "id": "e2d1c5a7",
   "metadata": {},
   "outputs": [
    {
     "data": {
      "text/plain": [
       "dtype('O')"
      ]
     },
     "execution_count": 30,
     "metadata": {},
     "output_type": "execute_result"
    }
   ],
   "source": [
    "df['Amount_Funded_By_Investors'].dtype"
   ]
  },
  {
   "cell_type": "code",
   "execution_count": 31,
   "id": "d80238c7",
   "metadata": {},
   "outputs": [
    {
     "data": {
      "text/plain": [
       "4"
      ]
     },
     "execution_count": 31,
     "metadata": {},
     "output_type": "execute_result"
    }
   ],
   "source": [
    "df['Amount_Funded_By_Investors'].isna().sum()"
   ]
  },
  {
   "cell_type": "code",
   "execution_count": 32,
   "id": "d661dc7f",
   "metadata": {},
   "outputs": [],
   "source": [
    "df['Amount_Funded_By_Investors']=df['Amount_Funded_By_Investors'].astype('float')"
   ]
  },
  {
   "cell_type": "code",
   "execution_count": 33,
   "id": "a2e164ac",
   "metadata": {},
   "outputs": [
    {
     "data": {
      "text/plain": [
       "12077.803406193085"
      ]
     },
     "execution_count": 33,
     "metadata": {},
     "output_type": "execute_result"
    }
   ],
   "source": [
    "df['Amount_Funded_By_Investors'].mean()"
   ]
  },
  {
   "cell_type": "code",
   "execution_count": 34,
   "id": "ee60de46",
   "metadata": {},
   "outputs": [
    {
     "data": {
      "text/plain": [
       "0    10000.0\n",
       "Name: Amount_Funded_By_Investors, dtype: float64"
      ]
     },
     "execution_count": 34,
     "metadata": {},
     "output_type": "execute_result"
    }
   ],
   "source": [
    "df['Amount_Funded_By_Investors'].mode()"
   ]
  },
  {
   "cell_type": "code",
   "execution_count": 35,
   "id": "7c5b582c",
   "metadata": {},
   "outputs": [
    {
     "data": {
      "text/plain": [
       "10000.0"
      ]
     },
     "execution_count": 35,
     "metadata": {},
     "output_type": "execute_result"
    }
   ],
   "source": [
    "df['Amount_Funded_By_Investors'].median()"
   ]
  },
  {
   "cell_type": "code",
   "execution_count": 36,
   "id": "f6449f73",
   "metadata": {},
   "outputs": [],
   "source": [
    "df['Amount_Funded_By_Investors'].fillna(df['Amount_Funded_By_Investors'].median(),inplace=True)"
   ]
  },
  {
   "cell_type": "code",
   "execution_count": 37,
   "id": "f8594966",
   "metadata": {},
   "outputs": [
    {
     "data": {
      "text/plain": [
       "<AxesSubplot:xlabel='Amount_Funded_By_Investors'>"
      ]
     },
     "execution_count": 37,
     "metadata": {},
     "output_type": "execute_result"
    },
    {
     "data": {
      "image/png": "[encoded data removed]",
      "text/plain": [
       "<Figure size 432x288 with 1 Axes>"
      ]
     },
     "metadata": {
      "needs_background": "light"
     },
     "output_type": "display_data"
    }
   ],
   "source": [
    "sns.boxplot(df['Amount_Funded_By_Investors'])"
   ]
  },
  {
   "cell_type": "code",
   "execution_count": 38,
   "id": "80f3caac",
   "metadata": {},
   "outputs": [
    {
     "name": "stdout",
     "output_type": "stream",
     "text": [
      "IQR 10200.0\n",
      "upper limit 46800.0\n"
     ]
    }
   ],
   "source": [
    "iqr=df['Amount_Funded_By_Investors'].quantile(0.75)-df['Amount_Funded_By_Investors'].quantile(0.25)\n",
    "upper_limit=df['Amount_Funded_By_Investors'].quantile(0.75)+3*iqr\n",
    "print(\"IQR\",iqr)\n",
    "print(\"upper limit\",upper_limit)"
   ]
  },
  {
   "cell_type": "code",
   "execution_count": 39,
   "id": "72dc9d89",
   "metadata": {},
   "outputs": [
    {
     "data": {
      "text/plain": [
       "Series([], Name: Amount_Funded_By_Investors, dtype: float64)"
      ]
     },
     "execution_count": 39,
     "metadata": {},
     "output_type": "execute_result"
    }
   ],
   "source": [
    "df['Amount_Funded_By_Investors'].loc[df['Amount_Funded_By_Investors']>upper_limit]"
   ]
  },
  {
   "cell_type": "code",
   "execution_count": 40,
   "id": "8548ffe3",
   "metadata": {},
   "outputs": [],
   "source": [
    "# Interest_Rate >>>>>> target column"
   ]
  },
  {
   "cell_type": "code",
   "execution_count": 41,
   "id": "bae9af8e",
   "metadata": {},
   "outputs": [
    {
     "data": {
      "text/plain": [
       "dtype('O')"
      ]
     },
     "execution_count": 41,
     "metadata": {},
     "output_type": "execute_result"
    }
   ],
   "source": [
    "df['Interest_Rate'].dtype"
   ]
  },
  {
   "cell_type": "code",
   "execution_count": 42,
   "id": "f2f05ae6",
   "metadata": {},
   "outputs": [
    {
     "data": {
      "text/plain": [
       "0       18.49%\n",
       "1       17.27%\n",
       "2       14.33%\n",
       "3       16.29%\n",
       "4       12.23%\n",
       "         ...  \n",
       "2195    23.28%\n",
       "2196    14.33%\n",
       "2197    15.31%\n",
       "2198    20.99%\n",
       "2199    10.16%\n",
       "Name: Interest_Rate, Length: 2200, dtype: object"
      ]
     },
     "execution_count": 42,
     "metadata": {},
     "output_type": "execute_result"
    }
   ],
   "source": [
    "df['Interest_Rate']"
   ]
  },
  {
   "cell_type": "code",
   "execution_count": 43,
   "id": "1d48cb89",
   "metadata": {},
   "outputs": [],
   "source": [
    "df['Interest_Rate']=df[\"Interest_Rate\"].str.replace(\"%\",\"\")"
   ]
  },
  {
   "cell_type": "code",
   "execution_count": 44,
   "id": "6bf875ad",
   "metadata": {},
   "outputs": [],
   "source": [
    "df['Interest_Rate']=df['Interest_Rate'].astype('float') "
   ]
  },
  {
   "cell_type": "code",
   "execution_count": 45,
   "id": "995e2fb2",
   "metadata": {},
   "outputs": [
    {
     "data": {
      "text/plain": [
       "0"
      ]
     },
     "execution_count": 45,
     "metadata": {},
     "output_type": "execute_result"
    }
   ],
   "source": [
    "df['Interest_Rate'].isna().sum()"
   ]
  },
  {
   "cell_type": "code",
   "execution_count": 46,
   "id": "e698e44e",
   "metadata": {},
   "outputs": [],
   "source": [
    "# df.info()"
   ]
  },
  {
   "cell_type": "markdown",
   "id": "b7bd21c2",
   "metadata": {},
   "source": [
    "### Loan_Length"
   ]
  },
  {
   "cell_type": "code",
   "execution_count": 47,
   "id": "5bc606dd",
   "metadata": {},
   "outputs": [
    {
     "data": {
      "text/plain": [
       "{'36 months': 1722, '60 months': 476}"
      ]
     },
     "execution_count": 47,
     "metadata": {},
     "output_type": "execute_result"
    }
   ],
   "source": [
    "df['Loan_Length'].value_counts().to_dict()"
   ]
  },
  {
   "cell_type": "code",
   "execution_count": 48,
   "id": "a20153d2",
   "metadata": {},
   "outputs": [],
   "source": [
    "df['Loan_Length'].replace({'36 months': 36, '60 months': 60},inplace=True)"
   ]
  },
  {
   "cell_type": "code",
   "execution_count": 49,
   "id": "eea9b0c5",
   "metadata": {},
   "outputs": [
    {
     "data": {
      "text/plain": [
       "<AxesSubplot:xlabel='Loan_Length', ylabel='count'>"
      ]
     },
     "execution_count": 49,
     "metadata": {},
     "output_type": "execute_result"
    },
    {
     "data": {
      "image/png": "[encoded data removed]",
      "text/plain": [
       "<Figure size 432x288 with 1 Axes>"
      ]
     },
     "metadata": {
      "needs_background": "light"
     },
     "output_type": "display_data"
    }
   ],
   "source": [
    "sns.countplot(df['Loan_Length'])"
   ]
  },
  {
   "cell_type": "markdown",
   "id": "407a49a0",
   "metadata": {},
   "source": [
    "### Loan_Purpose"
   ]
  },
  {
   "cell_type": "code",
   "execution_count": 50,
   "id": "d951b656",
   "metadata": {},
   "outputs": [
    {
     "data": {
      "text/plain": [
       "debt_consolidation    1147\n",
       "credit_card            394\n",
       "other                  174\n",
       "home_improvement       135\n",
       "major_purchase          84\n",
       "small_business          80\n",
       "car                     45\n",
       "wedding                 35\n",
       "medical                 26\n",
       "moving                  25\n",
       "house                   19\n",
       "vacation                18\n",
       "educational             14\n",
       "renewable_energy         3\n",
       "Name: Loan_Purpose, dtype: int64"
      ]
     },
     "execution_count": 50,
     "metadata": {},
     "output_type": "execute_result"
    }
   ],
   "source": [
    "df['Loan_Purpose'].value_counts()"
   ]
  },
  {
   "cell_type": "code",
   "execution_count": 51,
   "id": "995ab518",
   "metadata": {},
   "outputs": [
    {
     "data": {
      "text/html": [
       "<div>\n",
       "<style scoped>\n",
       "    .dataframe tbody tr th:only-of-type {\n",
       "        vertical-align: middle;\n",
       "    }\n",
       "\n",
       "    .dataframe tbody tr th {\n",
       "        vertical-align: top;\n",
       "    }\n",
       "\n",
       "    .dataframe thead th {\n",
       "        text-align: right;\n",
       "    }\n",
       "</style>\n",
       "<table border=\"1\" class=\"dataframe\">\n",
       "  <thead>\n",
       "    <tr style=\"text-align: right;\">\n",
       "      <th></th>\n",
       "      <th>car</th>\n",
       "      <th>credit_card</th>\n",
       "      <th>debt_consolidation</th>\n",
       "      <th>educational</th>\n",
       "      <th>home_improvement</th>\n",
       "      <th>house</th>\n",
       "      <th>major_purchase</th>\n",
       "      <th>medical</th>\n",
       "      <th>moving</th>\n",
       "      <th>other</th>\n",
       "      <th>renewable_energy</th>\n",
       "      <th>small_business</th>\n",
       "      <th>vacation</th>\n",
       "      <th>wedding</th>\n",
       "    </tr>\n",
       "  </thead>\n",
       "  <tbody>\n",
       "    <tr>\n",
       "      <th>0</th>\n",
       "      <td>0</td>\n",
       "      <td>0</td>\n",
       "      <td>1</td>\n",
       "      <td>0</td>\n",
       "      <td>0</td>\n",
       "      <td>0</td>\n",
       "      <td>0</td>\n",
       "      <td>0</td>\n",
       "      <td>0</td>\n",
       "      <td>0</td>\n",
       "      <td>0</td>\n",
       "      <td>0</td>\n",
       "      <td>0</td>\n",
       "      <td>0</td>\n",
       "    </tr>\n",
       "    <tr>\n",
       "      <th>1</th>\n",
       "      <td>0</td>\n",
       "      <td>0</td>\n",
       "      <td>1</td>\n",
       "      <td>0</td>\n",
       "      <td>0</td>\n",
       "      <td>0</td>\n",
       "      <td>0</td>\n",
       "      <td>0</td>\n",
       "      <td>0</td>\n",
       "      <td>0</td>\n",
       "      <td>0</td>\n",
       "      <td>0</td>\n",
       "      <td>0</td>\n",
       "      <td>0</td>\n",
       "    </tr>\n",
       "    <tr>\n",
       "      <th>2</th>\n",
       "      <td>0</td>\n",
       "      <td>0</td>\n",
       "      <td>0</td>\n",
       "      <td>0</td>\n",
       "      <td>0</td>\n",
       "      <td>0</td>\n",
       "      <td>1</td>\n",
       "      <td>0</td>\n",
       "      <td>0</td>\n",
       "      <td>0</td>\n",
       "      <td>0</td>\n",
       "      <td>0</td>\n",
       "      <td>0</td>\n",
       "      <td>0</td>\n",
       "    </tr>\n",
       "    <tr>\n",
       "      <th>3</th>\n",
       "      <td>0</td>\n",
       "      <td>1</td>\n",
       "      <td>0</td>\n",
       "      <td>0</td>\n",
       "      <td>0</td>\n",
       "      <td>0</td>\n",
       "      <td>0</td>\n",
       "      <td>0</td>\n",
       "      <td>0</td>\n",
       "      <td>0</td>\n",
       "      <td>0</td>\n",
       "      <td>0</td>\n",
       "      <td>0</td>\n",
       "      <td>0</td>\n",
       "    </tr>\n",
       "    <tr>\n",
       "      <th>4</th>\n",
       "      <td>0</td>\n",
       "      <td>1</td>\n",
       "      <td>0</td>\n",
       "      <td>0</td>\n",
       "      <td>0</td>\n",
       "      <td>0</td>\n",
       "      <td>0</td>\n",
       "      <td>0</td>\n",
       "      <td>0</td>\n",
       "      <td>0</td>\n",
       "      <td>0</td>\n",
       "      <td>0</td>\n",
       "      <td>0</td>\n",
       "      <td>0</td>\n",
       "    </tr>\n",
       "    <tr>\n",
       "      <th>...</th>\n",
       "      <td>...</td>\n",
       "      <td>...</td>\n",
       "      <td>...</td>\n",
       "      <td>...</td>\n",
       "      <td>...</td>\n",
       "      <td>...</td>\n",
       "      <td>...</td>\n",
       "      <td>...</td>\n",
       "      <td>...</td>\n",
       "      <td>...</td>\n",
       "      <td>...</td>\n",
       "      <td>...</td>\n",
       "      <td>...</td>\n",
       "      <td>...</td>\n",
       "    </tr>\n",
       "    <tr>\n",
       "      <th>2195</th>\n",
       "      <td>0</td>\n",
       "      <td>0</td>\n",
       "      <td>0</td>\n",
       "      <td>0</td>\n",
       "      <td>0</td>\n",
       "      <td>0</td>\n",
       "      <td>0</td>\n",
       "      <td>0</td>\n",
       "      <td>0</td>\n",
       "      <td>1</td>\n",
       "      <td>0</td>\n",
       "      <td>0</td>\n",
       "      <td>0</td>\n",
       "      <td>0</td>\n",
       "    </tr>\n",
       "    <tr>\n",
       "      <th>2196</th>\n",
       "      <td>1</td>\n",
       "      <td>0</td>\n",
       "      <td>0</td>\n",
       "      <td>0</td>\n",
       "      <td>0</td>\n",
       "      <td>0</td>\n",
       "      <td>0</td>\n",
       "      <td>0</td>\n",
       "      <td>0</td>\n",
       "      <td>0</td>\n",
       "      <td>0</td>\n",
       "      <td>0</td>\n",
       "      <td>0</td>\n",
       "      <td>0</td>\n",
       "    </tr>\n",
       "    <tr>\n",
       "      <th>2197</th>\n",
       "      <td>0</td>\n",
       "      <td>0</td>\n",
       "      <td>1</td>\n",
       "      <td>0</td>\n",
       "      <td>0</td>\n",
       "      <td>0</td>\n",
       "      <td>0</td>\n",
       "      <td>0</td>\n",
       "      <td>0</td>\n",
       "      <td>0</td>\n",
       "      <td>0</td>\n",
       "      <td>0</td>\n",
       "      <td>0</td>\n",
       "      <td>0</td>\n",
       "    </tr>\n",
       "    <tr>\n",
       "      <th>2198</th>\n",
       "      <td>0</td>\n",
       "      <td>1</td>\n",
       "      <td>0</td>\n",
       "      <td>0</td>\n",
       "      <td>0</td>\n",
       "      <td>0</td>\n",
       "      <td>0</td>\n",
       "      <td>0</td>\n",
       "      <td>0</td>\n",
       "      <td>0</td>\n",
       "      <td>0</td>\n",
       "      <td>0</td>\n",
       "      <td>0</td>\n",
       "      <td>0</td>\n",
       "    </tr>\n",
       "    <tr>\n",
       "      <th>2199</th>\n",
       "      <td>0</td>\n",
       "      <td>0</td>\n",
       "      <td>1</td>\n",
       "      <td>0</td>\n",
       "      <td>0</td>\n",
       "      <td>0</td>\n",
       "      <td>0</td>\n",
       "      <td>0</td>\n",
       "      <td>0</td>\n",
       "      <td>0</td>\n",
       "      <td>0</td>\n",
       "      <td>0</td>\n",
       "      <td>0</td>\n",
       "      <td>0</td>\n",
       "    </tr>\n",
       "  </tbody>\n",
       "</table>\n",
       "<p>2200 rows × 14 columns</p>\n",
       "</div>"
      ],
      "text/plain": [
       "      car  credit_card  debt_consolidation  educational  home_improvement  \\\n",
       "0       0            0                   1            0                 0   \n",
       "1       0            0                   1            0                 0   \n",
       "2       0            0                   0            0                 0   \n",
       "3       0            1                   0            0                 0   \n",
       "4       0            1                   0            0                 0   \n",
       "...   ...          ...                 ...          ...               ...   \n",
       "2195    0            0                   0            0                 0   \n",
       "2196    1            0                   0            0                 0   \n",
       "2197    0            0                   1            0                 0   \n",
       "2198    0            1                   0            0                 0   \n",
       "2199    0            0                   1            0                 0   \n",
       "\n",
       "      house  major_purchase  medical  moving  other  renewable_energy  \\\n",
       "0         0               0        0       0      0                 0   \n",
       "1         0               0        0       0      0                 0   \n",
       "2         0               1        0       0      0                 0   \n",
       "3         0               0        0       0      0                 0   \n",
       "4         0               0        0       0      0                 0   \n",
       "...     ...             ...      ...     ...    ...               ...   \n",
       "2195      0               0        0       0      1                 0   \n",
       "2196      0               0        0       0      0                 0   \n",
       "2197      0               0        0       0      0                 0   \n",
       "2198      0               0        0       0      0                 0   \n",
       "2199      0               0        0       0      0                 0   \n",
       "\n",
       "      small_business  vacation  wedding  \n",
       "0                  0         0        0  \n",
       "1                  0         0        0  \n",
       "2                  0         0        0  \n",
       "3                  0         0        0  \n",
       "4                  0         0        0  \n",
       "...              ...       ...      ...  \n",
       "2195               0         0        0  \n",
       "2196               0         0        0  \n",
       "2197               0         0        0  \n",
       "2198               0         0        0  \n",
       "2199               0         0        0  \n",
       "\n",
       "[2200 rows x 14 columns]"
      ]
     },
     "execution_count": 51,
     "metadata": {},
     "output_type": "execute_result"
    }
   ],
   "source": [
    "df_Loan_Purpose=pd.get_dummies(df['Loan_Purpose'])\n",
    "df.drop('Loan_Purpose',axis=1,inplace=True)\n",
    "df_Loan_Purpose"
   ]
  },
  {
   "cell_type": "code",
   "execution_count": 52,
   "id": "795686c3",
   "metadata": {},
   "outputs": [],
   "source": [
    "# df.info()"
   ]
  },
  {
   "cell_type": "markdown",
   "id": "c52b2461",
   "metadata": {},
   "source": [
    "### Debt_To_Income_Ratio"
   ]
  },
  {
   "cell_type": "code",
   "execution_count": 53,
   "id": "dbfd040c",
   "metadata": {},
   "outputs": [
    {
     "data": {
      "text/plain": [
       "1526"
      ]
     },
     "execution_count": 53,
     "metadata": {},
     "output_type": "execute_result"
    }
   ],
   "source": [
    "df['Debt_To_Income_Ratio'].nunique()"
   ]
  },
  {
   "cell_type": "code",
   "execution_count": 54,
   "id": "56ac56fa",
   "metadata": {},
   "outputs": [
    {
     "data": {
      "text/plain": [
       "dtype('O')"
      ]
     },
     "execution_count": 54,
     "metadata": {},
     "output_type": "execute_result"
    }
   ],
   "source": [
    "df['Debt_To_Income_Ratio'].dtype"
   ]
  },
  {
   "cell_type": "code",
   "execution_count": 55,
   "id": "51fc5d65",
   "metadata": {},
   "outputs": [],
   "source": [
    "df['Debt_To_Income_Ratio']=df[\"Debt_To_Income_Ratio\"].str.replace(\"%\",\"\")"
   ]
  },
  {
   "cell_type": "code",
   "execution_count": 56,
   "id": "143dbdfe",
   "metadata": {},
   "outputs": [],
   "source": [
    "df['Debt_To_Income_Ratio']=df['Debt_To_Income_Ratio'].astype('float')"
   ]
  },
  {
   "cell_type": "code",
   "execution_count": 57,
   "id": "2405cbf2",
   "metadata": {},
   "outputs": [
    {
     "data": {
      "text/plain": [
       "dtype('float64')"
      ]
     },
     "execution_count": 57,
     "metadata": {},
     "output_type": "execute_result"
    }
   ],
   "source": [
    "df['Debt_To_Income_Ratio'].dtype"
   ]
  },
  {
   "cell_type": "code",
   "execution_count": 58,
   "id": "e8068aaa",
   "metadata": {},
   "outputs": [
    {
     "data": {
      "text/plain": [
       "<AxesSubplot:xlabel='Debt_To_Income_Ratio'>"
      ]
     },
     "execution_count": 58,
     "metadata": {},
     "output_type": "execute_result"
    },
    {
     "data": {
      "image/png": "[encoded data removed]",
      "text/plain": [
       "<Figure size 432x288 with 1 Axes>"
      ]
     },
     "metadata": {
      "needs_background": "light"
     },
     "output_type": "display_data"
    }
   ],
   "source": [
    "sns.boxplot(df['Debt_To_Income_Ratio'])"
   ]
  },
  {
   "cell_type": "code",
   "execution_count": 59,
   "id": "077add3f",
   "metadata": {},
   "outputs": [
    {
     "data": {
      "text/html": [
       "<div>\n",
       "<style scoped>\n",
       "    .dataframe tbody tr th:only-of-type {\n",
       "        vertical-align: middle;\n",
       "    }\n",
       "\n",
       "    .dataframe tbody tr th {\n",
       "        vertical-align: top;\n",
       "    }\n",
       "\n",
       "    .dataframe thead th {\n",
       "        text-align: right;\n",
       "    }\n",
       "</style>\n",
       "<table border=\"1\" class=\"dataframe\">\n",
       "  <thead>\n",
       "    <tr style=\"text-align: right;\">\n",
       "      <th></th>\n",
       "      <th>Amount_Requested</th>\n",
       "      <th>Amount_Funded_By_Investors</th>\n",
       "      <th>Interest_Rate</th>\n",
       "      <th>Loan_Length</th>\n",
       "      <th>Debt_To_Income_Ratio</th>\n",
       "      <th>State</th>\n",
       "      <th>Home_Ownership</th>\n",
       "      <th>Monthly_Income</th>\n",
       "      <th>FICO_Range</th>\n",
       "      <th>Open_CREDIT_Lines</th>\n",
       "      <th>...</th>\n",
       "      <th>home_improvement</th>\n",
       "      <th>house</th>\n",
       "      <th>major_purchase</th>\n",
       "      <th>medical</th>\n",
       "      <th>moving</th>\n",
       "      <th>other</th>\n",
       "      <th>renewable_energy</th>\n",
       "      <th>small_business</th>\n",
       "      <th>vacation</th>\n",
       "      <th>wedding</th>\n",
       "    </tr>\n",
       "  </thead>\n",
       "  <tbody>\n",
       "    <tr>\n",
       "      <th>0</th>\n",
       "      <td>25000.0</td>\n",
       "      <td>25000.00</td>\n",
       "      <td>18.49</td>\n",
       "      <td>60.0</td>\n",
       "      <td>27.56</td>\n",
       "      <td>VA</td>\n",
       "      <td>MORTGAGE</td>\n",
       "      <td>8606.56</td>\n",
       "      <td>720-724</td>\n",
       "      <td>11</td>\n",
       "      <td>...</td>\n",
       "      <td>0</td>\n",
       "      <td>0</td>\n",
       "      <td>0</td>\n",
       "      <td>0</td>\n",
       "      <td>0</td>\n",
       "      <td>0</td>\n",
       "      <td>0</td>\n",
       "      <td>0</td>\n",
       "      <td>0</td>\n",
       "      <td>0</td>\n",
       "    </tr>\n",
       "    <tr>\n",
       "      <th>1</th>\n",
       "      <td>19750.0</td>\n",
       "      <td>19750.00</td>\n",
       "      <td>17.27</td>\n",
       "      <td>60.0</td>\n",
       "      <td>13.39</td>\n",
       "      <td>NY</td>\n",
       "      <td>MORTGAGE</td>\n",
       "      <td>6737.50</td>\n",
       "      <td>710-714</td>\n",
       "      <td>14</td>\n",
       "      <td>...</td>\n",
       "      <td>0</td>\n",
       "      <td>0</td>\n",
       "      <td>0</td>\n",
       "      <td>0</td>\n",
       "      <td>0</td>\n",
       "      <td>0</td>\n",
       "      <td>0</td>\n",
       "      <td>0</td>\n",
       "      <td>0</td>\n",
       "      <td>0</td>\n",
       "    </tr>\n",
       "    <tr>\n",
       "      <th>2</th>\n",
       "      <td>2100.0</td>\n",
       "      <td>2100.00</td>\n",
       "      <td>14.33</td>\n",
       "      <td>36.0</td>\n",
       "      <td>3.50</td>\n",
       "      <td>LA</td>\n",
       "      <td>OWN</td>\n",
       "      <td>1000.00</td>\n",
       "      <td>690-694</td>\n",
       "      <td>13</td>\n",
       "      <td>...</td>\n",
       "      <td>0</td>\n",
       "      <td>0</td>\n",
       "      <td>1</td>\n",
       "      <td>0</td>\n",
       "      <td>0</td>\n",
       "      <td>0</td>\n",
       "      <td>0</td>\n",
       "      <td>0</td>\n",
       "      <td>0</td>\n",
       "      <td>0</td>\n",
       "    </tr>\n",
       "    <tr>\n",
       "      <th>3</th>\n",
       "      <td>28000.0</td>\n",
       "      <td>28000.00</td>\n",
       "      <td>16.29</td>\n",
       "      <td>36.0</td>\n",
       "      <td>19.62</td>\n",
       "      <td>NV</td>\n",
       "      <td>MORTGAGE</td>\n",
       "      <td>7083.33</td>\n",
       "      <td>710-714</td>\n",
       "      <td>12</td>\n",
       "      <td>...</td>\n",
       "      <td>0</td>\n",
       "      <td>0</td>\n",
       "      <td>0</td>\n",
       "      <td>0</td>\n",
       "      <td>0</td>\n",
       "      <td>0</td>\n",
       "      <td>0</td>\n",
       "      <td>0</td>\n",
       "      <td>0</td>\n",
       "      <td>0</td>\n",
       "    </tr>\n",
       "    <tr>\n",
       "      <th>4</th>\n",
       "      <td>24250.0</td>\n",
       "      <td>17431.82</td>\n",
       "      <td>12.23</td>\n",
       "      <td>60.0</td>\n",
       "      <td>23.79</td>\n",
       "      <td>OH</td>\n",
       "      <td>MORTGAGE</td>\n",
       "      <td>5833.33</td>\n",
       "      <td>730-734</td>\n",
       "      <td>6</td>\n",
       "      <td>...</td>\n",
       "      <td>0</td>\n",
       "      <td>0</td>\n",
       "      <td>0</td>\n",
       "      <td>0</td>\n",
       "      <td>0</td>\n",
       "      <td>0</td>\n",
       "      <td>0</td>\n",
       "      <td>0</td>\n",
       "      <td>0</td>\n",
       "      <td>0</td>\n",
       "    </tr>\n",
       "    <tr>\n",
       "      <th>...</th>\n",
       "      <td>...</td>\n",
       "      <td>...</td>\n",
       "      <td>...</td>\n",
       "      <td>...</td>\n",
       "      <td>...</td>\n",
       "      <td>...</td>\n",
       "      <td>...</td>\n",
       "      <td>...</td>\n",
       "      <td>...</td>\n",
       "      <td>...</td>\n",
       "      <td>...</td>\n",
       "      <td>...</td>\n",
       "      <td>...</td>\n",
       "      <td>...</td>\n",
       "      <td>...</td>\n",
       "      <td>...</td>\n",
       "      <td>...</td>\n",
       "      <td>...</td>\n",
       "      <td>...</td>\n",
       "      <td>...</td>\n",
       "      <td>...</td>\n",
       "    </tr>\n",
       "    <tr>\n",
       "      <th>2195</th>\n",
       "      <td>30000.0</td>\n",
       "      <td>30000.00</td>\n",
       "      <td>23.28</td>\n",
       "      <td>60.0</td>\n",
       "      <td>12.10</td>\n",
       "      <td>IL</td>\n",
       "      <td>MORTGAGE</td>\n",
       "      <td>7083.33</td>\n",
       "      <td>675-679</td>\n",
       "      <td>16</td>\n",
       "      <td>...</td>\n",
       "      <td>0</td>\n",
       "      <td>0</td>\n",
       "      <td>0</td>\n",
       "      <td>0</td>\n",
       "      <td>0</td>\n",
       "      <td>1</td>\n",
       "      <td>0</td>\n",
       "      <td>0</td>\n",
       "      <td>0</td>\n",
       "      <td>0</td>\n",
       "    </tr>\n",
       "    <tr>\n",
       "      <th>2196</th>\n",
       "      <td>4200.0</td>\n",
       "      <td>4200.00</td>\n",
       "      <td>14.33</td>\n",
       "      <td>60.0</td>\n",
       "      <td>14.16</td>\n",
       "      <td>NJ</td>\n",
       "      <td>RENT</td>\n",
       "      <td>3850.00</td>\n",
       "      <td>700-704</td>\n",
       "      <td>4</td>\n",
       "      <td>...</td>\n",
       "      <td>0</td>\n",
       "      <td>0</td>\n",
       "      <td>0</td>\n",
       "      <td>0</td>\n",
       "      <td>0</td>\n",
       "      <td>0</td>\n",
       "      <td>0</td>\n",
       "      <td>0</td>\n",
       "      <td>0</td>\n",
       "      <td>0</td>\n",
       "    </tr>\n",
       "    <tr>\n",
       "      <th>2197</th>\n",
       "      <td>19800.0</td>\n",
       "      <td>19775.00</td>\n",
       "      <td>15.31</td>\n",
       "      <td>60.0</td>\n",
       "      <td>15.03</td>\n",
       "      <td>IL</td>\n",
       "      <td>MORTGAGE</td>\n",
       "      <td>6666.67</td>\n",
       "      <td>675-679</td>\n",
       "      <td>10</td>\n",
       "      <td>...</td>\n",
       "      <td>0</td>\n",
       "      <td>0</td>\n",
       "      <td>0</td>\n",
       "      <td>0</td>\n",
       "      <td>0</td>\n",
       "      <td>0</td>\n",
       "      <td>0</td>\n",
       "      <td>0</td>\n",
       "      <td>0</td>\n",
       "      <td>0</td>\n",
       "    </tr>\n",
       "    <tr>\n",
       "      <th>2198</th>\n",
       "      <td>18000.0</td>\n",
       "      <td>18000.00</td>\n",
       "      <td>20.99</td>\n",
       "      <td>60.0</td>\n",
       "      <td>11.63</td>\n",
       "      <td>CA</td>\n",
       "      <td>RENT</td>\n",
       "      <td>9051.83</td>\n",
       "      <td>670-674</td>\n",
       "      <td>5</td>\n",
       "      <td>...</td>\n",
       "      <td>0</td>\n",
       "      <td>0</td>\n",
       "      <td>0</td>\n",
       "      <td>0</td>\n",
       "      <td>0</td>\n",
       "      <td>0</td>\n",
       "      <td>0</td>\n",
       "      <td>0</td>\n",
       "      <td>0</td>\n",
       "      <td>0</td>\n",
       "    </tr>\n",
       "    <tr>\n",
       "      <th>2199</th>\n",
       "      <td>7550.0</td>\n",
       "      <td>7550.00</td>\n",
       "      <td>10.16</td>\n",
       "      <td>36.0</td>\n",
       "      <td>3.83</td>\n",
       "      <td>CA</td>\n",
       "      <td>MORTGAGE</td>\n",
       "      <td>8333.33</td>\n",
       "      <td>710-714</td>\n",
       "      <td>10</td>\n",
       "      <td>...</td>\n",
       "      <td>0</td>\n",
       "      <td>0</td>\n",
       "      <td>0</td>\n",
       "      <td>0</td>\n",
       "      <td>0</td>\n",
       "      <td>0</td>\n",
       "      <td>0</td>\n",
       "      <td>0</td>\n",
       "      <td>0</td>\n",
       "      <td>0</td>\n",
       "    </tr>\n",
       "  </tbody>\n",
       "</table>\n",
       "<p>2200 rows × 27 columns</p>\n",
       "</div>"
      ],
      "text/plain": [
       "      Amount_Requested  Amount_Funded_By_Investors  Interest_Rate  \\\n",
       "0              25000.0                    25000.00          18.49   \n",
       "1              19750.0                    19750.00          17.27   \n",
       "2               2100.0                     2100.00          14.33   \n",
       "3              28000.0                    28000.00          16.29   \n",
       "4              24250.0                    17431.82          12.23   \n",
       "...                ...                         ...            ...   \n",
       "2195           30000.0                    30000.00          23.28   \n",
       "2196            4200.0                     4200.00          14.33   \n",
       "2197           19800.0                    19775.00          15.31   \n",
       "2198           18000.0                    18000.00          20.99   \n",
       "2199            7550.0                     7550.00          10.16   \n",
       "\n",
       "      Loan_Length  Debt_To_Income_Ratio State Home_Ownership  Monthly_Income  \\\n",
       "0            60.0                 27.56    VA       MORTGAGE         8606.56   \n",
       "1            60.0                 13.39    NY       MORTGAGE         6737.50   \n",
       "2            36.0                  3.50    LA            OWN         1000.00   \n",
       "3            36.0                 19.62    NV       MORTGAGE         7083.33   \n",
       "4            60.0                 23.79    OH       MORTGAGE         5833.33   \n",
       "...           ...                   ...   ...            ...             ...   \n",
       "2195         60.0                 12.10    IL       MORTGAGE         7083.33   \n",
       "2196         60.0                 14.16    NJ           RENT         3850.00   \n",
       "2197         60.0                 15.03    IL       MORTGAGE         6666.67   \n",
       "2198         60.0                 11.63    CA           RENT         9051.83   \n",
       "2199         36.0                  3.83    CA       MORTGAGE         8333.33   \n",
       "\n",
       "     FICO_Range Open_CREDIT_Lines  ... home_improvement  house major_purchase  \\\n",
       "0       720-724                11  ...                0      0              0   \n",
       "1       710-714                14  ...                0      0              0   \n",
       "2       690-694                13  ...                0      0              1   \n",
       "3       710-714                12  ...                0      0              0   \n",
       "4       730-734                 6  ...                0      0              0   \n",
       "...         ...               ...  ...              ...    ...            ...   \n",
       "2195    675-679                16  ...                0      0              0   \n",
       "2196    700-704                 4  ...                0      0              0   \n",
       "2197    675-679                10  ...                0      0              0   \n",
       "2198    670-674                 5  ...                0      0              0   \n",
       "2199    710-714                10  ...                0      0              0   \n",
       "\n",
       "      medical  moving  other  renewable_energy  small_business  vacation  \\\n",
       "0           0       0      0                 0               0         0   \n",
       "1           0       0      0                 0               0         0   \n",
       "2           0       0      0                 0               0         0   \n",
       "3           0       0      0                 0               0         0   \n",
       "4           0       0      0                 0               0         0   \n",
       "...       ...     ...    ...               ...             ...       ...   \n",
       "2195        0       0      1                 0               0         0   \n",
       "2196        0       0      0                 0               0         0   \n",
       "2197        0       0      0                 0               0         0   \n",
       "2198        0       0      0                 0               0         0   \n",
       "2199        0       0      0                 0               0         0   \n",
       "\n",
       "      wedding  \n",
       "0           0  \n",
       "1           0  \n",
       "2           0  \n",
       "3           0  \n",
       "4           0  \n",
       "...       ...  \n",
       "2195        0  \n",
       "2196        0  \n",
       "2197        0  \n",
       "2198        0  \n",
       "2199        0  \n",
       "\n",
       "[2200 rows x 27 columns]"
      ]
     },
     "execution_count": 59,
     "metadata": {},
     "output_type": "execute_result"
    }
   ],
   "source": [
    "df=pd.concat([df,df_Loan_Purpose],axis=1)\n",
    "df"
   ]
  },
  {
   "cell_type": "markdown",
   "id": "61bc5639",
   "metadata": {},
   "source": [
    "# State"
   ]
  },
  {
   "cell_type": "code",
   "execution_count": 60,
   "id": "3fdefa87",
   "metadata": {},
   "outputs": [
    {
     "name": "stdout",
     "output_type": "stream",
     "text": [
      "<class 'pandas.core.frame.DataFrame'>\n",
      "RangeIndex: 2200 entries, 0 to 2199\n",
      "Data columns (total 27 columns):\n",
      " #   Column                          Non-Null Count  Dtype  \n",
      "---  ------                          --------------  -----  \n",
      " 0   Amount_Requested                2200 non-null   float64\n",
      " 1   Amount_Funded_By_Investors      2200 non-null   float64\n",
      " 2   Interest_Rate                   2200 non-null   float64\n",
      " 3   Loan_Length                     2198 non-null   float64\n",
      " 4   Debt_To_Income_Ratio            2199 non-null   float64\n",
      " 5   State                           2198 non-null   object \n",
      " 6   Home_Ownership                  2199 non-null   object \n",
      " 7   Monthly_Income                  2197 non-null   float64\n",
      " 8   FICO_Range                      2200 non-null   object \n",
      " 9   Open_CREDIT_Lines               2193 non-null   object \n",
      " 10  Revolving_CREDIT_Balance        2195 non-null   object \n",
      " 11  Inquiries_in_the_Last_6_Months  2197 non-null   float64\n",
      " 12  Employment_Length               2130 non-null   object \n",
      " 13  car                             2200 non-null   uint8  \n",
      " 14  credit_card                     2200 non-null   uint8  \n",
      " 15  debt_consolidation              2200 non-null   uint8  \n",
      " 16  educational                     2200 non-null   uint8  \n",
      " 17  home_improvement                2200 non-null   uint8  \n",
      " 18  house                           2200 non-null   uint8  \n",
      " 19  major_purchase                  2200 non-null   uint8  \n",
      " 20  medical                         2200 non-null   uint8  \n",
      " 21  moving                          2200 non-null   uint8  \n",
      " 22  other                           2200 non-null   uint8  \n",
      " 23  renewable_energy                2200 non-null   uint8  \n",
      " 24  small_business                  2200 non-null   uint8  \n",
      " 25  vacation                        2200 non-null   uint8  \n",
      " 26  wedding                         2200 non-null   uint8  \n",
      "dtypes: float64(7), object(6), uint8(14)\n",
      "memory usage: 253.6+ KB\n"
     ]
    }
   ],
   "source": [
    "df.info()"
   ]
  },
  {
   "cell_type": "code",
   "execution_count": 61,
   "id": "8c3a5e1a",
   "metadata": {},
   "outputs": [
    {
     "data": {
      "text/plain": [
       "CA    376\n",
       "NY    231\n",
       "FL    149\n",
       "TX    146\n",
       "PA     88\n",
       "IL     87\n",
       "GA     82\n",
       "NJ     81\n",
       "VA     70\n",
       "MA     64\n",
       "MD     59\n",
       "NC     59\n",
       "OH     59\n",
       "CO     54\n",
       "WA     52\n",
       "CT     44\n",
       "AZ     44\n",
       "MI     38\n",
       "AL     34\n",
       "MN     30\n",
       "NV     29\n",
       "MO     29\n",
       "SC     27\n",
       "OR     25\n",
       "WI     25\n",
       "KS     21\n",
       "OK     20\n",
       "LA     20\n",
       "KY     20\n",
       "NH     14\n",
       "UT     13\n",
       "RI     13\n",
       "HI     12\n",
       "WV     12\n",
       "NM     12\n",
       "AR     11\n",
       "DC      9\n",
       "AK      8\n",
       "DE      7\n",
       "MT      7\n",
       "VT      5\n",
       "WY      4\n",
       "SD      4\n",
       "IN      3\n",
       "MS      1\n",
       "Name: State, dtype: int64"
      ]
     },
     "execution_count": 61,
     "metadata": {},
     "output_type": "execute_result"
    }
   ],
   "source": [
    "df['State'].value_counts()"
   ]
  },
  {
   "cell_type": "markdown",
   "id": "1504f939",
   "metadata": {},
   "source": [
    "# Home_Ownership"
   ]
  },
  {
   "cell_type": "code",
   "execution_count": 62,
   "id": "cd3b42f1",
   "metadata": {},
   "outputs": [
    {
     "data": {
      "text/plain": [
       "MORTGAGE    1018\n",
       "RENT         999\n",
       "OWN          177\n",
       "OTHER          4\n",
       "NONE           1\n",
       "Name: Home_Ownership, dtype: int64"
      ]
     },
     "execution_count": 62,
     "metadata": {},
     "output_type": "execute_result"
    }
   ],
   "source": [
    "df['Home_Ownership'].value_counts()"
   ]
  },
  {
   "cell_type": "code",
   "execution_count": 63,
   "id": "ebc6fc2c",
   "metadata": {},
   "outputs": [],
   "source": [
    "Home_Ownership_onehot = pd.get_dummies(df['Home_Ownership'],drop_first=True)"
   ]
  },
  {
   "cell_type": "code",
   "execution_count": 64,
   "id": "0c1bc16e",
   "metadata": {},
   "outputs": [
    {
     "data": {
      "text/plain": [
       "(2200, 4)"
      ]
     },
     "execution_count": 64,
     "metadata": {},
     "output_type": "execute_result"
    }
   ],
   "source": [
    "Home_Ownership_onehot.shape"
   ]
  },
  {
   "cell_type": "markdown",
   "id": "e45e659f",
   "metadata": {},
   "source": [
    "# Monthly_Income"
   ]
  },
  {
   "cell_type": "code",
   "execution_count": 65,
   "id": "f758539b",
   "metadata": {},
   "outputs": [
    {
     "data": {
      "text/plain": [
       "0       8606.56\n",
       "1       6737.50\n",
       "2       1000.00\n",
       "3       7083.33\n",
       "4       5833.33\n",
       "         ...   \n",
       "2195    7083.33\n",
       "2196    3850.00\n",
       "2197    6666.67\n",
       "2198    9051.83\n",
       "2199    8333.33\n",
       "Name: Monthly_Income, Length: 2200, dtype: float64"
      ]
     },
     "execution_count": 65,
     "metadata": {},
     "output_type": "execute_result"
    }
   ],
   "source": [
    "df['Monthly_Income']"
   ]
  },
  {
   "cell_type": "code",
   "execution_count": 66,
   "id": "69627357",
   "metadata": {},
   "outputs": [
    {
     "data": {
      "text/plain": [
       "count      2197.000000\n",
       "mean       5727.459290\n",
       "std        4073.529708\n",
       "min         588.500000\n",
       "25%        3458.000000\n",
       "50%        5000.000000\n",
       "75%        6883.330000\n",
       "max      102750.000000\n",
       "Name: Monthly_Income, dtype: float64"
      ]
     },
     "execution_count": 66,
     "metadata": {},
     "output_type": "execute_result"
    }
   ],
   "source": [
    "df['Monthly_Income'].describe()"
   ]
  },
  {
   "cell_type": "code",
   "execution_count": 67,
   "id": "ae287e19",
   "metadata": {},
   "outputs": [
    {
     "data": {
      "text/plain": [
       "<AxesSubplot:xlabel='Monthly_Income'>"
      ]
     },
     "execution_count": 67,
     "metadata": {},
     "output_type": "execute_result"
    },
    {
     "data": {
      "image/png": "[encoded data removed]",
      "text/plain": [
       "<Figure size 432x288 with 1 Axes>"
      ]
     },
     "metadata": {
      "needs_background": "light"
     },
     "output_type": "display_data"
    }
   ],
   "source": [
    "sns.boxplot(x=df['Monthly_Income'])"
   ]
  },
  {
   "cell_type": "code",
   "execution_count": 68,
   "id": "7a8d7d96",
   "metadata": {},
   "outputs": [
    {
     "data": {
      "text/plain": [
       "<matplotlib.collections.PathCollection at 0x1f29fb88d30>"
      ]
     },
     "execution_count": 68,
     "metadata": {},
     "output_type": "execute_result"
    },
    {
     "data": {
      "image/png": "[encoded data removed]",
      "text/plain": [
       "<Figure size 432x288 with 1 Axes>"
      ]
     },
     "metadata": {
      "needs_background": "light"
     },
     "output_type": "display_data"
    }
   ],
   "source": [
    "plt.scatter(df['Monthly_Income'],df['Interest_Rate'])"
   ]
  },
  {
   "cell_type": "code",
   "execution_count": 69,
   "id": "0163c4ae",
   "metadata": {},
   "outputs": [
    {
     "data": {
      "text/plain": [
       "<AxesSubplot:xlabel='Monthly_Income', ylabel='Count'>"
      ]
     },
     "execution_count": 69,
     "metadata": {},
     "output_type": "execute_result"
    },
    {
     "data": {
      "image/png": "[encoded data removed]",
      "text/plain": [
       "<Figure size 432x288 with 1 Axes>"
      ]
     },
     "metadata": {
      "needs_background": "light"
     },
     "output_type": "display_data"
    }
   ],
   "source": [
    "sns.histplot(df['Monthly_Income'],kde=True)"
   ]
  },
  {
   "cell_type": "markdown",
   "id": "e0ecd7c0",
   "metadata": {},
   "source": [
    "# FICO_Range"
   ]
  },
  {
   "cell_type": "raw",
   "id": "74d3d9df",
   "metadata": {},
   "source": [
    "An extremely low credit score, which suggests a history of poor debt management\n",
    "may cause creditors to decide against lending you money, leasing you an apartment, or issuing you phone or cable equipment\n",
    "\n",
    "\n",
    "Poor FICO range (less than 580)\n",
    "Good FICO range (670 to 739)\n",
    "Exceptional FICO range (800 to 850)"
   ]
  },
  {
   "cell_type": "code",
   "execution_count": 70,
   "id": "c31c0f1b",
   "metadata": {},
   "outputs": [
    {
     "data": {
      "text/plain": [
       "0       720-724\n",
       "1       710-714\n",
       "2       690-694\n",
       "3       710-714\n",
       "4       730-734\n",
       "         ...   \n",
       "2195    675-679\n",
       "2196    700-704\n",
       "2197    675-679\n",
       "2198    670-674\n",
       "2199    710-714\n",
       "Name: FICO_Range, Length: 2200, dtype: object"
      ]
     },
     "execution_count": 70,
     "metadata": {},
     "output_type": "execute_result"
    }
   ],
   "source": [
    "df['FICO_Range']"
   ]
  },
  {
   "cell_type": "code",
   "execution_count": 77,
   "id": "a90f634b",
   "metadata": {},
   "outputs": [],
   "source": [
    "def ranges(x):\n",
    "    sp=x.split('-')\n",
    "    return sp[1]"
   ]
  },
  {
   "cell_type": "code",
   "execution_count": 75,
   "id": "d825cbfd",
   "metadata": {},
   "outputs": [],
   "source": [
    "df['FICO_Range_from'] = df['FICO_Range'].apply(ranges)\n",
    "# df['FICO_Range_to'] = df['FICO_Range'].apply(ranges)"
   ]
  },
  {
   "cell_type": "code",
   "execution_count": 76,
   "id": "99e1c053",
   "metadata": {},
   "outputs": [],
   "source": [
    "df['FICO_Range_from']=df['FICO_Range_from'].astype(int)"
   ]
  },
  {
   "cell_type": "code",
   "execution_count": 78,
   "id": "f45fc163",
   "metadata": {},
   "outputs": [],
   "source": [
    "df['FICO_Range_to']=df['FICO_Range_to'].astype(int)"
   ]
  },
  {
   "cell_type": "code",
   "execution_count": 79,
   "id": "03817937",
   "metadata": {},
   "outputs": [
    {
     "data": {
      "text/plain": [
       "0       720\n",
       "1       710\n",
       "2       690\n",
       "3       710\n",
       "4       730\n",
       "       ... \n",
       "2195    675\n",
       "2196    700\n",
       "2197    675\n",
       "2198    670\n",
       "2199    710\n",
       "Name: FICO_Range_from, Length: 2200, dtype: int32"
      ]
     },
     "execution_count": 79,
     "metadata": {},
     "output_type": "execute_result"
    }
   ],
   "source": [
    "df['FICO_Range_from']"
   ]
  },
  {
   "cell_type": "code",
   "execution_count": 80,
   "id": "1b39e9d2",
   "metadata": {},
   "outputs": [
    {
     "data": {
      "text/plain": [
       "0       724\n",
       "1       714\n",
       "2       694\n",
       "3       714\n",
       "4       734\n",
       "       ... \n",
       "2195    679\n",
       "2196    704\n",
       "2197    679\n",
       "2198    674\n",
       "2199    714\n",
       "Name: FICO_Range_to, Length: 2200, dtype: int32"
      ]
     },
     "execution_count": 80,
     "metadata": {},
     "output_type": "execute_result"
    }
   ],
   "source": [
    "df['FICO_Range_to']"
   ]
  },
  {
   "cell_type": "code",
   "execution_count": 81,
   "id": "deeca9b2",
   "metadata": {},
   "outputs": [
    {
     "name": "stdout",
     "output_type": "stream",
     "text": [
      "<class 'pandas.core.frame.DataFrame'>\n",
      "RangeIndex: 2200 entries, 0 to 2199\n",
      "Data columns (total 29 columns):\n",
      " #   Column                          Non-Null Count  Dtype  \n",
      "---  ------                          --------------  -----  \n",
      " 0   Amount_Requested                2200 non-null   float64\n",
      " 1   Amount_Funded_By_Investors      2200 non-null   float64\n",
      " 2   Interest_Rate                   2200 non-null   float64\n",
      " 3   Loan_Length                     2198 non-null   float64\n",
      " 4   Debt_To_Income_Ratio            2199 non-null   float64\n",
      " 5   State                           2198 non-null   object \n",
      " 6   Home_Ownership                  2199 non-null   object \n",
      " 7   Monthly_Income                  2197 non-null   float64\n",
      " 8   FICO_Range                      2200 non-null   object \n",
      " 9   Open_CREDIT_Lines               2193 non-null   object \n",
      " 10  Revolving_CREDIT_Balance        2195 non-null   object \n",
      " 11  Inquiries_in_the_Last_6_Months  2197 non-null   float64\n",
      " 12  Employment_Length               2130 non-null   object \n",
      " 13  car                             2200 non-null   uint8  \n",
      " 14  credit_card                     2200 non-null   uint8  \n",
      " 15  debt_consolidation              2200 non-null   uint8  \n",
      " 16  educational                     2200 non-null   uint8  \n",
      " 17  home_improvement                2200 non-null   uint8  \n",
      " 18  house                           2200 non-null   uint8  \n",
      " 19  major_purchase                  2200 non-null   uint8  \n",
      " 20  medical                         2200 non-null   uint8  \n",
      " 21  moving                          2200 non-null   uint8  \n",
      " 22  other                           2200 non-null   uint8  \n",
      " 23  renewable_energy                2200 non-null   uint8  \n",
      " 24  small_business                  2200 non-null   uint8  \n",
      " 25  vacation                        2200 non-null   uint8  \n",
      " 26  wedding                         2200 non-null   uint8  \n",
      " 27  FICO_Range_to                   2200 non-null   int32  \n",
      " 28  FICO_Range_from                 2200 non-null   int32  \n",
      "dtypes: float64(7), int32(2), object(6), uint8(14)\n",
      "memory usage: 270.8+ KB\n"
     ]
    }
   ],
   "source": [
    "df.info()"
   ]
  },
  {
   "cell_type": "markdown",
   "id": "33f872bd",
   "metadata": {},
   "source": [
    "# Open_CREDIT_Lines"
   ]
  },
  {
   "cell_type": "raw",
   "id": "279935a4",
   "metadata": {},
   "source": [
    "1) what is open credit line?\n",
    "\n",
    "The borrower can take money out as needed until the limit is reached,\n",
    "and as money is repaid, it can be borrowed again in the case of an open line of credit."
   ]
  },
  {
   "cell_type": "code",
   "execution_count": null,
   "id": "fdedcfde",
   "metadata": {},
   "outputs": [],
   "source": [
    "2) what is revolving credit balance?\n",
    "\n",
    "Revolving credit can come to the rescue.\n",
    "Revolving credit is a credit account that lets you repeatedly borrow money up to a set limit and pay it back over time."
   ]
  },
  {
   "cell_type": "code",
   "execution_count": null,
   "id": "e21cc1c0",
   "metadata": {},
   "outputs": [],
   "source": [
    "Here FICO rang - credit line - revolving credit balance are important to predict interest rate"
   ]
  },
  {
   "cell_type": "code",
   "execution_count": 82,
   "id": "e3f74d4a",
   "metadata": {},
   "outputs": [
    {
     "data": {
      "text/plain": [
       "0       11\n",
       "1       14\n",
       "2       13\n",
       "3       12\n",
       "4        6\n",
       "        ..\n",
       "2195    16\n",
       "2196     4\n",
       "2197    10\n",
       "2198     5\n",
       "2199    10\n",
       "Name: Open_CREDIT_Lines, Length: 2200, dtype: object"
      ]
     },
     "execution_count": 82,
     "metadata": {},
     "output_type": "execute_result"
    }
   ],
   "source": [
    "df['Open_CREDIT_Lines']"
   ]
  },
  {
   "cell_type": "code",
   "execution_count": 95,
   "id": "990c6220",
   "metadata": {},
   "outputs": [
    {
     "data": {
      "text/plain": [
       "count    2200.000000\n",
       "mean       10.078182\n",
       "std         4.491240\n",
       "min         2.000000\n",
       "25%         7.000000\n",
       "50%         9.000000\n",
       "75%        13.000000\n",
       "max        38.000000\n",
       "Name: Open_CREDIT_Lines, dtype: float64"
      ]
     },
     "execution_count": 95,
     "metadata": {},
     "output_type": "execute_result"
    }
   ],
   "source": [
    "df['Open_CREDIT_Lines'].describe()"
   ]
  },
  {
   "cell_type": "code",
   "execution_count": 83,
   "id": "3064f1c3",
   "metadata": {},
   "outputs": [
    {
     "data": {
      "text/plain": [
       "7"
      ]
     },
     "execution_count": 83,
     "metadata": {},
     "output_type": "execute_result"
    }
   ],
   "source": [
    "df['Open_CREDIT_Lines'].isna().sum()"
   ]
  },
  {
   "cell_type": "code",
   "execution_count": 84,
   "id": "3ffc3857",
   "metadata": {},
   "outputs": [],
   "source": [
    "median = df['Open_CREDIT_Lines'].median()"
   ]
  },
  {
   "cell_type": "code",
   "execution_count": 85,
   "id": "96cc6b97",
   "metadata": {},
   "outputs": [],
   "source": [
    "df['Open_CREDIT_Lines'].fillna(median,axis=0,inplace=True)"
   ]
  },
  {
   "cell_type": "code",
   "execution_count": 86,
   "id": "21d89a2b",
   "metadata": {},
   "outputs": [
    {
     "data": {
      "text/plain": [
       "0"
      ]
     },
     "execution_count": 86,
     "metadata": {},
     "output_type": "execute_result"
    }
   ],
   "source": [
    "df['Open_CREDIT_Lines'].isna().sum()"
   ]
  },
  {
   "cell_type": "code",
   "execution_count": 87,
   "id": "226d626f",
   "metadata": {},
   "outputs": [],
   "source": [
    "df['Open_CREDIT_Lines']=df['Open_CREDIT_Lines'].astype(int)"
   ]
  },
  {
   "cell_type": "code",
   "execution_count": 88,
   "id": "ec3aa027",
   "metadata": {},
   "outputs": [
    {
     "data": {
      "text/plain": [
       "<AxesSubplot:xlabel='Open_CREDIT_Lines'>"
      ]
     },
     "execution_count": 88,
     "metadata": {},
     "output_type": "execute_result"
    },
    {
     "data": {
      "image/png": "[encoded data removed]",
      "text/plain": [
       "<Figure size 432x288 with 1 Axes>"
      ]
     },
     "metadata": {
      "needs_background": "light"
     },
     "output_type": "display_data"
    }
   ],
   "source": [
    "sns.boxplot(x=df['Open_CREDIT_Lines'])"
   ]
  },
  {
   "cell_type": "code",
   "execution_count": 93,
   "id": "d310a38b",
   "metadata": {},
   "outputs": [
    {
     "data": {
      "text/plain": [
       "<matplotlib.collections.PathCollection at 0x1f2a11ea8c0>"
      ]
     },
     "execution_count": 93,
     "metadata": {},
     "output_type": "execute_result"
    },
    {
     "data": {
      "image/png": "[encoded data removed]",
      "text/plain": [
       "<Figure size 432x288 with 1 Axes>"
      ]
     },
     "metadata": {
      "needs_background": "light"
     },
     "output_type": "display_data"
    }
   ],
   "source": [
    "plt.scatter(df['Open_CREDIT_Lines'],df['Interest_Rate'])"
   ]
  },
  {
   "cell_type": "code",
   "execution_count": 94,
   "id": "16c79a49",
   "metadata": {},
   "outputs": [
    {
     "data": {
      "text/plain": [
       "<AxesSubplot:xlabel='Monthly_Income', ylabel='Count'>"
      ]
     },
     "execution_count": 94,
     "metadata": {},
     "output_type": "execute_result"
    },
    {
     "data": {
      "image/png": "[encoded data removed]",
      "text/plain": [
       "<Figure size 432x288 with 1 Axes>"
      ]
     },
     "metadata": {
      "needs_background": "light"
     },
     "output_type": "display_data"
    }
   ],
   "source": [
    "sns.histplot(df['Monthly_Income'],kde=True)"
   ]
  },
  {
   "cell_type": "code",
   "execution_count": 89,
   "id": "5bfe8d8d",
   "metadata": {},
   "outputs": [
    {
     "data": {
      "text/html": [
       "<div>\n",
       "<style scoped>\n",
       "    .dataframe tbody tr th:only-of-type {\n",
       "        vertical-align: middle;\n",
       "    }\n",
       "\n",
       "    .dataframe tbody tr th {\n",
       "        vertical-align: top;\n",
       "    }\n",
       "\n",
       "    .dataframe thead th {\n",
       "        text-align: right;\n",
       "    }\n",
       "</style>\n",
       "<table border=\"1\" class=\"dataframe\">\n",
       "  <thead>\n",
       "    <tr style=\"text-align: right;\">\n",
       "      <th></th>\n",
       "      <th>Amount_Requested</th>\n",
       "      <th>Amount_Funded_By_Investors</th>\n",
       "      <th>Interest_Rate</th>\n",
       "      <th>Loan_Length</th>\n",
       "      <th>Debt_To_Income_Ratio</th>\n",
       "      <th>State</th>\n",
       "      <th>Home_Ownership</th>\n",
       "      <th>Monthly_Income</th>\n",
       "      <th>FICO_Range</th>\n",
       "      <th>Open_CREDIT_Lines</th>\n",
       "      <th>...</th>\n",
       "      <th>major_purchase</th>\n",
       "      <th>medical</th>\n",
       "      <th>moving</th>\n",
       "      <th>other</th>\n",
       "      <th>renewable_energy</th>\n",
       "      <th>small_business</th>\n",
       "      <th>vacation</th>\n",
       "      <th>wedding</th>\n",
       "      <th>FICO_Range_to</th>\n",
       "      <th>FICO_Range_from</th>\n",
       "    </tr>\n",
       "  </thead>\n",
       "  <tbody>\n",
       "    <tr>\n",
       "      <th>2117</th>\n",
       "      <td>35000.0</td>\n",
       "      <td>35000.0</td>\n",
       "      <td>19.05</td>\n",
       "      <td>36.0</td>\n",
       "      <td>21.12</td>\n",
       "      <td>CT</td>\n",
       "      <td>MORTGAGE</td>\n",
       "      <td>13750.0</td>\n",
       "      <td>735-739</td>\n",
       "      <td>38</td>\n",
       "      <td>...</td>\n",
       "      <td>0</td>\n",
       "      <td>0</td>\n",
       "      <td>0</td>\n",
       "      <td>0</td>\n",
       "      <td>0</td>\n",
       "      <td>0</td>\n",
       "      <td>0</td>\n",
       "      <td>0</td>\n",
       "      <td>739</td>\n",
       "      <td>735</td>\n",
       "    </tr>\n",
       "  </tbody>\n",
       "</table>\n",
       "<p>1 rows × 29 columns</p>\n",
       "</div>"
      ],
      "text/plain": [
       "      Amount_Requested  Amount_Funded_By_Investors  Interest_Rate  \\\n",
       "2117           35000.0                     35000.0          19.05   \n",
       "\n",
       "      Loan_Length  Debt_To_Income_Ratio State Home_Ownership  Monthly_Income  \\\n",
       "2117         36.0                 21.12    CT       MORTGAGE         13750.0   \n",
       "\n",
       "     FICO_Range  Open_CREDIT_Lines  ... major_purchase  medical moving  other  \\\n",
       "2117    735-739                 38  ...              0        0      0      0   \n",
       "\n",
       "      renewable_energy  small_business  vacation  wedding  FICO_Range_to  \\\n",
       "2117                 0               0         0        0            739   \n",
       "\n",
       "      FICO_Range_from  \n",
       "2117              735  \n",
       "\n",
       "[1 rows x 29 columns]"
      ]
     },
     "execution_count": 89,
     "metadata": {},
     "output_type": "execute_result"
    }
   ],
   "source": [
    "df[df['Open_CREDIT_Lines']>35]"
   ]
  },
  {
   "cell_type": "code",
   "execution_count": 90,
   "id": "4b13c771",
   "metadata": {},
   "outputs": [
    {
     "data": {
      "text/html": [
       "<div>\n",
       "<style scoped>\n",
       "    .dataframe tbody tr th:only-of-type {\n",
       "        vertical-align: middle;\n",
       "    }\n",
       "\n",
       "    .dataframe tbody tr th {\n",
       "        vertical-align: top;\n",
       "    }\n",
       "\n",
       "    .dataframe thead th {\n",
       "        text-align: right;\n",
       "    }\n",
       "</style>\n",
       "<table border=\"1\" class=\"dataframe\">\n",
       "  <thead>\n",
       "    <tr style=\"text-align: right;\">\n",
       "      <th></th>\n",
       "      <th>Amount_Requested</th>\n",
       "      <th>Amount_Funded_By_Investors</th>\n",
       "      <th>Interest_Rate</th>\n",
       "      <th>Loan_Length</th>\n",
       "      <th>Debt_To_Income_Ratio</th>\n",
       "      <th>State</th>\n",
       "      <th>Home_Ownership</th>\n",
       "      <th>Monthly_Income</th>\n",
       "      <th>FICO_Range</th>\n",
       "      <th>Open_CREDIT_Lines</th>\n",
       "      <th>...</th>\n",
       "      <th>major_purchase</th>\n",
       "      <th>medical</th>\n",
       "      <th>moving</th>\n",
       "      <th>other</th>\n",
       "      <th>renewable_energy</th>\n",
       "      <th>small_business</th>\n",
       "      <th>vacation</th>\n",
       "      <th>wedding</th>\n",
       "      <th>FICO_Range_to</th>\n",
       "      <th>FICO_Range_from</th>\n",
       "    </tr>\n",
       "  </thead>\n",
       "  <tbody>\n",
       "    <tr>\n",
       "      <th>1244</th>\n",
       "      <td>21000.0</td>\n",
       "      <td>6165.31</td>\n",
       "      <td>11.09</td>\n",
       "      <td>36.0</td>\n",
       "      <td>21.28</td>\n",
       "      <td>CA</td>\n",
       "      <td>OWN</td>\n",
       "      <td>18333.33</td>\n",
       "      <td>745-749</td>\n",
       "      <td>31</td>\n",
       "      <td>...</td>\n",
       "      <td>0</td>\n",
       "      <td>0</td>\n",
       "      <td>0</td>\n",
       "      <td>0</td>\n",
       "      <td>0</td>\n",
       "      <td>0</td>\n",
       "      <td>0</td>\n",
       "      <td>0</td>\n",
       "      <td>749</td>\n",
       "      <td>745</td>\n",
       "    </tr>\n",
       "    <tr>\n",
       "      <th>1660</th>\n",
       "      <td>10000.0</td>\n",
       "      <td>10000.00</td>\n",
       "      <td>19.91</td>\n",
       "      <td>36.0</td>\n",
       "      <td>23.35</td>\n",
       "      <td>CO</td>\n",
       "      <td>MORTGAGE</td>\n",
       "      <td>6000.00</td>\n",
       "      <td>680-684</td>\n",
       "      <td>34</td>\n",
       "      <td>...</td>\n",
       "      <td>0</td>\n",
       "      <td>0</td>\n",
       "      <td>0</td>\n",
       "      <td>0</td>\n",
       "      <td>0</td>\n",
       "      <td>0</td>\n",
       "      <td>0</td>\n",
       "      <td>0</td>\n",
       "      <td>684</td>\n",
       "      <td>680</td>\n",
       "    </tr>\n",
       "    <tr>\n",
       "      <th>2117</th>\n",
       "      <td>35000.0</td>\n",
       "      <td>35000.00</td>\n",
       "      <td>19.05</td>\n",
       "      <td>36.0</td>\n",
       "      <td>21.12</td>\n",
       "      <td>CT</td>\n",
       "      <td>MORTGAGE</td>\n",
       "      <td>13750.00</td>\n",
       "      <td>735-739</td>\n",
       "      <td>38</td>\n",
       "      <td>...</td>\n",
       "      <td>0</td>\n",
       "      <td>0</td>\n",
       "      <td>0</td>\n",
       "      <td>0</td>\n",
       "      <td>0</td>\n",
       "      <td>0</td>\n",
       "      <td>0</td>\n",
       "      <td>0</td>\n",
       "      <td>739</td>\n",
       "      <td>735</td>\n",
       "    </tr>\n",
       "  </tbody>\n",
       "</table>\n",
       "<p>3 rows × 29 columns</p>\n",
       "</div>"
      ],
      "text/plain": [
       "      Amount_Requested  Amount_Funded_By_Investors  Interest_Rate  \\\n",
       "1244           21000.0                     6165.31          11.09   \n",
       "1660           10000.0                    10000.00          19.91   \n",
       "2117           35000.0                    35000.00          19.05   \n",
       "\n",
       "      Loan_Length  Debt_To_Income_Ratio State Home_Ownership  Monthly_Income  \\\n",
       "1244         36.0                 21.28    CA            OWN        18333.33   \n",
       "1660         36.0                 23.35    CO       MORTGAGE         6000.00   \n",
       "2117         36.0                 21.12    CT       MORTGAGE        13750.00   \n",
       "\n",
       "     FICO_Range  Open_CREDIT_Lines  ... major_purchase  medical moving  other  \\\n",
       "1244    745-749                 31  ...              0        0      0      0   \n",
       "1660    680-684                 34  ...              0        0      0      0   \n",
       "2117    735-739                 38  ...              0        0      0      0   \n",
       "\n",
       "      renewable_energy  small_business  vacation  wedding  FICO_Range_to  \\\n",
       "1244                 0               0         0        0            749   \n",
       "1660                 0               0         0        0            684   \n",
       "2117                 0               0         0        0            739   \n",
       "\n",
       "      FICO_Range_from  \n",
       "1244              745  \n",
       "1660              680  \n",
       "2117              735  \n",
       "\n",
       "[3 rows x 29 columns]"
      ]
     },
     "execution_count": 90,
     "metadata": {},
     "output_type": "execute_result"
    }
   ],
   "source": [
    "df[df['Open_CREDIT_Lines']>30]"
   ]
  },
  {
   "cell_type": "code",
   "execution_count": 91,
   "id": "36e8c94e",
   "metadata": {},
   "outputs": [],
   "source": [
    "df.drop('FICO_Range',axis=1,inplace=True)"
   ]
  },
  {
   "cell_type": "code",
   "execution_count": 92,
   "id": "0d39c5cd",
   "metadata": {
    "scrolled": true
   },
   "outputs": [
    {
     "data": {
      "text/html": [
       "<div>\n",
       "<style scoped>\n",
       "    .dataframe tbody tr th:only-of-type {\n",
       "        vertical-align: middle;\n",
       "    }\n",
       "\n",
       "    .dataframe tbody tr th {\n",
       "        vertical-align: top;\n",
       "    }\n",
       "\n",
       "    .dataframe thead th {\n",
       "        text-align: right;\n",
       "    }\n",
       "</style>\n",
       "<table border=\"1\" class=\"dataframe\">\n",
       "  <thead>\n",
       "    <tr style=\"text-align: right;\">\n",
       "      <th></th>\n",
       "      <th>Amount_Requested</th>\n",
       "      <th>Amount_Funded_By_Investors</th>\n",
       "      <th>Interest_Rate</th>\n",
       "      <th>Loan_Length</th>\n",
       "      <th>Debt_To_Income_Ratio</th>\n",
       "      <th>State</th>\n",
       "      <th>Home_Ownership</th>\n",
       "      <th>Monthly_Income</th>\n",
       "      <th>Open_CREDIT_Lines</th>\n",
       "      <th>Revolving_CREDIT_Balance</th>\n",
       "      <th>...</th>\n",
       "      <th>renewable_energy</th>\n",
       "      <th>small_business</th>\n",
       "      <th>vacation</th>\n",
       "      <th>wedding</th>\n",
       "      <th>FICO_Range_to</th>\n",
       "      <th>FICO_Range_from</th>\n",
       "      <th>NONE</th>\n",
       "      <th>OTHER</th>\n",
       "      <th>OWN</th>\n",
       "      <th>RENT</th>\n",
       "    </tr>\n",
       "  </thead>\n",
       "  <tbody>\n",
       "    <tr>\n",
       "      <th>0</th>\n",
       "      <td>25000.0</td>\n",
       "      <td>25000.00</td>\n",
       "      <td>18.49</td>\n",
       "      <td>60.0</td>\n",
       "      <td>27.56</td>\n",
       "      <td>VA</td>\n",
       "      <td>MORTGAGE</td>\n",
       "      <td>8606.56</td>\n",
       "      <td>11</td>\n",
       "      <td>15210</td>\n",
       "      <td>...</td>\n",
       "      <td>0</td>\n",
       "      <td>0</td>\n",
       "      <td>0</td>\n",
       "      <td>0</td>\n",
       "      <td>724</td>\n",
       "      <td>720</td>\n",
       "      <td>0</td>\n",
       "      <td>0</td>\n",
       "      <td>0</td>\n",
       "      <td>0</td>\n",
       "    </tr>\n",
       "    <tr>\n",
       "      <th>1</th>\n",
       "      <td>19750.0</td>\n",
       "      <td>19750.00</td>\n",
       "      <td>17.27</td>\n",
       "      <td>60.0</td>\n",
       "      <td>13.39</td>\n",
       "      <td>NY</td>\n",
       "      <td>MORTGAGE</td>\n",
       "      <td>6737.50</td>\n",
       "      <td>14</td>\n",
       "      <td>19070</td>\n",
       "      <td>...</td>\n",
       "      <td>0</td>\n",
       "      <td>0</td>\n",
       "      <td>0</td>\n",
       "      <td>0</td>\n",
       "      <td>714</td>\n",
       "      <td>710</td>\n",
       "      <td>0</td>\n",
       "      <td>0</td>\n",
       "      <td>0</td>\n",
       "      <td>0</td>\n",
       "    </tr>\n",
       "    <tr>\n",
       "      <th>2</th>\n",
       "      <td>2100.0</td>\n",
       "      <td>2100.00</td>\n",
       "      <td>14.33</td>\n",
       "      <td>36.0</td>\n",
       "      <td>3.50</td>\n",
       "      <td>LA</td>\n",
       "      <td>OWN</td>\n",
       "      <td>1000.00</td>\n",
       "      <td>13</td>\n",
       "      <td>893</td>\n",
       "      <td>...</td>\n",
       "      <td>0</td>\n",
       "      <td>0</td>\n",
       "      <td>0</td>\n",
       "      <td>0</td>\n",
       "      <td>694</td>\n",
       "      <td>690</td>\n",
       "      <td>0</td>\n",
       "      <td>0</td>\n",
       "      <td>1</td>\n",
       "      <td>0</td>\n",
       "    </tr>\n",
       "    <tr>\n",
       "      <th>3</th>\n",
       "      <td>28000.0</td>\n",
       "      <td>28000.00</td>\n",
       "      <td>16.29</td>\n",
       "      <td>36.0</td>\n",
       "      <td>19.62</td>\n",
       "      <td>NV</td>\n",
       "      <td>MORTGAGE</td>\n",
       "      <td>7083.33</td>\n",
       "      <td>12</td>\n",
       "      <td>38194</td>\n",
       "      <td>...</td>\n",
       "      <td>0</td>\n",
       "      <td>0</td>\n",
       "      <td>0</td>\n",
       "      <td>0</td>\n",
       "      <td>714</td>\n",
       "      <td>710</td>\n",
       "      <td>0</td>\n",
       "      <td>0</td>\n",
       "      <td>0</td>\n",
       "      <td>0</td>\n",
       "    </tr>\n",
       "    <tr>\n",
       "      <th>4</th>\n",
       "      <td>24250.0</td>\n",
       "      <td>17431.82</td>\n",
       "      <td>12.23</td>\n",
       "      <td>60.0</td>\n",
       "      <td>23.79</td>\n",
       "      <td>OH</td>\n",
       "      <td>MORTGAGE</td>\n",
       "      <td>5833.33</td>\n",
       "      <td>6</td>\n",
       "      <td>31061</td>\n",
       "      <td>...</td>\n",
       "      <td>0</td>\n",
       "      <td>0</td>\n",
       "      <td>0</td>\n",
       "      <td>0</td>\n",
       "      <td>734</td>\n",
       "      <td>730</td>\n",
       "      <td>0</td>\n",
       "      <td>0</td>\n",
       "      <td>0</td>\n",
       "      <td>0</td>\n",
       "    </tr>\n",
       "    <tr>\n",
       "      <th>...</th>\n",
       "      <td>...</td>\n",
       "      <td>...</td>\n",
       "      <td>...</td>\n",
       "      <td>...</td>\n",
       "      <td>...</td>\n",
       "      <td>...</td>\n",
       "      <td>...</td>\n",
       "      <td>...</td>\n",
       "      <td>...</td>\n",
       "      <td>...</td>\n",
       "      <td>...</td>\n",
       "      <td>...</td>\n",
       "      <td>...</td>\n",
       "      <td>...</td>\n",
       "      <td>...</td>\n",
       "      <td>...</td>\n",
       "      <td>...</td>\n",
       "      <td>...</td>\n",
       "      <td>...</td>\n",
       "      <td>...</td>\n",
       "      <td>...</td>\n",
       "    </tr>\n",
       "    <tr>\n",
       "      <th>2195</th>\n",
       "      <td>30000.0</td>\n",
       "      <td>30000.00</td>\n",
       "      <td>23.28</td>\n",
       "      <td>60.0</td>\n",
       "      <td>12.10</td>\n",
       "      <td>IL</td>\n",
       "      <td>MORTGAGE</td>\n",
       "      <td>7083.33</td>\n",
       "      <td>16</td>\n",
       "      <td>17969</td>\n",
       "      <td>...</td>\n",
       "      <td>0</td>\n",
       "      <td>0</td>\n",
       "      <td>0</td>\n",
       "      <td>0</td>\n",
       "      <td>679</td>\n",
       "      <td>675</td>\n",
       "      <td>0</td>\n",
       "      <td>0</td>\n",
       "      <td>0</td>\n",
       "      <td>0</td>\n",
       "    </tr>\n",
       "    <tr>\n",
       "      <th>2196</th>\n",
       "      <td>4200.0</td>\n",
       "      <td>4200.00</td>\n",
       "      <td>14.33</td>\n",
       "      <td>60.0</td>\n",
       "      <td>14.16</td>\n",
       "      <td>NJ</td>\n",
       "      <td>RENT</td>\n",
       "      <td>3850.00</td>\n",
       "      <td>4</td>\n",
       "      <td>5718</td>\n",
       "      <td>...</td>\n",
       "      <td>0</td>\n",
       "      <td>0</td>\n",
       "      <td>0</td>\n",
       "      <td>0</td>\n",
       "      <td>704</td>\n",
       "      <td>700</td>\n",
       "      <td>0</td>\n",
       "      <td>0</td>\n",
       "      <td>0</td>\n",
       "      <td>1</td>\n",
       "    </tr>\n",
       "    <tr>\n",
       "      <th>2197</th>\n",
       "      <td>19800.0</td>\n",
       "      <td>19775.00</td>\n",
       "      <td>15.31</td>\n",
       "      <td>60.0</td>\n",
       "      <td>15.03</td>\n",
       "      <td>IL</td>\n",
       "      <td>MORTGAGE</td>\n",
       "      <td>6666.67</td>\n",
       "      <td>10</td>\n",
       "      <td>46879</td>\n",
       "      <td>...</td>\n",
       "      <td>0</td>\n",
       "      <td>0</td>\n",
       "      <td>0</td>\n",
       "      <td>0</td>\n",
       "      <td>679</td>\n",
       "      <td>675</td>\n",
       "      <td>0</td>\n",
       "      <td>0</td>\n",
       "      <td>0</td>\n",
       "      <td>0</td>\n",
       "    </tr>\n",
       "    <tr>\n",
       "      <th>2198</th>\n",
       "      <td>18000.0</td>\n",
       "      <td>18000.00</td>\n",
       "      <td>20.99</td>\n",
       "      <td>60.0</td>\n",
       "      <td>11.63</td>\n",
       "      <td>CA</td>\n",
       "      <td>RENT</td>\n",
       "      <td>9051.83</td>\n",
       "      <td>5</td>\n",
       "      <td>32394</td>\n",
       "      <td>...</td>\n",
       "      <td>0</td>\n",
       "      <td>0</td>\n",
       "      <td>0</td>\n",
       "      <td>0</td>\n",
       "      <td>674</td>\n",
       "      <td>670</td>\n",
       "      <td>0</td>\n",
       "      <td>0</td>\n",
       "      <td>0</td>\n",
       "      <td>1</td>\n",
       "    </tr>\n",
       "    <tr>\n",
       "      <th>2199</th>\n",
       "      <td>7550.0</td>\n",
       "      <td>7550.00</td>\n",
       "      <td>10.16</td>\n",
       "      <td>36.0</td>\n",
       "      <td>3.83</td>\n",
       "      <td>CA</td>\n",
       "      <td>MORTGAGE</td>\n",
       "      <td>8333.33</td>\n",
       "      <td>10</td>\n",
       "      <td>10204</td>\n",
       "      <td>...</td>\n",
       "      <td>0</td>\n",
       "      <td>0</td>\n",
       "      <td>0</td>\n",
       "      <td>0</td>\n",
       "      <td>714</td>\n",
       "      <td>710</td>\n",
       "      <td>0</td>\n",
       "      <td>0</td>\n",
       "      <td>0</td>\n",
       "      <td>0</td>\n",
       "    </tr>\n",
       "  </tbody>\n",
       "</table>\n",
       "<p>2200 rows × 32 columns</p>\n",
       "</div>"
      ],
      "text/plain": [
       "      Amount_Requested  Amount_Funded_By_Investors  Interest_Rate  \\\n",
       "0              25000.0                    25000.00          18.49   \n",
       "1              19750.0                    19750.00          17.27   \n",
       "2               2100.0                     2100.00          14.33   \n",
       "3              28000.0                    28000.00          16.29   \n",
       "4              24250.0                    17431.82          12.23   \n",
       "...                ...                         ...            ...   \n",
       "2195           30000.0                    30000.00          23.28   \n",
       "2196            4200.0                     4200.00          14.33   \n",
       "2197           19800.0                    19775.00          15.31   \n",
       "2198           18000.0                    18000.00          20.99   \n",
       "2199            7550.0                     7550.00          10.16   \n",
       "\n",
       "      Loan_Length  Debt_To_Income_Ratio State Home_Ownership  Monthly_Income  \\\n",
       "0            60.0                 27.56    VA       MORTGAGE         8606.56   \n",
       "1            60.0                 13.39    NY       MORTGAGE         6737.50   \n",
       "2            36.0                  3.50    LA            OWN         1000.00   \n",
       "3            36.0                 19.62    NV       MORTGAGE         7083.33   \n",
       "4            60.0                 23.79    OH       MORTGAGE         5833.33   \n",
       "...           ...                   ...   ...            ...             ...   \n",
       "2195         60.0                 12.10    IL       MORTGAGE         7083.33   \n",
       "2196         60.0                 14.16    NJ           RENT         3850.00   \n",
       "2197         60.0                 15.03    IL       MORTGAGE         6666.67   \n",
       "2198         60.0                 11.63    CA           RENT         9051.83   \n",
       "2199         36.0                  3.83    CA       MORTGAGE         8333.33   \n",
       "\n",
       "      Open_CREDIT_Lines Revolving_CREDIT_Balance  ...  renewable_energy  \\\n",
       "0                    11                    15210  ...                 0   \n",
       "1                    14                    19070  ...                 0   \n",
       "2                    13                      893  ...                 0   \n",
       "3                    12                    38194  ...                 0   \n",
       "4                     6                    31061  ...                 0   \n",
       "...                 ...                      ...  ...               ...   \n",
       "2195                 16                    17969  ...                 0   \n",
       "2196                  4                     5718  ...                 0   \n",
       "2197                 10                    46879  ...                 0   \n",
       "2198                  5                    32394  ...                 0   \n",
       "2199                 10                    10204  ...                 0   \n",
       "\n",
       "     small_business  vacation  wedding  FICO_Range_to  FICO_Range_from  NONE  \\\n",
       "0                 0         0        0            724              720     0   \n",
       "1                 0         0        0            714              710     0   \n",
       "2                 0         0        0            694              690     0   \n",
       "3                 0         0        0            714              710     0   \n",
       "4                 0         0        0            734              730     0   \n",
       "...             ...       ...      ...            ...              ...   ...   \n",
       "2195              0         0        0            679              675     0   \n",
       "2196              0         0        0            704              700     0   \n",
       "2197              0         0        0            679              675     0   \n",
       "2198              0         0        0            674              670     0   \n",
       "2199              0         0        0            714              710     0   \n",
       "\n",
       "      OTHER  OWN  RENT  \n",
       "0         0    0     0  \n",
       "1         0    0     0  \n",
       "2         0    1     0  \n",
       "3         0    0     0  \n",
       "4         0    0     0  \n",
       "...     ...  ...   ...  \n",
       "2195      0    0     0  \n",
       "2196      0    0     1  \n",
       "2197      0    0     0  \n",
       "2198      0    0     1  \n",
       "2199      0    0     0  \n",
       "\n",
       "[2200 rows x 32 columns]"
      ]
     },
     "execution_count": 92,
     "metadata": {},
     "output_type": "execute_result"
    }
   ],
   "source": [
    "df=pd.concat([df,Home_Ownership_onehot],axis=1)\n",
    "df"
   ]
  },
  {
   "cell_type": "markdown",
   "id": "5efc88c1",
   "metadata": {},
   "source": [
    "# Revolving.CREDIT.Balance"
   ]
  },
  {
   "cell_type": "code",
   "execution_count": 96,
   "id": "4543979f",
   "metadata": {},
   "outputs": [
    {
     "data": {
      "text/html": [
       "<div>\n",
       "<style scoped>\n",
       "    .dataframe tbody tr th:only-of-type {\n",
       "        vertical-align: middle;\n",
       "    }\n",
       "\n",
       "    .dataframe tbody tr th {\n",
       "        vertical-align: top;\n",
       "    }\n",
       "\n",
       "    .dataframe thead th {\n",
       "        text-align: right;\n",
       "    }\n",
       "</style>\n",
       "<table border=\"1\" class=\"dataframe\">\n",
       "  <thead>\n",
       "    <tr style=\"text-align: right;\">\n",
       "      <th></th>\n",
       "      <th>Amount_Requested</th>\n",
       "      <th>Amount_Funded_By_Investors</th>\n",
       "      <th>Interest_Rate</th>\n",
       "      <th>Loan_Length</th>\n",
       "      <th>Debt_To_Income_Ratio</th>\n",
       "      <th>State</th>\n",
       "      <th>Home_Ownership</th>\n",
       "      <th>Monthly_Income</th>\n",
       "      <th>Open_CREDIT_Lines</th>\n",
       "      <th>Revolving_CREDIT_Balance</th>\n",
       "      <th>...</th>\n",
       "      <th>renewable_energy</th>\n",
       "      <th>small_business</th>\n",
       "      <th>vacation</th>\n",
       "      <th>wedding</th>\n",
       "      <th>FICO_Range_to</th>\n",
       "      <th>FICO_Range_from</th>\n",
       "      <th>NONE</th>\n",
       "      <th>OTHER</th>\n",
       "      <th>OWN</th>\n",
       "      <th>RENT</th>\n",
       "    </tr>\n",
       "  </thead>\n",
       "  <tbody>\n",
       "    <tr>\n",
       "      <th>0</th>\n",
       "      <td>25000.0</td>\n",
       "      <td>25000.00</td>\n",
       "      <td>18.49</td>\n",
       "      <td>60.0</td>\n",
       "      <td>27.56</td>\n",
       "      <td>VA</td>\n",
       "      <td>MORTGAGE</td>\n",
       "      <td>8606.56</td>\n",
       "      <td>11</td>\n",
       "      <td>15210</td>\n",
       "      <td>...</td>\n",
       "      <td>0</td>\n",
       "      <td>0</td>\n",
       "      <td>0</td>\n",
       "      <td>0</td>\n",
       "      <td>724</td>\n",
       "      <td>720</td>\n",
       "      <td>0</td>\n",
       "      <td>0</td>\n",
       "      <td>0</td>\n",
       "      <td>0</td>\n",
       "    </tr>\n",
       "    <tr>\n",
       "      <th>1</th>\n",
       "      <td>19750.0</td>\n",
       "      <td>19750.00</td>\n",
       "      <td>17.27</td>\n",
       "      <td>60.0</td>\n",
       "      <td>13.39</td>\n",
       "      <td>NY</td>\n",
       "      <td>MORTGAGE</td>\n",
       "      <td>6737.50</td>\n",
       "      <td>14</td>\n",
       "      <td>19070</td>\n",
       "      <td>...</td>\n",
       "      <td>0</td>\n",
       "      <td>0</td>\n",
       "      <td>0</td>\n",
       "      <td>0</td>\n",
       "      <td>714</td>\n",
       "      <td>710</td>\n",
       "      <td>0</td>\n",
       "      <td>0</td>\n",
       "      <td>0</td>\n",
       "      <td>0</td>\n",
       "    </tr>\n",
       "    <tr>\n",
       "      <th>2</th>\n",
       "      <td>2100.0</td>\n",
       "      <td>2100.00</td>\n",
       "      <td>14.33</td>\n",
       "      <td>36.0</td>\n",
       "      <td>3.50</td>\n",
       "      <td>LA</td>\n",
       "      <td>OWN</td>\n",
       "      <td>1000.00</td>\n",
       "      <td>13</td>\n",
       "      <td>893</td>\n",
       "      <td>...</td>\n",
       "      <td>0</td>\n",
       "      <td>0</td>\n",
       "      <td>0</td>\n",
       "      <td>0</td>\n",
       "      <td>694</td>\n",
       "      <td>690</td>\n",
       "      <td>0</td>\n",
       "      <td>0</td>\n",
       "      <td>1</td>\n",
       "      <td>0</td>\n",
       "    </tr>\n",
       "    <tr>\n",
       "      <th>3</th>\n",
       "      <td>28000.0</td>\n",
       "      <td>28000.00</td>\n",
       "      <td>16.29</td>\n",
       "      <td>36.0</td>\n",
       "      <td>19.62</td>\n",
       "      <td>NV</td>\n",
       "      <td>MORTGAGE</td>\n",
       "      <td>7083.33</td>\n",
       "      <td>12</td>\n",
       "      <td>38194</td>\n",
       "      <td>...</td>\n",
       "      <td>0</td>\n",
       "      <td>0</td>\n",
       "      <td>0</td>\n",
       "      <td>0</td>\n",
       "      <td>714</td>\n",
       "      <td>710</td>\n",
       "      <td>0</td>\n",
       "      <td>0</td>\n",
       "      <td>0</td>\n",
       "      <td>0</td>\n",
       "    </tr>\n",
       "    <tr>\n",
       "      <th>4</th>\n",
       "      <td>24250.0</td>\n",
       "      <td>17431.82</td>\n",
       "      <td>12.23</td>\n",
       "      <td>60.0</td>\n",
       "      <td>23.79</td>\n",
       "      <td>OH</td>\n",
       "      <td>MORTGAGE</td>\n",
       "      <td>5833.33</td>\n",
       "      <td>6</td>\n",
       "      <td>31061</td>\n",
       "      <td>...</td>\n",
       "      <td>0</td>\n",
       "      <td>0</td>\n",
       "      <td>0</td>\n",
       "      <td>0</td>\n",
       "      <td>734</td>\n",
       "      <td>730</td>\n",
       "      <td>0</td>\n",
       "      <td>0</td>\n",
       "      <td>0</td>\n",
       "      <td>0</td>\n",
       "    </tr>\n",
       "    <tr>\n",
       "      <th>...</th>\n",
       "      <td>...</td>\n",
       "      <td>...</td>\n",
       "      <td>...</td>\n",
       "      <td>...</td>\n",
       "      <td>...</td>\n",
       "      <td>...</td>\n",
       "      <td>...</td>\n",
       "      <td>...</td>\n",
       "      <td>...</td>\n",
       "      <td>...</td>\n",
       "      <td>...</td>\n",
       "      <td>...</td>\n",
       "      <td>...</td>\n",
       "      <td>...</td>\n",
       "      <td>...</td>\n",
       "      <td>...</td>\n",
       "      <td>...</td>\n",
       "      <td>...</td>\n",
       "      <td>...</td>\n",
       "      <td>...</td>\n",
       "      <td>...</td>\n",
       "    </tr>\n",
       "    <tr>\n",
       "      <th>2195</th>\n",
       "      <td>30000.0</td>\n",
       "      <td>30000.00</td>\n",
       "      <td>23.28</td>\n",
       "      <td>60.0</td>\n",
       "      <td>12.10</td>\n",
       "      <td>IL</td>\n",
       "      <td>MORTGAGE</td>\n",
       "      <td>7083.33</td>\n",
       "      <td>16</td>\n",
       "      <td>17969</td>\n",
       "      <td>...</td>\n",
       "      <td>0</td>\n",
       "      <td>0</td>\n",
       "      <td>0</td>\n",
       "      <td>0</td>\n",
       "      <td>679</td>\n",
       "      <td>675</td>\n",
       "      <td>0</td>\n",
       "      <td>0</td>\n",
       "      <td>0</td>\n",
       "      <td>0</td>\n",
       "    </tr>\n",
       "    <tr>\n",
       "      <th>2196</th>\n",
       "      <td>4200.0</td>\n",
       "      <td>4200.00</td>\n",
       "      <td>14.33</td>\n",
       "      <td>60.0</td>\n",
       "      <td>14.16</td>\n",
       "      <td>NJ</td>\n",
       "      <td>RENT</td>\n",
       "      <td>3850.00</td>\n",
       "      <td>4</td>\n",
       "      <td>5718</td>\n",
       "      <td>...</td>\n",
       "      <td>0</td>\n",
       "      <td>0</td>\n",
       "      <td>0</td>\n",
       "      <td>0</td>\n",
       "      <td>704</td>\n",
       "      <td>700</td>\n",
       "      <td>0</td>\n",
       "      <td>0</td>\n",
       "      <td>0</td>\n",
       "      <td>1</td>\n",
       "    </tr>\n",
       "    <tr>\n",
       "      <th>2197</th>\n",
       "      <td>19800.0</td>\n",
       "      <td>19775.00</td>\n",
       "      <td>15.31</td>\n",
       "      <td>60.0</td>\n",
       "      <td>15.03</td>\n",
       "      <td>IL</td>\n",
       "      <td>MORTGAGE</td>\n",
       "      <td>6666.67</td>\n",
       "      <td>10</td>\n",
       "      <td>46879</td>\n",
       "      <td>...</td>\n",
       "      <td>0</td>\n",
       "      <td>0</td>\n",
       "      <td>0</td>\n",
       "      <td>0</td>\n",
       "      <td>679</td>\n",
       "      <td>675</td>\n",
       "      <td>0</td>\n",
       "      <td>0</td>\n",
       "      <td>0</td>\n",
       "      <td>0</td>\n",
       "    </tr>\n",
       "    <tr>\n",
       "      <th>2198</th>\n",
       "      <td>18000.0</td>\n",
       "      <td>18000.00</td>\n",
       "      <td>20.99</td>\n",
       "      <td>60.0</td>\n",
       "      <td>11.63</td>\n",
       "      <td>CA</td>\n",
       "      <td>RENT</td>\n",
       "      <td>9051.83</td>\n",
       "      <td>5</td>\n",
       "      <td>32394</td>\n",
       "      <td>...</td>\n",
       "      <td>0</td>\n",
       "      <td>0</td>\n",
       "      <td>0</td>\n",
       "      <td>0</td>\n",
       "      <td>674</td>\n",
       "      <td>670</td>\n",
       "      <td>0</td>\n",
       "      <td>0</td>\n",
       "      <td>0</td>\n",
       "      <td>1</td>\n",
       "    </tr>\n",
       "    <tr>\n",
       "      <th>2199</th>\n",
       "      <td>7550.0</td>\n",
       "      <td>7550.00</td>\n",
       "      <td>10.16</td>\n",
       "      <td>36.0</td>\n",
       "      <td>3.83</td>\n",
       "      <td>CA</td>\n",
       "      <td>MORTGAGE</td>\n",
       "      <td>8333.33</td>\n",
       "      <td>10</td>\n",
       "      <td>10204</td>\n",
       "      <td>...</td>\n",
       "      <td>0</td>\n",
       "      <td>0</td>\n",
       "      <td>0</td>\n",
       "      <td>0</td>\n",
       "      <td>714</td>\n",
       "      <td>710</td>\n",
       "      <td>0</td>\n",
       "      <td>0</td>\n",
       "      <td>0</td>\n",
       "      <td>0</td>\n",
       "    </tr>\n",
       "  </tbody>\n",
       "</table>\n",
       "<p>2200 rows × 32 columns</p>\n",
       "</div>"
      ],
      "text/plain": [
       "      Amount_Requested  Amount_Funded_By_Investors  Interest_Rate  \\\n",
       "0              25000.0                    25000.00          18.49   \n",
       "1              19750.0                    19750.00          17.27   \n",
       "2               2100.0                     2100.00          14.33   \n",
       "3              28000.0                    28000.00          16.29   \n",
       "4              24250.0                    17431.82          12.23   \n",
       "...                ...                         ...            ...   \n",
       "2195           30000.0                    30000.00          23.28   \n",
       "2196            4200.0                     4200.00          14.33   \n",
       "2197           19800.0                    19775.00          15.31   \n",
       "2198           18000.0                    18000.00          20.99   \n",
       "2199            7550.0                     7550.00          10.16   \n",
       "\n",
       "      Loan_Length  Debt_To_Income_Ratio State Home_Ownership  Monthly_Income  \\\n",
       "0            60.0                 27.56    VA       MORTGAGE         8606.56   \n",
       "1            60.0                 13.39    NY       MORTGAGE         6737.50   \n",
       "2            36.0                  3.50    LA            OWN         1000.00   \n",
       "3            36.0                 19.62    NV       MORTGAGE         7083.33   \n",
       "4            60.0                 23.79    OH       MORTGAGE         5833.33   \n",
       "...           ...                   ...   ...            ...             ...   \n",
       "2195         60.0                 12.10    IL       MORTGAGE         7083.33   \n",
       "2196         60.0                 14.16    NJ           RENT         3850.00   \n",
       "2197         60.0                 15.03    IL       MORTGAGE         6666.67   \n",
       "2198         60.0                 11.63    CA           RENT         9051.83   \n",
       "2199         36.0                  3.83    CA       MORTGAGE         8333.33   \n",
       "\n",
       "      Open_CREDIT_Lines Revolving_CREDIT_Balance  ...  renewable_energy  \\\n",
       "0                    11                    15210  ...                 0   \n",
       "1                    14                    19070  ...                 0   \n",
       "2                    13                      893  ...                 0   \n",
       "3                    12                    38194  ...                 0   \n",
       "4                     6                    31061  ...                 0   \n",
       "...                 ...                      ...  ...               ...   \n",
       "2195                 16                    17969  ...                 0   \n",
       "2196                  4                     5718  ...                 0   \n",
       "2197                 10                    46879  ...                 0   \n",
       "2198                  5                    32394  ...                 0   \n",
       "2199                 10                    10204  ...                 0   \n",
       "\n",
       "     small_business  vacation  wedding  FICO_Range_to  FICO_Range_from  NONE  \\\n",
       "0                 0         0        0            724              720     0   \n",
       "1                 0         0        0            714              710     0   \n",
       "2                 0         0        0            694              690     0   \n",
       "3                 0         0        0            714              710     0   \n",
       "4                 0         0        0            734              730     0   \n",
       "...             ...       ...      ...            ...              ...   ...   \n",
       "2195              0         0        0            679              675     0   \n",
       "2196              0         0        0            704              700     0   \n",
       "2197              0         0        0            679              675     0   \n",
       "2198              0         0        0            674              670     0   \n",
       "2199              0         0        0            714              710     0   \n",
       "\n",
       "      OTHER  OWN  RENT  \n",
       "0         0    0     0  \n",
       "1         0    0     0  \n",
       "2         0    1     0  \n",
       "3         0    0     0  \n",
       "4         0    0     0  \n",
       "...     ...  ...   ...  \n",
       "2195      0    0     0  \n",
       "2196      0    0     1  \n",
       "2197      0    0     0  \n",
       "2198      0    0     1  \n",
       "2199      0    0     0  \n",
       "\n",
       "[2200 rows x 32 columns]"
      ]
     },
     "execution_count": 96,
     "metadata": {},
     "output_type": "execute_result"
    }
   ],
   "source": [
    "df"
   ]
  },
  {
   "cell_type": "code",
   "execution_count": null,
   "id": "e22c6c59",
   "metadata": {},
   "outputs": [],
   "source": []
  },
  {
   "cell_type": "code",
   "execution_count": null,
   "id": "48d30af2",
   "metadata": {},
   "outputs": [],
   "source": []
  },
  {
   "cell_type": "code",
   "execution_count": null,
   "id": "89dd3471",
   "metadata": {},
   "outputs": [],
   "source": []
  },
  {
   "cell_type": "code",
   "execution_count": null,
   "id": "735dbde2",
   "metadata": {},
   "outputs": [],
   "source": []
  },
  {
   "cell_type": "code",
   "execution_count": null,
   "id": "4de53d16",
   "metadata": {},
   "outputs": [],
   "source": []
  },
  {
   "cell_type": "code",
   "execution_count": null,
   "id": "fd8ecf7f",
   "metadata": {},
   "outputs": [],
   "source": []
  }
 ],
 "metadata": {
  "kernelspec": {
   "display_name": "Python [conda env:bank_interest] *",
   "language": "python",
   "name": "conda-env-bank_interest-py"
  },
  "language_info": {
   "codemirror_mode": {
    "name": "ipython",
    "version": 3
   },
   "file_extension": ".py",
   "mimetype": "text/x-python",
   "name": "python",
   "nbconvert_exporter": "python",
   "pygments_lexer": "ipython3",
   "version": "3.10.4"
  }
 },
 "nbformat": 4,
 "nbformat_minor": 5
}
